{
 "cells": [
  {
   "cell_type": "code",
   "execution_count": 1581,
   "metadata": {},
   "outputs": [],
   "source": [
    "import pandas as pd\n",
    "pd.options.display.max_columns = None\n",
    "import numpy as np\n",
    "import seaborn as sns \n",
    "import plotly.express as px\n",
    "import plotly.graph_objects as go\n",
    "import matplotlib as plt\n",
    "import warnings\n",
    "import plotly.figure_factory as ff\n",
    "warnings.filterwarnings(\"ignore\")\n",
    "\n",
    "data = pd.read_csv('drake_discography_data.csv')\n",
    "data = data.rename(columns={' Plays ': 'Plays'})"
   ]
  },
  {
   "cell_type": "code",
   "execution_count": 1582,
   "metadata": {},
   "outputs": [],
   "source": [
    "data['Plays'] = data['Plays'].str.replace(',','').astype(int)"
   ]
  },
  {
   "cell_type": "code",
   "execution_count": 1004,
   "metadata": {},
   "outputs": [
    {
     "data": {
      "text/html": [
       "<div>\n",
       "<style scoped>\n",
       "    .dataframe tbody tr th:only-of-type {\n",
       "        vertical-align: middle;\n",
       "    }\n",
       "\n",
       "    .dataframe tbody tr th {\n",
       "        vertical-align: top;\n",
       "    }\n",
       "\n",
       "    .dataframe thead th {\n",
       "        text-align: right;\n",
       "    }\n",
       "</style>\n",
       "<table border=\"1\" class=\"dataframe\">\n",
       "  <thead>\n",
       "    <tr style=\"text-align: right;\">\n",
       "      <th></th>\n",
       "      <th>Album</th>\n",
       "      <th>Release Date</th>\n",
       "      <th>Release Year</th>\n",
       "      <th>Release Month</th>\n",
       "      <th>Release Month (Name)</th>\n",
       "      <th>Release Day</th>\n",
       "      <th>Release Day (Name)</th>\n",
       "      <th>Album ID</th>\n",
       "      <th>Number of Album Songs</th>\n",
       "      <th>Song Name</th>\n",
       "      <th>Plays</th>\n",
       "      <th>Artist</th>\n",
       "      <th>Song ID</th>\n",
       "      <th>Track Duration</th>\n",
       "      <th>Track Duration (Minutes)</th>\n",
       "      <th>Track Duration (Seconds)</th>\n",
       "      <th>Track Number</th>\n",
       "      <th>Number of Artists</th>\n",
       "      <th>Danceability</th>\n",
       "      <th>Energy</th>\n",
       "      <th>Key</th>\n",
       "      <th>Loudness</th>\n",
       "      <th>Speechiness</th>\n",
       "      <th>Acousticness</th>\n",
       "      <th>Instrumentalness</th>\n",
       "      <th>Liveness</th>\n",
       "      <th>Valence</th>\n",
       "      <th>Tempo</th>\n",
       "      <th>Artist 1</th>\n",
       "      <th>Artist 2</th>\n",
       "      <th>Artist 3</th>\n",
       "    </tr>\n",
       "  </thead>\n",
       "  <tbody>\n",
       "    <tr>\n",
       "      <th>0</th>\n",
       "      <td>Her Loss</td>\n",
       "      <td>11/4/22</td>\n",
       "      <td>2022</td>\n",
       "      <td>11</td>\n",
       "      <td>November</td>\n",
       "      <td>4</td>\n",
       "      <td>Friday</td>\n",
       "      <td>5MS3MvWHJ3lOZPLiMxzOU6</td>\n",
       "      <td>16</td>\n",
       "      <td>Rich Flex</td>\n",
       "      <td>463655324</td>\n",
       "      <td>Drake,21 Savage</td>\n",
       "      <td>1bDbXMyjaUIooNwFE9wn0N</td>\n",
       "      <td>3:59</td>\n",
       "      <td>3</td>\n",
       "      <td>59</td>\n",
       "      <td>1</td>\n",
       "      <td>2</td>\n",
       "      <td>0.561</td>\n",
       "      <td>0.520</td>\n",
       "      <td>11</td>\n",
       "      <td>-9.342</td>\n",
       "      <td>0.244</td>\n",
       "      <td>0.05030</td>\n",
       "      <td>0.0</td>\n",
       "      <td>0.3550</td>\n",
       "      <td>0.424</td>\n",
       "      <td>153.150</td>\n",
       "      <td>Drake</td>\n",
       "      <td>21 Savage</td>\n",
       "      <td>NaN</td>\n",
       "    </tr>\n",
       "    <tr>\n",
       "      <th>1</th>\n",
       "      <td>Her Loss</td>\n",
       "      <td>11/4/22</td>\n",
       "      <td>2022</td>\n",
       "      <td>11</td>\n",
       "      <td>November</td>\n",
       "      <td>4</td>\n",
       "      <td>Friday</td>\n",
       "      <td>5MS3MvWHJ3lOZPLiMxzOU6</td>\n",
       "      <td>16</td>\n",
       "      <td>Major Distribution</td>\n",
       "      <td>134609385</td>\n",
       "      <td>Drake,21 Savage</td>\n",
       "      <td>46s57QULU02Voy0Kup6UEb</td>\n",
       "      <td>2:50</td>\n",
       "      <td>2</td>\n",
       "      <td>50</td>\n",
       "      <td>2</td>\n",
       "      <td>2</td>\n",
       "      <td>0.908</td>\n",
       "      <td>0.546</td>\n",
       "      <td>8</td>\n",
       "      <td>-10.491</td>\n",
       "      <td>0.323</td>\n",
       "      <td>0.01270</td>\n",
       "      <td>0.0</td>\n",
       "      <td>0.0707</td>\n",
       "      <td>0.225</td>\n",
       "      <td>131.016</td>\n",
       "      <td>Drake</td>\n",
       "      <td>21 Savage</td>\n",
       "      <td>NaN</td>\n",
       "    </tr>\n",
       "    <tr>\n",
       "      <th>2</th>\n",
       "      <td>Her Loss</td>\n",
       "      <td>11/4/22</td>\n",
       "      <td>2022</td>\n",
       "      <td>11</td>\n",
       "      <td>November</td>\n",
       "      <td>4</td>\n",
       "      <td>Friday</td>\n",
       "      <td>5MS3MvWHJ3lOZPLiMxzOU6</td>\n",
       "      <td>16</td>\n",
       "      <td>On BS</td>\n",
       "      <td>137344442</td>\n",
       "      <td>Drake,21 Savage</td>\n",
       "      <td>34tz0eDhGuFErIuW3q4mPX</td>\n",
       "      <td>4:21</td>\n",
       "      <td>4</td>\n",
       "      <td>21</td>\n",
       "      <td>3</td>\n",
       "      <td>2</td>\n",
       "      <td>0.841</td>\n",
       "      <td>0.358</td>\n",
       "      <td>9</td>\n",
       "      <td>-8.368</td>\n",
       "      <td>0.591</td>\n",
       "      <td>0.02010</td>\n",
       "      <td>0.0</td>\n",
       "      <td>0.3900</td>\n",
       "      <td>0.329</td>\n",
       "      <td>158.014</td>\n",
       "      <td>Drake</td>\n",
       "      <td>21 Savage</td>\n",
       "      <td>NaN</td>\n",
       "    </tr>\n",
       "    <tr>\n",
       "      <th>3</th>\n",
       "      <td>Her Loss</td>\n",
       "      <td>11/4/22</td>\n",
       "      <td>2022</td>\n",
       "      <td>11</td>\n",
       "      <td>November</td>\n",
       "      <td>4</td>\n",
       "      <td>Friday</td>\n",
       "      <td>5MS3MvWHJ3lOZPLiMxzOU6</td>\n",
       "      <td>16</td>\n",
       "      <td>BackOutsideBoyz</td>\n",
       "      <td>80148026</td>\n",
       "      <td>Drake</td>\n",
       "      <td>0wshkEEcJUQU33RSRBb5dv</td>\n",
       "      <td>2:32</td>\n",
       "      <td>2</td>\n",
       "      <td>32</td>\n",
       "      <td>4</td>\n",
       "      <td>1</td>\n",
       "      <td>0.849</td>\n",
       "      <td>0.433</td>\n",
       "      <td>5</td>\n",
       "      <td>-8.434</td>\n",
       "      <td>0.316</td>\n",
       "      <td>0.04070</td>\n",
       "      <td>0.0</td>\n",
       "      <td>0.3880</td>\n",
       "      <td>0.395</td>\n",
       "      <td>142.110</td>\n",
       "      <td>Drake</td>\n",
       "      <td>NaN</td>\n",
       "      <td>NaN</td>\n",
       "    </tr>\n",
       "    <tr>\n",
       "      <th>4</th>\n",
       "      <td>Her Loss</td>\n",
       "      <td>11/4/22</td>\n",
       "      <td>2022</td>\n",
       "      <td>11</td>\n",
       "      <td>November</td>\n",
       "      <td>4</td>\n",
       "      <td>Friday</td>\n",
       "      <td>5MS3MvWHJ3lOZPLiMxzOU6</td>\n",
       "      <td>16</td>\n",
       "      <td>Privileged Rappers</td>\n",
       "      <td>92548320</td>\n",
       "      <td>Drake,21 Savage</td>\n",
       "      <td>7l2nxyx7IkBX5orhkALg0V</td>\n",
       "      <td>2:40</td>\n",
       "      <td>2</td>\n",
       "      <td>40</td>\n",
       "      <td>5</td>\n",
       "      <td>2</td>\n",
       "      <td>0.934</td>\n",
       "      <td>0.614</td>\n",
       "      <td>5</td>\n",
       "      <td>-7.384</td>\n",
       "      <td>0.198</td>\n",
       "      <td>0.00274</td>\n",
       "      <td>0.0</td>\n",
       "      <td>0.1230</td>\n",
       "      <td>0.616</td>\n",
       "      <td>144.045</td>\n",
       "      <td>Drake</td>\n",
       "      <td>21 Savage</td>\n",
       "      <td>NaN</td>\n",
       "    </tr>\n",
       "  </tbody>\n",
       "</table>\n",
       "</div>"
      ],
      "text/plain": [
       "      Album Release Date  Release Year  Release Month Release Month (Name)  \\\n",
       "0  Her Loss      11/4/22          2022             11             November   \n",
       "1  Her Loss      11/4/22          2022             11             November   \n",
       "2  Her Loss      11/4/22          2022             11             November   \n",
       "3  Her Loss      11/4/22          2022             11             November   \n",
       "4  Her Loss      11/4/22          2022             11             November   \n",
       "\n",
       "   Release Day Release Day (Name)                Album ID  \\\n",
       "0            4             Friday  5MS3MvWHJ3lOZPLiMxzOU6   \n",
       "1            4             Friday  5MS3MvWHJ3lOZPLiMxzOU6   \n",
       "2            4             Friday  5MS3MvWHJ3lOZPLiMxzOU6   \n",
       "3            4             Friday  5MS3MvWHJ3lOZPLiMxzOU6   \n",
       "4            4             Friday  5MS3MvWHJ3lOZPLiMxzOU6   \n",
       "\n",
       "   Number of Album Songs           Song Name      Plays           Artist  \\\n",
       "0                     16           Rich Flex  463655324  Drake,21 Savage   \n",
       "1                     16  Major Distribution  134609385  Drake,21 Savage   \n",
       "2                     16               On BS  137344442  Drake,21 Savage   \n",
       "3                     16     BackOutsideBoyz   80148026            Drake   \n",
       "4                     16  Privileged Rappers   92548320  Drake,21 Savage   \n",
       "\n",
       "                  Song ID Track Duration  Track Duration (Minutes)  \\\n",
       "0  1bDbXMyjaUIooNwFE9wn0N           3:59                         3   \n",
       "1  46s57QULU02Voy0Kup6UEb           2:50                         2   \n",
       "2  34tz0eDhGuFErIuW3q4mPX           4:21                         4   \n",
       "3  0wshkEEcJUQU33RSRBb5dv           2:32                         2   \n",
       "4  7l2nxyx7IkBX5orhkALg0V           2:40                         2   \n",
       "\n",
       "   Track Duration (Seconds)  Track Number  Number of Artists  Danceability  \\\n",
       "0                        59             1                  2         0.561   \n",
       "1                        50             2                  2         0.908   \n",
       "2                        21             3                  2         0.841   \n",
       "3                        32             4                  1         0.849   \n",
       "4                        40             5                  2         0.934   \n",
       "\n",
       "   Energy  Key  Loudness  Speechiness  Acousticness  Instrumentalness  \\\n",
       "0   0.520   11    -9.342        0.244       0.05030               0.0   \n",
       "1   0.546    8   -10.491        0.323       0.01270               0.0   \n",
       "2   0.358    9    -8.368        0.591       0.02010               0.0   \n",
       "3   0.433    5    -8.434        0.316       0.04070               0.0   \n",
       "4   0.614    5    -7.384        0.198       0.00274               0.0   \n",
       "\n",
       "   Liveness  Valence    Tempo Artist 1   Artist 2 Artist 3  \n",
       "0    0.3550    0.424  153.150    Drake  21 Savage      NaN  \n",
       "1    0.0707    0.225  131.016    Drake  21 Savage      NaN  \n",
       "2    0.3900    0.329  158.014    Drake  21 Savage      NaN  \n",
       "3    0.3880    0.395  142.110    Drake        NaN      NaN  \n",
       "4    0.1230    0.616  144.045    Drake  21 Savage      NaN  "
      ]
     },
     "execution_count": 1004,
     "metadata": {},
     "output_type": "execute_result"
    }
   ],
   "source": [
    "data.head()"
   ]
  },
  {
   "cell_type": "code",
   "execution_count": 1005,
   "metadata": {},
   "outputs": [],
   "source": [
    "from pandasql import sqldf\n",
    "pysqldf = lambda q: sqldf(q, globals())"
   ]
  },
  {
   "attachments": {},
   "cell_type": "markdown",
   "metadata": {},
   "source": [
    "# Album Popularity"
   ]
  },
  {
   "attachments": {},
   "cell_type": "markdown",
   "metadata": {},
   "source": [
    "How does each album perform to each other?"
   ]
  },
  {
   "cell_type": "code",
   "execution_count": 589,
   "metadata": {},
   "outputs": [],
   "source": [
    "q1 = pysqldf(\"SELECT Album, [Release Year], SUM(Plays) AS [Total Streams] FROM data GROUP BY 1 ORDER BY 3 DESC\")\n"
   ]
  },
  {
   "cell_type": "code",
   "execution_count": 997,
   "metadata": {},
   "outputs": [
    {
     "data": {
      "text/html": [
       "<div>\n",
       "<style scoped>\n",
       "    .dataframe tbody tr th:only-of-type {\n",
       "        vertical-align: middle;\n",
       "    }\n",
       "\n",
       "    .dataframe tbody tr th {\n",
       "        vertical-align: top;\n",
       "    }\n",
       "\n",
       "    .dataframe thead th {\n",
       "        text-align: right;\n",
       "    }\n",
       "</style>\n",
       "<table border=\"1\" class=\"dataframe\">\n",
       "  <thead>\n",
       "    <tr style=\"text-align: right;\">\n",
       "      <th></th>\n",
       "      <th>Album</th>\n",
       "      <th>Release Year</th>\n",
       "      <th>Total Streams</th>\n",
       "    </tr>\n",
       "  </thead>\n",
       "  <tbody>\n",
       "    <tr>\n",
       "      <th>0</th>\n",
       "      <td>Scorpion</td>\n",
       "      <td>2018</td>\n",
       "      <td>8913490269</td>\n",
       "    </tr>\n",
       "    <tr>\n",
       "      <th>1</th>\n",
       "      <td>Views</td>\n",
       "      <td>2016</td>\n",
       "      <td>8334444613</td>\n",
       "    </tr>\n",
       "    <tr>\n",
       "      <th>2</th>\n",
       "      <td>More Life</td>\n",
       "      <td>2017</td>\n",
       "      <td>6054100881</td>\n",
       "    </tr>\n",
       "    <tr>\n",
       "      <th>3</th>\n",
       "      <td>Take Care (Deluxe)</td>\n",
       "      <td>2011</td>\n",
       "      <td>3964211685</td>\n",
       "    </tr>\n",
       "    <tr>\n",
       "      <th>4</th>\n",
       "      <td>Certified Lover Boy</td>\n",
       "      <td>2021</td>\n",
       "      <td>3747464183</td>\n",
       "    </tr>\n",
       "    <tr>\n",
       "      <th>5</th>\n",
       "      <td>Nothing Was The Same (Deluxe)</td>\n",
       "      <td>2013</td>\n",
       "      <td>3440996561</td>\n",
       "    </tr>\n",
       "    <tr>\n",
       "      <th>6</th>\n",
       "      <td>If You're Reading This It's Too Late</td>\n",
       "      <td>2015</td>\n",
       "      <td>2999966802</td>\n",
       "    </tr>\n",
       "    <tr>\n",
       "      <th>7</th>\n",
       "      <td>Dark Lane Demo Tapes</td>\n",
       "      <td>2020</td>\n",
       "      <td>2531054437</td>\n",
       "    </tr>\n",
       "    <tr>\n",
       "      <th>8</th>\n",
       "      <td>What A Time To Be Alive</td>\n",
       "      <td>2015</td>\n",
       "      <td>1863883101</td>\n",
       "    </tr>\n",
       "    <tr>\n",
       "      <th>9</th>\n",
       "      <td>Her Loss</td>\n",
       "      <td>2022</td>\n",
       "      <td>1772680150</td>\n",
       "    </tr>\n",
       "    <tr>\n",
       "      <th>10</th>\n",
       "      <td>Honestly, Nevermind</td>\n",
       "      <td>2022</td>\n",
       "      <td>1317716452</td>\n",
       "    </tr>\n",
       "    <tr>\n",
       "      <th>11</th>\n",
       "      <td>Thank Me Later</td>\n",
       "      <td>2010</td>\n",
       "      <td>991566681</td>\n",
       "    </tr>\n",
       "    <tr>\n",
       "      <th>12</th>\n",
       "      <td>So Far Gone</td>\n",
       "      <td>2019</td>\n",
       "      <td>944926700</td>\n",
       "    </tr>\n",
       "    <tr>\n",
       "      <th>13</th>\n",
       "      <td>Care Package</td>\n",
       "      <td>2019</td>\n",
       "      <td>715425405</td>\n",
       "    </tr>\n",
       "  </tbody>\n",
       "</table>\n",
       "</div>"
      ],
      "text/plain": [
       "                                   Album  Release Year  Total Streams\n",
       "0                               Scorpion          2018     8913490269\n",
       "1                                  Views          2016     8334444613\n",
       "2                              More Life          2017     6054100881\n",
       "3                     Take Care (Deluxe)          2011     3964211685\n",
       "4                    Certified Lover Boy          2021     3747464183\n",
       "5          Nothing Was The Same (Deluxe)          2013     3440996561\n",
       "6   If You're Reading This It's Too Late          2015     2999966802\n",
       "7                   Dark Lane Demo Tapes          2020     2531054437\n",
       "8                What A Time To Be Alive          2015     1863883101\n",
       "9                               Her Loss          2022     1772680150\n",
       "10                   Honestly, Nevermind          2022     1317716452\n",
       "11                        Thank Me Later          2010      991566681\n",
       "12                           So Far Gone          2019      944926700\n",
       "13                          Care Package          2019      715425405"
      ]
     },
     "execution_count": 997,
     "metadata": {},
     "output_type": "execute_result"
    }
   ],
   "source": [
    "q1"
   ]
  },
  {
   "cell_type": "code",
   "execution_count": 591,
   "metadata": {},
   "outputs": [
    {
     "data": {
      "text/plain": [
       "0     8913490269\n",
       "1     8334444613\n",
       "2     6054100881\n",
       "3     3964211685\n",
       "4     3747464183\n",
       "5     3440996561\n",
       "6     2999966802\n",
       "7     2531054437\n",
       "8     1863883101\n",
       "9     1772680150\n",
       "10    1317716452\n",
       "11     991566681\n",
       "12     944926700\n",
       "13     715425405\n",
       "Name: Total Streams, dtype: int64"
      ]
     },
     "execution_count": 591,
     "metadata": {},
     "output_type": "execute_result"
    }
   ],
   "source": [
    "q1['Total Streams']"
   ]
  },
  {
   "cell_type": "code",
   "execution_count": 841,
   "metadata": {},
   "outputs": [],
   "source": [
    "q1_ig = [\n",
    "  \"images/scorpion.png\",\n",
    "  \"images/views.png\",\n",
    "  \"images/morelife.png\",\n",
    "  \"images/takecare.png\",\n",
    "  \"images/certifiedloverboy.png\",\n",
    "  \"images/nothingwasthesame.png\",\n",
    "  \"images/ifyourereadingthisitstoolate.png\",\n",
    "  \"images/darklanedemotapes.png\",\n",
    "  \"images/whatatimetobealive.png\",\n",
    "  \"images/herloss.png\",\n",
    "  \"images/hnm.png\",\n",
    "  \"images/tml.png\",\n",
    "  \"images/sofargone.png\",\n",
    "  \"images/carepackage.png\"\n",
    "]"
   ]
  },
  {
   "cell_type": "code",
   "execution_count": 995,
   "metadata": {},
   "outputs": [
    {
     "data": {
      "application/vnd.plotly.v1+json": {
       "config": {
        "plotlyServerURL": "https://plot.ly"
       },
       "data": [
        {
         "alignmentgroup": "True",
         "hovertemplate": "x=%{x}<br>y=%{y}<extra></extra>",
         "legendgroup": "",
         "marker": {
          "color": "#1ed760",
          "line": {
           "color": "grey",
           "width": 1
          },
          "pattern": {
           "shape": ""
          }
         },
         "name": "",
         "offsetgroup": "",
         "orientation": "v",
         "showlegend": false,
         "textposition": "auto",
         "type": "bar",
         "x": [
          "Scorpion",
          "Views",
          "More Life",
          "Take Care (Deluxe)",
          "Certified Lover Boy",
          "Nothing Was The Same (Deluxe)",
          "If You're Reading This It's Too Late",
          "Dark Lane Demo Tapes",
          "What A Time To Be Alive",
          "Her Loss",
          "Honestly, Nevermind",
          "Thank Me Later",
          "So Far Gone",
          "Care Package"
         ],
         "xaxis": "x",
         "y": [
          8913490269,
          8334444613,
          6054100881,
          3964211685,
          3747464183,
          3440996561,
          2999966802,
          2531054437,
          1863883101,
          1772680150,
          1317716452,
          991566681,
          944926700,
          715425405
         ],
         "yaxis": "y"
        }
       ],
       "layout": {
        "annotations": [
         {
          "align": "right",
          "font": {
           "color": "Black",
           "family": "Georgia",
           "size": 16
          },
          "showarrow": false,
          "text": "Visual Created By Bjorn S.",
          "x": 1.1,
          "xref": "paper",
          "y": -0.235,
          "yref": "paper"
         }
        ],
        "barmode": "group",
        "height": 990,
        "images": [
         {
          "sizex": 5,
          "sizey": 525000000,
          "source": "images/scorpion.png",
          "x": 0,
          "xanchor": "center",
          "xref": "x",
          "y": 8943490269,
          "yanchor": "bottom",
          "yref": "y"
         },
         {
          "sizex": 5,
          "sizey": 525000000,
          "source": "images/views.png",
          "x": 1,
          "xanchor": "center",
          "xref": "x",
          "y": 8364444613,
          "yanchor": "bottom",
          "yref": "y"
         },
         {
          "sizex": 5,
          "sizey": 525000000,
          "source": "images/morelife.png",
          "x": 2,
          "xanchor": "center",
          "xref": "x",
          "y": 6084100881,
          "yanchor": "bottom",
          "yref": "y"
         },
         {
          "sizex": 5,
          "sizey": 525000000,
          "source": "images/takecare.png",
          "x": 3,
          "xanchor": "center",
          "xref": "x",
          "y": 3994211685,
          "yanchor": "bottom",
          "yref": "y"
         },
         {
          "sizex": 5,
          "sizey": 525000000,
          "source": "images/certifiedloverboy.png",
          "x": 4,
          "xanchor": "center",
          "xref": "x",
          "y": 3777464183,
          "yanchor": "bottom",
          "yref": "y"
         },
         {
          "sizex": 5,
          "sizey": 525000000,
          "source": "images/nothingwasthesame.png",
          "x": 5,
          "xanchor": "center",
          "xref": "x",
          "y": 3470996561,
          "yanchor": "bottom",
          "yref": "y"
         },
         {
          "sizex": 5,
          "sizey": 525000000,
          "source": "images/ifyourereadingthisitstoolate.png",
          "x": 6,
          "xanchor": "center",
          "xref": "x",
          "y": 3029966802,
          "yanchor": "bottom",
          "yref": "y"
         },
         {
          "sizex": 5,
          "sizey": 525000000,
          "source": "images/darklanedemotapes.png",
          "x": 7,
          "xanchor": "center",
          "xref": "x",
          "y": 2561054437,
          "yanchor": "bottom",
          "yref": "y"
         },
         {
          "sizex": 5,
          "sizey": 525000000,
          "source": "images/whatatimetobealive.png",
          "x": 8,
          "xanchor": "center",
          "xref": "x",
          "y": 1893883101,
          "yanchor": "bottom",
          "yref": "y"
         },
         {
          "sizex": 5,
          "sizey": 525000000,
          "source": "images/herloss.png",
          "x": 9,
          "xanchor": "center",
          "xref": "x",
          "y": 1802680150,
          "yanchor": "bottom",
          "yref": "y"
         },
         {
          "sizex": 5,
          "sizey": 525000000,
          "source": "images/hnm.png",
          "x": 10,
          "xanchor": "center",
          "xref": "x",
          "y": 1347716452,
          "yanchor": "bottom",
          "yref": "y"
         },
         {
          "sizex": 5,
          "sizey": 525000000,
          "source": "images/tml.png",
          "x": 11,
          "xanchor": "center",
          "xref": "x",
          "y": 1021566681,
          "yanchor": "bottom",
          "yref": "y"
         },
         {
          "sizex": 5,
          "sizey": 525000000,
          "source": "images/sofargone.png",
          "x": 12,
          "xanchor": "center",
          "xref": "x",
          "y": 974926700,
          "yanchor": "bottom",
          "yref": "y"
         },
         {
          "sizex": 5,
          "sizey": 525000000,
          "source": "images/carepackage.png",
          "x": 13,
          "xanchor": "center",
          "xref": "x",
          "y": 745425405,
          "yanchor": "bottom",
          "yref": "y"
         },
         {
          "sizex": 0.11,
          "sizey": 0.11,
          "source": "logo.png",
          "x": -0.08,
          "xanchor": "left",
          "xref": "paper",
          "y": 1.135,
          "yanchor": "top",
          "yref": "paper"
         }
        ],
        "legend": {
         "tracegroupgap": 0
        },
        "paper_bgcolor": "#F4F2F0",
        "plot_bgcolor": "#F4F2F0",
        "template": {
         "data": {
          "bar": [
           {
            "error_x": {
             "color": "#2a3f5f"
            },
            "error_y": {
             "color": "#2a3f5f"
            },
            "marker": {
             "line": {
              "color": "#E5ECF6",
              "width": 0.5
             },
             "pattern": {
              "fillmode": "overlay",
              "size": 10,
              "solidity": 0.2
             }
            },
            "type": "bar"
           }
          ],
          "barpolar": [
           {
            "marker": {
             "line": {
              "color": "#E5ECF6",
              "width": 0.5
             },
             "pattern": {
              "fillmode": "overlay",
              "size": 10,
              "solidity": 0.2
             }
            },
            "type": "barpolar"
           }
          ],
          "carpet": [
           {
            "aaxis": {
             "endlinecolor": "#2a3f5f",
             "gridcolor": "white",
             "linecolor": "white",
             "minorgridcolor": "white",
             "startlinecolor": "#2a3f5f"
            },
            "baxis": {
             "endlinecolor": "#2a3f5f",
             "gridcolor": "white",
             "linecolor": "white",
             "minorgridcolor": "white",
             "startlinecolor": "#2a3f5f"
            },
            "type": "carpet"
           }
          ],
          "choropleth": [
           {
            "colorbar": {
             "outlinewidth": 0,
             "ticks": ""
            },
            "type": "choropleth"
           }
          ],
          "contour": [
           {
            "colorbar": {
             "outlinewidth": 0,
             "ticks": ""
            },
            "colorscale": [
             [
              0,
              "#0d0887"
             ],
             [
              0.1111111111111111,
              "#46039f"
             ],
             [
              0.2222222222222222,
              "#7201a8"
             ],
             [
              0.3333333333333333,
              "#9c179e"
             ],
             [
              0.4444444444444444,
              "#bd3786"
             ],
             [
              0.5555555555555556,
              "#d8576b"
             ],
             [
              0.6666666666666666,
              "#ed7953"
             ],
             [
              0.7777777777777778,
              "#fb9f3a"
             ],
             [
              0.8888888888888888,
              "#fdca26"
             ],
             [
              1,
              "#f0f921"
             ]
            ],
            "type": "contour"
           }
          ],
          "contourcarpet": [
           {
            "colorbar": {
             "outlinewidth": 0,
             "ticks": ""
            },
            "type": "contourcarpet"
           }
          ],
          "heatmap": [
           {
            "colorbar": {
             "outlinewidth": 0,
             "ticks": ""
            },
            "colorscale": [
             [
              0,
              "#0d0887"
             ],
             [
              0.1111111111111111,
              "#46039f"
             ],
             [
              0.2222222222222222,
              "#7201a8"
             ],
             [
              0.3333333333333333,
              "#9c179e"
             ],
             [
              0.4444444444444444,
              "#bd3786"
             ],
             [
              0.5555555555555556,
              "#d8576b"
             ],
             [
              0.6666666666666666,
              "#ed7953"
             ],
             [
              0.7777777777777778,
              "#fb9f3a"
             ],
             [
              0.8888888888888888,
              "#fdca26"
             ],
             [
              1,
              "#f0f921"
             ]
            ],
            "type": "heatmap"
           }
          ],
          "heatmapgl": [
           {
            "colorbar": {
             "outlinewidth": 0,
             "ticks": ""
            },
            "colorscale": [
             [
              0,
              "#0d0887"
             ],
             [
              0.1111111111111111,
              "#46039f"
             ],
             [
              0.2222222222222222,
              "#7201a8"
             ],
             [
              0.3333333333333333,
              "#9c179e"
             ],
             [
              0.4444444444444444,
              "#bd3786"
             ],
             [
              0.5555555555555556,
              "#d8576b"
             ],
             [
              0.6666666666666666,
              "#ed7953"
             ],
             [
              0.7777777777777778,
              "#fb9f3a"
             ],
             [
              0.8888888888888888,
              "#fdca26"
             ],
             [
              1,
              "#f0f921"
             ]
            ],
            "type": "heatmapgl"
           }
          ],
          "histogram": [
           {
            "marker": {
             "pattern": {
              "fillmode": "overlay",
              "size": 10,
              "solidity": 0.2
             }
            },
            "type": "histogram"
           }
          ],
          "histogram2d": [
           {
            "colorbar": {
             "outlinewidth": 0,
             "ticks": ""
            },
            "colorscale": [
             [
              0,
              "#0d0887"
             ],
             [
              0.1111111111111111,
              "#46039f"
             ],
             [
              0.2222222222222222,
              "#7201a8"
             ],
             [
              0.3333333333333333,
              "#9c179e"
             ],
             [
              0.4444444444444444,
              "#bd3786"
             ],
             [
              0.5555555555555556,
              "#d8576b"
             ],
             [
              0.6666666666666666,
              "#ed7953"
             ],
             [
              0.7777777777777778,
              "#fb9f3a"
             ],
             [
              0.8888888888888888,
              "#fdca26"
             ],
             [
              1,
              "#f0f921"
             ]
            ],
            "type": "histogram2d"
           }
          ],
          "histogram2dcontour": [
           {
            "colorbar": {
             "outlinewidth": 0,
             "ticks": ""
            },
            "colorscale": [
             [
              0,
              "#0d0887"
             ],
             [
              0.1111111111111111,
              "#46039f"
             ],
             [
              0.2222222222222222,
              "#7201a8"
             ],
             [
              0.3333333333333333,
              "#9c179e"
             ],
             [
              0.4444444444444444,
              "#bd3786"
             ],
             [
              0.5555555555555556,
              "#d8576b"
             ],
             [
              0.6666666666666666,
              "#ed7953"
             ],
             [
              0.7777777777777778,
              "#fb9f3a"
             ],
             [
              0.8888888888888888,
              "#fdca26"
             ],
             [
              1,
              "#f0f921"
             ]
            ],
            "type": "histogram2dcontour"
           }
          ],
          "mesh3d": [
           {
            "colorbar": {
             "outlinewidth": 0,
             "ticks": ""
            },
            "type": "mesh3d"
           }
          ],
          "parcoords": [
           {
            "line": {
             "colorbar": {
              "outlinewidth": 0,
              "ticks": ""
             }
            },
            "type": "parcoords"
           }
          ],
          "pie": [
           {
            "automargin": true,
            "type": "pie"
           }
          ],
          "scatter": [
           {
            "fillpattern": {
             "fillmode": "overlay",
             "size": 10,
             "solidity": 0.2
            },
            "type": "scatter"
           }
          ],
          "scatter3d": [
           {
            "line": {
             "colorbar": {
              "outlinewidth": 0,
              "ticks": ""
             }
            },
            "marker": {
             "colorbar": {
              "outlinewidth": 0,
              "ticks": ""
             }
            },
            "type": "scatter3d"
           }
          ],
          "scattercarpet": [
           {
            "marker": {
             "colorbar": {
              "outlinewidth": 0,
              "ticks": ""
             }
            },
            "type": "scattercarpet"
           }
          ],
          "scattergeo": [
           {
            "marker": {
             "colorbar": {
              "outlinewidth": 0,
              "ticks": ""
             }
            },
            "type": "scattergeo"
           }
          ],
          "scattergl": [
           {
            "marker": {
             "colorbar": {
              "outlinewidth": 0,
              "ticks": ""
             }
            },
            "type": "scattergl"
           }
          ],
          "scattermapbox": [
           {
            "marker": {
             "colorbar": {
              "outlinewidth": 0,
              "ticks": ""
             }
            },
            "type": "scattermapbox"
           }
          ],
          "scatterpolar": [
           {
            "marker": {
             "colorbar": {
              "outlinewidth": 0,
              "ticks": ""
             }
            },
            "type": "scatterpolar"
           }
          ],
          "scatterpolargl": [
           {
            "marker": {
             "colorbar": {
              "outlinewidth": 0,
              "ticks": ""
             }
            },
            "type": "scatterpolargl"
           }
          ],
          "scatterternary": [
           {
            "marker": {
             "colorbar": {
              "outlinewidth": 0,
              "ticks": ""
             }
            },
            "type": "scatterternary"
           }
          ],
          "surface": [
           {
            "colorbar": {
             "outlinewidth": 0,
             "ticks": ""
            },
            "colorscale": [
             [
              0,
              "#0d0887"
             ],
             [
              0.1111111111111111,
              "#46039f"
             ],
             [
              0.2222222222222222,
              "#7201a8"
             ],
             [
              0.3333333333333333,
              "#9c179e"
             ],
             [
              0.4444444444444444,
              "#bd3786"
             ],
             [
              0.5555555555555556,
              "#d8576b"
             ],
             [
              0.6666666666666666,
              "#ed7953"
             ],
             [
              0.7777777777777778,
              "#fb9f3a"
             ],
             [
              0.8888888888888888,
              "#fdca26"
             ],
             [
              1,
              "#f0f921"
             ]
            ],
            "type": "surface"
           }
          ],
          "table": [
           {
            "cells": {
             "fill": {
              "color": "#EBF0F8"
             },
             "line": {
              "color": "white"
             }
            },
            "header": {
             "fill": {
              "color": "#C8D4E3"
             },
             "line": {
              "color": "white"
             }
            },
            "type": "table"
           }
          ]
         },
         "layout": {
          "annotationdefaults": {
           "arrowcolor": "#2a3f5f",
           "arrowhead": 0,
           "arrowwidth": 1
          },
          "autotypenumbers": "strict",
          "coloraxis": {
           "colorbar": {
            "outlinewidth": 0,
            "ticks": ""
           }
          },
          "colorscale": {
           "diverging": [
            [
             0,
             "#8e0152"
            ],
            [
             0.1,
             "#c51b7d"
            ],
            [
             0.2,
             "#de77ae"
            ],
            [
             0.3,
             "#f1b6da"
            ],
            [
             0.4,
             "#fde0ef"
            ],
            [
             0.5,
             "#f7f7f7"
            ],
            [
             0.6,
             "#e6f5d0"
            ],
            [
             0.7,
             "#b8e186"
            ],
            [
             0.8,
             "#7fbc41"
            ],
            [
             0.9,
             "#4d9221"
            ],
            [
             1,
             "#276419"
            ]
           ],
           "sequential": [
            [
             0,
             "#0d0887"
            ],
            [
             0.1111111111111111,
             "#46039f"
            ],
            [
             0.2222222222222222,
             "#7201a8"
            ],
            [
             0.3333333333333333,
             "#9c179e"
            ],
            [
             0.4444444444444444,
             "#bd3786"
            ],
            [
             0.5555555555555556,
             "#d8576b"
            ],
            [
             0.6666666666666666,
             "#ed7953"
            ],
            [
             0.7777777777777778,
             "#fb9f3a"
            ],
            [
             0.8888888888888888,
             "#fdca26"
            ],
            [
             1,
             "#f0f921"
            ]
           ],
           "sequentialminus": [
            [
             0,
             "#0d0887"
            ],
            [
             0.1111111111111111,
             "#46039f"
            ],
            [
             0.2222222222222222,
             "#7201a8"
            ],
            [
             0.3333333333333333,
             "#9c179e"
            ],
            [
             0.4444444444444444,
             "#bd3786"
            ],
            [
             0.5555555555555556,
             "#d8576b"
            ],
            [
             0.6666666666666666,
             "#ed7953"
            ],
            [
             0.7777777777777778,
             "#fb9f3a"
            ],
            [
             0.8888888888888888,
             "#fdca26"
            ],
            [
             1,
             "#f0f921"
            ]
           ]
          },
          "colorway": [
           "#636efa",
           "#EF553B",
           "#00cc96",
           "#ab63fa",
           "#FFA15A",
           "#19d3f3",
           "#FF6692",
           "#B6E880",
           "#FF97FF",
           "#FECB52"
          ],
          "font": {
           "color": "#2a3f5f"
          },
          "geo": {
           "bgcolor": "white",
           "lakecolor": "white",
           "landcolor": "#E5ECF6",
           "showlakes": true,
           "showland": true,
           "subunitcolor": "white"
          },
          "hoverlabel": {
           "align": "left"
          },
          "hovermode": "closest",
          "mapbox": {
           "style": "light"
          },
          "paper_bgcolor": "white",
          "plot_bgcolor": "#E5ECF6",
          "polar": {
           "angularaxis": {
            "gridcolor": "white",
            "linecolor": "white",
            "ticks": ""
           },
           "bgcolor": "#E5ECF6",
           "radialaxis": {
            "gridcolor": "white",
            "linecolor": "white",
            "ticks": ""
           }
          },
          "scene": {
           "xaxis": {
            "backgroundcolor": "#E5ECF6",
            "gridcolor": "white",
            "gridwidth": 2,
            "linecolor": "white",
            "showbackground": true,
            "ticks": "",
            "zerolinecolor": "white"
           },
           "yaxis": {
            "backgroundcolor": "#E5ECF6",
            "gridcolor": "white",
            "gridwidth": 2,
            "linecolor": "white",
            "showbackground": true,
            "ticks": "",
            "zerolinecolor": "white"
           },
           "zaxis": {
            "backgroundcolor": "#E5ECF6",
            "gridcolor": "white",
            "gridwidth": 2,
            "linecolor": "white",
            "showbackground": true,
            "ticks": "",
            "zerolinecolor": "white"
           }
          },
          "shapedefaults": {
           "line": {
            "color": "#2a3f5f"
           }
          },
          "ternary": {
           "aaxis": {
            "gridcolor": "white",
            "linecolor": "white",
            "ticks": ""
           },
           "baxis": {
            "gridcolor": "white",
            "linecolor": "white",
            "ticks": ""
           },
           "bgcolor": "#E5ECF6",
           "caxis": {
            "gridcolor": "white",
            "linecolor": "white",
            "ticks": ""
           }
          },
          "title": {
           "x": 0.05
          },
          "xaxis": {
           "automargin": true,
           "gridcolor": "white",
           "linecolor": "white",
           "ticks": "",
           "title": {
            "standoff": 15
           },
           "zerolinecolor": "white",
           "zerolinewidth": 2
          },
          "yaxis": {
           "automargin": true,
           "gridcolor": "white",
           "linecolor": "white",
           "ticks": "",
           "title": {
            "standoff": 15
           },
           "zerolinecolor": "white",
           "zerolinewidth": 2
          }
         }
        },
        "title": {
         "font": {
          "family": "Georgia",
          "size": 24
         },
         "text": "Drake Albums by Popularity (2023)",
         "x": 0.15,
         "y": 0.97
        },
        "width": 800,
        "xaxis": {
         "anchor": "y",
         "domain": [
          0,
          1
         ],
         "showgrid": false,
         "tickangle": -45,
         "title": {}
        },
        "yaxis": {
         "anchor": "x",
         "domain": [
          0,
          1
         ],
         "showgrid": true,
         "title": {
          "text": "Total Streams (Billions)"
         }
        }
       }
      }
     },
     "metadata": {},
     "output_type": "display_data"
    }
   ],
   "source": [
    "fig1 = px.bar(q1, x=q1['Album'].to_list(), y=q1['Total Streams'].to_list(), title=\"Drake Albums by Popularity (2023)\")\n",
    "fig1.update_layout(title=dict(x=0.15, y=0.97, font=dict(size=24, family='Georgia')),width=800, height=990, barmode='group', xaxis_tickangle=-45, paper_bgcolor='#F4F2F0', plot_bgcolor='#F4F2F0',\n",
    "                   xaxis=dict(showgrid=False), yaxis=dict(title_font=dict(family='Geogria'),showgrid=True), xaxis_title=None, yaxis_title=\"Total Streams (Billions)\")\n",
    "fig1.update_traces(marker_color='#1ed760', marker_line=dict(width=1, color='grey'))\n",
    "\n",
    "bar_heights = q1['Total Streams'].to_list()\n",
    "\n",
    "# Add cover album above bar\n",
    "for i, (height, path) in enumerate(zip(bar_heights, q1_ig)):\n",
    "    fig1.add_layout_image(\n",
    "        dict(\n",
    "            source=path,\n",
    "            xref=\"x\",\n",
    "            yref=\"y\",\n",
    "            x=i,\n",
    "            y=height + 30000000,\n",
    "            sizex=5,\n",
    "            sizey=525000000,\n",
    "            xanchor=\"center\",\n",
    "            yanchor=\"bottom\"\n",
    "        )\n",
    "    )\n",
    "\n",
    "#Spotify\n",
    "fig1.add_layout_image(\n",
    "    dict(\n",
    "        source=\"logo.png\",\n",
    "        xref=\"paper\",\n",
    "        yref=\"paper\",\n",
    "        x=-0.08,\n",
    "        y=1.135,\n",
    "        sizex=0.11,\n",
    "        sizey=0.11,\n",
    "        xanchor=\"left\",\n",
    "        yanchor=\"top\"\n",
    "    )\n",
    ")\n",
    "\n",
    "#Credit\n",
    "fig1.add_annotation(\n",
    "    x=1.1,  # x-coordinate of the annotation\n",
    "    y=-0.235,  # y-coordinate of the annotation\n",
    "    xref='paper',  # x-coordinate reference system\n",
    "    yref='paper',  # y-coordinate reference system\n",
    "    text='Visual Created By Bjorn S.',  # text to display\n",
    "    showarrow=False,  # hide arrow head\n",
    "    font=dict(size=16, color='Black', family='Georgia'),  # font style\n",
    "    align='right'  # horizontal alignment\n",
    ")\n",
    "fig1.show()"
   ]
  },
  {
   "attachments": {},
   "cell_type": "markdown",
   "metadata": {},
   "source": [
    "Not surprising to see Scorpion and Views taking the top 2 most popular Drake albums. Some of his most popular tracks appear in these albums, from God's Plan, In My Feelings, One Dance and Hotline Bling. Do you remember where you were when these songs released? \n",
    "\n",
    "Part of the reason why Drake has sustained mainstream status in the music industry is thanks to catchy, iconic hits like these songs. Whether by lyrics, memes, or music videos, his relatability to the pop culture scene is uncanny. Staying relevant for this long is no easy feat, as most have just a few hits before being forgotten by most.\n",
    "\n",
    "However, it's worthy to note some of his worst peforming albums. His most recent albums, Her Loss and Honestly, Nevermind just released last year. It would immature to take this graph at face value without understanding context. Give these albums time and they will surprise some of his other work. Especially Her Loss, which is without a doubt been given positive feedback by most of his audience."
   ]
  },
  {
   "attachments": {},
   "cell_type": "markdown",
   "metadata": {},
   "source": [
    "Speaking of popularity, what are his most popular songs?"
   ]
  },
  {
   "cell_type": "code",
   "execution_count": 1009,
   "metadata": {},
   "outputs": [
    {
     "data": {
      "text/html": [
       "<div>\n",
       "<style scoped>\n",
       "    .dataframe tbody tr th:only-of-type {\n",
       "        vertical-align: middle;\n",
       "    }\n",
       "\n",
       "    .dataframe tbody tr th {\n",
       "        vertical-align: top;\n",
       "    }\n",
       "\n",
       "    .dataframe thead th {\n",
       "        text-align: right;\n",
       "    }\n",
       "</style>\n",
       "<table border=\"1\" class=\"dataframe\">\n",
       "  <thead>\n",
       "    <tr style=\"text-align: right;\">\n",
       "      <th></th>\n",
       "      <th>Song Name</th>\n",
       "      <th>Plays</th>\n",
       "      <th>Album</th>\n",
       "      <th>Release Year</th>\n",
       "    </tr>\n",
       "  </thead>\n",
       "  <tbody>\n",
       "    <tr>\n",
       "      <th>0</th>\n",
       "      <td>One Dance</td>\n",
       "      <td>2607846326</td>\n",
       "      <td>Views</td>\n",
       "      <td>2016</td>\n",
       "    </tr>\n",
       "    <tr>\n",
       "      <th>1</th>\n",
       "      <td>God's Plan</td>\n",
       "      <td>2169557886</td>\n",
       "      <td>Scorpion</td>\n",
       "      <td>2018</td>\n",
       "    </tr>\n",
       "    <tr>\n",
       "      <th>2</th>\n",
       "      <td>In My Feelings</td>\n",
       "      <td>1290100065</td>\n",
       "      <td>Scorpion</td>\n",
       "      <td>2018</td>\n",
       "    </tr>\n",
       "    <tr>\n",
       "      <th>3</th>\n",
       "      <td>Passionfruit</td>\n",
       "      <td>1286403608</td>\n",
       "      <td>More Life</td>\n",
       "      <td>2017</td>\n",
       "    </tr>\n",
       "    <tr>\n",
       "      <th>4</th>\n",
       "      <td>Hotline Bling</td>\n",
       "      <td>1182189657</td>\n",
       "      <td>Views</td>\n",
       "      <td>2016</td>\n",
       "    </tr>\n",
       "    <tr>\n",
       "      <th>5</th>\n",
       "      <td>Nice For What</td>\n",
       "      <td>1113016827</td>\n",
       "      <td>Scorpion</td>\n",
       "      <td>2018</td>\n",
       "    </tr>\n",
       "    <tr>\n",
       "      <th>6</th>\n",
       "      <td>Nonstop</td>\n",
       "      <td>965929333</td>\n",
       "      <td>Scorpion</td>\n",
       "      <td>2018</td>\n",
       "    </tr>\n",
       "    <tr>\n",
       "      <th>7</th>\n",
       "      <td>Toosie Slide</td>\n",
       "      <td>961536663</td>\n",
       "      <td>Dark Lane Demo Tapes</td>\n",
       "      <td>2020</td>\n",
       "    </tr>\n",
       "    <tr>\n",
       "      <th>8</th>\n",
       "      <td>Too Good</td>\n",
       "      <td>957800485</td>\n",
       "      <td>Views</td>\n",
       "      <td>2016</td>\n",
       "    </tr>\n",
       "    <tr>\n",
       "      <th>9</th>\n",
       "      <td>Fake Love</td>\n",
       "      <td>899932461</td>\n",
       "      <td>More Life</td>\n",
       "      <td>2017</td>\n",
       "    </tr>\n",
       "  </tbody>\n",
       "</table>\n",
       "</div>"
      ],
      "text/plain": [
       "        Song Name       Plays                 Album  Release Year\n",
       "0       One Dance  2607846326                 Views          2016\n",
       "1      God's Plan  2169557886              Scorpion          2018\n",
       "2  In My Feelings  1290100065              Scorpion          2018\n",
       "3    Passionfruit  1286403608             More Life          2017\n",
       "4   Hotline Bling  1182189657                 Views          2016\n",
       "5   Nice For What  1113016827              Scorpion          2018\n",
       "6         Nonstop   965929333              Scorpion          2018\n",
       "7    Toosie Slide   961536663  Dark Lane Demo Tapes          2020\n",
       "8        Too Good   957800485                 Views          2016\n",
       "9       Fake Love   899932461             More Life          2017"
      ]
     },
     "execution_count": 1009,
     "metadata": {},
     "output_type": "execute_result"
    }
   ],
   "source": [
    "q2 = pysqldf(\"SELECT [Song Name], Plays, Album, [Release Year] FROM data ORDER BY Plays DESC LIMIT 10\")\n"
   ]
  },
  {
   "cell_type": "code",
   "execution_count": 1017,
   "metadata": {},
   "outputs": [],
   "source": [
    "q2 = q2.sort_values(by='Plays', ascending=False)"
   ]
  },
  {
   "cell_type": "code",
   "execution_count": 1051,
   "metadata": {},
   "outputs": [
    {
     "data": {
      "application/vnd.plotly.v1+json": {
       "config": {
        "plotlyServerURL": "https://plot.ly"
       },
       "data": [
        {
         "alignmentgroup": "True",
         "hovertemplate": "x=%{x}<br>y=%{y}<extra></extra>",
         "legendgroup": "",
         "marker": {
          "color": "#1ed760",
          "line": {
           "color": "grey",
           "width": 1
          },
          "pattern": {
           "shape": ""
          }
         },
         "name": "",
         "offsetgroup": "",
         "orientation": "v",
         "showlegend": false,
         "textposition": "auto",
         "type": "bar",
         "x": [
          "One Dance",
          "God's Plan",
          "In My Feelings",
          "Passionfruit",
          "Hotline Bling",
          "Nice For What",
          "Nonstop",
          "Toosie Slide",
          "Too Good",
          "Fake Love"
         ],
         "xaxis": "x",
         "y": [
          2607846326,
          2169557886,
          1290100065,
          1286403608,
          1182189657,
          1113016827,
          965929333,
          961536663,
          957800485,
          899932461
         ],
         "yaxis": "y"
        }
       ],
       "layout": {
        "annotations": [
         {
          "align": "right",
          "font": {
           "color": "#535353",
           "family": "Georgia",
           "size": 14
          },
          "showarrow": false,
          "text": "Visual Created By Bjorn S.",
          "x": 1.1,
          "xref": "paper",
          "y": -0.165,
          "yref": "paper"
         }
        ],
        "barmode": "group",
        "height": 700,
        "images": [
         {
          "sizex": 0.12,
          "sizey": 0.12,
          "source": "logo.png",
          "x": -0.09,
          "xanchor": "left",
          "xref": "paper",
          "y": 1.165,
          "yanchor": "top",
          "yref": "paper"
         }
        ],
        "legend": {
         "tracegroupgap": 0
        },
        "paper_bgcolor": "#F4F2F0",
        "plot_bgcolor": "#F4F2F0",
        "template": {
         "data": {
          "bar": [
           {
            "error_x": {
             "color": "#2a3f5f"
            },
            "error_y": {
             "color": "#2a3f5f"
            },
            "marker": {
             "line": {
              "color": "#E5ECF6",
              "width": 0.5
             },
             "pattern": {
              "fillmode": "overlay",
              "size": 10,
              "solidity": 0.2
             }
            },
            "type": "bar"
           }
          ],
          "barpolar": [
           {
            "marker": {
             "line": {
              "color": "#E5ECF6",
              "width": 0.5
             },
             "pattern": {
              "fillmode": "overlay",
              "size": 10,
              "solidity": 0.2
             }
            },
            "type": "barpolar"
           }
          ],
          "carpet": [
           {
            "aaxis": {
             "endlinecolor": "#2a3f5f",
             "gridcolor": "white",
             "linecolor": "white",
             "minorgridcolor": "white",
             "startlinecolor": "#2a3f5f"
            },
            "baxis": {
             "endlinecolor": "#2a3f5f",
             "gridcolor": "white",
             "linecolor": "white",
             "minorgridcolor": "white",
             "startlinecolor": "#2a3f5f"
            },
            "type": "carpet"
           }
          ],
          "choropleth": [
           {
            "colorbar": {
             "outlinewidth": 0,
             "ticks": ""
            },
            "type": "choropleth"
           }
          ],
          "contour": [
           {
            "colorbar": {
             "outlinewidth": 0,
             "ticks": ""
            },
            "colorscale": [
             [
              0,
              "#0d0887"
             ],
             [
              0.1111111111111111,
              "#46039f"
             ],
             [
              0.2222222222222222,
              "#7201a8"
             ],
             [
              0.3333333333333333,
              "#9c179e"
             ],
             [
              0.4444444444444444,
              "#bd3786"
             ],
             [
              0.5555555555555556,
              "#d8576b"
             ],
             [
              0.6666666666666666,
              "#ed7953"
             ],
             [
              0.7777777777777778,
              "#fb9f3a"
             ],
             [
              0.8888888888888888,
              "#fdca26"
             ],
             [
              1,
              "#f0f921"
             ]
            ],
            "type": "contour"
           }
          ],
          "contourcarpet": [
           {
            "colorbar": {
             "outlinewidth": 0,
             "ticks": ""
            },
            "type": "contourcarpet"
           }
          ],
          "heatmap": [
           {
            "colorbar": {
             "outlinewidth": 0,
             "ticks": ""
            },
            "colorscale": [
             [
              0,
              "#0d0887"
             ],
             [
              0.1111111111111111,
              "#46039f"
             ],
             [
              0.2222222222222222,
              "#7201a8"
             ],
             [
              0.3333333333333333,
              "#9c179e"
             ],
             [
              0.4444444444444444,
              "#bd3786"
             ],
             [
              0.5555555555555556,
              "#d8576b"
             ],
             [
              0.6666666666666666,
              "#ed7953"
             ],
             [
              0.7777777777777778,
              "#fb9f3a"
             ],
             [
              0.8888888888888888,
              "#fdca26"
             ],
             [
              1,
              "#f0f921"
             ]
            ],
            "type": "heatmap"
           }
          ],
          "heatmapgl": [
           {
            "colorbar": {
             "outlinewidth": 0,
             "ticks": ""
            },
            "colorscale": [
             [
              0,
              "#0d0887"
             ],
             [
              0.1111111111111111,
              "#46039f"
             ],
             [
              0.2222222222222222,
              "#7201a8"
             ],
             [
              0.3333333333333333,
              "#9c179e"
             ],
             [
              0.4444444444444444,
              "#bd3786"
             ],
             [
              0.5555555555555556,
              "#d8576b"
             ],
             [
              0.6666666666666666,
              "#ed7953"
             ],
             [
              0.7777777777777778,
              "#fb9f3a"
             ],
             [
              0.8888888888888888,
              "#fdca26"
             ],
             [
              1,
              "#f0f921"
             ]
            ],
            "type": "heatmapgl"
           }
          ],
          "histogram": [
           {
            "marker": {
             "pattern": {
              "fillmode": "overlay",
              "size": 10,
              "solidity": 0.2
             }
            },
            "type": "histogram"
           }
          ],
          "histogram2d": [
           {
            "colorbar": {
             "outlinewidth": 0,
             "ticks": ""
            },
            "colorscale": [
             [
              0,
              "#0d0887"
             ],
             [
              0.1111111111111111,
              "#46039f"
             ],
             [
              0.2222222222222222,
              "#7201a8"
             ],
             [
              0.3333333333333333,
              "#9c179e"
             ],
             [
              0.4444444444444444,
              "#bd3786"
             ],
             [
              0.5555555555555556,
              "#d8576b"
             ],
             [
              0.6666666666666666,
              "#ed7953"
             ],
             [
              0.7777777777777778,
              "#fb9f3a"
             ],
             [
              0.8888888888888888,
              "#fdca26"
             ],
             [
              1,
              "#f0f921"
             ]
            ],
            "type": "histogram2d"
           }
          ],
          "histogram2dcontour": [
           {
            "colorbar": {
             "outlinewidth": 0,
             "ticks": ""
            },
            "colorscale": [
             [
              0,
              "#0d0887"
             ],
             [
              0.1111111111111111,
              "#46039f"
             ],
             [
              0.2222222222222222,
              "#7201a8"
             ],
             [
              0.3333333333333333,
              "#9c179e"
             ],
             [
              0.4444444444444444,
              "#bd3786"
             ],
             [
              0.5555555555555556,
              "#d8576b"
             ],
             [
              0.6666666666666666,
              "#ed7953"
             ],
             [
              0.7777777777777778,
              "#fb9f3a"
             ],
             [
              0.8888888888888888,
              "#fdca26"
             ],
             [
              1,
              "#f0f921"
             ]
            ],
            "type": "histogram2dcontour"
           }
          ],
          "mesh3d": [
           {
            "colorbar": {
             "outlinewidth": 0,
             "ticks": ""
            },
            "type": "mesh3d"
           }
          ],
          "parcoords": [
           {
            "line": {
             "colorbar": {
              "outlinewidth": 0,
              "ticks": ""
             }
            },
            "type": "parcoords"
           }
          ],
          "pie": [
           {
            "automargin": true,
            "type": "pie"
           }
          ],
          "scatter": [
           {
            "fillpattern": {
             "fillmode": "overlay",
             "size": 10,
             "solidity": 0.2
            },
            "type": "scatter"
           }
          ],
          "scatter3d": [
           {
            "line": {
             "colorbar": {
              "outlinewidth": 0,
              "ticks": ""
             }
            },
            "marker": {
             "colorbar": {
              "outlinewidth": 0,
              "ticks": ""
             }
            },
            "type": "scatter3d"
           }
          ],
          "scattercarpet": [
           {
            "marker": {
             "colorbar": {
              "outlinewidth": 0,
              "ticks": ""
             }
            },
            "type": "scattercarpet"
           }
          ],
          "scattergeo": [
           {
            "marker": {
             "colorbar": {
              "outlinewidth": 0,
              "ticks": ""
             }
            },
            "type": "scattergeo"
           }
          ],
          "scattergl": [
           {
            "marker": {
             "colorbar": {
              "outlinewidth": 0,
              "ticks": ""
             }
            },
            "type": "scattergl"
           }
          ],
          "scattermapbox": [
           {
            "marker": {
             "colorbar": {
              "outlinewidth": 0,
              "ticks": ""
             }
            },
            "type": "scattermapbox"
           }
          ],
          "scatterpolar": [
           {
            "marker": {
             "colorbar": {
              "outlinewidth": 0,
              "ticks": ""
             }
            },
            "type": "scatterpolar"
           }
          ],
          "scatterpolargl": [
           {
            "marker": {
             "colorbar": {
              "outlinewidth": 0,
              "ticks": ""
             }
            },
            "type": "scatterpolargl"
           }
          ],
          "scatterternary": [
           {
            "marker": {
             "colorbar": {
              "outlinewidth": 0,
              "ticks": ""
             }
            },
            "type": "scatterternary"
           }
          ],
          "surface": [
           {
            "colorbar": {
             "outlinewidth": 0,
             "ticks": ""
            },
            "colorscale": [
             [
              0,
              "#0d0887"
             ],
             [
              0.1111111111111111,
              "#46039f"
             ],
             [
              0.2222222222222222,
              "#7201a8"
             ],
             [
              0.3333333333333333,
              "#9c179e"
             ],
             [
              0.4444444444444444,
              "#bd3786"
             ],
             [
              0.5555555555555556,
              "#d8576b"
             ],
             [
              0.6666666666666666,
              "#ed7953"
             ],
             [
              0.7777777777777778,
              "#fb9f3a"
             ],
             [
              0.8888888888888888,
              "#fdca26"
             ],
             [
              1,
              "#f0f921"
             ]
            ],
            "type": "surface"
           }
          ],
          "table": [
           {
            "cells": {
             "fill": {
              "color": "#EBF0F8"
             },
             "line": {
              "color": "white"
             }
            },
            "header": {
             "fill": {
              "color": "#C8D4E3"
             },
             "line": {
              "color": "white"
             }
            },
            "type": "table"
           }
          ]
         },
         "layout": {
          "annotationdefaults": {
           "arrowcolor": "#2a3f5f",
           "arrowhead": 0,
           "arrowwidth": 1
          },
          "autotypenumbers": "strict",
          "coloraxis": {
           "colorbar": {
            "outlinewidth": 0,
            "ticks": ""
           }
          },
          "colorscale": {
           "diverging": [
            [
             0,
             "#8e0152"
            ],
            [
             0.1,
             "#c51b7d"
            ],
            [
             0.2,
             "#de77ae"
            ],
            [
             0.3,
             "#f1b6da"
            ],
            [
             0.4,
             "#fde0ef"
            ],
            [
             0.5,
             "#f7f7f7"
            ],
            [
             0.6,
             "#e6f5d0"
            ],
            [
             0.7,
             "#b8e186"
            ],
            [
             0.8,
             "#7fbc41"
            ],
            [
             0.9,
             "#4d9221"
            ],
            [
             1,
             "#276419"
            ]
           ],
           "sequential": [
            [
             0,
             "#0d0887"
            ],
            [
             0.1111111111111111,
             "#46039f"
            ],
            [
             0.2222222222222222,
             "#7201a8"
            ],
            [
             0.3333333333333333,
             "#9c179e"
            ],
            [
             0.4444444444444444,
             "#bd3786"
            ],
            [
             0.5555555555555556,
             "#d8576b"
            ],
            [
             0.6666666666666666,
             "#ed7953"
            ],
            [
             0.7777777777777778,
             "#fb9f3a"
            ],
            [
             0.8888888888888888,
             "#fdca26"
            ],
            [
             1,
             "#f0f921"
            ]
           ],
           "sequentialminus": [
            [
             0,
             "#0d0887"
            ],
            [
             0.1111111111111111,
             "#46039f"
            ],
            [
             0.2222222222222222,
             "#7201a8"
            ],
            [
             0.3333333333333333,
             "#9c179e"
            ],
            [
             0.4444444444444444,
             "#bd3786"
            ],
            [
             0.5555555555555556,
             "#d8576b"
            ],
            [
             0.6666666666666666,
             "#ed7953"
            ],
            [
             0.7777777777777778,
             "#fb9f3a"
            ],
            [
             0.8888888888888888,
             "#fdca26"
            ],
            [
             1,
             "#f0f921"
            ]
           ]
          },
          "colorway": [
           "#636efa",
           "#EF553B",
           "#00cc96",
           "#ab63fa",
           "#FFA15A",
           "#19d3f3",
           "#FF6692",
           "#B6E880",
           "#FF97FF",
           "#FECB52"
          ],
          "font": {
           "color": "#2a3f5f"
          },
          "geo": {
           "bgcolor": "white",
           "lakecolor": "white",
           "landcolor": "#E5ECF6",
           "showlakes": true,
           "showland": true,
           "subunitcolor": "white"
          },
          "hoverlabel": {
           "align": "left"
          },
          "hovermode": "closest",
          "mapbox": {
           "style": "light"
          },
          "paper_bgcolor": "white",
          "plot_bgcolor": "#E5ECF6",
          "polar": {
           "angularaxis": {
            "gridcolor": "white",
            "linecolor": "white",
            "ticks": ""
           },
           "bgcolor": "#E5ECF6",
           "radialaxis": {
            "gridcolor": "white",
            "linecolor": "white",
            "ticks": ""
           }
          },
          "scene": {
           "xaxis": {
            "backgroundcolor": "#E5ECF6",
            "gridcolor": "white",
            "gridwidth": 2,
            "linecolor": "white",
            "showbackground": true,
            "ticks": "",
            "zerolinecolor": "white"
           },
           "yaxis": {
            "backgroundcolor": "#E5ECF6",
            "gridcolor": "white",
            "gridwidth": 2,
            "linecolor": "white",
            "showbackground": true,
            "ticks": "",
            "zerolinecolor": "white"
           },
           "zaxis": {
            "backgroundcolor": "#E5ECF6",
            "gridcolor": "white",
            "gridwidth": 2,
            "linecolor": "white",
            "showbackground": true,
            "ticks": "",
            "zerolinecolor": "white"
           }
          },
          "shapedefaults": {
           "line": {
            "color": "#2a3f5f"
           }
          },
          "ternary": {
           "aaxis": {
            "gridcolor": "white",
            "linecolor": "white",
            "ticks": ""
           },
           "baxis": {
            "gridcolor": "white",
            "linecolor": "white",
            "ticks": ""
           },
           "bgcolor": "#E5ECF6",
           "caxis": {
            "gridcolor": "white",
            "linecolor": "white",
            "ticks": ""
           }
          },
          "title": {
           "x": 0.05
          },
          "xaxis": {
           "automargin": true,
           "gridcolor": "white",
           "linecolor": "white",
           "ticks": "",
           "title": {
            "standoff": 15
           },
           "zerolinecolor": "white",
           "zerolinewidth": 2
          },
          "yaxis": {
           "automargin": true,
           "gridcolor": "white",
           "linecolor": "white",
           "ticks": "",
           "title": {
            "standoff": 15
           },
           "zerolinecolor": "white",
           "zerolinewidth": 2
          }
         }
        },
        "title": {
         "font": {
          "family": "Georgia",
          "size": 24
         },
         "text": "Drake's Most Popular Songs",
         "x": 0.17,
         "y": 0.945
        },
        "width": 700,
        "xaxis": {
         "anchor": "y",
         "domain": [
          0,
          1
         ],
         "showgrid": false,
         "tickangle": -45,
         "title": {}
        },
        "yaxis": {
         "anchor": "x",
         "domain": [
          0,
          1
         ],
         "showgrid": true,
         "title": {
          "text": "Total Streams (Billions)"
         }
        }
       }
      }
     },
     "metadata": {},
     "output_type": "display_data"
    }
   ],
   "source": [
    "fig2 = px.bar(q2, x=q2['Song Name'].to_list(), y=q2['Plays'].to_list(), title=\"Top 10 Most Popular Drake Songs\")\n",
    "fig2.update_layout(title=dict(x=0.17, y=0.945, font=dict(size=24, family='Georgia')),\n",
    "                  width=700, height=700, barmode='group', xaxis_tickangle=-45,\n",
    "                  paper_bgcolor='#F4F2F0', plot_bgcolor='#F4F2F0',\n",
    "                  xaxis=dict(showgrid=False), yaxis=dict(title_font=dict(family='Georgia'), showgrid=True),\n",
    "                  xaxis_title=None, yaxis_title=\"Total Streams (Billions)\")\n",
    "fig2.update_traces(marker_color='#1ed760', marker_line=dict(width=1, color='grey'))\n",
    "\n",
    "\n",
    "#Spotify\n",
    "fig2.add_layout_image(\n",
    "    dict(\n",
    "        source=\"logo.png\",\n",
    "        xref=\"paper\",\n",
    "        yref=\"paper\",\n",
    "        x=-0.09,\n",
    "        y=1.165,\n",
    "        sizex=0.12,\n",
    "        sizey=0.12,\n",
    "        xanchor=\"left\",\n",
    "        yanchor=\"top\"\n",
    "    )\n",
    ")\n",
    "\n",
    "#Credit\n",
    "fig2.add_annotation(\n",
    "    x=1.1,  # x-coordinate of the annotation\n",
    "    y=-0.165,  # y-coordinate of the annotation\n",
    "    xref='paper',  # x-coordinate reference system\n",
    "    yref='paper',  # y-coordinate reference system\n",
    "    text='Visual Created By Bjorn S.',  # text to display\n",
    "    showarrow=False,  # hide arrow head\n",
    "    font=dict(size=14, color='#535353', family='Georgia'),  # font style\n",
    "    align='right'  # horizontal alignment\n",
    ")"
   ]
  },
  {
   "attachments": {},
   "cell_type": "markdown",
   "metadata": {},
   "source": [
    "At first glance, I'm actually surprised One Dance is his most popular song. I thought it would be God's Plan because of how it exploded across streaming sites in addition to it's music video that was released.\n",
    "\n",
    "It's also interesting that the majority of songs in this list are either released as a Single or EP(extended play). To my knowledge, God's Plan (Scary Hours), One Dance, Hotline Bling, and Toosie Slide are considered a Single/EP. It's almost as if Drake knew these tracks would be a hit!"
   ]
  },
  {
   "attachments": {},
   "cell_type": "markdown",
   "metadata": {},
   "source": [
    "Unfortunately, I couldn't seem to have the chart color-coded without having it grouped by album. Regardless, here it is:"
   ]
  },
  {
   "cell_type": "code",
   "execution_count": 1151,
   "metadata": {},
   "outputs": [
    {
     "data": {
      "application/vnd.plotly.v1+json": {
       "config": {
        "plotlyServerURL": "https://plot.ly"
       },
       "data": [
        {
         "alignmentgroup": "True",
         "hovertemplate": "Album=Views<br>x=%{x}<br>y=%{y}<extra></extra>",
         "legendgroup": "Views",
         "marker": {
          "color": "#636efa",
          "line": {
           "color": "grey",
           "width": 1
          },
          "pattern": {
           "shape": ""
          }
         },
         "name": "Views",
         "offsetgroup": "Views",
         "orientation": "v",
         "showlegend": true,
         "textposition": "auto",
         "type": "bar",
         "x": [
          "One Dance",
          "Hotline Bling",
          "Too Good"
         ],
         "xaxis": "x",
         "y": [
          2607846326,
          1182189657,
          957800485
         ],
         "yaxis": "y"
        },
        {
         "alignmentgroup": "True",
         "hovertemplate": "Album=Scorpion<br>x=%{x}<br>y=%{y}<extra></extra>",
         "legendgroup": "Scorpion",
         "marker": {
          "color": "#EF553B",
          "line": {
           "color": "grey",
           "width": 1
          },
          "pattern": {
           "shape": ""
          }
         },
         "name": "Scorpion",
         "offsetgroup": "Scorpion",
         "orientation": "v",
         "showlegend": true,
         "textposition": "auto",
         "type": "bar",
         "x": [
          "God's Plan",
          "In My Feelings",
          "Nice For What",
          "Nonstop"
         ],
         "xaxis": "x",
         "y": [
          2169557886,
          1290100065,
          1113016827,
          965929333
         ],
         "yaxis": "y"
        },
        {
         "alignmentgroup": "True",
         "hovertemplate": "Album=More Life<br>x=%{x}<br>y=%{y}<extra></extra>",
         "legendgroup": "More Life",
         "marker": {
          "color": "#00cc96",
          "line": {
           "color": "grey",
           "width": 1
          },
          "pattern": {
           "shape": ""
          }
         },
         "name": "More Life",
         "offsetgroup": "More Life",
         "orientation": "v",
         "showlegend": true,
         "textposition": "auto",
         "type": "bar",
         "x": [
          "Passionfruit",
          "Fake Love"
         ],
         "xaxis": "x",
         "y": [
          1286403608,
          899932461
         ],
         "yaxis": "y"
        },
        {
         "alignmentgroup": "True",
         "hovertemplate": "Album=Dark Lane Demo Tapes<br>x=%{x}<br>y=%{y}<extra></extra>",
         "legendgroup": "Dark Lane Demo Tapes",
         "marker": {
          "color": "#ab63fa",
          "line": {
           "color": "grey",
           "width": 1
          },
          "pattern": {
           "shape": ""
          }
         },
         "name": "Dark Lane Demo Tapes",
         "offsetgroup": "Dark Lane Demo Tapes",
         "orientation": "v",
         "showlegend": true,
         "textposition": "auto",
         "type": "bar",
         "x": [
          "Toosie Slide"
         ],
         "xaxis": "x",
         "y": [
          961536663
         ],
         "yaxis": "y"
        }
       ],
       "layout": {
        "annotations": [
         {
          "align": "right",
          "font": {
           "color": "#535353",
           "family": "Georgia",
           "size": 16
          },
          "showarrow": false,
          "text": "Visual Created By Bjorn S.",
          "x": 1.45,
          "xref": "paper",
          "y": -0.165,
          "yref": "paper"
         }
        ],
        "barmode": "group",
        "height": 700,
        "images": [
         {
          "sizex": 0.15,
          "sizey": 0.15,
          "source": "logo.png",
          "x": -0.12,
          "xanchor": "left",
          "xref": "paper",
          "y": 1.165,
          "yanchor": "top",
          "yref": "paper"
         }
        ],
        "legend": {
         "title": {
          "text": "Album"
         },
         "tracegroupgap": 0
        },
        "paper_bgcolor": "#F4F2F0",
        "plot_bgcolor": "#F4F2F0",
        "template": {
         "data": {
          "bar": [
           {
            "error_x": {
             "color": "#2a3f5f"
            },
            "error_y": {
             "color": "#2a3f5f"
            },
            "marker": {
             "line": {
              "color": "#E5ECF6",
              "width": 0.5
             },
             "pattern": {
              "fillmode": "overlay",
              "size": 10,
              "solidity": 0.2
             }
            },
            "type": "bar"
           }
          ],
          "barpolar": [
           {
            "marker": {
             "line": {
              "color": "#E5ECF6",
              "width": 0.5
             },
             "pattern": {
              "fillmode": "overlay",
              "size": 10,
              "solidity": 0.2
             }
            },
            "type": "barpolar"
           }
          ],
          "carpet": [
           {
            "aaxis": {
             "endlinecolor": "#2a3f5f",
             "gridcolor": "white",
             "linecolor": "white",
             "minorgridcolor": "white",
             "startlinecolor": "#2a3f5f"
            },
            "baxis": {
             "endlinecolor": "#2a3f5f",
             "gridcolor": "white",
             "linecolor": "white",
             "minorgridcolor": "white",
             "startlinecolor": "#2a3f5f"
            },
            "type": "carpet"
           }
          ],
          "choropleth": [
           {
            "colorbar": {
             "outlinewidth": 0,
             "ticks": ""
            },
            "type": "choropleth"
           }
          ],
          "contour": [
           {
            "colorbar": {
             "outlinewidth": 0,
             "ticks": ""
            },
            "colorscale": [
             [
              0,
              "#0d0887"
             ],
             [
              0.1111111111111111,
              "#46039f"
             ],
             [
              0.2222222222222222,
              "#7201a8"
             ],
             [
              0.3333333333333333,
              "#9c179e"
             ],
             [
              0.4444444444444444,
              "#bd3786"
             ],
             [
              0.5555555555555556,
              "#d8576b"
             ],
             [
              0.6666666666666666,
              "#ed7953"
             ],
             [
              0.7777777777777778,
              "#fb9f3a"
             ],
             [
              0.8888888888888888,
              "#fdca26"
             ],
             [
              1,
              "#f0f921"
             ]
            ],
            "type": "contour"
           }
          ],
          "contourcarpet": [
           {
            "colorbar": {
             "outlinewidth": 0,
             "ticks": ""
            },
            "type": "contourcarpet"
           }
          ],
          "heatmap": [
           {
            "colorbar": {
             "outlinewidth": 0,
             "ticks": ""
            },
            "colorscale": [
             [
              0,
              "#0d0887"
             ],
             [
              0.1111111111111111,
              "#46039f"
             ],
             [
              0.2222222222222222,
              "#7201a8"
             ],
             [
              0.3333333333333333,
              "#9c179e"
             ],
             [
              0.4444444444444444,
              "#bd3786"
             ],
             [
              0.5555555555555556,
              "#d8576b"
             ],
             [
              0.6666666666666666,
              "#ed7953"
             ],
             [
              0.7777777777777778,
              "#fb9f3a"
             ],
             [
              0.8888888888888888,
              "#fdca26"
             ],
             [
              1,
              "#f0f921"
             ]
            ],
            "type": "heatmap"
           }
          ],
          "heatmapgl": [
           {
            "colorbar": {
             "outlinewidth": 0,
             "ticks": ""
            },
            "colorscale": [
             [
              0,
              "#0d0887"
             ],
             [
              0.1111111111111111,
              "#46039f"
             ],
             [
              0.2222222222222222,
              "#7201a8"
             ],
             [
              0.3333333333333333,
              "#9c179e"
             ],
             [
              0.4444444444444444,
              "#bd3786"
             ],
             [
              0.5555555555555556,
              "#d8576b"
             ],
             [
              0.6666666666666666,
              "#ed7953"
             ],
             [
              0.7777777777777778,
              "#fb9f3a"
             ],
             [
              0.8888888888888888,
              "#fdca26"
             ],
             [
              1,
              "#f0f921"
             ]
            ],
            "type": "heatmapgl"
           }
          ],
          "histogram": [
           {
            "marker": {
             "pattern": {
              "fillmode": "overlay",
              "size": 10,
              "solidity": 0.2
             }
            },
            "type": "histogram"
           }
          ],
          "histogram2d": [
           {
            "colorbar": {
             "outlinewidth": 0,
             "ticks": ""
            },
            "colorscale": [
             [
              0,
              "#0d0887"
             ],
             [
              0.1111111111111111,
              "#46039f"
             ],
             [
              0.2222222222222222,
              "#7201a8"
             ],
             [
              0.3333333333333333,
              "#9c179e"
             ],
             [
              0.4444444444444444,
              "#bd3786"
             ],
             [
              0.5555555555555556,
              "#d8576b"
             ],
             [
              0.6666666666666666,
              "#ed7953"
             ],
             [
              0.7777777777777778,
              "#fb9f3a"
             ],
             [
              0.8888888888888888,
              "#fdca26"
             ],
             [
              1,
              "#f0f921"
             ]
            ],
            "type": "histogram2d"
           }
          ],
          "histogram2dcontour": [
           {
            "colorbar": {
             "outlinewidth": 0,
             "ticks": ""
            },
            "colorscale": [
             [
              0,
              "#0d0887"
             ],
             [
              0.1111111111111111,
              "#46039f"
             ],
             [
              0.2222222222222222,
              "#7201a8"
             ],
             [
              0.3333333333333333,
              "#9c179e"
             ],
             [
              0.4444444444444444,
              "#bd3786"
             ],
             [
              0.5555555555555556,
              "#d8576b"
             ],
             [
              0.6666666666666666,
              "#ed7953"
             ],
             [
              0.7777777777777778,
              "#fb9f3a"
             ],
             [
              0.8888888888888888,
              "#fdca26"
             ],
             [
              1,
              "#f0f921"
             ]
            ],
            "type": "histogram2dcontour"
           }
          ],
          "mesh3d": [
           {
            "colorbar": {
             "outlinewidth": 0,
             "ticks": ""
            },
            "type": "mesh3d"
           }
          ],
          "parcoords": [
           {
            "line": {
             "colorbar": {
              "outlinewidth": 0,
              "ticks": ""
             }
            },
            "type": "parcoords"
           }
          ],
          "pie": [
           {
            "automargin": true,
            "type": "pie"
           }
          ],
          "scatter": [
           {
            "fillpattern": {
             "fillmode": "overlay",
             "size": 10,
             "solidity": 0.2
            },
            "type": "scatter"
           }
          ],
          "scatter3d": [
           {
            "line": {
             "colorbar": {
              "outlinewidth": 0,
              "ticks": ""
             }
            },
            "marker": {
             "colorbar": {
              "outlinewidth": 0,
              "ticks": ""
             }
            },
            "type": "scatter3d"
           }
          ],
          "scattercarpet": [
           {
            "marker": {
             "colorbar": {
              "outlinewidth": 0,
              "ticks": ""
             }
            },
            "type": "scattercarpet"
           }
          ],
          "scattergeo": [
           {
            "marker": {
             "colorbar": {
              "outlinewidth": 0,
              "ticks": ""
             }
            },
            "type": "scattergeo"
           }
          ],
          "scattergl": [
           {
            "marker": {
             "colorbar": {
              "outlinewidth": 0,
              "ticks": ""
             }
            },
            "type": "scattergl"
           }
          ],
          "scattermapbox": [
           {
            "marker": {
             "colorbar": {
              "outlinewidth": 0,
              "ticks": ""
             }
            },
            "type": "scattermapbox"
           }
          ],
          "scatterpolar": [
           {
            "marker": {
             "colorbar": {
              "outlinewidth": 0,
              "ticks": ""
             }
            },
            "type": "scatterpolar"
           }
          ],
          "scatterpolargl": [
           {
            "marker": {
             "colorbar": {
              "outlinewidth": 0,
              "ticks": ""
             }
            },
            "type": "scatterpolargl"
           }
          ],
          "scatterternary": [
           {
            "marker": {
             "colorbar": {
              "outlinewidth": 0,
              "ticks": ""
             }
            },
            "type": "scatterternary"
           }
          ],
          "surface": [
           {
            "colorbar": {
             "outlinewidth": 0,
             "ticks": ""
            },
            "colorscale": [
             [
              0,
              "#0d0887"
             ],
             [
              0.1111111111111111,
              "#46039f"
             ],
             [
              0.2222222222222222,
              "#7201a8"
             ],
             [
              0.3333333333333333,
              "#9c179e"
             ],
             [
              0.4444444444444444,
              "#bd3786"
             ],
             [
              0.5555555555555556,
              "#d8576b"
             ],
             [
              0.6666666666666666,
              "#ed7953"
             ],
             [
              0.7777777777777778,
              "#fb9f3a"
             ],
             [
              0.8888888888888888,
              "#fdca26"
             ],
             [
              1,
              "#f0f921"
             ]
            ],
            "type": "surface"
           }
          ],
          "table": [
           {
            "cells": {
             "fill": {
              "color": "#EBF0F8"
             },
             "line": {
              "color": "white"
             }
            },
            "header": {
             "fill": {
              "color": "#C8D4E3"
             },
             "line": {
              "color": "white"
             }
            },
            "type": "table"
           }
          ]
         },
         "layout": {
          "annotationdefaults": {
           "arrowcolor": "#2a3f5f",
           "arrowhead": 0,
           "arrowwidth": 1
          },
          "autotypenumbers": "strict",
          "coloraxis": {
           "colorbar": {
            "outlinewidth": 0,
            "ticks": ""
           }
          },
          "colorscale": {
           "diverging": [
            [
             0,
             "#8e0152"
            ],
            [
             0.1,
             "#c51b7d"
            ],
            [
             0.2,
             "#de77ae"
            ],
            [
             0.3,
             "#f1b6da"
            ],
            [
             0.4,
             "#fde0ef"
            ],
            [
             0.5,
             "#f7f7f7"
            ],
            [
             0.6,
             "#e6f5d0"
            ],
            [
             0.7,
             "#b8e186"
            ],
            [
             0.8,
             "#7fbc41"
            ],
            [
             0.9,
             "#4d9221"
            ],
            [
             1,
             "#276419"
            ]
           ],
           "sequential": [
            [
             0,
             "#0d0887"
            ],
            [
             0.1111111111111111,
             "#46039f"
            ],
            [
             0.2222222222222222,
             "#7201a8"
            ],
            [
             0.3333333333333333,
             "#9c179e"
            ],
            [
             0.4444444444444444,
             "#bd3786"
            ],
            [
             0.5555555555555556,
             "#d8576b"
            ],
            [
             0.6666666666666666,
             "#ed7953"
            ],
            [
             0.7777777777777778,
             "#fb9f3a"
            ],
            [
             0.8888888888888888,
             "#fdca26"
            ],
            [
             1,
             "#f0f921"
            ]
           ],
           "sequentialminus": [
            [
             0,
             "#0d0887"
            ],
            [
             0.1111111111111111,
             "#46039f"
            ],
            [
             0.2222222222222222,
             "#7201a8"
            ],
            [
             0.3333333333333333,
             "#9c179e"
            ],
            [
             0.4444444444444444,
             "#bd3786"
            ],
            [
             0.5555555555555556,
             "#d8576b"
            ],
            [
             0.6666666666666666,
             "#ed7953"
            ],
            [
             0.7777777777777778,
             "#fb9f3a"
            ],
            [
             0.8888888888888888,
             "#fdca26"
            ],
            [
             1,
             "#f0f921"
            ]
           ]
          },
          "colorway": [
           "#636efa",
           "#EF553B",
           "#00cc96",
           "#ab63fa",
           "#FFA15A",
           "#19d3f3",
           "#FF6692",
           "#B6E880",
           "#FF97FF",
           "#FECB52"
          ],
          "font": {
           "color": "#2a3f5f"
          },
          "geo": {
           "bgcolor": "white",
           "lakecolor": "white",
           "landcolor": "#E5ECF6",
           "showlakes": true,
           "showland": true,
           "subunitcolor": "white"
          },
          "hoverlabel": {
           "align": "left"
          },
          "hovermode": "closest",
          "mapbox": {
           "style": "light"
          },
          "paper_bgcolor": "white",
          "plot_bgcolor": "#E5ECF6",
          "polar": {
           "angularaxis": {
            "gridcolor": "white",
            "linecolor": "white",
            "ticks": ""
           },
           "bgcolor": "#E5ECF6",
           "radialaxis": {
            "gridcolor": "white",
            "linecolor": "white",
            "ticks": ""
           }
          },
          "scene": {
           "xaxis": {
            "backgroundcolor": "#E5ECF6",
            "gridcolor": "white",
            "gridwidth": 2,
            "linecolor": "white",
            "showbackground": true,
            "ticks": "",
            "zerolinecolor": "white"
           },
           "yaxis": {
            "backgroundcolor": "#E5ECF6",
            "gridcolor": "white",
            "gridwidth": 2,
            "linecolor": "white",
            "showbackground": true,
            "ticks": "",
            "zerolinecolor": "white"
           },
           "zaxis": {
            "backgroundcolor": "#E5ECF6",
            "gridcolor": "white",
            "gridwidth": 2,
            "linecolor": "white",
            "showbackground": true,
            "ticks": "",
            "zerolinecolor": "white"
           }
          },
          "shapedefaults": {
           "line": {
            "color": "#2a3f5f"
           }
          },
          "ternary": {
           "aaxis": {
            "gridcolor": "white",
            "linecolor": "white",
            "ticks": ""
           },
           "baxis": {
            "gridcolor": "white",
            "linecolor": "white",
            "ticks": ""
           },
           "bgcolor": "#E5ECF6",
           "caxis": {
            "gridcolor": "white",
            "linecolor": "white",
            "ticks": ""
           }
          },
          "title": {
           "x": 0.05
          },
          "xaxis": {
           "automargin": true,
           "gridcolor": "white",
           "linecolor": "white",
           "ticks": "",
           "title": {
            "standoff": 15
           },
           "zerolinecolor": "white",
           "zerolinewidth": 2
          },
          "yaxis": {
           "automargin": true,
           "gridcolor": "white",
           "linecolor": "white",
           "ticks": "",
           "title": {
            "standoff": 15
           },
           "zerolinecolor": "white",
           "zerolinewidth": 2
          }
         }
        },
        "title": {
         "font": {
          "family": "Georgia",
          "size": 24
         },
         "text": "Drake's Most Popular Songs",
         "x": 0.17,
         "y": 0.945
        },
        "width": 700,
        "xaxis": {
         "anchor": "y",
         "domain": [
          0,
          1
         ],
         "showgrid": false,
         "tickangle": -45,
         "title": {}
        },
        "yaxis": {
         "anchor": "x",
         "domain": [
          0,
          1
         ],
         "showgrid": true,
         "title": {
          "text": "Total Streams (Billions)"
         }
        }
       }
      }
     },
     "metadata": {},
     "output_type": "display_data"
    }
   ],
   "source": [
    "fig2a = px.bar(q2, x=q2['Song Name'].to_list(), y=q2['Plays'].to_list(), title=\"Drake's Most Popular Songs\", color=q2['Album'])\n",
    "fig2a.update_layout(title=dict(x=0.17, y=0.945, font=dict(size=24, family='Georgia')),\n",
    "                  width=700, height=700, barmode='group', xaxis_tickangle=-45,\n",
    "                  paper_bgcolor='#F4F2F0', plot_bgcolor='#F4F2F0',\n",
    "                  xaxis=dict(showgrid=False), yaxis=dict(title_font=dict(family='Georgia'), showgrid=True),\n",
    "                  xaxis_title=None, yaxis_title=\"Total Streams (Billions)\")\n",
    "fig2a.update_traces(marker_line=dict(width=1, color='grey'))\n",
    "\n",
    "\n",
    "#Spotify\n",
    "fig2a.add_layout_image(\n",
    "    dict(\n",
    "        source=\"logo.png\",\n",
    "        xref=\"paper\",\n",
    "        yref=\"paper\",\n",
    "        x=-0.12,\n",
    "        y=1.165,\n",
    "        sizex=0.15,\n",
    "        sizey=0.15,\n",
    "        xanchor=\"left\",\n",
    "        yanchor=\"top\"\n",
    "    )\n",
    ")\n",
    "\n",
    "#Credit\n",
    "fig2a.add_annotation(\n",
    "    x=1.45,  # x-coordinate of the annotation\n",
    "    y=-0.165,  # y-coordinate of the annotation\n",
    "    xref='paper',  # x-coordinate reference system\n",
    "    yref='paper',  # y-coordinate reference system\n",
    "    text='Visual Created By Bjorn S.',  # text to display\n",
    "    showarrow=False,  # hide arrow head\n",
    "    font=dict(size=16, color='#535353', family='Georgia'),  # font style\n",
    "    align='right'  # horizontal alignment\n",
    ")"
   ]
  },
  {
   "attachments": {},
   "cell_type": "markdown",
   "metadata": {},
   "source": [
    "As expected, his most popular tracks are also featured in his most popular albums. Toosie Slide is the exception, as this was a single that took the music industry by storm with the catchy, Tik-Tok friendly track. During the COVID-19 lockdown, Drake delivered with a fun, danceable track. He also produced a music video, showcasing his _ridiculuously_ beautiful Canada home estate.\n",
    "\n",
    "__link music video here__"
   ]
  },
  {
   "attachments": {},
   "cell_type": "markdown",
   "metadata": {},
   "source": [
    "Here's the list with his most popular song on each album:"
   ]
  },
  {
   "cell_type": "code",
   "execution_count": 1062,
   "metadata": {},
   "outputs": [
    {
     "data": {
      "text/html": [
       "<div>\n",
       "<style scoped>\n",
       "    .dataframe tbody tr th:only-of-type {\n",
       "        vertical-align: middle;\n",
       "    }\n",
       "\n",
       "    .dataframe tbody tr th {\n",
       "        vertical-align: top;\n",
       "    }\n",
       "\n",
       "    .dataframe thead th {\n",
       "        text-align: right;\n",
       "    }\n",
       "</style>\n",
       "<table border=\"1\" class=\"dataframe\">\n",
       "  <thead>\n",
       "    <tr style=\"text-align: right;\">\n",
       "      <th></th>\n",
       "      <th>Album</th>\n",
       "      <th>Song Name</th>\n",
       "      <th>Streams</th>\n",
       "    </tr>\n",
       "  </thead>\n",
       "  <tbody>\n",
       "    <tr>\n",
       "      <th>0</th>\n",
       "      <td>Views</td>\n",
       "      <td>One Dance</td>\n",
       "      <td>2607846326</td>\n",
       "    </tr>\n",
       "    <tr>\n",
       "      <th>1</th>\n",
       "      <td>Scorpion</td>\n",
       "      <td>God's Plan</td>\n",
       "      <td>2169557886</td>\n",
       "    </tr>\n",
       "    <tr>\n",
       "      <th>2</th>\n",
       "      <td>More Life</td>\n",
       "      <td>Passionfruit</td>\n",
       "      <td>1286403608</td>\n",
       "    </tr>\n",
       "    <tr>\n",
       "      <th>3</th>\n",
       "      <td>Dark Lane Demo Tapes</td>\n",
       "      <td>Toosie Slide</td>\n",
       "      <td>961536663</td>\n",
       "    </tr>\n",
       "    <tr>\n",
       "      <th>4</th>\n",
       "      <td>Nothing Was The Same (Deluxe)</td>\n",
       "      <td>Hold On, We're Going Home</td>\n",
       "      <td>820185400</td>\n",
       "    </tr>\n",
       "    <tr>\n",
       "      <th>5</th>\n",
       "      <td>What A Time To Be Alive</td>\n",
       "      <td>Jumpman</td>\n",
       "      <td>765718064</td>\n",
       "    </tr>\n",
       "    <tr>\n",
       "      <th>6</th>\n",
       "      <td>Certified Lover Boy</td>\n",
       "      <td>Knife Talk (with 21 Savage ft. Project Pat)</td>\n",
       "      <td>545288250</td>\n",
       "    </tr>\n",
       "    <tr>\n",
       "      <th>7</th>\n",
       "      <td>Take Care (Deluxe)</td>\n",
       "      <td>Take Care</td>\n",
       "      <td>511423163</td>\n",
       "    </tr>\n",
       "    <tr>\n",
       "      <th>8</th>\n",
       "      <td>Honestly, Nevermind</td>\n",
       "      <td>Jimmy Cooks (feat. 21 Savage)</td>\n",
       "      <td>508089150</td>\n",
       "    </tr>\n",
       "    <tr>\n",
       "      <th>9</th>\n",
       "      <td>So Far Gone</td>\n",
       "      <td>Best I Ever Had</td>\n",
       "      <td>496427648</td>\n",
       "    </tr>\n",
       "    <tr>\n",
       "      <th>10</th>\n",
       "      <td>Her Loss</td>\n",
       "      <td>Rich Flex</td>\n",
       "      <td>463655324</td>\n",
       "    </tr>\n",
       "    <tr>\n",
       "      <th>11</th>\n",
       "      <td>If You're Reading This It's Too Late</td>\n",
       "      <td>Energy</td>\n",
       "      <td>439535359</td>\n",
       "    </tr>\n",
       "    <tr>\n",
       "      <th>12</th>\n",
       "      <td>Care Package</td>\n",
       "      <td>Trust Issues</td>\n",
       "      <td>196352476</td>\n",
       "    </tr>\n",
       "    <tr>\n",
       "      <th>13</th>\n",
       "      <td>Thank Me Later</td>\n",
       "      <td>Over</td>\n",
       "      <td>194804221</td>\n",
       "    </tr>\n",
       "  </tbody>\n",
       "</table>\n",
       "</div>"
      ],
      "text/plain": [
       "                                   Album  \\\n",
       "0                                  Views   \n",
       "1                               Scorpion   \n",
       "2                              More Life   \n",
       "3                   Dark Lane Demo Tapes   \n",
       "4          Nothing Was The Same (Deluxe)   \n",
       "5                What A Time To Be Alive   \n",
       "6                    Certified Lover Boy   \n",
       "7                     Take Care (Deluxe)   \n",
       "8                    Honestly, Nevermind   \n",
       "9                            So Far Gone   \n",
       "10                              Her Loss   \n",
       "11  If You're Reading This It's Too Late   \n",
       "12                          Care Package   \n",
       "13                        Thank Me Later   \n",
       "\n",
       "                                      Song Name     Streams  \n",
       "0                                     One Dance  2607846326  \n",
       "1                                    God's Plan  2169557886  \n",
       "2                                  Passionfruit  1286403608  \n",
       "3                                  Toosie Slide   961536663  \n",
       "4                     Hold On, We're Going Home   820185400  \n",
       "5                                       Jumpman   765718064  \n",
       "6   Knife Talk (with 21 Savage ft. Project Pat)   545288250  \n",
       "7                                     Take Care   511423163  \n",
       "8                 Jimmy Cooks (feat. 21 Savage)   508089150  \n",
       "9                               Best I Ever Had   496427648  \n",
       "10                                    Rich Flex   463655324  \n",
       "11                                       Energy   439535359  \n",
       "12                                 Trust Issues   196352476  \n",
       "13                                         Over   194804221  "
      ]
     },
     "execution_count": 1062,
     "metadata": {},
     "output_type": "execute_result"
    }
   ],
   "source": [
    "q3 = pysqldf(\"SELECT Album, [Song Name], MAX(Plays) AS Streams FROM data GROUP BY Album ORDER BY MAX(Plays) DESC\")\n",
    "\n",
    "q3"
   ]
  },
  {
   "attachments": {},
   "cell_type": "markdown",
   "metadata": {},
   "source": [
    "#  Impact of featured artists on song popularity"
   ]
  },
  {
   "attachments": {},
   "cell_type": "markdown",
   "metadata": {},
   "source": [
    "Similar artists such as Travis Scott, Kanye West, 21 Savage, and Rihanna have appeared on Aubrey's discography. Featuring other artists on albums can prove effective in joining fanbases, providing an alternative sound to the album, and increase hype. Personally, I try to listen to songs with features first before exploring solos whenever Drake drops an album. They tend to be the most listened to.\n",
    "\n",
    "How do Drake songs perform when comparing between solos and songs with features?"
   ]
  },
  {
   "cell_type": "code",
   "execution_count": 1104,
   "metadata": {},
   "outputs": [],
   "source": [
    "q4_query = '''SELECT \n",
    "    CAST(COUNT(CASE WHEN \"Artist 2\" IS NULL THEN 1 END) AS DECIMAL(10,2)) AS Solo, \n",
    "    CAST(COUNT(CASE WHEN \"Artist 2\" IS NOT NULL THEN 1 END) AS DECIMAL(10,2)) AS Collab \n",
    "FROM data'''\n",
    "\n",
    "q4 = pysqldf(q4_query)"
   ]
  },
  {
   "cell_type": "code",
   "execution_count": 1109,
   "metadata": {},
   "outputs": [
    {
     "data": {
      "text/html": [
       "<div>\n",
       "<style scoped>\n",
       "    .dataframe tbody tr th:only-of-type {\n",
       "        vertical-align: middle;\n",
       "    }\n",
       "\n",
       "    .dataframe tbody tr th {\n",
       "        vertical-align: top;\n",
       "    }\n",
       "\n",
       "    .dataframe thead th {\n",
       "        text-align: right;\n",
       "    }\n",
       "</style>\n",
       "<table border=\"1\" class=\"dataframe\">\n",
       "  <thead>\n",
       "    <tr style=\"text-align: right;\">\n",
       "      <th></th>\n",
       "      <th>Solo</th>\n",
       "      <th>Collab</th>\n",
       "    </tr>\n",
       "  </thead>\n",
       "  <tbody>\n",
       "    <tr>\n",
       "      <th>0</th>\n",
       "      <td>60.90535</td>\n",
       "      <td>39.09465</td>\n",
       "    </tr>\n",
       "  </tbody>\n",
       "</table>\n",
       "</div>"
      ],
      "text/plain": [
       "       Solo    Collab\n",
       "0  60.90535  39.09465"
      ]
     },
     "execution_count": 1109,
     "metadata": {},
     "output_type": "execute_result"
    }
   ],
   "source": [
    "totals = q4.sum().sum()\n",
    "\n",
    "normalized_q4 = q4 / totals \n",
    "\n",
    "\n",
    "normalized_q4 = normalized_q4.mul(100)"
   ]
  },
  {
   "cell_type": "code",
   "execution_count": 1164,
   "metadata": {},
   "outputs": [
    {
     "data": {
      "application/vnd.plotly.v1+json": {
       "config": {
        "plotlyServerURL": "https://plot.ly"
       },
       "data": [
        {
         "alignmentgroup": "True",
         "hovertemplate": "x=%{x}<br>y=%{y}<extra></extra>",
         "legendgroup": "",
         "marker": {
          "color": [
           "#6da0f2",
           "#b37289"
          ],
          "line": {
           "color": "#1F0202",
           "width": 1
          },
          "pattern": {
           "shape": ""
          }
         },
         "name": "",
         "offsetgroup": "",
         "orientation": "v",
         "showlegend": false,
         "textposition": "auto",
         "type": "bar",
         "x": [
          "Solo",
          "Collab"
         ],
         "xaxis": "x",
         "y": [
          60.90534979423868,
          39.09465020576132
         ],
         "yaxis": "y"
        }
       ],
       "layout": {
        "annotations": [
         {
          "align": "right",
          "font": {
           "color": "#535353",
           "family": "Georgia",
           "size": 16
          },
          "showarrow": false,
          "text": "Visual Created By Bjorn S.",
          "x": 1.12,
          "xref": "paper",
          "y": -0.175,
          "yref": "paper"
         }
        ],
        "barmode": "relative",
        "height": 600,
        "images": [
         {
          "sizex": 0.14,
          "sizey": 0.14,
          "source": "logo.png",
          "x": -0.11,
          "xanchor": "left",
          "xref": "paper",
          "y": 1.165,
          "yanchor": "top",
          "yref": "paper"
         }
        ],
        "legend": {
         "tracegroupgap": 0
        },
        "paper_bgcolor": "#F4F2F0",
        "plot_bgcolor": "#F4F2F0",
        "template": {
         "data": {
          "bar": [
           {
            "error_x": {
             "color": "#2a3f5f"
            },
            "error_y": {
             "color": "#2a3f5f"
            },
            "marker": {
             "line": {
              "color": "#E5ECF6",
              "width": 0.5
             },
             "pattern": {
              "fillmode": "overlay",
              "size": 10,
              "solidity": 0.2
             }
            },
            "type": "bar"
           }
          ],
          "barpolar": [
           {
            "marker": {
             "line": {
              "color": "#E5ECF6",
              "width": 0.5
             },
             "pattern": {
              "fillmode": "overlay",
              "size": 10,
              "solidity": 0.2
             }
            },
            "type": "barpolar"
           }
          ],
          "carpet": [
           {
            "aaxis": {
             "endlinecolor": "#2a3f5f",
             "gridcolor": "white",
             "linecolor": "white",
             "minorgridcolor": "white",
             "startlinecolor": "#2a3f5f"
            },
            "baxis": {
             "endlinecolor": "#2a3f5f",
             "gridcolor": "white",
             "linecolor": "white",
             "minorgridcolor": "white",
             "startlinecolor": "#2a3f5f"
            },
            "type": "carpet"
           }
          ],
          "choropleth": [
           {
            "colorbar": {
             "outlinewidth": 0,
             "ticks": ""
            },
            "type": "choropleth"
           }
          ],
          "contour": [
           {
            "colorbar": {
             "outlinewidth": 0,
             "ticks": ""
            },
            "colorscale": [
             [
              0,
              "#0d0887"
             ],
             [
              0.1111111111111111,
              "#46039f"
             ],
             [
              0.2222222222222222,
              "#7201a8"
             ],
             [
              0.3333333333333333,
              "#9c179e"
             ],
             [
              0.4444444444444444,
              "#bd3786"
             ],
             [
              0.5555555555555556,
              "#d8576b"
             ],
             [
              0.6666666666666666,
              "#ed7953"
             ],
             [
              0.7777777777777778,
              "#fb9f3a"
             ],
             [
              0.8888888888888888,
              "#fdca26"
             ],
             [
              1,
              "#f0f921"
             ]
            ],
            "type": "contour"
           }
          ],
          "contourcarpet": [
           {
            "colorbar": {
             "outlinewidth": 0,
             "ticks": ""
            },
            "type": "contourcarpet"
           }
          ],
          "heatmap": [
           {
            "colorbar": {
             "outlinewidth": 0,
             "ticks": ""
            },
            "colorscale": [
             [
              0,
              "#0d0887"
             ],
             [
              0.1111111111111111,
              "#46039f"
             ],
             [
              0.2222222222222222,
              "#7201a8"
             ],
             [
              0.3333333333333333,
              "#9c179e"
             ],
             [
              0.4444444444444444,
              "#bd3786"
             ],
             [
              0.5555555555555556,
              "#d8576b"
             ],
             [
              0.6666666666666666,
              "#ed7953"
             ],
             [
              0.7777777777777778,
              "#fb9f3a"
             ],
             [
              0.8888888888888888,
              "#fdca26"
             ],
             [
              1,
              "#f0f921"
             ]
            ],
            "type": "heatmap"
           }
          ],
          "heatmapgl": [
           {
            "colorbar": {
             "outlinewidth": 0,
             "ticks": ""
            },
            "colorscale": [
             [
              0,
              "#0d0887"
             ],
             [
              0.1111111111111111,
              "#46039f"
             ],
             [
              0.2222222222222222,
              "#7201a8"
             ],
             [
              0.3333333333333333,
              "#9c179e"
             ],
             [
              0.4444444444444444,
              "#bd3786"
             ],
             [
              0.5555555555555556,
              "#d8576b"
             ],
             [
              0.6666666666666666,
              "#ed7953"
             ],
             [
              0.7777777777777778,
              "#fb9f3a"
             ],
             [
              0.8888888888888888,
              "#fdca26"
             ],
             [
              1,
              "#f0f921"
             ]
            ],
            "type": "heatmapgl"
           }
          ],
          "histogram": [
           {
            "marker": {
             "pattern": {
              "fillmode": "overlay",
              "size": 10,
              "solidity": 0.2
             }
            },
            "type": "histogram"
           }
          ],
          "histogram2d": [
           {
            "colorbar": {
             "outlinewidth": 0,
             "ticks": ""
            },
            "colorscale": [
             [
              0,
              "#0d0887"
             ],
             [
              0.1111111111111111,
              "#46039f"
             ],
             [
              0.2222222222222222,
              "#7201a8"
             ],
             [
              0.3333333333333333,
              "#9c179e"
             ],
             [
              0.4444444444444444,
              "#bd3786"
             ],
             [
              0.5555555555555556,
              "#d8576b"
             ],
             [
              0.6666666666666666,
              "#ed7953"
             ],
             [
              0.7777777777777778,
              "#fb9f3a"
             ],
             [
              0.8888888888888888,
              "#fdca26"
             ],
             [
              1,
              "#f0f921"
             ]
            ],
            "type": "histogram2d"
           }
          ],
          "histogram2dcontour": [
           {
            "colorbar": {
             "outlinewidth": 0,
             "ticks": ""
            },
            "colorscale": [
             [
              0,
              "#0d0887"
             ],
             [
              0.1111111111111111,
              "#46039f"
             ],
             [
              0.2222222222222222,
              "#7201a8"
             ],
             [
              0.3333333333333333,
              "#9c179e"
             ],
             [
              0.4444444444444444,
              "#bd3786"
             ],
             [
              0.5555555555555556,
              "#d8576b"
             ],
             [
              0.6666666666666666,
              "#ed7953"
             ],
             [
              0.7777777777777778,
              "#fb9f3a"
             ],
             [
              0.8888888888888888,
              "#fdca26"
             ],
             [
              1,
              "#f0f921"
             ]
            ],
            "type": "histogram2dcontour"
           }
          ],
          "mesh3d": [
           {
            "colorbar": {
             "outlinewidth": 0,
             "ticks": ""
            },
            "type": "mesh3d"
           }
          ],
          "parcoords": [
           {
            "line": {
             "colorbar": {
              "outlinewidth": 0,
              "ticks": ""
             }
            },
            "type": "parcoords"
           }
          ],
          "pie": [
           {
            "automargin": true,
            "type": "pie"
           }
          ],
          "scatter": [
           {
            "fillpattern": {
             "fillmode": "overlay",
             "size": 10,
             "solidity": 0.2
            },
            "type": "scatter"
           }
          ],
          "scatter3d": [
           {
            "line": {
             "colorbar": {
              "outlinewidth": 0,
              "ticks": ""
             }
            },
            "marker": {
             "colorbar": {
              "outlinewidth": 0,
              "ticks": ""
             }
            },
            "type": "scatter3d"
           }
          ],
          "scattercarpet": [
           {
            "marker": {
             "colorbar": {
              "outlinewidth": 0,
              "ticks": ""
             }
            },
            "type": "scattercarpet"
           }
          ],
          "scattergeo": [
           {
            "marker": {
             "colorbar": {
              "outlinewidth": 0,
              "ticks": ""
             }
            },
            "type": "scattergeo"
           }
          ],
          "scattergl": [
           {
            "marker": {
             "colorbar": {
              "outlinewidth": 0,
              "ticks": ""
             }
            },
            "type": "scattergl"
           }
          ],
          "scattermapbox": [
           {
            "marker": {
             "colorbar": {
              "outlinewidth": 0,
              "ticks": ""
             }
            },
            "type": "scattermapbox"
           }
          ],
          "scatterpolar": [
           {
            "marker": {
             "colorbar": {
              "outlinewidth": 0,
              "ticks": ""
             }
            },
            "type": "scatterpolar"
           }
          ],
          "scatterpolargl": [
           {
            "marker": {
             "colorbar": {
              "outlinewidth": 0,
              "ticks": ""
             }
            },
            "type": "scatterpolargl"
           }
          ],
          "scatterternary": [
           {
            "marker": {
             "colorbar": {
              "outlinewidth": 0,
              "ticks": ""
             }
            },
            "type": "scatterternary"
           }
          ],
          "surface": [
           {
            "colorbar": {
             "outlinewidth": 0,
             "ticks": ""
            },
            "colorscale": [
             [
              0,
              "#0d0887"
             ],
             [
              0.1111111111111111,
              "#46039f"
             ],
             [
              0.2222222222222222,
              "#7201a8"
             ],
             [
              0.3333333333333333,
              "#9c179e"
             ],
             [
              0.4444444444444444,
              "#bd3786"
             ],
             [
              0.5555555555555556,
              "#d8576b"
             ],
             [
              0.6666666666666666,
              "#ed7953"
             ],
             [
              0.7777777777777778,
              "#fb9f3a"
             ],
             [
              0.8888888888888888,
              "#fdca26"
             ],
             [
              1,
              "#f0f921"
             ]
            ],
            "type": "surface"
           }
          ],
          "table": [
           {
            "cells": {
             "fill": {
              "color": "#EBF0F8"
             },
             "line": {
              "color": "white"
             }
            },
            "header": {
             "fill": {
              "color": "#C8D4E3"
             },
             "line": {
              "color": "white"
             }
            },
            "type": "table"
           }
          ]
         },
         "layout": {
          "annotationdefaults": {
           "arrowcolor": "#2a3f5f",
           "arrowhead": 0,
           "arrowwidth": 1
          },
          "autotypenumbers": "strict",
          "coloraxis": {
           "colorbar": {
            "outlinewidth": 0,
            "ticks": ""
           }
          },
          "colorscale": {
           "diverging": [
            [
             0,
             "#8e0152"
            ],
            [
             0.1,
             "#c51b7d"
            ],
            [
             0.2,
             "#de77ae"
            ],
            [
             0.3,
             "#f1b6da"
            ],
            [
             0.4,
             "#fde0ef"
            ],
            [
             0.5,
             "#f7f7f7"
            ],
            [
             0.6,
             "#e6f5d0"
            ],
            [
             0.7,
             "#b8e186"
            ],
            [
             0.8,
             "#7fbc41"
            ],
            [
             0.9,
             "#4d9221"
            ],
            [
             1,
             "#276419"
            ]
           ],
           "sequential": [
            [
             0,
             "#0d0887"
            ],
            [
             0.1111111111111111,
             "#46039f"
            ],
            [
             0.2222222222222222,
             "#7201a8"
            ],
            [
             0.3333333333333333,
             "#9c179e"
            ],
            [
             0.4444444444444444,
             "#bd3786"
            ],
            [
             0.5555555555555556,
             "#d8576b"
            ],
            [
             0.6666666666666666,
             "#ed7953"
            ],
            [
             0.7777777777777778,
             "#fb9f3a"
            ],
            [
             0.8888888888888888,
             "#fdca26"
            ],
            [
             1,
             "#f0f921"
            ]
           ],
           "sequentialminus": [
            [
             0,
             "#0d0887"
            ],
            [
             0.1111111111111111,
             "#46039f"
            ],
            [
             0.2222222222222222,
             "#7201a8"
            ],
            [
             0.3333333333333333,
             "#9c179e"
            ],
            [
             0.4444444444444444,
             "#bd3786"
            ],
            [
             0.5555555555555556,
             "#d8576b"
            ],
            [
             0.6666666666666666,
             "#ed7953"
            ],
            [
             0.7777777777777778,
             "#fb9f3a"
            ],
            [
             0.8888888888888888,
             "#fdca26"
            ],
            [
             1,
             "#f0f921"
            ]
           ]
          },
          "colorway": [
           "#636efa",
           "#EF553B",
           "#00cc96",
           "#ab63fa",
           "#FFA15A",
           "#19d3f3",
           "#FF6692",
           "#B6E880",
           "#FF97FF",
           "#FECB52"
          ],
          "font": {
           "color": "#2a3f5f"
          },
          "geo": {
           "bgcolor": "white",
           "lakecolor": "white",
           "landcolor": "#E5ECF6",
           "showlakes": true,
           "showland": true,
           "subunitcolor": "white"
          },
          "hoverlabel": {
           "align": "left"
          },
          "hovermode": "closest",
          "mapbox": {
           "style": "light"
          },
          "paper_bgcolor": "white",
          "plot_bgcolor": "#E5ECF6",
          "polar": {
           "angularaxis": {
            "gridcolor": "white",
            "linecolor": "white",
            "ticks": ""
           },
           "bgcolor": "#E5ECF6",
           "radialaxis": {
            "gridcolor": "white",
            "linecolor": "white",
            "ticks": ""
           }
          },
          "scene": {
           "xaxis": {
            "backgroundcolor": "#E5ECF6",
            "gridcolor": "white",
            "gridwidth": 2,
            "linecolor": "white",
            "showbackground": true,
            "ticks": "",
            "zerolinecolor": "white"
           },
           "yaxis": {
            "backgroundcolor": "#E5ECF6",
            "gridcolor": "white",
            "gridwidth": 2,
            "linecolor": "white",
            "showbackground": true,
            "ticks": "",
            "zerolinecolor": "white"
           },
           "zaxis": {
            "backgroundcolor": "#E5ECF6",
            "gridcolor": "white",
            "gridwidth": 2,
            "linecolor": "white",
            "showbackground": true,
            "ticks": "",
            "zerolinecolor": "white"
           }
          },
          "shapedefaults": {
           "line": {
            "color": "#2a3f5f"
           }
          },
          "ternary": {
           "aaxis": {
            "gridcolor": "white",
            "linecolor": "white",
            "ticks": ""
           },
           "baxis": {
            "gridcolor": "white",
            "linecolor": "white",
            "ticks": ""
           },
           "bgcolor": "#E5ECF6",
           "caxis": {
            "gridcolor": "white",
            "linecolor": "white",
            "ticks": ""
           }
          },
          "title": {
           "x": 0.05
          },
          "xaxis": {
           "automargin": true,
           "gridcolor": "white",
           "linecolor": "white",
           "ticks": "",
           "title": {
            "standoff": 15
           },
           "zerolinecolor": "white",
           "zerolinewidth": 2
          },
          "yaxis": {
           "automargin": true,
           "gridcolor": "white",
           "linecolor": "white",
           "ticks": "",
           "title": {
            "standoff": 15
           },
           "zerolinecolor": "white",
           "zerolinewidth": 2
          }
         }
        },
        "title": {
         "font": {
          "family": "Georgia",
          "size": 21
         },
         "text": "Album Song Type Distribution",
         "x": 0.14,
         "y": 0.91
        },
        "width": 700,
        "xaxis": {
         "anchor": "y",
         "domain": [
          0,
          1
         ],
         "showgrid": false,
         "title": {
          "text": "Song Type"
         }
        },
        "yaxis": {
         "anchor": "x",
         "domain": [
          0,
          1
         ],
         "showgrid": true,
         "ticksuffix": "%",
         "title": {
          "font": {
           "family": "Georgia"
          },
          "text": "Percentage"
         },
         "zeroline": true,
         "zerolinecolor": "gray",
         "zerolinewidth": 1
        }
       }
      }
     },
     "metadata": {},
     "output_type": "display_data"
    }
   ],
   "source": [
    "fig4 = px.bar(x=['Solo', 'Collab'], y=[normalized_q4.Solo.values[0] * 100.0,normalized_q4.Collab.values[0] * 100.0], title=\"Album Song Type Distribution\")\n",
    "fig4.update_layout(xaxis_title='Song Type', yaxis_title='Percentage', width=700, height=600,\n",
    "                    title=dict(x=0.14, y=0.91, font=dict(size=21, family='Georgia')),\n",
    "                    paper_bgcolor='#F4F2F0', plot_bgcolor='#F4F2F0',\n",
    "                    xaxis=dict(showgrid=False), yaxis=dict(title_font=dict(family='Georgia'), showgrid=True))\n",
    "\n",
    "fig4.update_traces(marker_line=dict(width=1, color='#1F0202'), marker_color=['#6da0f2','#b37289'])\n",
    "fig4.update_yaxes(zeroline=True, zerolinewidth=1, zerolinecolor='gray')\n",
    "fig4.update_layout(yaxis_ticksuffix = '%')\n",
    "\n",
    "#Spotify\n",
    "fig4.add_layout_image(\n",
    "    dict(\n",
    "        source=\"logo.png\",\n",
    "        xref=\"paper\",\n",
    "        yref=\"paper\",\n",
    "        x=-0.11,\n",
    "        y=1.165,\n",
    "        sizex=0.14,\n",
    "        sizey=0.14,\n",
    "        xanchor=\"left\",\n",
    "        yanchor=\"top\"\n",
    "    )\n",
    ")\n",
    "\n",
    "#Credit\n",
    "fig4.add_annotation(\n",
    "    x=1.12,  # x-coordinate of the annotation\n",
    "    y=-0.175,  # y-coordinate of the annotation\n",
    "    xref='paper',  # x-coordinate reference system\n",
    "    yref='paper',  # y-coordinate reference system\n",
    "    text='Visual Created By Bjorn S.',  # text to display\n",
    "    showarrow=False,  # hide arrow head\n",
    "    font=dict(size=16, color='#535353', family='Georgia'),  # font style\n",
    "    align='right'  # horizontal alignment\n",
    ")\n",
    "\n",
    "fig4.show()"
   ]
  },
  {
   "attachments": {},
   "cell_type": "markdown",
   "metadata": {},
   "source": [
    "This was actually surprising to see! Drake tends to feature on artists on his album's songs. Compared to another musician such as J. Cole, his likeness was built off albums that featured his voice and  his voice only. His most popular album, Forest Hills Drive went platinum with no features!\n"
   ]
  },
  {
   "cell_type": "code",
   "execution_count": 1167,
   "metadata": {},
   "outputs": [
    {
     "data": {
      "text/html": [
       "<div>\n",
       "<style scoped>\n",
       "    .dataframe tbody tr th:only-of-type {\n",
       "        vertical-align: middle;\n",
       "    }\n",
       "\n",
       "    .dataframe tbody tr th {\n",
       "        vertical-align: top;\n",
       "    }\n",
       "\n",
       "    .dataframe thead th {\n",
       "        text-align: right;\n",
       "    }\n",
       "</style>\n",
       "<table border=\"1\" class=\"dataframe\">\n",
       "  <thead>\n",
       "    <tr style=\"text-align: right;\">\n",
       "      <th></th>\n",
       "      <th>Total Solo Song Streams</th>\n",
       "      <th>Total Collab Song Streams</th>\n",
       "    </tr>\n",
       "  </thead>\n",
       "  <tbody>\n",
       "    <tr>\n",
       "      <th>0</th>\n",
       "      <td>28382783253</td>\n",
       "      <td>19209144667</td>\n",
       "    </tr>\n",
       "  </tbody>\n",
       "</table>\n",
       "</div>"
      ],
      "text/plain": [
       "   Total Solo Song Streams  Total Collab Song Streams\n",
       "0              28382783253                19209144667"
      ]
     },
     "execution_count": 1167,
     "metadata": {},
     "output_type": "execute_result"
    }
   ],
   "source": [
    "q5_query =  '''SELECT SUM(CASE WHEN [Artist 2] IS NULL THEN Plays END) AS [Total Solo Song Streams],\n",
    "                SUM(CASE WHEN [Artist 2] IS NOT NULL THEN Plays END) AS [Total Collab Song Streams]\n",
    "                FROM data'''\n",
    "\n",
    "q5 = pysqldf(q5_query)\n",
    "\n",
    "q5"
   ]
  },
  {
   "cell_type": "code",
   "execution_count": 1174,
   "metadata": {},
   "outputs": [
    {
     "data": {
      "application/vnd.plotly.v1+json": {
       "config": {
        "plotlyServerURL": "https://plot.ly"
       },
       "data": [
        {
         "alignmentgroup": "True",
         "hovertemplate": "x=%{x}<br>y=%{y}<extra></extra>",
         "legendgroup": "",
         "marker": {
          "color": [
           "#6da0f2",
           "#b37289"
          ],
          "line": {
           "color": "#1F0202",
           "width": 1
          },
          "pattern": {
           "shape": ""
          }
         },
         "name": "",
         "offsetgroup": "",
         "orientation": "v",
         "showlegend": false,
         "textposition": "auto",
         "type": "bar",
         "x": [
          "Solo",
          "Collab"
         ],
         "xaxis": "x",
         "y": [
          28382783253,
          19209144667
         ],
         "yaxis": "y"
        }
       ],
       "layout": {
        "annotations": [
         {
          "align": "right",
          "font": {
           "color": "#535353",
           "family": "Georgia",
           "size": 16
          },
          "showarrow": false,
          "text": "Visual Created By Bjorn S.",
          "x": 1.12,
          "xref": "paper",
          "y": -0.175,
          "yref": "paper"
         }
        ],
        "barmode": "relative",
        "height": 600,
        "images": [
         {
          "sizex": 0.14,
          "sizey": 0.14,
          "source": "logo.png",
          "x": -0.11,
          "xanchor": "left",
          "xref": "paper",
          "y": 1.165,
          "yanchor": "top",
          "yref": "paper"
         }
        ],
        "legend": {
         "tracegroupgap": 0
        },
        "paper_bgcolor": "#F4F2F0",
        "plot_bgcolor": "#F4F2F0",
        "template": {
         "data": {
          "bar": [
           {
            "error_x": {
             "color": "#2a3f5f"
            },
            "error_y": {
             "color": "#2a3f5f"
            },
            "marker": {
             "line": {
              "color": "#E5ECF6",
              "width": 0.5
             },
             "pattern": {
              "fillmode": "overlay",
              "size": 10,
              "solidity": 0.2
             }
            },
            "type": "bar"
           }
          ],
          "barpolar": [
           {
            "marker": {
             "line": {
              "color": "#E5ECF6",
              "width": 0.5
             },
             "pattern": {
              "fillmode": "overlay",
              "size": 10,
              "solidity": 0.2
             }
            },
            "type": "barpolar"
           }
          ],
          "carpet": [
           {
            "aaxis": {
             "endlinecolor": "#2a3f5f",
             "gridcolor": "white",
             "linecolor": "white",
             "minorgridcolor": "white",
             "startlinecolor": "#2a3f5f"
            },
            "baxis": {
             "endlinecolor": "#2a3f5f",
             "gridcolor": "white",
             "linecolor": "white",
             "minorgridcolor": "white",
             "startlinecolor": "#2a3f5f"
            },
            "type": "carpet"
           }
          ],
          "choropleth": [
           {
            "colorbar": {
             "outlinewidth": 0,
             "ticks": ""
            },
            "type": "choropleth"
           }
          ],
          "contour": [
           {
            "colorbar": {
             "outlinewidth": 0,
             "ticks": ""
            },
            "colorscale": [
             [
              0,
              "#0d0887"
             ],
             [
              0.1111111111111111,
              "#46039f"
             ],
             [
              0.2222222222222222,
              "#7201a8"
             ],
             [
              0.3333333333333333,
              "#9c179e"
             ],
             [
              0.4444444444444444,
              "#bd3786"
             ],
             [
              0.5555555555555556,
              "#d8576b"
             ],
             [
              0.6666666666666666,
              "#ed7953"
             ],
             [
              0.7777777777777778,
              "#fb9f3a"
             ],
             [
              0.8888888888888888,
              "#fdca26"
             ],
             [
              1,
              "#f0f921"
             ]
            ],
            "type": "contour"
           }
          ],
          "contourcarpet": [
           {
            "colorbar": {
             "outlinewidth": 0,
             "ticks": ""
            },
            "type": "contourcarpet"
           }
          ],
          "heatmap": [
           {
            "colorbar": {
             "outlinewidth": 0,
             "ticks": ""
            },
            "colorscale": [
             [
              0,
              "#0d0887"
             ],
             [
              0.1111111111111111,
              "#46039f"
             ],
             [
              0.2222222222222222,
              "#7201a8"
             ],
             [
              0.3333333333333333,
              "#9c179e"
             ],
             [
              0.4444444444444444,
              "#bd3786"
             ],
             [
              0.5555555555555556,
              "#d8576b"
             ],
             [
              0.6666666666666666,
              "#ed7953"
             ],
             [
              0.7777777777777778,
              "#fb9f3a"
             ],
             [
              0.8888888888888888,
              "#fdca26"
             ],
             [
              1,
              "#f0f921"
             ]
            ],
            "type": "heatmap"
           }
          ],
          "heatmapgl": [
           {
            "colorbar": {
             "outlinewidth": 0,
             "ticks": ""
            },
            "colorscale": [
             [
              0,
              "#0d0887"
             ],
             [
              0.1111111111111111,
              "#46039f"
             ],
             [
              0.2222222222222222,
              "#7201a8"
             ],
             [
              0.3333333333333333,
              "#9c179e"
             ],
             [
              0.4444444444444444,
              "#bd3786"
             ],
             [
              0.5555555555555556,
              "#d8576b"
             ],
             [
              0.6666666666666666,
              "#ed7953"
             ],
             [
              0.7777777777777778,
              "#fb9f3a"
             ],
             [
              0.8888888888888888,
              "#fdca26"
             ],
             [
              1,
              "#f0f921"
             ]
            ],
            "type": "heatmapgl"
           }
          ],
          "histogram": [
           {
            "marker": {
             "pattern": {
              "fillmode": "overlay",
              "size": 10,
              "solidity": 0.2
             }
            },
            "type": "histogram"
           }
          ],
          "histogram2d": [
           {
            "colorbar": {
             "outlinewidth": 0,
             "ticks": ""
            },
            "colorscale": [
             [
              0,
              "#0d0887"
             ],
             [
              0.1111111111111111,
              "#46039f"
             ],
             [
              0.2222222222222222,
              "#7201a8"
             ],
             [
              0.3333333333333333,
              "#9c179e"
             ],
             [
              0.4444444444444444,
              "#bd3786"
             ],
             [
              0.5555555555555556,
              "#d8576b"
             ],
             [
              0.6666666666666666,
              "#ed7953"
             ],
             [
              0.7777777777777778,
              "#fb9f3a"
             ],
             [
              0.8888888888888888,
              "#fdca26"
             ],
             [
              1,
              "#f0f921"
             ]
            ],
            "type": "histogram2d"
           }
          ],
          "histogram2dcontour": [
           {
            "colorbar": {
             "outlinewidth": 0,
             "ticks": ""
            },
            "colorscale": [
             [
              0,
              "#0d0887"
             ],
             [
              0.1111111111111111,
              "#46039f"
             ],
             [
              0.2222222222222222,
              "#7201a8"
             ],
             [
              0.3333333333333333,
              "#9c179e"
             ],
             [
              0.4444444444444444,
              "#bd3786"
             ],
             [
              0.5555555555555556,
              "#d8576b"
             ],
             [
              0.6666666666666666,
              "#ed7953"
             ],
             [
              0.7777777777777778,
              "#fb9f3a"
             ],
             [
              0.8888888888888888,
              "#fdca26"
             ],
             [
              1,
              "#f0f921"
             ]
            ],
            "type": "histogram2dcontour"
           }
          ],
          "mesh3d": [
           {
            "colorbar": {
             "outlinewidth": 0,
             "ticks": ""
            },
            "type": "mesh3d"
           }
          ],
          "parcoords": [
           {
            "line": {
             "colorbar": {
              "outlinewidth": 0,
              "ticks": ""
             }
            },
            "type": "parcoords"
           }
          ],
          "pie": [
           {
            "automargin": true,
            "type": "pie"
           }
          ],
          "scatter": [
           {
            "fillpattern": {
             "fillmode": "overlay",
             "size": 10,
             "solidity": 0.2
            },
            "type": "scatter"
           }
          ],
          "scatter3d": [
           {
            "line": {
             "colorbar": {
              "outlinewidth": 0,
              "ticks": ""
             }
            },
            "marker": {
             "colorbar": {
              "outlinewidth": 0,
              "ticks": ""
             }
            },
            "type": "scatter3d"
           }
          ],
          "scattercarpet": [
           {
            "marker": {
             "colorbar": {
              "outlinewidth": 0,
              "ticks": ""
             }
            },
            "type": "scattercarpet"
           }
          ],
          "scattergeo": [
           {
            "marker": {
             "colorbar": {
              "outlinewidth": 0,
              "ticks": ""
             }
            },
            "type": "scattergeo"
           }
          ],
          "scattergl": [
           {
            "marker": {
             "colorbar": {
              "outlinewidth": 0,
              "ticks": ""
             }
            },
            "type": "scattergl"
           }
          ],
          "scattermapbox": [
           {
            "marker": {
             "colorbar": {
              "outlinewidth": 0,
              "ticks": ""
             }
            },
            "type": "scattermapbox"
           }
          ],
          "scatterpolar": [
           {
            "marker": {
             "colorbar": {
              "outlinewidth": 0,
              "ticks": ""
             }
            },
            "type": "scatterpolar"
           }
          ],
          "scatterpolargl": [
           {
            "marker": {
             "colorbar": {
              "outlinewidth": 0,
              "ticks": ""
             }
            },
            "type": "scatterpolargl"
           }
          ],
          "scatterternary": [
           {
            "marker": {
             "colorbar": {
              "outlinewidth": 0,
              "ticks": ""
             }
            },
            "type": "scatterternary"
           }
          ],
          "surface": [
           {
            "colorbar": {
             "outlinewidth": 0,
             "ticks": ""
            },
            "colorscale": [
             [
              0,
              "#0d0887"
             ],
             [
              0.1111111111111111,
              "#46039f"
             ],
             [
              0.2222222222222222,
              "#7201a8"
             ],
             [
              0.3333333333333333,
              "#9c179e"
             ],
             [
              0.4444444444444444,
              "#bd3786"
             ],
             [
              0.5555555555555556,
              "#d8576b"
             ],
             [
              0.6666666666666666,
              "#ed7953"
             ],
             [
              0.7777777777777778,
              "#fb9f3a"
             ],
             [
              0.8888888888888888,
              "#fdca26"
             ],
             [
              1,
              "#f0f921"
             ]
            ],
            "type": "surface"
           }
          ],
          "table": [
           {
            "cells": {
             "fill": {
              "color": "#EBF0F8"
             },
             "line": {
              "color": "white"
             }
            },
            "header": {
             "fill": {
              "color": "#C8D4E3"
             },
             "line": {
              "color": "white"
             }
            },
            "type": "table"
           }
          ]
         },
         "layout": {
          "annotationdefaults": {
           "arrowcolor": "#2a3f5f",
           "arrowhead": 0,
           "arrowwidth": 1
          },
          "autotypenumbers": "strict",
          "coloraxis": {
           "colorbar": {
            "outlinewidth": 0,
            "ticks": ""
           }
          },
          "colorscale": {
           "diverging": [
            [
             0,
             "#8e0152"
            ],
            [
             0.1,
             "#c51b7d"
            ],
            [
             0.2,
             "#de77ae"
            ],
            [
             0.3,
             "#f1b6da"
            ],
            [
             0.4,
             "#fde0ef"
            ],
            [
             0.5,
             "#f7f7f7"
            ],
            [
             0.6,
             "#e6f5d0"
            ],
            [
             0.7,
             "#b8e186"
            ],
            [
             0.8,
             "#7fbc41"
            ],
            [
             0.9,
             "#4d9221"
            ],
            [
             1,
             "#276419"
            ]
           ],
           "sequential": [
            [
             0,
             "#0d0887"
            ],
            [
             0.1111111111111111,
             "#46039f"
            ],
            [
             0.2222222222222222,
             "#7201a8"
            ],
            [
             0.3333333333333333,
             "#9c179e"
            ],
            [
             0.4444444444444444,
             "#bd3786"
            ],
            [
             0.5555555555555556,
             "#d8576b"
            ],
            [
             0.6666666666666666,
             "#ed7953"
            ],
            [
             0.7777777777777778,
             "#fb9f3a"
            ],
            [
             0.8888888888888888,
             "#fdca26"
            ],
            [
             1,
             "#f0f921"
            ]
           ],
           "sequentialminus": [
            [
             0,
             "#0d0887"
            ],
            [
             0.1111111111111111,
             "#46039f"
            ],
            [
             0.2222222222222222,
             "#7201a8"
            ],
            [
             0.3333333333333333,
             "#9c179e"
            ],
            [
             0.4444444444444444,
             "#bd3786"
            ],
            [
             0.5555555555555556,
             "#d8576b"
            ],
            [
             0.6666666666666666,
             "#ed7953"
            ],
            [
             0.7777777777777778,
             "#fb9f3a"
            ],
            [
             0.8888888888888888,
             "#fdca26"
            ],
            [
             1,
             "#f0f921"
            ]
           ]
          },
          "colorway": [
           "#636efa",
           "#EF553B",
           "#00cc96",
           "#ab63fa",
           "#FFA15A",
           "#19d3f3",
           "#FF6692",
           "#B6E880",
           "#FF97FF",
           "#FECB52"
          ],
          "font": {
           "color": "#2a3f5f"
          },
          "geo": {
           "bgcolor": "white",
           "lakecolor": "white",
           "landcolor": "#E5ECF6",
           "showlakes": true,
           "showland": true,
           "subunitcolor": "white"
          },
          "hoverlabel": {
           "align": "left"
          },
          "hovermode": "closest",
          "mapbox": {
           "style": "light"
          },
          "paper_bgcolor": "white",
          "plot_bgcolor": "#E5ECF6",
          "polar": {
           "angularaxis": {
            "gridcolor": "white",
            "linecolor": "white",
            "ticks": ""
           },
           "bgcolor": "#E5ECF6",
           "radialaxis": {
            "gridcolor": "white",
            "linecolor": "white",
            "ticks": ""
           }
          },
          "scene": {
           "xaxis": {
            "backgroundcolor": "#E5ECF6",
            "gridcolor": "white",
            "gridwidth": 2,
            "linecolor": "white",
            "showbackground": true,
            "ticks": "",
            "zerolinecolor": "white"
           },
           "yaxis": {
            "backgroundcolor": "#E5ECF6",
            "gridcolor": "white",
            "gridwidth": 2,
            "linecolor": "white",
            "showbackground": true,
            "ticks": "",
            "zerolinecolor": "white"
           },
           "zaxis": {
            "backgroundcolor": "#E5ECF6",
            "gridcolor": "white",
            "gridwidth": 2,
            "linecolor": "white",
            "showbackground": true,
            "ticks": "",
            "zerolinecolor": "white"
           }
          },
          "shapedefaults": {
           "line": {
            "color": "#2a3f5f"
           }
          },
          "ternary": {
           "aaxis": {
            "gridcolor": "white",
            "linecolor": "white",
            "ticks": ""
           },
           "baxis": {
            "gridcolor": "white",
            "linecolor": "white",
            "ticks": ""
           },
           "bgcolor": "#E5ECF6",
           "caxis": {
            "gridcolor": "white",
            "linecolor": "white",
            "ticks": ""
           }
          },
          "title": {
           "x": 0.05
          },
          "xaxis": {
           "automargin": true,
           "gridcolor": "white",
           "linecolor": "white",
           "ticks": "",
           "title": {
            "standoff": 15
           },
           "zerolinecolor": "white",
           "zerolinewidth": 2
          },
          "yaxis": {
           "automargin": true,
           "gridcolor": "white",
           "linecolor": "white",
           "ticks": "",
           "title": {
            "standoff": 15
           },
           "zerolinecolor": "white",
           "zerolinewidth": 2
          }
         }
        },
        "title": {
         "font": {
          "family": "Georgia",
          "size": 21
         },
         "text": "Total Streams By Song Type",
         "x": 0.14,
         "y": 0.91
        },
        "width": 700,
        "xaxis": {
         "anchor": "y",
         "domain": [
          0,
          1
         ],
         "showgrid": false,
         "title": {}
        },
        "yaxis": {
         "anchor": "x",
         "domain": [
          0,
          1
         ],
         "showgrid": true,
         "title": {
          "font": {
           "family": "Georgia"
          },
          "text": "Streams (in Billions)"
         },
         "zeroline": true,
         "zerolinecolor": "gray",
         "zerolinewidth": 1
        }
       }
      }
     },
     "metadata": {},
     "output_type": "display_data"
    }
   ],
   "source": [
    "fig5 = px.bar(x=['Solo', 'Collab'], y=[q5['Total Solo Song Streams'].iloc[0], q5['Total Collab Song Streams'].iloc[0]], title=\"Total Streams By Song Type\")\n",
    "fig5.update_layout(xaxis_title=None, yaxis_title='Streams (in Billions)', width=700, height=600,\n",
    "                    title=dict(x=0.14, y=0.91, font=dict(size=21, family='Georgia')),\n",
    "                    paper_bgcolor='#F4F2F0', plot_bgcolor='#F4F2F0',\n",
    "                    xaxis=dict(showgrid=False), yaxis=dict(title_font=dict(family='Georgia'), showgrid=True))\n",
    "\n",
    "fig5.update_traces(marker_line=dict(width=1, color='#1F0202'), marker_color=['#6da0f2','#b37289'])\n",
    "fig5.update_yaxes(zeroline=True, zerolinewidth=1, zerolinecolor='gray')\n",
    "\n",
    "#Spotify\n",
    "fig5.add_layout_image(\n",
    "    dict(\n",
    "        source=\"logo.png\",\n",
    "        xref=\"paper\",\n",
    "        yref=\"paper\",\n",
    "        x=-0.11,\n",
    "        y=1.165,\n",
    "        sizex=0.14,\n",
    "        sizey=0.14,\n",
    "        xanchor=\"left\",\n",
    "        yanchor=\"top\"\n",
    "    )\n",
    ")\n",
    "\n",
    "#Credit\n",
    "fig5.add_annotation(\n",
    "    x=1.12,  # x-coordinate of the annotation\n",
    "    y=-0.175,  # y-coordinate of the annotation\n",
    "    xref='paper',  # x-coordinate reference system\n",
    "    yref='paper',  # y-coordinate reference system\n",
    "    text='Visual Created By Bjorn S.',  # text to display\n",
    "    showarrow=False,  # hide arrow head\n",
    "    font=dict(size=16, color='#535353', family='Georgia'),  # font style\n",
    "    align='right'  # horizontal alignment\n",
    ")\n",
    "\n",
    "fig5.show()"
   ]
  },
  {
   "attachments": {},
   "cell_type": "markdown",
   "metadata": {},
   "source": [
    "Songs featuring just Drake surpass total streams featuring one or more artists on album songs!\n",
    "\n",
    "But let's get more granular than this. Let's see how streams perform for each of his albums."
   ]
  },
  {
   "cell_type": "code",
   "execution_count": 1194,
   "metadata": {},
   "outputs": [],
   "source": [
    "q6_query = '''SELECT Album,\n",
    "  AVG(CASE WHEN [Artist 2] IS NULL THEN Plays ELSE NULL END) AS [Average Solo Track Streams],\n",
    "  AVG(CASE WHEN [Artist 2] IS NOT NULL THEN Plays ELSE NULL END) AS [Average Collab Track Streams]\n",
    "FROM data\n",
    "GROUP BY Album\n",
    "'''\n",
    "\n",
    "\n",
    "q6 = pysqldf(q6_query)"
   ]
  },
  {
   "cell_type": "code",
   "execution_count": 1342,
   "metadata": {},
   "outputs": [
    {
     "data": {
      "application/vnd.plotly.v1+json": {
       "config": {
        "plotlyServerURL": "https://plot.ly"
       },
       "data": [
        {
         "alignmentgroup": "True",
         "hovertemplate": "variable=Average Solo Track Streams<br>Album=%{x}<br>value=%{y}<extra></extra>",
         "legendgroup": "Average Solo Track Streams",
         "marker": {
          "color": "#636efa",
          "line": {
           "color": "grey",
           "width": 1
          },
          "pattern": {
           "shape": ""
          }
         },
         "name": "Average Solo Track Streams",
         "offsetgroup": "Average Solo Track Streams",
         "orientation": "v",
         "showlegend": true,
         "textposition": "auto",
         "type": "bar",
         "x": [
          "Care Package",
          "Certified Lover Boy",
          "Dark Lane Demo Tapes",
          "Her Loss",
          "Honestly, Nevermind",
          "If You're Reading This It's Too Late",
          "More Life",
          "Nothing Was The Same (Deluxe)",
          "Scorpion",
          "So Far Gone",
          "Take Care (Deluxe)",
          "Thank Me Later",
          "Views",
          "What A Time To Be Alive"
         ],
         "xaxis": "x",
         "y": [
          45630254.571428575,
          108284690.8888889,
          182973348.125,
          51578071.6,
          62279023.23076923,
          198443423.30769232,
          341669356,
          157524824.55555555,
          374804935.09090906,
          78210906.77777778,
          195223279.8,
          70382650,
          303030992.9285714,
          80975746
         ],
         "yaxis": "y"
        },
        {
         "alignmentgroup": "True",
         "hovertemplate": "variable=Average Collab Track Streams<br>Album=%{x}<br>value=%{y}<extra></extra>",
         "legendgroup": "Average Collab Track Streams",
         "marker": {
          "color": "#EF553B",
          "line": {
           "color": "grey",
           "width": 1
          },
          "pattern": {
           "shape": ""
          }
         },
         "name": "Average Collab Track Streams",
         "offsetgroup": "Average Collab Track Streams",
         "orientation": "v",
         "showlegend": true,
         "textposition": "auto",
         "type": "bar",
         "x": [
          "Care Package",
          "Certified Lover Boy",
          "Dark Lane Demo Tapes",
          "Her Loss",
          "Honestly, Nevermind",
          "If You're Reading This It's Too Late",
          "More Life",
          "Nothing Was The Same (Deluxe)",
          "Scorpion",
          "So Far Gone",
          "Take Care (Deluxe)",
          "Thank Me Later",
          "Views",
          "What A Time To Be Alive"
         ],
         "xaxis": "x",
         "y": [
          25533947,
          231075163.75,
          177877942,
          137708162.9090909,
          508089150,
          105050574.75,
          179155472.55555555,
          337212190,
          222593899,
          26780948.777777776,
          223553209.66666666,
          71269733,
          682001785.3333334,
          189103512.1111111
         ],
         "yaxis": "y"
        }
       ],
       "layout": {
        "annotations": [
         {
          "align": "right",
          "font": {
           "color": "#535353",
           "family": "Georgia",
           "size": 16
          },
          "showarrow": false,
          "text": "Visual Created By Bjorn S.",
          "x": 1.4,
          "xref": "paper",
          "y": -0.24,
          "yref": "paper"
         }
        ],
        "bargap": 0.6,
        "barmode": "group",
        "height": 900,
        "images": [
         {
          "sizex": 0.13,
          "sizey": 0.13,
          "source": "logo.png",
          "x": -0.099,
          "xanchor": "left",
          "xref": "paper",
          "y": 1.135,
          "yanchor": "top",
          "yref": "paper"
         }
        ],
        "legend": {
         "title": {},
         "tracegroupgap": 0
        },
        "paper_bgcolor": "#F4F2F0",
        "plot_bgcolor": "#F4F2F0",
        "template": {
         "data": {
          "bar": [
           {
            "error_x": {
             "color": "#2a3f5f"
            },
            "error_y": {
             "color": "#2a3f5f"
            },
            "marker": {
             "line": {
              "color": "#E5ECF6",
              "width": 0.5
             },
             "pattern": {
              "fillmode": "overlay",
              "size": 10,
              "solidity": 0.2
             }
            },
            "type": "bar"
           }
          ],
          "barpolar": [
           {
            "marker": {
             "line": {
              "color": "#E5ECF6",
              "width": 0.5
             },
             "pattern": {
              "fillmode": "overlay",
              "size": 10,
              "solidity": 0.2
             }
            },
            "type": "barpolar"
           }
          ],
          "carpet": [
           {
            "aaxis": {
             "endlinecolor": "#2a3f5f",
             "gridcolor": "white",
             "linecolor": "white",
             "minorgridcolor": "white",
             "startlinecolor": "#2a3f5f"
            },
            "baxis": {
             "endlinecolor": "#2a3f5f",
             "gridcolor": "white",
             "linecolor": "white",
             "minorgridcolor": "white",
             "startlinecolor": "#2a3f5f"
            },
            "type": "carpet"
           }
          ],
          "choropleth": [
           {
            "colorbar": {
             "outlinewidth": 0,
             "ticks": ""
            },
            "type": "choropleth"
           }
          ],
          "contour": [
           {
            "colorbar": {
             "outlinewidth": 0,
             "ticks": ""
            },
            "colorscale": [
             [
              0,
              "#0d0887"
             ],
             [
              0.1111111111111111,
              "#46039f"
             ],
             [
              0.2222222222222222,
              "#7201a8"
             ],
             [
              0.3333333333333333,
              "#9c179e"
             ],
             [
              0.4444444444444444,
              "#bd3786"
             ],
             [
              0.5555555555555556,
              "#d8576b"
             ],
             [
              0.6666666666666666,
              "#ed7953"
             ],
             [
              0.7777777777777778,
              "#fb9f3a"
             ],
             [
              0.8888888888888888,
              "#fdca26"
             ],
             [
              1,
              "#f0f921"
             ]
            ],
            "type": "contour"
           }
          ],
          "contourcarpet": [
           {
            "colorbar": {
             "outlinewidth": 0,
             "ticks": ""
            },
            "type": "contourcarpet"
           }
          ],
          "heatmap": [
           {
            "colorbar": {
             "outlinewidth": 0,
             "ticks": ""
            },
            "colorscale": [
             [
              0,
              "#0d0887"
             ],
             [
              0.1111111111111111,
              "#46039f"
             ],
             [
              0.2222222222222222,
              "#7201a8"
             ],
             [
              0.3333333333333333,
              "#9c179e"
             ],
             [
              0.4444444444444444,
              "#bd3786"
             ],
             [
              0.5555555555555556,
              "#d8576b"
             ],
             [
              0.6666666666666666,
              "#ed7953"
             ],
             [
              0.7777777777777778,
              "#fb9f3a"
             ],
             [
              0.8888888888888888,
              "#fdca26"
             ],
             [
              1,
              "#f0f921"
             ]
            ],
            "type": "heatmap"
           }
          ],
          "heatmapgl": [
           {
            "colorbar": {
             "outlinewidth": 0,
             "ticks": ""
            },
            "colorscale": [
             [
              0,
              "#0d0887"
             ],
             [
              0.1111111111111111,
              "#46039f"
             ],
             [
              0.2222222222222222,
              "#7201a8"
             ],
             [
              0.3333333333333333,
              "#9c179e"
             ],
             [
              0.4444444444444444,
              "#bd3786"
             ],
             [
              0.5555555555555556,
              "#d8576b"
             ],
             [
              0.6666666666666666,
              "#ed7953"
             ],
             [
              0.7777777777777778,
              "#fb9f3a"
             ],
             [
              0.8888888888888888,
              "#fdca26"
             ],
             [
              1,
              "#f0f921"
             ]
            ],
            "type": "heatmapgl"
           }
          ],
          "histogram": [
           {
            "marker": {
             "pattern": {
              "fillmode": "overlay",
              "size": 10,
              "solidity": 0.2
             }
            },
            "type": "histogram"
           }
          ],
          "histogram2d": [
           {
            "colorbar": {
             "outlinewidth": 0,
             "ticks": ""
            },
            "colorscale": [
             [
              0,
              "#0d0887"
             ],
             [
              0.1111111111111111,
              "#46039f"
             ],
             [
              0.2222222222222222,
              "#7201a8"
             ],
             [
              0.3333333333333333,
              "#9c179e"
             ],
             [
              0.4444444444444444,
              "#bd3786"
             ],
             [
              0.5555555555555556,
              "#d8576b"
             ],
             [
              0.6666666666666666,
              "#ed7953"
             ],
             [
              0.7777777777777778,
              "#fb9f3a"
             ],
             [
              0.8888888888888888,
              "#fdca26"
             ],
             [
              1,
              "#f0f921"
             ]
            ],
            "type": "histogram2d"
           }
          ],
          "histogram2dcontour": [
           {
            "colorbar": {
             "outlinewidth": 0,
             "ticks": ""
            },
            "colorscale": [
             [
              0,
              "#0d0887"
             ],
             [
              0.1111111111111111,
              "#46039f"
             ],
             [
              0.2222222222222222,
              "#7201a8"
             ],
             [
              0.3333333333333333,
              "#9c179e"
             ],
             [
              0.4444444444444444,
              "#bd3786"
             ],
             [
              0.5555555555555556,
              "#d8576b"
             ],
             [
              0.6666666666666666,
              "#ed7953"
             ],
             [
              0.7777777777777778,
              "#fb9f3a"
             ],
             [
              0.8888888888888888,
              "#fdca26"
             ],
             [
              1,
              "#f0f921"
             ]
            ],
            "type": "histogram2dcontour"
           }
          ],
          "mesh3d": [
           {
            "colorbar": {
             "outlinewidth": 0,
             "ticks": ""
            },
            "type": "mesh3d"
           }
          ],
          "parcoords": [
           {
            "line": {
             "colorbar": {
              "outlinewidth": 0,
              "ticks": ""
             }
            },
            "type": "parcoords"
           }
          ],
          "pie": [
           {
            "automargin": true,
            "type": "pie"
           }
          ],
          "scatter": [
           {
            "fillpattern": {
             "fillmode": "overlay",
             "size": 10,
             "solidity": 0.2
            },
            "type": "scatter"
           }
          ],
          "scatter3d": [
           {
            "line": {
             "colorbar": {
              "outlinewidth": 0,
              "ticks": ""
             }
            },
            "marker": {
             "colorbar": {
              "outlinewidth": 0,
              "ticks": ""
             }
            },
            "type": "scatter3d"
           }
          ],
          "scattercarpet": [
           {
            "marker": {
             "colorbar": {
              "outlinewidth": 0,
              "ticks": ""
             }
            },
            "type": "scattercarpet"
           }
          ],
          "scattergeo": [
           {
            "marker": {
             "colorbar": {
              "outlinewidth": 0,
              "ticks": ""
             }
            },
            "type": "scattergeo"
           }
          ],
          "scattergl": [
           {
            "marker": {
             "colorbar": {
              "outlinewidth": 0,
              "ticks": ""
             }
            },
            "type": "scattergl"
           }
          ],
          "scattermapbox": [
           {
            "marker": {
             "colorbar": {
              "outlinewidth": 0,
              "ticks": ""
             }
            },
            "type": "scattermapbox"
           }
          ],
          "scatterpolar": [
           {
            "marker": {
             "colorbar": {
              "outlinewidth": 0,
              "ticks": ""
             }
            },
            "type": "scatterpolar"
           }
          ],
          "scatterpolargl": [
           {
            "marker": {
             "colorbar": {
              "outlinewidth": 0,
              "ticks": ""
             }
            },
            "type": "scatterpolargl"
           }
          ],
          "scatterternary": [
           {
            "marker": {
             "colorbar": {
              "outlinewidth": 0,
              "ticks": ""
             }
            },
            "type": "scatterternary"
           }
          ],
          "surface": [
           {
            "colorbar": {
             "outlinewidth": 0,
             "ticks": ""
            },
            "colorscale": [
             [
              0,
              "#0d0887"
             ],
             [
              0.1111111111111111,
              "#46039f"
             ],
             [
              0.2222222222222222,
              "#7201a8"
             ],
             [
              0.3333333333333333,
              "#9c179e"
             ],
             [
              0.4444444444444444,
              "#bd3786"
             ],
             [
              0.5555555555555556,
              "#d8576b"
             ],
             [
              0.6666666666666666,
              "#ed7953"
             ],
             [
              0.7777777777777778,
              "#fb9f3a"
             ],
             [
              0.8888888888888888,
              "#fdca26"
             ],
             [
              1,
              "#f0f921"
             ]
            ],
            "type": "surface"
           }
          ],
          "table": [
           {
            "cells": {
             "fill": {
              "color": "#EBF0F8"
             },
             "line": {
              "color": "white"
             }
            },
            "header": {
             "fill": {
              "color": "#C8D4E3"
             },
             "line": {
              "color": "white"
             }
            },
            "type": "table"
           }
          ]
         },
         "layout": {
          "annotationdefaults": {
           "arrowcolor": "#2a3f5f",
           "arrowhead": 0,
           "arrowwidth": 1
          },
          "autotypenumbers": "strict",
          "coloraxis": {
           "colorbar": {
            "outlinewidth": 0,
            "ticks": ""
           }
          },
          "colorscale": {
           "diverging": [
            [
             0,
             "#8e0152"
            ],
            [
             0.1,
             "#c51b7d"
            ],
            [
             0.2,
             "#de77ae"
            ],
            [
             0.3,
             "#f1b6da"
            ],
            [
             0.4,
             "#fde0ef"
            ],
            [
             0.5,
             "#f7f7f7"
            ],
            [
             0.6,
             "#e6f5d0"
            ],
            [
             0.7,
             "#b8e186"
            ],
            [
             0.8,
             "#7fbc41"
            ],
            [
             0.9,
             "#4d9221"
            ],
            [
             1,
             "#276419"
            ]
           ],
           "sequential": [
            [
             0,
             "#0d0887"
            ],
            [
             0.1111111111111111,
             "#46039f"
            ],
            [
             0.2222222222222222,
             "#7201a8"
            ],
            [
             0.3333333333333333,
             "#9c179e"
            ],
            [
             0.4444444444444444,
             "#bd3786"
            ],
            [
             0.5555555555555556,
             "#d8576b"
            ],
            [
             0.6666666666666666,
             "#ed7953"
            ],
            [
             0.7777777777777778,
             "#fb9f3a"
            ],
            [
             0.8888888888888888,
             "#fdca26"
            ],
            [
             1,
             "#f0f921"
            ]
           ],
           "sequentialminus": [
            [
             0,
             "#0d0887"
            ],
            [
             0.1111111111111111,
             "#46039f"
            ],
            [
             0.2222222222222222,
             "#7201a8"
            ],
            [
             0.3333333333333333,
             "#9c179e"
            ],
            [
             0.4444444444444444,
             "#bd3786"
            ],
            [
             0.5555555555555556,
             "#d8576b"
            ],
            [
             0.6666666666666666,
             "#ed7953"
            ],
            [
             0.7777777777777778,
             "#fb9f3a"
            ],
            [
             0.8888888888888888,
             "#fdca26"
            ],
            [
             1,
             "#f0f921"
            ]
           ]
          },
          "colorway": [
           "#636efa",
           "#EF553B",
           "#00cc96",
           "#ab63fa",
           "#FFA15A",
           "#19d3f3",
           "#FF6692",
           "#B6E880",
           "#FF97FF",
           "#FECB52"
          ],
          "font": {
           "color": "#2a3f5f"
          },
          "geo": {
           "bgcolor": "white",
           "lakecolor": "white",
           "landcolor": "#E5ECF6",
           "showlakes": true,
           "showland": true,
           "subunitcolor": "white"
          },
          "hoverlabel": {
           "align": "left"
          },
          "hovermode": "closest",
          "mapbox": {
           "style": "light"
          },
          "paper_bgcolor": "white",
          "plot_bgcolor": "#E5ECF6",
          "polar": {
           "angularaxis": {
            "gridcolor": "white",
            "linecolor": "white",
            "ticks": ""
           },
           "bgcolor": "#E5ECF6",
           "radialaxis": {
            "gridcolor": "white",
            "linecolor": "white",
            "ticks": ""
           }
          },
          "scene": {
           "xaxis": {
            "backgroundcolor": "#E5ECF6",
            "gridcolor": "white",
            "gridwidth": 2,
            "linecolor": "white",
            "showbackground": true,
            "ticks": "",
            "zerolinecolor": "white"
           },
           "yaxis": {
            "backgroundcolor": "#E5ECF6",
            "gridcolor": "white",
            "gridwidth": 2,
            "linecolor": "white",
            "showbackground": true,
            "ticks": "",
            "zerolinecolor": "white"
           },
           "zaxis": {
            "backgroundcolor": "#E5ECF6",
            "gridcolor": "white",
            "gridwidth": 2,
            "linecolor": "white",
            "showbackground": true,
            "ticks": "",
            "zerolinecolor": "white"
           }
          },
          "shapedefaults": {
           "line": {
            "color": "#2a3f5f"
           }
          },
          "ternary": {
           "aaxis": {
            "gridcolor": "white",
            "linecolor": "white",
            "ticks": ""
           },
           "baxis": {
            "gridcolor": "white",
            "linecolor": "white",
            "ticks": ""
           },
           "bgcolor": "#E5ECF6",
           "caxis": {
            "gridcolor": "white",
            "linecolor": "white",
            "ticks": ""
           }
          },
          "title": {
           "x": 0.05
          },
          "xaxis": {
           "automargin": true,
           "gridcolor": "white",
           "linecolor": "white",
           "ticks": "",
           "title": {
            "standoff": 15
           },
           "zerolinecolor": "white",
           "zerolinewidth": 2
          },
          "yaxis": {
           "automargin": true,
           "gridcolor": "white",
           "linecolor": "white",
           "ticks": "",
           "title": {
            "standoff": 15
           },
           "zerolinecolor": "white",
           "zerolinewidth": 2
          }
         }
        },
        "title": {
         "font": {
          "family": "Georgia",
          "size": 24
         },
         "text": "Song Performance By Type",
         "x": 0.17,
         "y": 0.945
        },
        "width": 900,
        "xaxis": {
         "anchor": "y",
         "domain": [
          0,
          1
         ],
         "showgrid": false,
         "tickangle": -45,
         "tickfont": {
          "size": 11
         },
         "title": {}
        },
        "yaxis": {
         "anchor": "x",
         "domain": [
          0,
          1
         ],
         "showgrid": true,
         "title": {
          "text": "Total Streams (Millions)"
         }
        }
       }
      }
     },
     "metadata": {},
     "output_type": "display_data"
    }
   ],
   "source": [
    "fig7 = px.bar(q6, x='Album', y=['Average Solo Track Streams', 'Average Collab Track Streams'], title=\"Song Performance By Type\", \n",
    "              barmode='group')\n",
    "\n",
    "fig7.update_layout(title=dict(x=0.17, y=0.945, font=dict(size=24, family='Georgia')),\n",
    "                  width=900, height=900, xaxis_tickangle=-45,\n",
    "                  paper_bgcolor='#F4F2F0', plot_bgcolor='#F4F2F0',\n",
    "                  xaxis=dict(showgrid=False), yaxis=dict(title_font=dict(family='Georgia'), showgrid=True),\n",
    "                  xaxis_title=None, yaxis_title=\"Total Streams (Millions)\",\n",
    "                  bargap=0.6, legend_title = None)\n",
    "fig7.update_traces(marker_line=dict(width=1, color='grey'))\n",
    "\n",
    "fig7.update_xaxes(tickfont=dict(size=11))\n",
    "\n",
    "#Spotify\n",
    "fig7.add_layout_image(\n",
    "    dict(\n",
    "        source=\"logo.png\",\n",
    "        xref=\"paper\",\n",
    "        yref=\"paper\",\n",
    "        x=-0.099,\n",
    "        y=1.135,\n",
    "        sizex=0.13,\n",
    "        sizey=0.13,\n",
    "        xanchor=\"left\",\n",
    "        yanchor=\"top\"\n",
    "    )\n",
    ")\n",
    "\n",
    "#Credit\n",
    "fig7.add_annotation(\n",
    "    x=1.40,  # x-coordinate of the annotation\n",
    "    y=-0.24,  # y-coordinate of the annotation\n",
    "    xref='paper',  # x-coordinate reference system\n",
    "    yref='paper',  # y-coordinate reference system\n",
    "    text='Visual Created By Bjorn S.',  # text to display\n",
    "    showarrow=False,  # hide arrow head\n",
    "    font=dict(size=16, color='#535353', family='Georgia'),  # font style\n",
    "    align='right'  # horizontal alignment\n",
    ")\n",
    "\n",
    "fig7.show()"
   ]
  },
  {
   "attachments": {},
   "cell_type": "markdown",
   "metadata": {},
   "source": [
    "Across his 14 albums, 8 have a higher number of streams for collaboration tracks than solo's. \n",
    "\n",
    "Honestly, Nevermind and Views far exceed average streams for collaboration tracks. This is because Jimmy Cooks from Honestly, Nevermind and One Dance from Views were smash hits from these respective albums. Jimmy Cooks is actually the only track featuring another artist (21 Savage) on Honestly, Nevermind.\n",
    "\n",
    "Further analysis would be to normalize this data by the number of solos and collab songs."
   ]
  },
  {
   "attachments": {},
   "cell_type": "markdown",
   "metadata": {},
   "source": [
    "Speaking of artists such as 21 Savage, let's examine what artists Drake likes to feature in his songs:"
   ]
  },
  {
   "cell_type": "code",
   "execution_count": 1371,
   "metadata": {},
   "outputs": [
    {
     "data": {
      "text/html": [
       "<div>\n",
       "<style scoped>\n",
       "    .dataframe tbody tr th:only-of-type {\n",
       "        vertical-align: middle;\n",
       "    }\n",
       "\n",
       "    .dataframe tbody tr th {\n",
       "        vertical-align: top;\n",
       "    }\n",
       "\n",
       "    .dataframe thead th {\n",
       "        text-align: right;\n",
       "    }\n",
       "</style>\n",
       "<table border=\"1\" class=\"dataframe\">\n",
       "  <thead>\n",
       "    <tr style=\"text-align: right;\">\n",
       "      <th></th>\n",
       "      <th>artist</th>\n",
       "      <th>Number of Features</th>\n",
       "    </tr>\n",
       "  </thead>\n",
       "  <tbody>\n",
       "    <tr>\n",
       "      <th>0</th>\n",
       "      <td>Future</td>\n",
       "      <td>13</td>\n",
       "    </tr>\n",
       "    <tr>\n",
       "      <th>1</th>\n",
       "      <td>21 Savage</td>\n",
       "      <td>13</td>\n",
       "    </tr>\n",
       "    <tr>\n",
       "      <th>2</th>\n",
       "      <td>Lil Wayne</td>\n",
       "      <td>10</td>\n",
       "    </tr>\n",
       "    <tr>\n",
       "      <th>3</th>\n",
       "      <td>Young Thug</td>\n",
       "      <td>4</td>\n",
       "    </tr>\n",
       "    <tr>\n",
       "      <th>4</th>\n",
       "      <td>Travis Scott</td>\n",
       "      <td>4</td>\n",
       "    </tr>\n",
       "    <tr>\n",
       "      <th>5</th>\n",
       "      <td>PARTYNEXTDOOR</td>\n",
       "      <td>4</td>\n",
       "    </tr>\n",
       "    <tr>\n",
       "      <th>6</th>\n",
       "      <td>JAY-Z</td>\n",
       "      <td>4</td>\n",
       "    </tr>\n",
       "    <tr>\n",
       "      <th>7</th>\n",
       "      <td>Rick Ross</td>\n",
       "      <td>3</td>\n",
       "    </tr>\n",
       "    <tr>\n",
       "      <th>8</th>\n",
       "      <td>Ty Dolla $ign</td>\n",
       "      <td>2</td>\n",
       "    </tr>\n",
       "    <tr>\n",
       "      <th>9</th>\n",
       "      <td>Sampha</td>\n",
       "      <td>2</td>\n",
       "    </tr>\n",
       "    <tr>\n",
       "      <th>10</th>\n",
       "      <td>Rihanna</td>\n",
       "      <td>2</td>\n",
       "    </tr>\n",
       "    <tr>\n",
       "      <th>11</th>\n",
       "      <td>Nicki Minaj</td>\n",
       "      <td>2</td>\n",
       "    </tr>\n",
       "    <tr>\n",
       "      <th>12</th>\n",
       "      <td>Majid Jordan</td>\n",
       "      <td>2</td>\n",
       "    </tr>\n",
       "    <tr>\n",
       "      <th>13</th>\n",
       "      <td>Giveon</td>\n",
       "      <td>2</td>\n",
       "    </tr>\n",
       "    <tr>\n",
       "      <th>14</th>\n",
       "      <td>Giggs</td>\n",
       "      <td>2</td>\n",
       "    </tr>\n",
       "    <tr>\n",
       "      <th>15</th>\n",
       "      <td>2 Chainz</td>\n",
       "      <td>2</td>\n",
       "    </tr>\n",
       "    <tr>\n",
       "      <th>16</th>\n",
       "      <td>dvsn</td>\n",
       "      <td>1</td>\n",
       "    </tr>\n",
       "    <tr>\n",
       "      <th>17</th>\n",
       "      <td>Yebba</td>\n",
       "      <td>1</td>\n",
       "    </tr>\n",
       "    <tr>\n",
       "      <th>18</th>\n",
       "      <td>Wizkid</td>\n",
       "      <td>1</td>\n",
       "    </tr>\n",
       "    <tr>\n",
       "      <th>19</th>\n",
       "      <td>Trey Songz</td>\n",
       "      <td>1</td>\n",
       "    </tr>\n",
       "    <tr>\n",
       "      <th>20</th>\n",
       "      <td>The-Dream</td>\n",
       "      <td>1</td>\n",
       "    </tr>\n",
       "    <tr>\n",
       "      <th>21</th>\n",
       "      <td>The Weeknd</td>\n",
       "      <td>1</td>\n",
       "    </tr>\n",
       "    <tr>\n",
       "      <th>22</th>\n",
       "      <td>Tems</td>\n",
       "      <td>1</td>\n",
       "    </tr>\n",
       "    <tr>\n",
       "      <th>23</th>\n",
       "      <td>T.I.</td>\n",
       "      <td>1</td>\n",
       "    </tr>\n",
       "    <tr>\n",
       "      <th>24</th>\n",
       "      <td>Swizz Beatz</td>\n",
       "      <td>1</td>\n",
       "    </tr>\n",
       "    <tr>\n",
       "      <th>25</th>\n",
       "      <td>Static Major</td>\n",
       "      <td>1</td>\n",
       "    </tr>\n",
       "    <tr>\n",
       "      <th>26</th>\n",
       "      <td>Sosa Geek</td>\n",
       "      <td>1</td>\n",
       "    </tr>\n",
       "    <tr>\n",
       "      <th>27</th>\n",
       "      <td>Santigold</td>\n",
       "      <td>1</td>\n",
       "    </tr>\n",
       "    <tr>\n",
       "      <th>28</th>\n",
       "      <td>Quavo</td>\n",
       "      <td>1</td>\n",
       "    </tr>\n",
       "    <tr>\n",
       "      <th>29</th>\n",
       "      <td>Project Pat</td>\n",
       "      <td>1</td>\n",
       "    </tr>\n",
       "    <tr>\n",
       "      <th>30</th>\n",
       "      <td>Playboi Carti</td>\n",
       "      <td>1</td>\n",
       "    </tr>\n",
       "    <tr>\n",
       "      <th>31</th>\n",
       "      <td>Pimp C</td>\n",
       "      <td>1</td>\n",
       "    </tr>\n",
       "    <tr>\n",
       "      <th>32</th>\n",
       "      <td>Peter Bjorn and John</td>\n",
       "      <td>1</td>\n",
       "    </tr>\n",
       "    <tr>\n",
       "      <th>33</th>\n",
       "      <td>Omarion</td>\n",
       "      <td>1</td>\n",
       "    </tr>\n",
       "    <tr>\n",
       "      <th>34</th>\n",
       "      <td>Michael Jackson</td>\n",
       "      <td>1</td>\n",
       "    </tr>\n",
       "    <tr>\n",
       "      <th>35</th>\n",
       "      <td>Lykke Li</td>\n",
       "      <td>1</td>\n",
       "    </tr>\n",
       "    <tr>\n",
       "      <th>36</th>\n",
       "      <td>Lloyd</td>\n",
       "      <td>1</td>\n",
       "    </tr>\n",
       "    <tr>\n",
       "      <th>37</th>\n",
       "      <td>Lil Durk</td>\n",
       "      <td>1</td>\n",
       "    </tr>\n",
       "    <tr>\n",
       "      <th>38</th>\n",
       "      <td>Lil Baby</td>\n",
       "      <td>1</td>\n",
       "    </tr>\n",
       "    <tr>\n",
       "      <th>39</th>\n",
       "      <td>Kyla</td>\n",
       "      <td>1</td>\n",
       "    </tr>\n",
       "    <tr>\n",
       "      <th>40</th>\n",
       "      <td>Kid Cudi</td>\n",
       "      <td>1</td>\n",
       "    </tr>\n",
       "    <tr>\n",
       "      <th>41</th>\n",
       "      <td>Kendrick Lamar</td>\n",
       "      <td>1</td>\n",
       "    </tr>\n",
       "    <tr>\n",
       "      <th>42</th>\n",
       "      <td>Kanye West</td>\n",
       "      <td>1</td>\n",
       "    </tr>\n",
       "    <tr>\n",
       "      <th>43</th>\n",
       "      <td>Jorja Smith</td>\n",
       "      <td>1</td>\n",
       "    </tr>\n",
       "    <tr>\n",
       "      <th>44</th>\n",
       "      <td>Jhené Aiko</td>\n",
       "      <td>1</td>\n",
       "    </tr>\n",
       "    <tr>\n",
       "      <th>45</th>\n",
       "      <td>Jeezy</td>\n",
       "      <td>1</td>\n",
       "    </tr>\n",
       "    <tr>\n",
       "      <th>46</th>\n",
       "      <td>James Fauntleroy</td>\n",
       "      <td>1</td>\n",
       "    </tr>\n",
       "    <tr>\n",
       "      <th>47</th>\n",
       "      <td>J. Cole</td>\n",
       "      <td>1</td>\n",
       "    </tr>\n",
       "    <tr>\n",
       "      <th>48</th>\n",
       "      <td>Fivio Foreign</td>\n",
       "      <td>1</td>\n",
       "    </tr>\n",
       "    <tr>\n",
       "      <th>49</th>\n",
       "      <td>Drake</td>\n",
       "      <td>1</td>\n",
       "    </tr>\n",
       "    <tr>\n",
       "      <th>50</th>\n",
       "      <td>Detail</td>\n",
       "      <td>1</td>\n",
       "    </tr>\n",
       "    <tr>\n",
       "      <th>51</th>\n",
       "      <td>Chris Brown</td>\n",
       "      <td>1</td>\n",
       "    </tr>\n",
       "    <tr>\n",
       "      <th>52</th>\n",
       "      <td>Chilly Gonzales</td>\n",
       "      <td>1</td>\n",
       "    </tr>\n",
       "    <tr>\n",
       "      <th>53</th>\n",
       "      <td>Bun B</td>\n",
       "      <td>1</td>\n",
       "    </tr>\n",
       "    <tr>\n",
       "      <th>54</th>\n",
       "      <td>Black Coffee</td>\n",
       "      <td>1</td>\n",
       "    </tr>\n",
       "    <tr>\n",
       "      <th>55</th>\n",
       "      <td>Birdman</td>\n",
       "      <td>1</td>\n",
       "    </tr>\n",
       "    <tr>\n",
       "      <th>56</th>\n",
       "      <td>Big Sean</td>\n",
       "      <td>1</td>\n",
       "    </tr>\n",
       "    <tr>\n",
       "      <th>57</th>\n",
       "      <td>André 3000</td>\n",
       "      <td>1</td>\n",
       "    </tr>\n",
       "    <tr>\n",
       "      <th>58</th>\n",
       "      <td>Alicia Keys</td>\n",
       "      <td>1</td>\n",
       "    </tr>\n",
       "  </tbody>\n",
       "</table>\n",
       "</div>"
      ],
      "text/plain": [
       "                  artist  Number of Features\n",
       "0                 Future                  13\n",
       "1              21 Savage                  13\n",
       "2              Lil Wayne                  10\n",
       "3             Young Thug                   4\n",
       "4           Travis Scott                   4\n",
       "5          PARTYNEXTDOOR                   4\n",
       "6                  JAY-Z                   4\n",
       "7              Rick Ross                   3\n",
       "8          Ty Dolla $ign                   2\n",
       "9                 Sampha                   2\n",
       "10               Rihanna                   2\n",
       "11           Nicki Minaj                   2\n",
       "12          Majid Jordan                   2\n",
       "13                Giveon                   2\n",
       "14                 Giggs                   2\n",
       "15              2 Chainz                   2\n",
       "16                  dvsn                   1\n",
       "17                 Yebba                   1\n",
       "18                Wizkid                   1\n",
       "19            Trey Songz                   1\n",
       "20             The-Dream                   1\n",
       "21            The Weeknd                   1\n",
       "22                  Tems                   1\n",
       "23                  T.I.                   1\n",
       "24           Swizz Beatz                   1\n",
       "25          Static Major                   1\n",
       "26             Sosa Geek                   1\n",
       "27             Santigold                   1\n",
       "28                 Quavo                   1\n",
       "29           Project Pat                   1\n",
       "30         Playboi Carti                   1\n",
       "31                Pimp C                   1\n",
       "32  Peter Bjorn and John                   1\n",
       "33               Omarion                   1\n",
       "34       Michael Jackson                   1\n",
       "35              Lykke Li                   1\n",
       "36                 Lloyd                   1\n",
       "37              Lil Durk                   1\n",
       "38              Lil Baby                   1\n",
       "39                  Kyla                   1\n",
       "40              Kid Cudi                   1\n",
       "41        Kendrick Lamar                   1\n",
       "42            Kanye West                   1\n",
       "43           Jorja Smith                   1\n",
       "44            Jhené Aiko                   1\n",
       "45                 Jeezy                   1\n",
       "46      James Fauntleroy                   1\n",
       "47               J. Cole                   1\n",
       "48         Fivio Foreign                   1\n",
       "49                 Drake                   1\n",
       "50                Detail                   1\n",
       "51           Chris Brown                   1\n",
       "52       Chilly Gonzales                   1\n",
       "53                 Bun B                   1\n",
       "54          Black Coffee                   1\n",
       "55               Birdman                   1\n",
       "56              Big Sean                   1\n",
       "57            André 3000                   1\n",
       "58           Alicia Keys                   1"
      ]
     },
     "execution_count": 1371,
     "metadata": {},
     "output_type": "execute_result"
    }
   ],
   "source": [
    "q7_query = '''WITH CTE AS (\n",
    "    SELECT [Artist 2] AS artist\n",
    "    FROM data\n",
    "    UNION  ALL\n",
    "    SELECT [Artist 3] AS artist\n",
    "    FROM data\n",
    "    )\n",
    "    SELECT artist, [Number of Features]\n",
    "    FROM (\n",
    "        SELECT artist, COUNT(*) AS [Number of Features], ROW_NUMBER() OVER(ORDER BY COUNT(*) DESC) AS rn\n",
    "        FROM CTE\n",
    "        GROUP BY artist\n",
    "    ) subq\n",
    "    WHERE rn > 1\n",
    "    ORDER BY [Number of Features] DESC'''\n",
    "\n",
    "q7 = pysqldf(q7_query)\n",
    "\n",
    "q7"
   ]
  },
  {
   "attachments": {},
   "cell_type": "markdown",
   "metadata": {},
   "source": [
    "As What A Time To Be Alive and Her Loss were considered collab albums, Future and 21 Savage taking the top spots for featured artists on Drake albums comes at no surprise. As Drake was coming onto the scene during the late 2000's, Lil Wayne is often labeled as Drake's mentor. \n",
    "\n",
    "As Drake once said in What's Next (Scary Hours 2 EP): \n",
    "\n",
    "\"I'm movin' way too humble\n",
    "\n",
    "Weezy had handed it off, I still got no fumbles\"\n",
    "\n",
    "Lil Wayne's end to his dominance in the rap scene concluded with the passing of the torch to hungry, humble Drake who was otherwise only known for his appearances in Degrassi. Playing the character of Jimmy Brooks, Drake's rise to fame started out in T.V. Anyone else watched this show back in the day?\n",
    "\n",
    "\n",
    "I was surprised that Kanye and The Weeknd only had one together with Drake, but PARTYNEXTDOOR has 4 songs? What happened to him?"
   ]
  },
  {
   "attachments": {},
   "cell_type": "markdown",
   "metadata": {},
   "source": [
    "Let's see the top 10 Drake songs that featured another artist:"
   ]
  },
  {
   "cell_type": "code",
   "execution_count": 1396,
   "metadata": {},
   "outputs": [
    {
     "data": {
      "text/html": [
       "<div>\n",
       "<style scoped>\n",
       "    .dataframe tbody tr th:only-of-type {\n",
       "        vertical-align: middle;\n",
       "    }\n",
       "\n",
       "    .dataframe tbody tr th {\n",
       "        vertical-align: top;\n",
       "    }\n",
       "\n",
       "    .dataframe thead th {\n",
       "        text-align: right;\n",
       "    }\n",
       "</style>\n",
       "<table border=\"1\" class=\"dataframe\">\n",
       "  <thead>\n",
       "    <tr style=\"text-align: right;\">\n",
       "      <th></th>\n",
       "      <th>Artist 2</th>\n",
       "      <th>Average Streams</th>\n",
       "      <th>Num_Features</th>\n",
       "      <th>row</th>\n",
       "    </tr>\n",
       "  </thead>\n",
       "  <tbody>\n",
       "    <tr>\n",
       "      <th>0</th>\n",
       "      <td>Rihanna</td>\n",
       "      <td>7.346118e+08</td>\n",
       "      <td>2</td>\n",
       "      <td>9</td>\n",
       "    </tr>\n",
       "    <tr>\n",
       "      <th>1</th>\n",
       "      <td>Majid Jordan</td>\n",
       "      <td>4.581599e+08</td>\n",
       "      <td>2</td>\n",
       "      <td>12</td>\n",
       "    </tr>\n",
       "    <tr>\n",
       "      <th>2</th>\n",
       "      <td>Travis Scott</td>\n",
       "      <td>3.107574e+08</td>\n",
       "      <td>2</td>\n",
       "      <td>7</td>\n",
       "    </tr>\n",
       "    <tr>\n",
       "      <th>3</th>\n",
       "      <td>2 Chainz</td>\n",
       "      <td>2.383941e+08</td>\n",
       "      <td>2</td>\n",
       "      <td>14</td>\n",
       "    </tr>\n",
       "    <tr>\n",
       "      <th>4</th>\n",
       "      <td>Nicki Minaj</td>\n",
       "      <td>1.977408e+08</td>\n",
       "      <td>2</td>\n",
       "      <td>11</td>\n",
       "    </tr>\n",
       "    <tr>\n",
       "      <th>5</th>\n",
       "      <td>21 Savage</td>\n",
       "      <td>1.975513e+08</td>\n",
       "      <td>13</td>\n",
       "      <td>3</td>\n",
       "    </tr>\n",
       "    <tr>\n",
       "      <th>6</th>\n",
       "      <td>Future</td>\n",
       "      <td>1.936222e+08</td>\n",
       "      <td>13</td>\n",
       "      <td>2</td>\n",
       "    </tr>\n",
       "    <tr>\n",
       "      <th>7</th>\n",
       "      <td>Sampha</td>\n",
       "      <td>1.584636e+08</td>\n",
       "      <td>2</td>\n",
       "      <td>8</td>\n",
       "    </tr>\n",
       "    <tr>\n",
       "      <th>8</th>\n",
       "      <td>Lil Wayne</td>\n",
       "      <td>1.512711e+08</td>\n",
       "      <td>7</td>\n",
       "      <td>4</td>\n",
       "    </tr>\n",
       "    <tr>\n",
       "      <th>9</th>\n",
       "      <td>Giggs</td>\n",
       "      <td>1.455247e+08</td>\n",
       "      <td>2</td>\n",
       "      <td>13</td>\n",
       "    </tr>\n",
       "  </tbody>\n",
       "</table>\n",
       "</div>"
      ],
      "text/plain": [
       "       Artist 2  Average Streams  Num_Features  row\n",
       "0       Rihanna     7.346118e+08             2    9\n",
       "1  Majid Jordan     4.581599e+08             2   12\n",
       "2  Travis Scott     3.107574e+08             2    7\n",
       "3      2 Chainz     2.383941e+08             2   14\n",
       "4   Nicki Minaj     1.977408e+08             2   11\n",
       "5     21 Savage     1.975513e+08            13    3\n",
       "6        Future     1.936222e+08            13    2\n",
       "7        Sampha     1.584636e+08             2    8\n",
       "8     Lil Wayne     1.512711e+08             7    4\n",
       "9         Giggs     1.455247e+08             2   13"
      ]
     },
     "execution_count": 1396,
     "metadata": {},
     "output_type": "execute_result"
    }
   ],
   "source": [
    "q8_query = '''WITH CTE AS\n",
    "(SELECT [Artist 2], AVG(Plays) AS [Average Streams], COUNT(*) AS Num_Features, ROW_NUMBER() OVER(ORDER BY COUNT(*) DESC) AS row\n",
    "FROM data\n",
    "GROUP BY [Artist 2]\n",
    "HAVING Num_Features > 1\n",
    "ORDER BY Num_Features DESC\n",
    ")\n",
    "SELECT * FROM CTE\n",
    "WHERE row > 1\n",
    "ORDER BY [Average Streams] DESC\n",
    "LIMIT 10'''\n",
    "\n",
    "q8 = pysqldf(q8_query)\n",
    "\n",
    "q8"
   ]
  },
  {
   "cell_type": "code",
   "execution_count": 1397,
   "metadata": {},
   "outputs": [],
   "source": [
    "artists_path = [\n",
    "  \"artists/rihanna.jpeg\",\n",
    "  \"artists/majidjordan.jpeg\",\n",
    "  \"artists/travis.jpeg\",\n",
    "  \"artists/2chainz.jpeg\",\n",
    "  \"artists/nickiminaj.jpeg\",\n",
    "  \"artists/21savage.jpeg\",\n",
    "  \"artists/future.jpeg\",\n",
    "  \"artists/sampha.jpeg\",\n",
    "  \"artists/lilwayne.jpeg\",\n",
    "  \"artists/giggs.jpeg\"]"
   ]
  },
  {
   "cell_type": "code",
   "execution_count": 1440,
   "metadata": {},
   "outputs": [
    {
     "data": {
      "application/vnd.plotly.v1+json": {
       "config": {
        "plotlyServerURL": "https://plot.ly"
       },
       "data": [
        {
         "alignmentgroup": "True",
         "hovertemplate": "Artist 2=%{x}<br>Average Streams=%{y}<extra></extra>",
         "legendgroup": "",
         "marker": {
          "color": "#1ed760",
          "line": {
           "color": "grey",
           "width": 1
          },
          "pattern": {
           "shape": ""
          }
         },
         "name": "",
         "offsetgroup": "",
         "orientation": "v",
         "showlegend": false,
         "textposition": "auto",
         "type": "bar",
         "x": [
          "Rihanna",
          "Majid Jordan",
          "Travis Scott",
          "2 Chainz",
          "Nicki Minaj",
          "21 Savage",
          "Future",
          "Sampha",
          "Lil Wayne",
          "Giggs"
         ],
         "xaxis": "x",
         "y": [
          734611824,
          458159858.5,
          310757389,
          238394130.5,
          197740771.5,
          197551322.46153846,
          193622209.07692307,
          158463631,
          151271142.2857143,
          145524741.5
         ],
         "yaxis": "y"
        }
       ],
       "layout": {
        "annotations": [
         {
          "align": "right",
          "font": {
           "color": "#535353",
           "family": "Georgia",
           "size": 16
          },
          "showarrow": false,
          "text": "Visual Created By Bjorn S.",
          "x": 1.1,
          "xref": "paper",
          "y": -0.1,
          "yref": "paper"
         }
        ],
        "barmode": "group",
        "height": 900,
        "images": [
         {
          "sizex": 0.75,
          "sizey": 50000000,
          "source": "artists/rihanna.jpeg",
          "x": 0,
          "xanchor": "center",
          "xref": "x",
          "y": 739611824,
          "yanchor": "bottom",
          "yref": "y"
         },
         {
          "sizex": 0.75,
          "sizey": 50000000,
          "source": "artists/majidjordan.jpeg",
          "x": 1,
          "xanchor": "center",
          "xref": "x",
          "y": 463159858.5,
          "yanchor": "bottom",
          "yref": "y"
         },
         {
          "sizex": 0.75,
          "sizey": 50000000,
          "source": "artists/travis.jpeg",
          "x": 2,
          "xanchor": "center",
          "xref": "x",
          "y": 315757389,
          "yanchor": "bottom",
          "yref": "y"
         },
         {
          "sizex": 0.75,
          "sizey": 50000000,
          "source": "artists/2chainz.jpeg",
          "x": 3,
          "xanchor": "center",
          "xref": "x",
          "y": 243394130.5,
          "yanchor": "bottom",
          "yref": "y"
         },
         {
          "sizex": 0.75,
          "sizey": 50000000,
          "source": "artists/nickiminaj.jpeg",
          "x": 4,
          "xanchor": "center",
          "xref": "x",
          "y": 202740771.5,
          "yanchor": "bottom",
          "yref": "y"
         },
         {
          "sizex": 0.75,
          "sizey": 50000000,
          "source": "artists/21savage.jpeg",
          "x": 5,
          "xanchor": "center",
          "xref": "x",
          "y": 202551322.46153846,
          "yanchor": "bottom",
          "yref": "y"
         },
         {
          "sizex": 0.75,
          "sizey": 50000000,
          "source": "artists/future.jpeg",
          "x": 6,
          "xanchor": "center",
          "xref": "x",
          "y": 198622209.07692307,
          "yanchor": "bottom",
          "yref": "y"
         },
         {
          "sizex": 0.75,
          "sizey": 50000000,
          "source": "artists/sampha.jpeg",
          "x": 7,
          "xanchor": "center",
          "xref": "x",
          "y": 163463631,
          "yanchor": "bottom",
          "yref": "y"
         },
         {
          "sizex": 0.75,
          "sizey": 50000000,
          "source": "artists/lilwayne.jpeg",
          "x": 8,
          "xanchor": "center",
          "xref": "x",
          "y": 156271142.2857143,
          "yanchor": "bottom",
          "yref": "y"
         },
         {
          "sizex": 0.75,
          "sizey": 50000000,
          "source": "artists/giggs.jpeg",
          "x": 9,
          "xanchor": "center",
          "xref": "x",
          "y": 150524741.5,
          "yanchor": "bottom",
          "yref": "y"
         },
         {
          "sizex": 0.13,
          "sizey": 0.13,
          "source": "logo.png",
          "x": -0.099,
          "xanchor": "left",
          "xref": "paper",
          "y": 1.135,
          "yanchor": "top",
          "yref": "paper"
         }
        ],
        "legend": {
         "title": {},
         "tracegroupgap": 0
        },
        "paper_bgcolor": "#F4F2F0",
        "plot_bgcolor": "#F4F2F0",
        "template": {
         "data": {
          "bar": [
           {
            "error_x": {
             "color": "#2a3f5f"
            },
            "error_y": {
             "color": "#2a3f5f"
            },
            "marker": {
             "line": {
              "color": "#E5ECF6",
              "width": 0.5
             },
             "pattern": {
              "fillmode": "overlay",
              "size": 10,
              "solidity": 0.2
             }
            },
            "type": "bar"
           }
          ],
          "barpolar": [
           {
            "marker": {
             "line": {
              "color": "#E5ECF6",
              "width": 0.5
             },
             "pattern": {
              "fillmode": "overlay",
              "size": 10,
              "solidity": 0.2
             }
            },
            "type": "barpolar"
           }
          ],
          "carpet": [
           {
            "aaxis": {
             "endlinecolor": "#2a3f5f",
             "gridcolor": "white",
             "linecolor": "white",
             "minorgridcolor": "white",
             "startlinecolor": "#2a3f5f"
            },
            "baxis": {
             "endlinecolor": "#2a3f5f",
             "gridcolor": "white",
             "linecolor": "white",
             "minorgridcolor": "white",
             "startlinecolor": "#2a3f5f"
            },
            "type": "carpet"
           }
          ],
          "choropleth": [
           {
            "colorbar": {
             "outlinewidth": 0,
             "ticks": ""
            },
            "type": "choropleth"
           }
          ],
          "contour": [
           {
            "colorbar": {
             "outlinewidth": 0,
             "ticks": ""
            },
            "colorscale": [
             [
              0,
              "#0d0887"
             ],
             [
              0.1111111111111111,
              "#46039f"
             ],
             [
              0.2222222222222222,
              "#7201a8"
             ],
             [
              0.3333333333333333,
              "#9c179e"
             ],
             [
              0.4444444444444444,
              "#bd3786"
             ],
             [
              0.5555555555555556,
              "#d8576b"
             ],
             [
              0.6666666666666666,
              "#ed7953"
             ],
             [
              0.7777777777777778,
              "#fb9f3a"
             ],
             [
              0.8888888888888888,
              "#fdca26"
             ],
             [
              1,
              "#f0f921"
             ]
            ],
            "type": "contour"
           }
          ],
          "contourcarpet": [
           {
            "colorbar": {
             "outlinewidth": 0,
             "ticks": ""
            },
            "type": "contourcarpet"
           }
          ],
          "heatmap": [
           {
            "colorbar": {
             "outlinewidth": 0,
             "ticks": ""
            },
            "colorscale": [
             [
              0,
              "#0d0887"
             ],
             [
              0.1111111111111111,
              "#46039f"
             ],
             [
              0.2222222222222222,
              "#7201a8"
             ],
             [
              0.3333333333333333,
              "#9c179e"
             ],
             [
              0.4444444444444444,
              "#bd3786"
             ],
             [
              0.5555555555555556,
              "#d8576b"
             ],
             [
              0.6666666666666666,
              "#ed7953"
             ],
             [
              0.7777777777777778,
              "#fb9f3a"
             ],
             [
              0.8888888888888888,
              "#fdca26"
             ],
             [
              1,
              "#f0f921"
             ]
            ],
            "type": "heatmap"
           }
          ],
          "heatmapgl": [
           {
            "colorbar": {
             "outlinewidth": 0,
             "ticks": ""
            },
            "colorscale": [
             [
              0,
              "#0d0887"
             ],
             [
              0.1111111111111111,
              "#46039f"
             ],
             [
              0.2222222222222222,
              "#7201a8"
             ],
             [
              0.3333333333333333,
              "#9c179e"
             ],
             [
              0.4444444444444444,
              "#bd3786"
             ],
             [
              0.5555555555555556,
              "#d8576b"
             ],
             [
              0.6666666666666666,
              "#ed7953"
             ],
             [
              0.7777777777777778,
              "#fb9f3a"
             ],
             [
              0.8888888888888888,
              "#fdca26"
             ],
             [
              1,
              "#f0f921"
             ]
            ],
            "type": "heatmapgl"
           }
          ],
          "histogram": [
           {
            "marker": {
             "pattern": {
              "fillmode": "overlay",
              "size": 10,
              "solidity": 0.2
             }
            },
            "type": "histogram"
           }
          ],
          "histogram2d": [
           {
            "colorbar": {
             "outlinewidth": 0,
             "ticks": ""
            },
            "colorscale": [
             [
              0,
              "#0d0887"
             ],
             [
              0.1111111111111111,
              "#46039f"
             ],
             [
              0.2222222222222222,
              "#7201a8"
             ],
             [
              0.3333333333333333,
              "#9c179e"
             ],
             [
              0.4444444444444444,
              "#bd3786"
             ],
             [
              0.5555555555555556,
              "#d8576b"
             ],
             [
              0.6666666666666666,
              "#ed7953"
             ],
             [
              0.7777777777777778,
              "#fb9f3a"
             ],
             [
              0.8888888888888888,
              "#fdca26"
             ],
             [
              1,
              "#f0f921"
             ]
            ],
            "type": "histogram2d"
           }
          ],
          "histogram2dcontour": [
           {
            "colorbar": {
             "outlinewidth": 0,
             "ticks": ""
            },
            "colorscale": [
             [
              0,
              "#0d0887"
             ],
             [
              0.1111111111111111,
              "#46039f"
             ],
             [
              0.2222222222222222,
              "#7201a8"
             ],
             [
              0.3333333333333333,
              "#9c179e"
             ],
             [
              0.4444444444444444,
              "#bd3786"
             ],
             [
              0.5555555555555556,
              "#d8576b"
             ],
             [
              0.6666666666666666,
              "#ed7953"
             ],
             [
              0.7777777777777778,
              "#fb9f3a"
             ],
             [
              0.8888888888888888,
              "#fdca26"
             ],
             [
              1,
              "#f0f921"
             ]
            ],
            "type": "histogram2dcontour"
           }
          ],
          "mesh3d": [
           {
            "colorbar": {
             "outlinewidth": 0,
             "ticks": ""
            },
            "type": "mesh3d"
           }
          ],
          "parcoords": [
           {
            "line": {
             "colorbar": {
              "outlinewidth": 0,
              "ticks": ""
             }
            },
            "type": "parcoords"
           }
          ],
          "pie": [
           {
            "automargin": true,
            "type": "pie"
           }
          ],
          "scatter": [
           {
            "fillpattern": {
             "fillmode": "overlay",
             "size": 10,
             "solidity": 0.2
            },
            "type": "scatter"
           }
          ],
          "scatter3d": [
           {
            "line": {
             "colorbar": {
              "outlinewidth": 0,
              "ticks": ""
             }
            },
            "marker": {
             "colorbar": {
              "outlinewidth": 0,
              "ticks": ""
             }
            },
            "type": "scatter3d"
           }
          ],
          "scattercarpet": [
           {
            "marker": {
             "colorbar": {
              "outlinewidth": 0,
              "ticks": ""
             }
            },
            "type": "scattercarpet"
           }
          ],
          "scattergeo": [
           {
            "marker": {
             "colorbar": {
              "outlinewidth": 0,
              "ticks": ""
             }
            },
            "type": "scattergeo"
           }
          ],
          "scattergl": [
           {
            "marker": {
             "colorbar": {
              "outlinewidth": 0,
              "ticks": ""
             }
            },
            "type": "scattergl"
           }
          ],
          "scattermapbox": [
           {
            "marker": {
             "colorbar": {
              "outlinewidth": 0,
              "ticks": ""
             }
            },
            "type": "scattermapbox"
           }
          ],
          "scatterpolar": [
           {
            "marker": {
             "colorbar": {
              "outlinewidth": 0,
              "ticks": ""
             }
            },
            "type": "scatterpolar"
           }
          ],
          "scatterpolargl": [
           {
            "marker": {
             "colorbar": {
              "outlinewidth": 0,
              "ticks": ""
             }
            },
            "type": "scatterpolargl"
           }
          ],
          "scatterternary": [
           {
            "marker": {
             "colorbar": {
              "outlinewidth": 0,
              "ticks": ""
             }
            },
            "type": "scatterternary"
           }
          ],
          "surface": [
           {
            "colorbar": {
             "outlinewidth": 0,
             "ticks": ""
            },
            "colorscale": [
             [
              0,
              "#0d0887"
             ],
             [
              0.1111111111111111,
              "#46039f"
             ],
             [
              0.2222222222222222,
              "#7201a8"
             ],
             [
              0.3333333333333333,
              "#9c179e"
             ],
             [
              0.4444444444444444,
              "#bd3786"
             ],
             [
              0.5555555555555556,
              "#d8576b"
             ],
             [
              0.6666666666666666,
              "#ed7953"
             ],
             [
              0.7777777777777778,
              "#fb9f3a"
             ],
             [
              0.8888888888888888,
              "#fdca26"
             ],
             [
              1,
              "#f0f921"
             ]
            ],
            "type": "surface"
           }
          ],
          "table": [
           {
            "cells": {
             "fill": {
              "color": "#EBF0F8"
             },
             "line": {
              "color": "white"
             }
            },
            "header": {
             "fill": {
              "color": "#C8D4E3"
             },
             "line": {
              "color": "white"
             }
            },
            "type": "table"
           }
          ]
         },
         "layout": {
          "annotationdefaults": {
           "arrowcolor": "#2a3f5f",
           "arrowhead": 0,
           "arrowwidth": 1
          },
          "autotypenumbers": "strict",
          "coloraxis": {
           "colorbar": {
            "outlinewidth": 0,
            "ticks": ""
           }
          },
          "colorscale": {
           "diverging": [
            [
             0,
             "#8e0152"
            ],
            [
             0.1,
             "#c51b7d"
            ],
            [
             0.2,
             "#de77ae"
            ],
            [
             0.3,
             "#f1b6da"
            ],
            [
             0.4,
             "#fde0ef"
            ],
            [
             0.5,
             "#f7f7f7"
            ],
            [
             0.6,
             "#e6f5d0"
            ],
            [
             0.7,
             "#b8e186"
            ],
            [
             0.8,
             "#7fbc41"
            ],
            [
             0.9,
             "#4d9221"
            ],
            [
             1,
             "#276419"
            ]
           ],
           "sequential": [
            [
             0,
             "#0d0887"
            ],
            [
             0.1111111111111111,
             "#46039f"
            ],
            [
             0.2222222222222222,
             "#7201a8"
            ],
            [
             0.3333333333333333,
             "#9c179e"
            ],
            [
             0.4444444444444444,
             "#bd3786"
            ],
            [
             0.5555555555555556,
             "#d8576b"
            ],
            [
             0.6666666666666666,
             "#ed7953"
            ],
            [
             0.7777777777777778,
             "#fb9f3a"
            ],
            [
             0.8888888888888888,
             "#fdca26"
            ],
            [
             1,
             "#f0f921"
            ]
           ],
           "sequentialminus": [
            [
             0,
             "#0d0887"
            ],
            [
             0.1111111111111111,
             "#46039f"
            ],
            [
             0.2222222222222222,
             "#7201a8"
            ],
            [
             0.3333333333333333,
             "#9c179e"
            ],
            [
             0.4444444444444444,
             "#bd3786"
            ],
            [
             0.5555555555555556,
             "#d8576b"
            ],
            [
             0.6666666666666666,
             "#ed7953"
            ],
            [
             0.7777777777777778,
             "#fb9f3a"
            ],
            [
             0.8888888888888888,
             "#fdca26"
            ],
            [
             1,
             "#f0f921"
            ]
           ]
          },
          "colorway": [
           "#636efa",
           "#EF553B",
           "#00cc96",
           "#ab63fa",
           "#FFA15A",
           "#19d3f3",
           "#FF6692",
           "#B6E880",
           "#FF97FF",
           "#FECB52"
          ],
          "font": {
           "color": "#2a3f5f"
          },
          "geo": {
           "bgcolor": "white",
           "lakecolor": "white",
           "landcolor": "#E5ECF6",
           "showlakes": true,
           "showland": true,
           "subunitcolor": "white"
          },
          "hoverlabel": {
           "align": "left"
          },
          "hovermode": "closest",
          "mapbox": {
           "style": "light"
          },
          "paper_bgcolor": "white",
          "plot_bgcolor": "#E5ECF6",
          "polar": {
           "angularaxis": {
            "gridcolor": "white",
            "linecolor": "white",
            "ticks": ""
           },
           "bgcolor": "#E5ECF6",
           "radialaxis": {
            "gridcolor": "white",
            "linecolor": "white",
            "ticks": ""
           }
          },
          "scene": {
           "xaxis": {
            "backgroundcolor": "#E5ECF6",
            "gridcolor": "white",
            "gridwidth": 2,
            "linecolor": "white",
            "showbackground": true,
            "ticks": "",
            "zerolinecolor": "white"
           },
           "yaxis": {
            "backgroundcolor": "#E5ECF6",
            "gridcolor": "white",
            "gridwidth": 2,
            "linecolor": "white",
            "showbackground": true,
            "ticks": "",
            "zerolinecolor": "white"
           },
           "zaxis": {
            "backgroundcolor": "#E5ECF6",
            "gridcolor": "white",
            "gridwidth": 2,
            "linecolor": "white",
            "showbackground": true,
            "ticks": "",
            "zerolinecolor": "white"
           }
          },
          "shapedefaults": {
           "line": {
            "color": "#2a3f5f"
           }
          },
          "ternary": {
           "aaxis": {
            "gridcolor": "white",
            "linecolor": "white",
            "ticks": ""
           },
           "baxis": {
            "gridcolor": "white",
            "linecolor": "white",
            "ticks": ""
           },
           "bgcolor": "#E5ECF6",
           "caxis": {
            "gridcolor": "white",
            "linecolor": "white",
            "ticks": ""
           }
          },
          "title": {
           "x": 0.05
          },
          "xaxis": {
           "automargin": true,
           "gridcolor": "white",
           "linecolor": "white",
           "ticks": "",
           "title": {
            "standoff": 15
           },
           "zerolinecolor": "white",
           "zerolinewidth": 2
          },
          "yaxis": {
           "automargin": true,
           "gridcolor": "white",
           "linecolor": "white",
           "ticks": "",
           "title": {
            "standoff": 15
           },
           "zerolinecolor": "white",
           "zerolinewidth": 2
          }
         }
        },
        "title": {
         "font": {
          "family": "Georgia",
          "size": 24
         },
         "text": "Most Popular Featured Artists By Average Streams",
         "x": 0.17,
         "y": 0.945
        },
        "width": 900,
        "xaxis": {
         "anchor": "y",
         "domain": [
          0,
          1
         ],
         "showgrid": false,
         "tickangle": -45,
         "tickfont": {
          "size": 11
         },
         "title": {}
        },
        "yaxis": {
         "anchor": "x",
         "domain": [
          0,
          1
         ],
         "showgrid": true,
         "title": {
          "text": "Streams (Millions)"
         }
        }
       }
      }
     },
     "metadata": {},
     "output_type": "display_data"
    }
   ],
   "source": [
    "fig8 = px.bar(q8.sort_values('Average Streams', ascending=False), x='Artist 2', y='Average Streams', title=\"Most Popular Featured Artists By Average Streams\", \n",
    "              barmode='group')\n",
    "\n",
    "fig8.update_layout(title=dict(x=0.17, y=0.945, font=dict(size=24, family='Georgia')),\n",
    "                  width=900, height=900, xaxis_tickangle=-45,\n",
    "                  paper_bgcolor='#F4F2F0', plot_bgcolor='#F4F2F0',\n",
    "                  xaxis=dict(showgrid=False), yaxis=dict(title_font=dict(family='Georgia'), showgrid=True),\n",
    "                  xaxis_title=None, yaxis_title=\"Streams (Millions)\", legend_title = None)\n",
    "fig8.update_traces(marker_line=dict(width=1, color='grey'), marker_color='#1ed760')\n",
    "\n",
    "fig8.update_xaxes(tickfont=dict(size=11))\n",
    "\n",
    "# Add cover album above bar\n",
    "for i, (height, path) in enumerate(zip(q8['Average Streams'].to_list(), artists_path)):\n",
    "    fig8.add_layout_image(\n",
    "        dict(\n",
    "            source=path,\n",
    "            xref=\"x\",\n",
    "            yref=\"y\",\n",
    "            x=i,\n",
    "            y=height + 5000000,\n",
    "            sizex=0.75,\n",
    "            sizey=50000000,\n",
    "            xanchor=\"center\",\n",
    "            yanchor=\"bottom\"\n",
    "        )\n",
    "    )\n",
    "\n",
    "#Spotify\n",
    "fig8.add_layout_image(\n",
    "    dict(\n",
    "        source=\"logo.png\",\n",
    "        xref=\"paper\",\n",
    "        yref=\"paper\",\n",
    "        x=-0.099,\n",
    "        y=1.135,\n",
    "        sizex=0.13,\n",
    "        sizey=0.13,\n",
    "        xanchor=\"left\",\n",
    "        yanchor=\"top\"\n",
    "    )\n",
    ")\n",
    "\n",
    "#Credit\n",
    "fig8.add_annotation(\n",
    "    x=1.1,  # x-coordinate of the annotation\n",
    "    y=-0.1,  # y-coordinate of the annotation\n",
    "    xref='paper',  # x-coordinate reference system\n",
    "    yref='paper',  # y-coordinate reference system\n",
    "    text='Visual Created By Bjorn S.',  # text to display\n",
    "    showarrow=False,  # hide arrow head\n",
    "    font=dict(size=16, color='#535353', family='Georgia'),  # font style\n",
    "    align='right'  # horizontal alignment\n",
    ")\n",
    "\n",
    "fig8.show()"
   ]
  },
  {
   "attachments": {},
   "cell_type": "markdown",
   "metadata": {},
   "source": [
    "This graph can be misleading.\n",
    "\n",
    " Sure, Rihanna and Drake on a track is pop culture's dream, but Majid Jordan being Drake's second most popular featured artist by average streams? Nope. I call BS.\n",
    "\n",
    "Turns out I was right! The reason why Majid Jordan is at #2 is because he is only featured on 2 songs with Drake. If the track is a banger, then this inflates the artist up the rankings. I can recall that one of the 2 tracks featuring Rihanna is Too Good from Views, which was one of the top tracks from the album. I could have set some arbitrary cutoff for this graph, but what I'd rather show from this visualization is the idea that data can be deceptive, and tuned to the author's narrative.\n",
    "\n",
    "Nonetheless, it was cool to see 2 Chainz up there, along with Nicki Minaj, both of which I'm a follower of their music."
   ]
  },
  {
   "attachments": {},
   "cell_type": "markdown",
   "metadata": {},
   "source": [
    "# Audio Feature Analysis"
   ]
  },
  {
   "attachments": {},
   "cell_type": "markdown",
   "metadata": {},
   "source": [
    "Let's now take a look at the audio feature data that Spotify offers as part of the their API. We're interested in seeing if there's any trends or changes to Drake's musical style. Artsits typically adapt in their career to stay fresh in the industry, and Spotify offers some audio features that might help us with this question.\n",
    "\n",
    "The variables in question are -\n",
    "\n",
    "**Energy**: A measure from 0.0 to 1.0 and represents a perceptual measure of intensity and activity. Typically, energetic tracks feel fast, loud, and noisy. For example, death metal has high energy, while a Bach prelude scores low on the scale. Perceptual features contributing to this attribute include dynamic range, perceived loudness, timbre, onset rate, and general entropy.\n",
    "\n",
    "\n",
    "**Acousticness**: A confidence measure from 0.0 to 1.0 of whether the track is acoustic. 1.0 represents high confidence the track is acoustic.\n",
    "\n",
    "**Danceability**: Danceability describes how suitable a track is for dancing based on a combination of musical elements including tempo, rhythm stability, beat strength, and overall regularity. A value of 0.0 is least danceable and 1.0 is most danceable.\n",
    "\n",
    "**Instrumentalness**: Predicts whether a track contains no vocals. \"Ooh\" and \"aah\" sounds are treated as instrumental in this context. Rap or spoken word tracks are clearly \"vocal\". The closer the instrumentalness value is to 1.0, the greater likelihood the track contains no vocal content. Values above 0.5 are intended to represent instrumental tracks, but confidence is higher as the value approaches 1.0.\n",
    "\n",
    "**Loudness**: The overall loudness of a track in decibels (dB). Loudness values are averaged across the entire track and are useful for comparing relative loudness of tracks. Loudness is the quality of a sound that is the primary psychological correlate of physical strength (amplitude). Values typically range between -60 and 0 db.\n",
    "\n",
    "**Tempo**: The overall estimated tempo of a track in beats per minute (BPM). In musical terminology, tempo is the speed or pace of a given piece and derives directly from the average beat duration.\n",
    "\n",
    "**Valence**: A measure from 0.0 to 1.0 describing the musical positiveness conveyed by a track. Tracks with high valence sound more positive (e.g. happy, cheerful, euphoric), while tracks with low valence sound more negative (e.g. sad, depressed, angry).\n",
    "\n",
    "Check out the full list of different audio features Spotify provides [here](https://developer.spotify.com/documentation/web-api/reference/get-several-audio-features)\n"
   ]
  },
  {
   "attachments": {},
   "cell_type": "markdown",
   "metadata": {},
   "source": [
    "**Note**: Drake did not release an album in 2012 and 2014, which explains the sharp changes in energy during this time frame"
   ]
  },
  {
   "cell_type": "code",
   "execution_count": 1492,
   "metadata": {},
   "outputs": [
    {
     "name": "stdout",
     "output_type": "stream",
     "text": [
      "                                   Album  Release Year\n",
      "0                         Thank Me Later          2010\n",
      "1                     Take Care (Deluxe)          2011\n",
      "2          Nothing Was The Same (Deluxe)          2013\n",
      "3   If You're Reading This It's Too Late          2015\n",
      "4                What A Time To Be Alive          2015\n",
      "5                                  Views          2016\n",
      "6                              More Life          2017\n",
      "7                               Scorpion          2018\n",
      "8                           Care Package          2019\n",
      "9                            So Far Gone          2019\n",
      "10                  Dark Lane Demo Tapes          2020\n",
      "11                   Certified Lover Boy          2021\n",
      "12                              Her Loss          2022\n",
      "13                   Honestly, Nevermind          2022\n"
     ]
    }
   ],
   "source": [
    "eg = '''SELECT Album, [Release Year] FROM data GROUP BY 1 ORDER BY 2 ASC'''\n",
    "\n",
    "print(pysqldf(eg))"
   ]
  },
  {
   "cell_type": "code",
   "execution_count": 1486,
   "metadata": {},
   "outputs": [],
   "source": [
    "music = '''SELECT [Release Year], AVG(Energy) AS Energy\n",
    "FROM data\n",
    "GROUP BY 1'''\n",
    "\n",
    "energy_trend = pysqldf(music)"
   ]
  },
  {
   "cell_type": "code",
   "execution_count": 1528,
   "metadata": {},
   "outputs": [
    {
     "name": "stdout",
     "output_type": "stream",
     "text": [
      "                                   Album  Release Year\n",
      "0                         Thank Me Later          2010\n",
      "1                     Take Care (Deluxe)          2011\n",
      "2          Nothing Was The Same (Deluxe)          2013\n",
      "3   If You're Reading This It's Too Late          2015\n",
      "4                What A Time To Be Alive          2015\n",
      "5                                  Views          2016\n",
      "6                              More Life          2017\n",
      "7                               Scorpion          2018\n",
      "8                           Care Package          2019\n",
      "9                            So Far Gone          2019\n",
      "10                  Dark Lane Demo Tapes          2020\n",
      "11                   Certified Lover Boy          2021\n",
      "12                              Her Loss          2022\n",
      "13                   Honestly, Nevermind          2022\n"
     ]
    }
   ],
   "source": [
    "print(pysqldf('''SELECT Album, [Release Year] FROM data GROUP BY 1 ORDER BY 2 ASC'''))"
   ]
  },
  {
   "cell_type": "code",
   "execution_count": 1489,
   "metadata": {},
   "outputs": [
    {
     "data": {
      "text/html": [
       "<div>\n",
       "<style scoped>\n",
       "    .dataframe tbody tr th:only-of-type {\n",
       "        vertical-align: middle;\n",
       "    }\n",
       "\n",
       "    .dataframe tbody tr th {\n",
       "        vertical-align: top;\n",
       "    }\n",
       "\n",
       "    .dataframe thead th {\n",
       "        text-align: right;\n",
       "    }\n",
       "</style>\n",
       "<table border=\"1\" class=\"dataframe\">\n",
       "  <thead>\n",
       "    <tr style=\"text-align: right;\">\n",
       "      <th></th>\n",
       "      <th>Release Year</th>\n",
       "      <th>Energy</th>\n",
       "    </tr>\n",
       "  </thead>\n",
       "  <tbody>\n",
       "    <tr>\n",
       "      <th>0</th>\n",
       "      <td>2010</td>\n",
       "      <td>0.749286</td>\n",
       "    </tr>\n",
       "    <tr>\n",
       "      <th>1</th>\n",
       "      <td>2011</td>\n",
       "      <td>0.488579</td>\n",
       "    </tr>\n",
       "    <tr>\n",
       "      <th>2</th>\n",
       "      <td>2013</td>\n",
       "      <td>0.560000</td>\n",
       "    </tr>\n",
       "    <tr>\n",
       "      <th>3</th>\n",
       "      <td>2015</td>\n",
       "      <td>0.511571</td>\n",
       "    </tr>\n",
       "    <tr>\n",
       "      <th>4</th>\n",
       "      <td>2016</td>\n",
       "      <td>0.523200</td>\n",
       "    </tr>\n",
       "    <tr>\n",
       "      <th>5</th>\n",
       "      <td>2017</td>\n",
       "      <td>0.485591</td>\n",
       "    </tr>\n",
       "    <tr>\n",
       "      <th>6</th>\n",
       "      <td>2018</td>\n",
       "      <td>0.511760</td>\n",
       "    </tr>\n",
       "    <tr>\n",
       "      <th>7</th>\n",
       "      <td>2019</td>\n",
       "      <td>0.618594</td>\n",
       "    </tr>\n",
       "    <tr>\n",
       "      <th>8</th>\n",
       "      <td>2020</td>\n",
       "      <td>0.595571</td>\n",
       "    </tr>\n",
       "    <tr>\n",
       "      <th>9</th>\n",
       "      <td>2021</td>\n",
       "      <td>0.537333</td>\n",
       "    </tr>\n",
       "    <tr>\n",
       "      <th>10</th>\n",
       "      <td>2022</td>\n",
       "      <td>0.524293</td>\n",
       "    </tr>\n",
       "  </tbody>\n",
       "</table>\n",
       "</div>"
      ],
      "text/plain": [
       "    Release Year    Energy\n",
       "0           2010  0.749286\n",
       "1           2011  0.488579\n",
       "2           2013  0.560000\n",
       "3           2015  0.511571\n",
       "4           2016  0.523200\n",
       "5           2017  0.485591\n",
       "6           2018  0.511760\n",
       "7           2019  0.618594\n",
       "8           2020  0.595571\n",
       "9           2021  0.537333\n",
       "10          2022  0.524293"
      ]
     },
     "execution_count": 1489,
     "metadata": {},
     "output_type": "execute_result"
    }
   ],
   "source": [
    "energy_trend"
   ]
  },
  {
   "cell_type": "code",
   "execution_count": 1540,
   "metadata": {},
   "outputs": [
    {
     "data": {
      "application/vnd.plotly.v1+json": {
       "config": {
        "plotlyServerURL": "https://plot.ly"
       },
       "data": [
        {
         "hovertemplate": "Release Year=%{x}<br>Energy=%{y}<extra></extra>",
         "legendgroup": "",
         "line": {
          "color": "#636efa",
          "dash": "solid"
         },
         "marker": {
          "color": "#1ed760",
          "line": {
           "color": "grey",
           "width": 1
          },
          "symbol": "circle"
         },
         "mode": "lines",
         "name": "",
         "orientation": "v",
         "showlegend": false,
         "type": "scatter",
         "x": [
          2010,
          2011,
          2013,
          2015,
          2016,
          2017,
          2018,
          2019,
          2020,
          2021,
          2022
         ],
         "xaxis": "x",
         "y": [
          0.7492857142857144,
          0.4885789473684211,
          0.56,
          0.5115714285714285,
          0.5232,
          0.4855909090909091,
          0.51176,
          0.6185942857142859,
          0.5955714285714288,
          0.5373333333333333,
          0.5242933333333333
         ],
         "yaxis": "y"
        }
       ],
       "layout": {
        "annotations": [
         {
          "align": "right",
          "font": {
           "color": "#535353",
           "family": "Georgia",
           "size": 16
          },
          "showarrow": false,
          "text": "Visual Created By Bjorn S.",
          "x": 1.1,
          "xref": "paper",
          "y": -0.15,
          "yref": "paper"
         }
        ],
        "height": 700,
        "images": [
         {
          "sizex": 0.13,
          "sizey": 0.13,
          "source": "logo.png",
          "x": -0.099,
          "xanchor": "left",
          "xref": "paper",
          "y": 1.18,
          "yanchor": "top",
          "yref": "paper"
         }
        ],
        "legend": {
         "title": {},
         "tracegroupgap": 0
        },
        "paper_bgcolor": "#F4F2F0",
        "plot_bgcolor": "#F4F2F0",
        "template": {
         "data": {
          "bar": [
           {
            "error_x": {
             "color": "#2a3f5f"
            },
            "error_y": {
             "color": "#2a3f5f"
            },
            "marker": {
             "line": {
              "color": "#E5ECF6",
              "width": 0.5
             },
             "pattern": {
              "fillmode": "overlay",
              "size": 10,
              "solidity": 0.2
             }
            },
            "type": "bar"
           }
          ],
          "barpolar": [
           {
            "marker": {
             "line": {
              "color": "#E5ECF6",
              "width": 0.5
             },
             "pattern": {
              "fillmode": "overlay",
              "size": 10,
              "solidity": 0.2
             }
            },
            "type": "barpolar"
           }
          ],
          "carpet": [
           {
            "aaxis": {
             "endlinecolor": "#2a3f5f",
             "gridcolor": "white",
             "linecolor": "white",
             "minorgridcolor": "white",
             "startlinecolor": "#2a3f5f"
            },
            "baxis": {
             "endlinecolor": "#2a3f5f",
             "gridcolor": "white",
             "linecolor": "white",
             "minorgridcolor": "white",
             "startlinecolor": "#2a3f5f"
            },
            "type": "carpet"
           }
          ],
          "choropleth": [
           {
            "colorbar": {
             "outlinewidth": 0,
             "ticks": ""
            },
            "type": "choropleth"
           }
          ],
          "contour": [
           {
            "colorbar": {
             "outlinewidth": 0,
             "ticks": ""
            },
            "colorscale": [
             [
              0,
              "#0d0887"
             ],
             [
              0.1111111111111111,
              "#46039f"
             ],
             [
              0.2222222222222222,
              "#7201a8"
             ],
             [
              0.3333333333333333,
              "#9c179e"
             ],
             [
              0.4444444444444444,
              "#bd3786"
             ],
             [
              0.5555555555555556,
              "#d8576b"
             ],
             [
              0.6666666666666666,
              "#ed7953"
             ],
             [
              0.7777777777777778,
              "#fb9f3a"
             ],
             [
              0.8888888888888888,
              "#fdca26"
             ],
             [
              1,
              "#f0f921"
             ]
            ],
            "type": "contour"
           }
          ],
          "contourcarpet": [
           {
            "colorbar": {
             "outlinewidth": 0,
             "ticks": ""
            },
            "type": "contourcarpet"
           }
          ],
          "heatmap": [
           {
            "colorbar": {
             "outlinewidth": 0,
             "ticks": ""
            },
            "colorscale": [
             [
              0,
              "#0d0887"
             ],
             [
              0.1111111111111111,
              "#46039f"
             ],
             [
              0.2222222222222222,
              "#7201a8"
             ],
             [
              0.3333333333333333,
              "#9c179e"
             ],
             [
              0.4444444444444444,
              "#bd3786"
             ],
             [
              0.5555555555555556,
              "#d8576b"
             ],
             [
              0.6666666666666666,
              "#ed7953"
             ],
             [
              0.7777777777777778,
              "#fb9f3a"
             ],
             [
              0.8888888888888888,
              "#fdca26"
             ],
             [
              1,
              "#f0f921"
             ]
            ],
            "type": "heatmap"
           }
          ],
          "heatmapgl": [
           {
            "colorbar": {
             "outlinewidth": 0,
             "ticks": ""
            },
            "colorscale": [
             [
              0,
              "#0d0887"
             ],
             [
              0.1111111111111111,
              "#46039f"
             ],
             [
              0.2222222222222222,
              "#7201a8"
             ],
             [
              0.3333333333333333,
              "#9c179e"
             ],
             [
              0.4444444444444444,
              "#bd3786"
             ],
             [
              0.5555555555555556,
              "#d8576b"
             ],
             [
              0.6666666666666666,
              "#ed7953"
             ],
             [
              0.7777777777777778,
              "#fb9f3a"
             ],
             [
              0.8888888888888888,
              "#fdca26"
             ],
             [
              1,
              "#f0f921"
             ]
            ],
            "type": "heatmapgl"
           }
          ],
          "histogram": [
           {
            "marker": {
             "pattern": {
              "fillmode": "overlay",
              "size": 10,
              "solidity": 0.2
             }
            },
            "type": "histogram"
           }
          ],
          "histogram2d": [
           {
            "colorbar": {
             "outlinewidth": 0,
             "ticks": ""
            },
            "colorscale": [
             [
              0,
              "#0d0887"
             ],
             [
              0.1111111111111111,
              "#46039f"
             ],
             [
              0.2222222222222222,
              "#7201a8"
             ],
             [
              0.3333333333333333,
              "#9c179e"
             ],
             [
              0.4444444444444444,
              "#bd3786"
             ],
             [
              0.5555555555555556,
              "#d8576b"
             ],
             [
              0.6666666666666666,
              "#ed7953"
             ],
             [
              0.7777777777777778,
              "#fb9f3a"
             ],
             [
              0.8888888888888888,
              "#fdca26"
             ],
             [
              1,
              "#f0f921"
             ]
            ],
            "type": "histogram2d"
           }
          ],
          "histogram2dcontour": [
           {
            "colorbar": {
             "outlinewidth": 0,
             "ticks": ""
            },
            "colorscale": [
             [
              0,
              "#0d0887"
             ],
             [
              0.1111111111111111,
              "#46039f"
             ],
             [
              0.2222222222222222,
              "#7201a8"
             ],
             [
              0.3333333333333333,
              "#9c179e"
             ],
             [
              0.4444444444444444,
              "#bd3786"
             ],
             [
              0.5555555555555556,
              "#d8576b"
             ],
             [
              0.6666666666666666,
              "#ed7953"
             ],
             [
              0.7777777777777778,
              "#fb9f3a"
             ],
             [
              0.8888888888888888,
              "#fdca26"
             ],
             [
              1,
              "#f0f921"
             ]
            ],
            "type": "histogram2dcontour"
           }
          ],
          "mesh3d": [
           {
            "colorbar": {
             "outlinewidth": 0,
             "ticks": ""
            },
            "type": "mesh3d"
           }
          ],
          "parcoords": [
           {
            "line": {
             "colorbar": {
              "outlinewidth": 0,
              "ticks": ""
             }
            },
            "type": "parcoords"
           }
          ],
          "pie": [
           {
            "automargin": true,
            "type": "pie"
           }
          ],
          "scatter": [
           {
            "fillpattern": {
             "fillmode": "overlay",
             "size": 10,
             "solidity": 0.2
            },
            "type": "scatter"
           }
          ],
          "scatter3d": [
           {
            "line": {
             "colorbar": {
              "outlinewidth": 0,
              "ticks": ""
             }
            },
            "marker": {
             "colorbar": {
              "outlinewidth": 0,
              "ticks": ""
             }
            },
            "type": "scatter3d"
           }
          ],
          "scattercarpet": [
           {
            "marker": {
             "colorbar": {
              "outlinewidth": 0,
              "ticks": ""
             }
            },
            "type": "scattercarpet"
           }
          ],
          "scattergeo": [
           {
            "marker": {
             "colorbar": {
              "outlinewidth": 0,
              "ticks": ""
             }
            },
            "type": "scattergeo"
           }
          ],
          "scattergl": [
           {
            "marker": {
             "colorbar": {
              "outlinewidth": 0,
              "ticks": ""
             }
            },
            "type": "scattergl"
           }
          ],
          "scattermapbox": [
           {
            "marker": {
             "colorbar": {
              "outlinewidth": 0,
              "ticks": ""
             }
            },
            "type": "scattermapbox"
           }
          ],
          "scatterpolar": [
           {
            "marker": {
             "colorbar": {
              "outlinewidth": 0,
              "ticks": ""
             }
            },
            "type": "scatterpolar"
           }
          ],
          "scatterpolargl": [
           {
            "marker": {
             "colorbar": {
              "outlinewidth": 0,
              "ticks": ""
             }
            },
            "type": "scatterpolargl"
           }
          ],
          "scatterternary": [
           {
            "marker": {
             "colorbar": {
              "outlinewidth": 0,
              "ticks": ""
             }
            },
            "type": "scatterternary"
           }
          ],
          "surface": [
           {
            "colorbar": {
             "outlinewidth": 0,
             "ticks": ""
            },
            "colorscale": [
             [
              0,
              "#0d0887"
             ],
             [
              0.1111111111111111,
              "#46039f"
             ],
             [
              0.2222222222222222,
              "#7201a8"
             ],
             [
              0.3333333333333333,
              "#9c179e"
             ],
             [
              0.4444444444444444,
              "#bd3786"
             ],
             [
              0.5555555555555556,
              "#d8576b"
             ],
             [
              0.6666666666666666,
              "#ed7953"
             ],
             [
              0.7777777777777778,
              "#fb9f3a"
             ],
             [
              0.8888888888888888,
              "#fdca26"
             ],
             [
              1,
              "#f0f921"
             ]
            ],
            "type": "surface"
           }
          ],
          "table": [
           {
            "cells": {
             "fill": {
              "color": "#EBF0F8"
             },
             "line": {
              "color": "white"
             }
            },
            "header": {
             "fill": {
              "color": "#C8D4E3"
             },
             "line": {
              "color": "white"
             }
            },
            "type": "table"
           }
          ]
         },
         "layout": {
          "annotationdefaults": {
           "arrowcolor": "#2a3f5f",
           "arrowhead": 0,
           "arrowwidth": 1
          },
          "autotypenumbers": "strict",
          "coloraxis": {
           "colorbar": {
            "outlinewidth": 0,
            "ticks": ""
           }
          },
          "colorscale": {
           "diverging": [
            [
             0,
             "#8e0152"
            ],
            [
             0.1,
             "#c51b7d"
            ],
            [
             0.2,
             "#de77ae"
            ],
            [
             0.3,
             "#f1b6da"
            ],
            [
             0.4,
             "#fde0ef"
            ],
            [
             0.5,
             "#f7f7f7"
            ],
            [
             0.6,
             "#e6f5d0"
            ],
            [
             0.7,
             "#b8e186"
            ],
            [
             0.8,
             "#7fbc41"
            ],
            [
             0.9,
             "#4d9221"
            ],
            [
             1,
             "#276419"
            ]
           ],
           "sequential": [
            [
             0,
             "#0d0887"
            ],
            [
             0.1111111111111111,
             "#46039f"
            ],
            [
             0.2222222222222222,
             "#7201a8"
            ],
            [
             0.3333333333333333,
             "#9c179e"
            ],
            [
             0.4444444444444444,
             "#bd3786"
            ],
            [
             0.5555555555555556,
             "#d8576b"
            ],
            [
             0.6666666666666666,
             "#ed7953"
            ],
            [
             0.7777777777777778,
             "#fb9f3a"
            ],
            [
             0.8888888888888888,
             "#fdca26"
            ],
            [
             1,
             "#f0f921"
            ]
           ],
           "sequentialminus": [
            [
             0,
             "#0d0887"
            ],
            [
             0.1111111111111111,
             "#46039f"
            ],
            [
             0.2222222222222222,
             "#7201a8"
            ],
            [
             0.3333333333333333,
             "#9c179e"
            ],
            [
             0.4444444444444444,
             "#bd3786"
            ],
            [
             0.5555555555555556,
             "#d8576b"
            ],
            [
             0.6666666666666666,
             "#ed7953"
            ],
            [
             0.7777777777777778,
             "#fb9f3a"
            ],
            [
             0.8888888888888888,
             "#fdca26"
            ],
            [
             1,
             "#f0f921"
            ]
           ]
          },
          "colorway": [
           "#636efa",
           "#EF553B",
           "#00cc96",
           "#ab63fa",
           "#FFA15A",
           "#19d3f3",
           "#FF6692",
           "#B6E880",
           "#FF97FF",
           "#FECB52"
          ],
          "font": {
           "color": "#2a3f5f"
          },
          "geo": {
           "bgcolor": "white",
           "lakecolor": "white",
           "landcolor": "#E5ECF6",
           "showlakes": true,
           "showland": true,
           "subunitcolor": "white"
          },
          "hoverlabel": {
           "align": "left"
          },
          "hovermode": "closest",
          "mapbox": {
           "style": "light"
          },
          "paper_bgcolor": "white",
          "plot_bgcolor": "#E5ECF6",
          "polar": {
           "angularaxis": {
            "gridcolor": "white",
            "linecolor": "white",
            "ticks": ""
           },
           "bgcolor": "#E5ECF6",
           "radialaxis": {
            "gridcolor": "white",
            "linecolor": "white",
            "ticks": ""
           }
          },
          "scene": {
           "xaxis": {
            "backgroundcolor": "#E5ECF6",
            "gridcolor": "white",
            "gridwidth": 2,
            "linecolor": "white",
            "showbackground": true,
            "ticks": "",
            "zerolinecolor": "white"
           },
           "yaxis": {
            "backgroundcolor": "#E5ECF6",
            "gridcolor": "white",
            "gridwidth": 2,
            "linecolor": "white",
            "showbackground": true,
            "ticks": "",
            "zerolinecolor": "white"
           },
           "zaxis": {
            "backgroundcolor": "#E5ECF6",
            "gridcolor": "white",
            "gridwidth": 2,
            "linecolor": "white",
            "showbackground": true,
            "ticks": "",
            "zerolinecolor": "white"
           }
          },
          "shapedefaults": {
           "line": {
            "color": "#2a3f5f"
           }
          },
          "ternary": {
           "aaxis": {
            "gridcolor": "white",
            "linecolor": "white",
            "ticks": ""
           },
           "baxis": {
            "gridcolor": "white",
            "linecolor": "white",
            "ticks": ""
           },
           "bgcolor": "#E5ECF6",
           "caxis": {
            "gridcolor": "white",
            "linecolor": "white",
            "ticks": ""
           }
          },
          "title": {
           "x": 0.05
          },
          "xaxis": {
           "automargin": true,
           "gridcolor": "white",
           "linecolor": "white",
           "ticks": "",
           "title": {
            "standoff": 15
           },
           "zerolinecolor": "white",
           "zerolinewidth": 2
          },
          "yaxis": {
           "automargin": true,
           "gridcolor": "white",
           "linecolor": "white",
           "ticks": "",
           "title": {
            "standoff": 15
           },
           "zerolinecolor": "white",
           "zerolinewidth": 2
          }
         }
        },
        "title": {
         "font": {
          "family": "Georgia",
          "size": 24
         },
         "text": "Drake Music Energy Levels",
         "x": 0.17,
         "y": 0.945
        },
        "width": 700,
        "xaxis": {
         "anchor": "y",
         "domain": [
          0,
          1
         ],
         "showgrid": true,
         "tickangle": 0.5,
         "tickfont": {
          "size": 11
         },
         "title": {
          "text": "Year"
         }
        },
        "yaxis": {
         "anchor": "x",
         "domain": [
          0,
          1
         ],
         "dtick": 0.2,
         "range": [
          0,
          1
         ],
         "rangemode": "tozero",
         "showgrid": true,
         "title": {
          "text": "Energy"
         }
        }
       }
      }
     },
     "metadata": {},
     "output_type": "display_data"
    }
   ],
   "source": [
    "fig9 = px.line(energy_trend, x='Release Year', y='Energy', title=\"Drake Music Energy Levels\")\n",
    "\n",
    "\n",
    "fig9.update_layout(title=dict(x=0.17, y=0.945, font=dict(size=24, family='Georgia')),\n",
    "                  width=700, height=700,\n",
    "                  paper_bgcolor='#F4F2F0', plot_bgcolor='#F4F2F0',\n",
    "                  xaxis=dict(showgrid=True), yaxis=dict(showgrid=True),\n",
    "                  xaxis_title=\"Year\", yaxis_title=\"Energy\", legend_title = None)\n",
    "fig9.update_traces(marker_line=dict(width=1, color='grey'), marker_color='#1ed760')\n",
    "\n",
    "fig9.update_xaxes(tickfont=dict(size=11), tickangle=0.5)\n",
    "fig9.update_yaxes(range=[0,1], rangemode='tozero', dtick=0.2)\n",
    "\n",
    "#Spotify\n",
    "fig9.add_layout_image(\n",
    "    dict(\n",
    "        source=\"logo.png\",\n",
    "        xref=\"paper\",\n",
    "        yref=\"paper\",\n",
    "        x=-0.099,\n",
    "        y=1.18,\n",
    "        sizex=0.13,\n",
    "        sizey=0.13,\n",
    "        xanchor=\"left\",\n",
    "        yanchor=\"top\"\n",
    "    )\n",
    ")\n",
    "\n",
    "\n",
    "#Credit\n",
    "fig9.add_annotation(\n",
    "    x=1.1,  # x-coordinate of the annotation\n",
    "    y=-0.15,  # y-coordinate of the annotation\n",
    "    xref='paper',  # x-coordinate reference system\n",
    "    yref='paper',  # y-coordinate reference system\n",
    "    text='Visual Created By Bjorn S.',  # text to display\n",
    "    showarrow=False,  # hide arrow head\n",
    "    font=dict(size=16, color='#535353', family='Georgia'),  # font style\n",
    "    align='right'  # horizontal alignment\n",
    ")\n",
    "\n",
    "fig9.show()"
   ]
  },
  {
   "cell_type": "code",
   "execution_count": 1534,
   "metadata": {},
   "outputs": [],
   "source": [
    "music_2 = '''SELECT [Release Year], AVG(Acousticness) AS Acousticness\n",
    "FROM data\n",
    "GROUP BY 1'''\n",
    "\n",
    "acoustic_trend = pysqldf(music_2)"
   ]
  },
  {
   "cell_type": "code",
   "execution_count": 1535,
   "metadata": {},
   "outputs": [
    {
     "data": {
      "text/html": [
       "<div>\n",
       "<style scoped>\n",
       "    .dataframe tbody tr th:only-of-type {\n",
       "        vertical-align: middle;\n",
       "    }\n",
       "\n",
       "    .dataframe tbody tr th {\n",
       "        vertical-align: top;\n",
       "    }\n",
       "\n",
       "    .dataframe thead th {\n",
       "        text-align: right;\n",
       "    }\n",
       "</style>\n",
       "<table border=\"1\" class=\"dataframe\">\n",
       "  <thead>\n",
       "    <tr style=\"text-align: right;\">\n",
       "      <th></th>\n",
       "      <th>Release Year</th>\n",
       "      <th>Acousticness</th>\n",
       "    </tr>\n",
       "  </thead>\n",
       "  <tbody>\n",
       "    <tr>\n",
       "      <th>0</th>\n",
       "      <td>2010</td>\n",
       "      <td>0.192844</td>\n",
       "    </tr>\n",
       "    <tr>\n",
       "      <th>1</th>\n",
       "      <td>2011</td>\n",
       "      <td>0.291334</td>\n",
       "    </tr>\n",
       "    <tr>\n",
       "      <th>2</th>\n",
       "      <td>2013</td>\n",
       "      <td>0.146517</td>\n",
       "    </tr>\n",
       "    <tr>\n",
       "      <th>3</th>\n",
       "      <td>2015</td>\n",
       "      <td>0.213772</td>\n",
       "    </tr>\n",
       "    <tr>\n",
       "      <th>4</th>\n",
       "      <td>2016</td>\n",
       "      <td>0.118784</td>\n",
       "    </tr>\n",
       "    <tr>\n",
       "      <th>5</th>\n",
       "      <td>2017</td>\n",
       "      <td>0.198064</td>\n",
       "    </tr>\n",
       "    <tr>\n",
       "      <th>6</th>\n",
       "      <td>2018</td>\n",
       "      <td>0.194322</td>\n",
       "    </tr>\n",
       "    <tr>\n",
       "      <th>7</th>\n",
       "      <td>2019</td>\n",
       "      <td>0.396247</td>\n",
       "    </tr>\n",
       "    <tr>\n",
       "      <th>8</th>\n",
       "      <td>2020</td>\n",
       "      <td>0.315776</td>\n",
       "    </tr>\n",
       "    <tr>\n",
       "      <th>9</th>\n",
       "      <td>2021</td>\n",
       "      <td>0.269656</td>\n",
       "    </tr>\n",
       "    <tr>\n",
       "      <th>10</th>\n",
       "      <td>2022</td>\n",
       "      <td>0.224732</td>\n",
       "    </tr>\n",
       "  </tbody>\n",
       "</table>\n",
       "</div>"
      ],
      "text/plain": [
       "    Release Year  Acousticness\n",
       "0           2010      0.192844\n",
       "1           2011      0.291334\n",
       "2           2013      0.146517\n",
       "3           2015      0.213772\n",
       "4           2016      0.118784\n",
       "5           2017      0.198064\n",
       "6           2018      0.194322\n",
       "7           2019      0.396247\n",
       "8           2020      0.315776\n",
       "9           2021      0.269656\n",
       "10          2022      0.224732"
      ]
     },
     "execution_count": 1535,
     "metadata": {},
     "output_type": "execute_result"
    }
   ],
   "source": [
    "acoustic_trend"
   ]
  },
  {
   "cell_type": "code",
   "execution_count": 1542,
   "metadata": {},
   "outputs": [
    {
     "data": {
      "application/vnd.plotly.v1+json": {
       "config": {
        "plotlyServerURL": "https://plot.ly"
       },
       "data": [
        {
         "hovertemplate": "Release Year=%{x}<br>Acousticness=%{y}<extra></extra>",
         "legendgroup": "",
         "line": {
          "color": "#636efa",
          "dash": "solid"
         },
         "marker": {
          "color": "#1ed760",
          "line": {
           "color": "grey",
           "width": 1
          },
          "symbol": "circle"
         },
         "mode": "lines",
         "name": "",
         "orientation": "v",
         "showlegend": false,
         "type": "scatter",
         "x": [
          2010,
          2011,
          2013,
          2015,
          2016,
          2017,
          2018,
          2019,
          2020,
          2021,
          2022
         ],
         "xaxis": "x",
         "y": [
          0.19284357142857145,
          0.2913341578947368,
          0.14651666666666668,
          0.2137719642857143,
          0.11878364999999999,
          0.19806363636363636,
          0.19432159999999998,
          0.3962471428571428,
          0.3157757142857142,
          0.2696556666666667,
          0.22473210000000002
         ],
         "yaxis": "y"
        }
       ],
       "layout": {
        "annotations": [
         {
          "align": "right",
          "font": {
           "color": "#535353",
           "family": "Georgia",
           "size": 16
          },
          "showarrow": false,
          "text": "Visual Created By Bjorn S.",
          "x": 1.1,
          "xref": "paper",
          "y": -0.15,
          "yref": "paper"
         }
        ],
        "height": 700,
        "images": [
         {
          "sizex": 0.13,
          "sizey": 0.13,
          "source": "logo.png",
          "x": -0.099,
          "xanchor": "left",
          "xref": "paper",
          "y": 1.18,
          "yanchor": "top",
          "yref": "paper"
         }
        ],
        "legend": {
         "title": {},
         "tracegroupgap": 0
        },
        "paper_bgcolor": "#F4F2F0",
        "plot_bgcolor": "#F4F2F0",
        "template": {
         "data": {
          "bar": [
           {
            "error_x": {
             "color": "#2a3f5f"
            },
            "error_y": {
             "color": "#2a3f5f"
            },
            "marker": {
             "line": {
              "color": "#E5ECF6",
              "width": 0.5
             },
             "pattern": {
              "fillmode": "overlay",
              "size": 10,
              "solidity": 0.2
             }
            },
            "type": "bar"
           }
          ],
          "barpolar": [
           {
            "marker": {
             "line": {
              "color": "#E5ECF6",
              "width": 0.5
             },
             "pattern": {
              "fillmode": "overlay",
              "size": 10,
              "solidity": 0.2
             }
            },
            "type": "barpolar"
           }
          ],
          "carpet": [
           {
            "aaxis": {
             "endlinecolor": "#2a3f5f",
             "gridcolor": "white",
             "linecolor": "white",
             "minorgridcolor": "white",
             "startlinecolor": "#2a3f5f"
            },
            "baxis": {
             "endlinecolor": "#2a3f5f",
             "gridcolor": "white",
             "linecolor": "white",
             "minorgridcolor": "white",
             "startlinecolor": "#2a3f5f"
            },
            "type": "carpet"
           }
          ],
          "choropleth": [
           {
            "colorbar": {
             "outlinewidth": 0,
             "ticks": ""
            },
            "type": "choropleth"
           }
          ],
          "contour": [
           {
            "colorbar": {
             "outlinewidth": 0,
             "ticks": ""
            },
            "colorscale": [
             [
              0,
              "#0d0887"
             ],
             [
              0.1111111111111111,
              "#46039f"
             ],
             [
              0.2222222222222222,
              "#7201a8"
             ],
             [
              0.3333333333333333,
              "#9c179e"
             ],
             [
              0.4444444444444444,
              "#bd3786"
             ],
             [
              0.5555555555555556,
              "#d8576b"
             ],
             [
              0.6666666666666666,
              "#ed7953"
             ],
             [
              0.7777777777777778,
              "#fb9f3a"
             ],
             [
              0.8888888888888888,
              "#fdca26"
             ],
             [
              1,
              "#f0f921"
             ]
            ],
            "type": "contour"
           }
          ],
          "contourcarpet": [
           {
            "colorbar": {
             "outlinewidth": 0,
             "ticks": ""
            },
            "type": "contourcarpet"
           }
          ],
          "heatmap": [
           {
            "colorbar": {
             "outlinewidth": 0,
             "ticks": ""
            },
            "colorscale": [
             [
              0,
              "#0d0887"
             ],
             [
              0.1111111111111111,
              "#46039f"
             ],
             [
              0.2222222222222222,
              "#7201a8"
             ],
             [
              0.3333333333333333,
              "#9c179e"
             ],
             [
              0.4444444444444444,
              "#bd3786"
             ],
             [
              0.5555555555555556,
              "#d8576b"
             ],
             [
              0.6666666666666666,
              "#ed7953"
             ],
             [
              0.7777777777777778,
              "#fb9f3a"
             ],
             [
              0.8888888888888888,
              "#fdca26"
             ],
             [
              1,
              "#f0f921"
             ]
            ],
            "type": "heatmap"
           }
          ],
          "heatmapgl": [
           {
            "colorbar": {
             "outlinewidth": 0,
             "ticks": ""
            },
            "colorscale": [
             [
              0,
              "#0d0887"
             ],
             [
              0.1111111111111111,
              "#46039f"
             ],
             [
              0.2222222222222222,
              "#7201a8"
             ],
             [
              0.3333333333333333,
              "#9c179e"
             ],
             [
              0.4444444444444444,
              "#bd3786"
             ],
             [
              0.5555555555555556,
              "#d8576b"
             ],
             [
              0.6666666666666666,
              "#ed7953"
             ],
             [
              0.7777777777777778,
              "#fb9f3a"
             ],
             [
              0.8888888888888888,
              "#fdca26"
             ],
             [
              1,
              "#f0f921"
             ]
            ],
            "type": "heatmapgl"
           }
          ],
          "histogram": [
           {
            "marker": {
             "pattern": {
              "fillmode": "overlay",
              "size": 10,
              "solidity": 0.2
             }
            },
            "type": "histogram"
           }
          ],
          "histogram2d": [
           {
            "colorbar": {
             "outlinewidth": 0,
             "ticks": ""
            },
            "colorscale": [
             [
              0,
              "#0d0887"
             ],
             [
              0.1111111111111111,
              "#46039f"
             ],
             [
              0.2222222222222222,
              "#7201a8"
             ],
             [
              0.3333333333333333,
              "#9c179e"
             ],
             [
              0.4444444444444444,
              "#bd3786"
             ],
             [
              0.5555555555555556,
              "#d8576b"
             ],
             [
              0.6666666666666666,
              "#ed7953"
             ],
             [
              0.7777777777777778,
              "#fb9f3a"
             ],
             [
              0.8888888888888888,
              "#fdca26"
             ],
             [
              1,
              "#f0f921"
             ]
            ],
            "type": "histogram2d"
           }
          ],
          "histogram2dcontour": [
           {
            "colorbar": {
             "outlinewidth": 0,
             "ticks": ""
            },
            "colorscale": [
             [
              0,
              "#0d0887"
             ],
             [
              0.1111111111111111,
              "#46039f"
             ],
             [
              0.2222222222222222,
              "#7201a8"
             ],
             [
              0.3333333333333333,
              "#9c179e"
             ],
             [
              0.4444444444444444,
              "#bd3786"
             ],
             [
              0.5555555555555556,
              "#d8576b"
             ],
             [
              0.6666666666666666,
              "#ed7953"
             ],
             [
              0.7777777777777778,
              "#fb9f3a"
             ],
             [
              0.8888888888888888,
              "#fdca26"
             ],
             [
              1,
              "#f0f921"
             ]
            ],
            "type": "histogram2dcontour"
           }
          ],
          "mesh3d": [
           {
            "colorbar": {
             "outlinewidth": 0,
             "ticks": ""
            },
            "type": "mesh3d"
           }
          ],
          "parcoords": [
           {
            "line": {
             "colorbar": {
              "outlinewidth": 0,
              "ticks": ""
             }
            },
            "type": "parcoords"
           }
          ],
          "pie": [
           {
            "automargin": true,
            "type": "pie"
           }
          ],
          "scatter": [
           {
            "fillpattern": {
             "fillmode": "overlay",
             "size": 10,
             "solidity": 0.2
            },
            "type": "scatter"
           }
          ],
          "scatter3d": [
           {
            "line": {
             "colorbar": {
              "outlinewidth": 0,
              "ticks": ""
             }
            },
            "marker": {
             "colorbar": {
              "outlinewidth": 0,
              "ticks": ""
             }
            },
            "type": "scatter3d"
           }
          ],
          "scattercarpet": [
           {
            "marker": {
             "colorbar": {
              "outlinewidth": 0,
              "ticks": ""
             }
            },
            "type": "scattercarpet"
           }
          ],
          "scattergeo": [
           {
            "marker": {
             "colorbar": {
              "outlinewidth": 0,
              "ticks": ""
             }
            },
            "type": "scattergeo"
           }
          ],
          "scattergl": [
           {
            "marker": {
             "colorbar": {
              "outlinewidth": 0,
              "ticks": ""
             }
            },
            "type": "scattergl"
           }
          ],
          "scattermapbox": [
           {
            "marker": {
             "colorbar": {
              "outlinewidth": 0,
              "ticks": ""
             }
            },
            "type": "scattermapbox"
           }
          ],
          "scatterpolar": [
           {
            "marker": {
             "colorbar": {
              "outlinewidth": 0,
              "ticks": ""
             }
            },
            "type": "scatterpolar"
           }
          ],
          "scatterpolargl": [
           {
            "marker": {
             "colorbar": {
              "outlinewidth": 0,
              "ticks": ""
             }
            },
            "type": "scatterpolargl"
           }
          ],
          "scatterternary": [
           {
            "marker": {
             "colorbar": {
              "outlinewidth": 0,
              "ticks": ""
             }
            },
            "type": "scatterternary"
           }
          ],
          "surface": [
           {
            "colorbar": {
             "outlinewidth": 0,
             "ticks": ""
            },
            "colorscale": [
             [
              0,
              "#0d0887"
             ],
             [
              0.1111111111111111,
              "#46039f"
             ],
             [
              0.2222222222222222,
              "#7201a8"
             ],
             [
              0.3333333333333333,
              "#9c179e"
             ],
             [
              0.4444444444444444,
              "#bd3786"
             ],
             [
              0.5555555555555556,
              "#d8576b"
             ],
             [
              0.6666666666666666,
              "#ed7953"
             ],
             [
              0.7777777777777778,
              "#fb9f3a"
             ],
             [
              0.8888888888888888,
              "#fdca26"
             ],
             [
              1,
              "#f0f921"
             ]
            ],
            "type": "surface"
           }
          ],
          "table": [
           {
            "cells": {
             "fill": {
              "color": "#EBF0F8"
             },
             "line": {
              "color": "white"
             }
            },
            "header": {
             "fill": {
              "color": "#C8D4E3"
             },
             "line": {
              "color": "white"
             }
            },
            "type": "table"
           }
          ]
         },
         "layout": {
          "annotationdefaults": {
           "arrowcolor": "#2a3f5f",
           "arrowhead": 0,
           "arrowwidth": 1
          },
          "autotypenumbers": "strict",
          "coloraxis": {
           "colorbar": {
            "outlinewidth": 0,
            "ticks": ""
           }
          },
          "colorscale": {
           "diverging": [
            [
             0,
             "#8e0152"
            ],
            [
             0.1,
             "#c51b7d"
            ],
            [
             0.2,
             "#de77ae"
            ],
            [
             0.3,
             "#f1b6da"
            ],
            [
             0.4,
             "#fde0ef"
            ],
            [
             0.5,
             "#f7f7f7"
            ],
            [
             0.6,
             "#e6f5d0"
            ],
            [
             0.7,
             "#b8e186"
            ],
            [
             0.8,
             "#7fbc41"
            ],
            [
             0.9,
             "#4d9221"
            ],
            [
             1,
             "#276419"
            ]
           ],
           "sequential": [
            [
             0,
             "#0d0887"
            ],
            [
             0.1111111111111111,
             "#46039f"
            ],
            [
             0.2222222222222222,
             "#7201a8"
            ],
            [
             0.3333333333333333,
             "#9c179e"
            ],
            [
             0.4444444444444444,
             "#bd3786"
            ],
            [
             0.5555555555555556,
             "#d8576b"
            ],
            [
             0.6666666666666666,
             "#ed7953"
            ],
            [
             0.7777777777777778,
             "#fb9f3a"
            ],
            [
             0.8888888888888888,
             "#fdca26"
            ],
            [
             1,
             "#f0f921"
            ]
           ],
           "sequentialminus": [
            [
             0,
             "#0d0887"
            ],
            [
             0.1111111111111111,
             "#46039f"
            ],
            [
             0.2222222222222222,
             "#7201a8"
            ],
            [
             0.3333333333333333,
             "#9c179e"
            ],
            [
             0.4444444444444444,
             "#bd3786"
            ],
            [
             0.5555555555555556,
             "#d8576b"
            ],
            [
             0.6666666666666666,
             "#ed7953"
            ],
            [
             0.7777777777777778,
             "#fb9f3a"
            ],
            [
             0.8888888888888888,
             "#fdca26"
            ],
            [
             1,
             "#f0f921"
            ]
           ]
          },
          "colorway": [
           "#636efa",
           "#EF553B",
           "#00cc96",
           "#ab63fa",
           "#FFA15A",
           "#19d3f3",
           "#FF6692",
           "#B6E880",
           "#FF97FF",
           "#FECB52"
          ],
          "font": {
           "color": "#2a3f5f"
          },
          "geo": {
           "bgcolor": "white",
           "lakecolor": "white",
           "landcolor": "#E5ECF6",
           "showlakes": true,
           "showland": true,
           "subunitcolor": "white"
          },
          "hoverlabel": {
           "align": "left"
          },
          "hovermode": "closest",
          "mapbox": {
           "style": "light"
          },
          "paper_bgcolor": "white",
          "plot_bgcolor": "#E5ECF6",
          "polar": {
           "angularaxis": {
            "gridcolor": "white",
            "linecolor": "white",
            "ticks": ""
           },
           "bgcolor": "#E5ECF6",
           "radialaxis": {
            "gridcolor": "white",
            "linecolor": "white",
            "ticks": ""
           }
          },
          "scene": {
           "xaxis": {
            "backgroundcolor": "#E5ECF6",
            "gridcolor": "white",
            "gridwidth": 2,
            "linecolor": "white",
            "showbackground": true,
            "ticks": "",
            "zerolinecolor": "white"
           },
           "yaxis": {
            "backgroundcolor": "#E5ECF6",
            "gridcolor": "white",
            "gridwidth": 2,
            "linecolor": "white",
            "showbackground": true,
            "ticks": "",
            "zerolinecolor": "white"
           },
           "zaxis": {
            "backgroundcolor": "#E5ECF6",
            "gridcolor": "white",
            "gridwidth": 2,
            "linecolor": "white",
            "showbackground": true,
            "ticks": "",
            "zerolinecolor": "white"
           }
          },
          "shapedefaults": {
           "line": {
            "color": "#2a3f5f"
           }
          },
          "ternary": {
           "aaxis": {
            "gridcolor": "white",
            "linecolor": "white",
            "ticks": ""
           },
           "baxis": {
            "gridcolor": "white",
            "linecolor": "white",
            "ticks": ""
           },
           "bgcolor": "#E5ECF6",
           "caxis": {
            "gridcolor": "white",
            "linecolor": "white",
            "ticks": ""
           }
          },
          "title": {
           "x": 0.05
          },
          "xaxis": {
           "automargin": true,
           "gridcolor": "white",
           "linecolor": "white",
           "ticks": "",
           "title": {
            "standoff": 15
           },
           "zerolinecolor": "white",
           "zerolinewidth": 2
          },
          "yaxis": {
           "automargin": true,
           "gridcolor": "white",
           "linecolor": "white",
           "ticks": "",
           "title": {
            "standoff": 15
           },
           "zerolinecolor": "white",
           "zerolinewidth": 2
          }
         }
        },
        "title": {
         "font": {
          "family": "Georgia",
          "size": 24
         },
         "text": "Drake Music Acousticness Levels",
         "x": 0.17,
         "y": 0.945
        },
        "width": 700,
        "xaxis": {
         "anchor": "y",
         "domain": [
          0,
          1
         ],
         "showgrid": true,
         "tickangle": 0.5,
         "tickfont": {
          "size": 11
         },
         "title": {
          "text": "Year"
         }
        },
        "yaxis": {
         "anchor": "x",
         "domain": [
          0,
          1
         ],
         "dtick": 0.2,
         "range": [
          0,
          1
         ],
         "rangemode": "tozero",
         "showgrid": true,
         "title": {
          "text": "Acousticness"
         }
        }
       }
      }
     },
     "metadata": {},
     "output_type": "display_data"
    }
   ],
   "source": [
    "fig10 = px.line(acoustic_trend, x='Release Year', y='Acousticness', title=\"Drake Music Acousticness Levels\")\n",
    "\n",
    "\n",
    "fig10.update_layout(title=dict(x=0.17, y=0.945, font=dict(size=24, family='Georgia')),\n",
    "                  width=700, height=700,\n",
    "                  paper_bgcolor='#F4F2F0', plot_bgcolor='#F4F2F0',\n",
    "                  xaxis=dict(showgrid=True), yaxis=dict(showgrid=True),\n",
    "                  xaxis_title=\"Year\", yaxis_title=\"Acousticness\", legend_title = None)\n",
    "fig10.update_traces(marker_line=dict(width=1, color='grey'), marker_color='#1ed760')\n",
    "\n",
    "fig10.update_xaxes(tickfont=dict(size=11), tickangle=0.5)\n",
    "fig10.update_yaxes(range=[0,1], rangemode='tozero', dtick=0.2)\n",
    "\n",
    "#Spotify\n",
    "fig10.add_layout_image(\n",
    "    dict(\n",
    "        source=\"logo.png\",\n",
    "        xref=\"paper\",\n",
    "        yref=\"paper\",\n",
    "        x=-0.099,\n",
    "        y=1.18,\n",
    "        sizex=0.13,\n",
    "        sizey=0.13,\n",
    "        xanchor=\"left\",\n",
    "        yanchor=\"top\"\n",
    "    )\n",
    ")\n",
    "\n",
    "#Credit\n",
    "fig10.add_annotation(\n",
    "    x=1.1,  # x-coordinate of the annotation\n",
    "    y=-0.15,  # y-coordinate of the annotation\n",
    "    xref='paper',  # x-coordinate reference system\n",
    "    yref='paper',  # y-coordinate reference system\n",
    "    text='Visual Created By Bjorn S.',  # text to display\n",
    "    showarrow=False,  # hide arrow head\n",
    "    font=dict(size=16, color='#535353', family='Georgia'),  # font style\n",
    "    align='right'  # horizontal alignment\n",
    ")\n",
    "\n",
    "fig10.show()"
   ]
  },
  {
   "attachments": {},
   "cell_type": "markdown",
   "metadata": {},
   "source": [
    "Acousticness"
   ]
  },
  {
   "cell_type": "code",
   "execution_count": 1547,
   "metadata": {},
   "outputs": [],
   "source": [
    "music_3 = '''SELECT [Release Year], AVG(Danceability) AS Danceability FROM data GROUP BY 1 ORDER BY 1 ASC'''\n",
    "\n",
    "danceability_trend = pysqldf(music_3)"
   ]
  },
  {
   "cell_type": "code",
   "execution_count": 1548,
   "metadata": {},
   "outputs": [
    {
     "data": {
      "application/vnd.plotly.v1+json": {
       "config": {
        "plotlyServerURL": "https://plot.ly"
       },
       "data": [
        {
         "hovertemplate": "Release Year=%{x}<br>Danceability=%{y}<extra></extra>",
         "legendgroup": "",
         "line": {
          "color": "#636efa",
          "dash": "solid"
         },
         "marker": {
          "color": "#1ed760",
          "line": {
           "color": "grey",
           "width": 1
          },
          "symbol": "circle"
         },
         "mode": "lines",
         "name": "",
         "orientation": "v",
         "showlegend": false,
         "type": "scatter",
         "x": [
          2010,
          2011,
          2013,
          2015,
          2016,
          2017,
          2018,
          2019,
          2020,
          2021,
          2022
         ],
         "xaxis": "x",
         "y": [
          0.5455,
          0.5277368421052632,
          0.6648666666666666,
          0.70875,
          0.6719499999999999,
          0.7682727272727273,
          0.70812,
          0.5682857142857143,
          0.6882857142857144,
          0.632095238095238,
          0.6692666666666665
         ],
         "yaxis": "y"
        }
       ],
       "layout": {
        "annotations": [
         {
          "align": "right",
          "font": {
           "color": "#535353",
           "family": "Georgia",
           "size": 16
          },
          "showarrow": false,
          "text": "Visual Created By Bjorn S.",
          "x": 1.1,
          "xref": "paper",
          "y": -0.15,
          "yref": "paper"
         }
        ],
        "height": 700,
        "images": [
         {
          "sizex": 0.13,
          "sizey": 0.13,
          "source": "logo.png",
          "x": -0.099,
          "xanchor": "left",
          "xref": "paper",
          "y": 1.18,
          "yanchor": "top",
          "yref": "paper"
         }
        ],
        "legend": {
         "title": {},
         "tracegroupgap": 0
        },
        "paper_bgcolor": "#F4F2F0",
        "plot_bgcolor": "#F4F2F0",
        "template": {
         "data": {
          "bar": [
           {
            "error_x": {
             "color": "#2a3f5f"
            },
            "error_y": {
             "color": "#2a3f5f"
            },
            "marker": {
             "line": {
              "color": "#E5ECF6",
              "width": 0.5
             },
             "pattern": {
              "fillmode": "overlay",
              "size": 10,
              "solidity": 0.2
             }
            },
            "type": "bar"
           }
          ],
          "barpolar": [
           {
            "marker": {
             "line": {
              "color": "#E5ECF6",
              "width": 0.5
             },
             "pattern": {
              "fillmode": "overlay",
              "size": 10,
              "solidity": 0.2
             }
            },
            "type": "barpolar"
           }
          ],
          "carpet": [
           {
            "aaxis": {
             "endlinecolor": "#2a3f5f",
             "gridcolor": "white",
             "linecolor": "white",
             "minorgridcolor": "white",
             "startlinecolor": "#2a3f5f"
            },
            "baxis": {
             "endlinecolor": "#2a3f5f",
             "gridcolor": "white",
             "linecolor": "white",
             "minorgridcolor": "white",
             "startlinecolor": "#2a3f5f"
            },
            "type": "carpet"
           }
          ],
          "choropleth": [
           {
            "colorbar": {
             "outlinewidth": 0,
             "ticks": ""
            },
            "type": "choropleth"
           }
          ],
          "contour": [
           {
            "colorbar": {
             "outlinewidth": 0,
             "ticks": ""
            },
            "colorscale": [
             [
              0,
              "#0d0887"
             ],
             [
              0.1111111111111111,
              "#46039f"
             ],
             [
              0.2222222222222222,
              "#7201a8"
             ],
             [
              0.3333333333333333,
              "#9c179e"
             ],
             [
              0.4444444444444444,
              "#bd3786"
             ],
             [
              0.5555555555555556,
              "#d8576b"
             ],
             [
              0.6666666666666666,
              "#ed7953"
             ],
             [
              0.7777777777777778,
              "#fb9f3a"
             ],
             [
              0.8888888888888888,
              "#fdca26"
             ],
             [
              1,
              "#f0f921"
             ]
            ],
            "type": "contour"
           }
          ],
          "contourcarpet": [
           {
            "colorbar": {
             "outlinewidth": 0,
             "ticks": ""
            },
            "type": "contourcarpet"
           }
          ],
          "heatmap": [
           {
            "colorbar": {
             "outlinewidth": 0,
             "ticks": ""
            },
            "colorscale": [
             [
              0,
              "#0d0887"
             ],
             [
              0.1111111111111111,
              "#46039f"
             ],
             [
              0.2222222222222222,
              "#7201a8"
             ],
             [
              0.3333333333333333,
              "#9c179e"
             ],
             [
              0.4444444444444444,
              "#bd3786"
             ],
             [
              0.5555555555555556,
              "#d8576b"
             ],
             [
              0.6666666666666666,
              "#ed7953"
             ],
             [
              0.7777777777777778,
              "#fb9f3a"
             ],
             [
              0.8888888888888888,
              "#fdca26"
             ],
             [
              1,
              "#f0f921"
             ]
            ],
            "type": "heatmap"
           }
          ],
          "heatmapgl": [
           {
            "colorbar": {
             "outlinewidth": 0,
             "ticks": ""
            },
            "colorscale": [
             [
              0,
              "#0d0887"
             ],
             [
              0.1111111111111111,
              "#46039f"
             ],
             [
              0.2222222222222222,
              "#7201a8"
             ],
             [
              0.3333333333333333,
              "#9c179e"
             ],
             [
              0.4444444444444444,
              "#bd3786"
             ],
             [
              0.5555555555555556,
              "#d8576b"
             ],
             [
              0.6666666666666666,
              "#ed7953"
             ],
             [
              0.7777777777777778,
              "#fb9f3a"
             ],
             [
              0.8888888888888888,
              "#fdca26"
             ],
             [
              1,
              "#f0f921"
             ]
            ],
            "type": "heatmapgl"
           }
          ],
          "histogram": [
           {
            "marker": {
             "pattern": {
              "fillmode": "overlay",
              "size": 10,
              "solidity": 0.2
             }
            },
            "type": "histogram"
           }
          ],
          "histogram2d": [
           {
            "colorbar": {
             "outlinewidth": 0,
             "ticks": ""
            },
            "colorscale": [
             [
              0,
              "#0d0887"
             ],
             [
              0.1111111111111111,
              "#46039f"
             ],
             [
              0.2222222222222222,
              "#7201a8"
             ],
             [
              0.3333333333333333,
              "#9c179e"
             ],
             [
              0.4444444444444444,
              "#bd3786"
             ],
             [
              0.5555555555555556,
              "#d8576b"
             ],
             [
              0.6666666666666666,
              "#ed7953"
             ],
             [
              0.7777777777777778,
              "#fb9f3a"
             ],
             [
              0.8888888888888888,
              "#fdca26"
             ],
             [
              1,
              "#f0f921"
             ]
            ],
            "type": "histogram2d"
           }
          ],
          "histogram2dcontour": [
           {
            "colorbar": {
             "outlinewidth": 0,
             "ticks": ""
            },
            "colorscale": [
             [
              0,
              "#0d0887"
             ],
             [
              0.1111111111111111,
              "#46039f"
             ],
             [
              0.2222222222222222,
              "#7201a8"
             ],
             [
              0.3333333333333333,
              "#9c179e"
             ],
             [
              0.4444444444444444,
              "#bd3786"
             ],
             [
              0.5555555555555556,
              "#d8576b"
             ],
             [
              0.6666666666666666,
              "#ed7953"
             ],
             [
              0.7777777777777778,
              "#fb9f3a"
             ],
             [
              0.8888888888888888,
              "#fdca26"
             ],
             [
              1,
              "#f0f921"
             ]
            ],
            "type": "histogram2dcontour"
           }
          ],
          "mesh3d": [
           {
            "colorbar": {
             "outlinewidth": 0,
             "ticks": ""
            },
            "type": "mesh3d"
           }
          ],
          "parcoords": [
           {
            "line": {
             "colorbar": {
              "outlinewidth": 0,
              "ticks": ""
             }
            },
            "type": "parcoords"
           }
          ],
          "pie": [
           {
            "automargin": true,
            "type": "pie"
           }
          ],
          "scatter": [
           {
            "fillpattern": {
             "fillmode": "overlay",
             "size": 10,
             "solidity": 0.2
            },
            "type": "scatter"
           }
          ],
          "scatter3d": [
           {
            "line": {
             "colorbar": {
              "outlinewidth": 0,
              "ticks": ""
             }
            },
            "marker": {
             "colorbar": {
              "outlinewidth": 0,
              "ticks": ""
             }
            },
            "type": "scatter3d"
           }
          ],
          "scattercarpet": [
           {
            "marker": {
             "colorbar": {
              "outlinewidth": 0,
              "ticks": ""
             }
            },
            "type": "scattercarpet"
           }
          ],
          "scattergeo": [
           {
            "marker": {
             "colorbar": {
              "outlinewidth": 0,
              "ticks": ""
             }
            },
            "type": "scattergeo"
           }
          ],
          "scattergl": [
           {
            "marker": {
             "colorbar": {
              "outlinewidth": 0,
              "ticks": ""
             }
            },
            "type": "scattergl"
           }
          ],
          "scattermapbox": [
           {
            "marker": {
             "colorbar": {
              "outlinewidth": 0,
              "ticks": ""
             }
            },
            "type": "scattermapbox"
           }
          ],
          "scatterpolar": [
           {
            "marker": {
             "colorbar": {
              "outlinewidth": 0,
              "ticks": ""
             }
            },
            "type": "scatterpolar"
           }
          ],
          "scatterpolargl": [
           {
            "marker": {
             "colorbar": {
              "outlinewidth": 0,
              "ticks": ""
             }
            },
            "type": "scatterpolargl"
           }
          ],
          "scatterternary": [
           {
            "marker": {
             "colorbar": {
              "outlinewidth": 0,
              "ticks": ""
             }
            },
            "type": "scatterternary"
           }
          ],
          "surface": [
           {
            "colorbar": {
             "outlinewidth": 0,
             "ticks": ""
            },
            "colorscale": [
             [
              0,
              "#0d0887"
             ],
             [
              0.1111111111111111,
              "#46039f"
             ],
             [
              0.2222222222222222,
              "#7201a8"
             ],
             [
              0.3333333333333333,
              "#9c179e"
             ],
             [
              0.4444444444444444,
              "#bd3786"
             ],
             [
              0.5555555555555556,
              "#d8576b"
             ],
             [
              0.6666666666666666,
              "#ed7953"
             ],
             [
              0.7777777777777778,
              "#fb9f3a"
             ],
             [
              0.8888888888888888,
              "#fdca26"
             ],
             [
              1,
              "#f0f921"
             ]
            ],
            "type": "surface"
           }
          ],
          "table": [
           {
            "cells": {
             "fill": {
              "color": "#EBF0F8"
             },
             "line": {
              "color": "white"
             }
            },
            "header": {
             "fill": {
              "color": "#C8D4E3"
             },
             "line": {
              "color": "white"
             }
            },
            "type": "table"
           }
          ]
         },
         "layout": {
          "annotationdefaults": {
           "arrowcolor": "#2a3f5f",
           "arrowhead": 0,
           "arrowwidth": 1
          },
          "autotypenumbers": "strict",
          "coloraxis": {
           "colorbar": {
            "outlinewidth": 0,
            "ticks": ""
           }
          },
          "colorscale": {
           "diverging": [
            [
             0,
             "#8e0152"
            ],
            [
             0.1,
             "#c51b7d"
            ],
            [
             0.2,
             "#de77ae"
            ],
            [
             0.3,
             "#f1b6da"
            ],
            [
             0.4,
             "#fde0ef"
            ],
            [
             0.5,
             "#f7f7f7"
            ],
            [
             0.6,
             "#e6f5d0"
            ],
            [
             0.7,
             "#b8e186"
            ],
            [
             0.8,
             "#7fbc41"
            ],
            [
             0.9,
             "#4d9221"
            ],
            [
             1,
             "#276419"
            ]
           ],
           "sequential": [
            [
             0,
             "#0d0887"
            ],
            [
             0.1111111111111111,
             "#46039f"
            ],
            [
             0.2222222222222222,
             "#7201a8"
            ],
            [
             0.3333333333333333,
             "#9c179e"
            ],
            [
             0.4444444444444444,
             "#bd3786"
            ],
            [
             0.5555555555555556,
             "#d8576b"
            ],
            [
             0.6666666666666666,
             "#ed7953"
            ],
            [
             0.7777777777777778,
             "#fb9f3a"
            ],
            [
             0.8888888888888888,
             "#fdca26"
            ],
            [
             1,
             "#f0f921"
            ]
           ],
           "sequentialminus": [
            [
             0,
             "#0d0887"
            ],
            [
             0.1111111111111111,
             "#46039f"
            ],
            [
             0.2222222222222222,
             "#7201a8"
            ],
            [
             0.3333333333333333,
             "#9c179e"
            ],
            [
             0.4444444444444444,
             "#bd3786"
            ],
            [
             0.5555555555555556,
             "#d8576b"
            ],
            [
             0.6666666666666666,
             "#ed7953"
            ],
            [
             0.7777777777777778,
             "#fb9f3a"
            ],
            [
             0.8888888888888888,
             "#fdca26"
            ],
            [
             1,
             "#f0f921"
            ]
           ]
          },
          "colorway": [
           "#636efa",
           "#EF553B",
           "#00cc96",
           "#ab63fa",
           "#FFA15A",
           "#19d3f3",
           "#FF6692",
           "#B6E880",
           "#FF97FF",
           "#FECB52"
          ],
          "font": {
           "color": "#2a3f5f"
          },
          "geo": {
           "bgcolor": "white",
           "lakecolor": "white",
           "landcolor": "#E5ECF6",
           "showlakes": true,
           "showland": true,
           "subunitcolor": "white"
          },
          "hoverlabel": {
           "align": "left"
          },
          "hovermode": "closest",
          "mapbox": {
           "style": "light"
          },
          "paper_bgcolor": "white",
          "plot_bgcolor": "#E5ECF6",
          "polar": {
           "angularaxis": {
            "gridcolor": "white",
            "linecolor": "white",
            "ticks": ""
           },
           "bgcolor": "#E5ECF6",
           "radialaxis": {
            "gridcolor": "white",
            "linecolor": "white",
            "ticks": ""
           }
          },
          "scene": {
           "xaxis": {
            "backgroundcolor": "#E5ECF6",
            "gridcolor": "white",
            "gridwidth": 2,
            "linecolor": "white",
            "showbackground": true,
            "ticks": "",
            "zerolinecolor": "white"
           },
           "yaxis": {
            "backgroundcolor": "#E5ECF6",
            "gridcolor": "white",
            "gridwidth": 2,
            "linecolor": "white",
            "showbackground": true,
            "ticks": "",
            "zerolinecolor": "white"
           },
           "zaxis": {
            "backgroundcolor": "#E5ECF6",
            "gridcolor": "white",
            "gridwidth": 2,
            "linecolor": "white",
            "showbackground": true,
            "ticks": "",
            "zerolinecolor": "white"
           }
          },
          "shapedefaults": {
           "line": {
            "color": "#2a3f5f"
           }
          },
          "ternary": {
           "aaxis": {
            "gridcolor": "white",
            "linecolor": "white",
            "ticks": ""
           },
           "baxis": {
            "gridcolor": "white",
            "linecolor": "white",
            "ticks": ""
           },
           "bgcolor": "#E5ECF6",
           "caxis": {
            "gridcolor": "white",
            "linecolor": "white",
            "ticks": ""
           }
          },
          "title": {
           "x": 0.05
          },
          "xaxis": {
           "automargin": true,
           "gridcolor": "white",
           "linecolor": "white",
           "ticks": "",
           "title": {
            "standoff": 15
           },
           "zerolinecolor": "white",
           "zerolinewidth": 2
          },
          "yaxis": {
           "automargin": true,
           "gridcolor": "white",
           "linecolor": "white",
           "ticks": "",
           "title": {
            "standoff": 15
           },
           "zerolinecolor": "white",
           "zerolinewidth": 2
          }
         }
        },
        "title": {
         "font": {
          "family": "Georgia",
          "size": 24
         },
         "text": "Drake Music Danceability Levels",
         "x": 0.17,
         "y": 0.945
        },
        "width": 700,
        "xaxis": {
         "anchor": "y",
         "domain": [
          0,
          1
         ],
         "showgrid": true,
         "tickangle": 0.5,
         "tickfont": {
          "size": 11
         },
         "title": {
          "text": "Year"
         }
        },
        "yaxis": {
         "anchor": "x",
         "domain": [
          0,
          1
         ],
         "dtick": 0.2,
         "range": [
          0,
          1
         ],
         "rangemode": "tozero",
         "showgrid": true,
         "title": {
          "text": "Danceability"
         }
        }
       }
      }
     },
     "metadata": {},
     "output_type": "display_data"
    }
   ],
   "source": [
    "fig11 = px.line(danceability_trend, x='Release Year', y='Danceability', title=\"Drake Music Danceability Levels\")\n",
    "\n",
    "\n",
    "fig11.update_layout(title=dict(x=0.17, y=0.945, font=dict(size=24, family='Georgia')),\n",
    "                  width=700, height=700,\n",
    "                  paper_bgcolor='#F4F2F0', plot_bgcolor='#F4F2F0',\n",
    "                  xaxis=dict(showgrid=True), yaxis=dict(showgrid=True),\n",
    "                  xaxis_title=\"Year\", yaxis_title=\"Danceability\", legend_title = None)\n",
    "fig11.update_traces(marker_line=dict(width=1, color='grey'), marker_color='#1ed760')\n",
    "\n",
    "fig11.update_xaxes(tickfont=dict(size=11), tickangle=0.5)\n",
    "fig11.update_yaxes(range=[0,1], rangemode='tozero', dtick=0.2)\n",
    "\n",
    "#Spotify\n",
    "fig11.add_layout_image(\n",
    "    dict(\n",
    "        source=\"logo.png\",\n",
    "        xref=\"paper\",\n",
    "        yref=\"paper\",\n",
    "        x=-0.099,\n",
    "        y=1.18,\n",
    "        sizex=0.13,\n",
    "        sizey=0.13,\n",
    "        xanchor=\"left\",\n",
    "        yanchor=\"top\"\n",
    "    )\n",
    ")\n",
    "\n",
    "#Credit\n",
    "fig11.add_annotation(\n",
    "    x=1.1,  # x-coordinate of the annotation\n",
    "    y=-0.15,  # y-coordinate of the annotation\n",
    "    xref='paper',  # x-coordinate reference system\n",
    "    yref='paper',  # y-coordinate reference system\n",
    "    text='Visual Created By Bjorn S.',  # text to display\n",
    "    showarrow=False,  # hide arrow head\n",
    "    font=dict(size=16, color='#535353', family='Georgia'),  # font style\n",
    "    align='right'  # horizontal alignment\n",
    ")\n",
    "\n",
    "fig11.show()"
   ]
  },
  {
   "cell_type": "code",
   "execution_count": 1550,
   "metadata": {},
   "outputs": [],
   "source": [
    "music_4 = '''SELECT [Release Year], AVG(Instrumentalness) AS Instrumentalness FROM data GROUP BY 1 ORDER BY 1 ASC'''\n",
    "\n",
    "instrumentalness_trend = pysqldf(music_4)"
   ]
  },
  {
   "cell_type": "code",
   "execution_count": 1556,
   "metadata": {},
   "outputs": [
    {
     "data": {
      "text/html": [
       "<div>\n",
       "<style scoped>\n",
       "    .dataframe tbody tr th:only-of-type {\n",
       "        vertical-align: middle;\n",
       "    }\n",
       "\n",
       "    .dataframe tbody tr th {\n",
       "        vertical-align: top;\n",
       "    }\n",
       "\n",
       "    .dataframe thead th {\n",
       "        text-align: right;\n",
       "    }\n",
       "</style>\n",
       "<table border=\"1\" class=\"dataframe\">\n",
       "  <thead>\n",
       "    <tr style=\"text-align: right;\">\n",
       "      <th></th>\n",
       "      <th>Release Year</th>\n",
       "      <th>Instrumentalness</th>\n",
       "    </tr>\n",
       "  </thead>\n",
       "  <tbody>\n",
       "    <tr>\n",
       "      <th>0</th>\n",
       "      <td>2010</td>\n",
       "      <td>0.001845</td>\n",
       "    </tr>\n",
       "    <tr>\n",
       "      <th>1</th>\n",
       "      <td>2011</td>\n",
       "      <td>0.000132</td>\n",
       "    </tr>\n",
       "    <tr>\n",
       "      <th>2</th>\n",
       "      <td>2013</td>\n",
       "      <td>0.000005</td>\n",
       "    </tr>\n",
       "    <tr>\n",
       "      <th>3</th>\n",
       "      <td>2015</td>\n",
       "      <td>0.000130</td>\n",
       "    </tr>\n",
       "    <tr>\n",
       "      <th>4</th>\n",
       "      <td>2016</td>\n",
       "      <td>0.000268</td>\n",
       "    </tr>\n",
       "    <tr>\n",
       "      <th>5</th>\n",
       "      <td>2017</td>\n",
       "      <td>0.025380</td>\n",
       "    </tr>\n",
       "    <tr>\n",
       "      <th>6</th>\n",
       "      <td>2018</td>\n",
       "      <td>0.003382</td>\n",
       "    </tr>\n",
       "    <tr>\n",
       "      <th>7</th>\n",
       "      <td>2019</td>\n",
       "      <td>0.035154</td>\n",
       "    </tr>\n",
       "    <tr>\n",
       "      <th>8</th>\n",
       "      <td>2020</td>\n",
       "      <td>0.000002</td>\n",
       "    </tr>\n",
       "    <tr>\n",
       "      <th>9</th>\n",
       "      <td>2021</td>\n",
       "      <td>0.005271</td>\n",
       "    </tr>\n",
       "    <tr>\n",
       "      <th>10</th>\n",
       "      <td>2022</td>\n",
       "      <td>0.043402</td>\n",
       "    </tr>\n",
       "  </tbody>\n",
       "</table>\n",
       "</div>"
      ],
      "text/plain": [
       "    Release Year  Instrumentalness\n",
       "0           2010          0.001845\n",
       "1           2011          0.000132\n",
       "2           2013          0.000005\n",
       "3           2015          0.000130\n",
       "4           2016          0.000268\n",
       "5           2017          0.025380\n",
       "6           2018          0.003382\n",
       "7           2019          0.035154\n",
       "8           2020          0.000002\n",
       "9           2021          0.005271\n",
       "10          2022          0.043402"
      ]
     },
     "execution_count": 1556,
     "metadata": {},
     "output_type": "execute_result"
    }
   ],
   "source": [
    "instrumentalness_trend"
   ]
  },
  {
   "cell_type": "code",
   "execution_count": 1555,
   "metadata": {},
   "outputs": [
    {
     "data": {
      "application/vnd.plotly.v1+json": {
       "config": {
        "plotlyServerURL": "https://plot.ly"
       },
       "data": [
        {
         "hovertemplate": "Release Year=%{x}<br>Instrumentalness=%{y}<extra></extra>",
         "legendgroup": "",
         "line": {
          "color": "#636efa",
          "dash": "solid"
         },
         "marker": {
          "color": "#1ed760",
          "line": {
           "color": "grey",
           "width": 1
          },
          "symbol": "circle"
         },
         "mode": "lines",
         "name": "",
         "orientation": "v",
         "showlegend": false,
         "type": "scatter",
         "x": [
          2010,
          2011,
          2013,
          2015,
          2016,
          2017,
          2018,
          2019,
          2020,
          2021,
          2022
         ],
         "xaxis": "x",
         "y": [
          0.0018445092857142856,
          0.00013234736842105264,
          0.000004773333333333334,
          0.0001295735714285714,
          0.0002678585,
          0.02538005,
          0.0033822944000000007,
          0.03515382914285714,
          0.000001602857142857143,
          0.005271358571428571,
          0.04340169033333333
         ],
         "yaxis": "y"
        }
       ],
       "layout": {
        "annotations": [
         {
          "align": "right",
          "font": {
           "color": "#535353",
           "family": "Georgia",
           "size": 16
          },
          "showarrow": false,
          "text": "Visual Created By Bjorn S.",
          "x": 1.1,
          "xref": "paper",
          "y": -0.15,
          "yref": "paper"
         }
        ],
        "height": 700,
        "images": [
         {
          "sizex": 0.13,
          "sizey": 0.13,
          "source": "logo.png",
          "x": -0.099,
          "xanchor": "left",
          "xref": "paper",
          "y": 1.18,
          "yanchor": "top",
          "yref": "paper"
         }
        ],
        "legend": {
         "title": {},
         "tracegroupgap": 0
        },
        "paper_bgcolor": "#F4F2F0",
        "plot_bgcolor": "#F4F2F0",
        "template": {
         "data": {
          "bar": [
           {
            "error_x": {
             "color": "#2a3f5f"
            },
            "error_y": {
             "color": "#2a3f5f"
            },
            "marker": {
             "line": {
              "color": "#E5ECF6",
              "width": 0.5
             },
             "pattern": {
              "fillmode": "overlay",
              "size": 10,
              "solidity": 0.2
             }
            },
            "type": "bar"
           }
          ],
          "barpolar": [
           {
            "marker": {
             "line": {
              "color": "#E5ECF6",
              "width": 0.5
             },
             "pattern": {
              "fillmode": "overlay",
              "size": 10,
              "solidity": 0.2
             }
            },
            "type": "barpolar"
           }
          ],
          "carpet": [
           {
            "aaxis": {
             "endlinecolor": "#2a3f5f",
             "gridcolor": "white",
             "linecolor": "white",
             "minorgridcolor": "white",
             "startlinecolor": "#2a3f5f"
            },
            "baxis": {
             "endlinecolor": "#2a3f5f",
             "gridcolor": "white",
             "linecolor": "white",
             "minorgridcolor": "white",
             "startlinecolor": "#2a3f5f"
            },
            "type": "carpet"
           }
          ],
          "choropleth": [
           {
            "colorbar": {
             "outlinewidth": 0,
             "ticks": ""
            },
            "type": "choropleth"
           }
          ],
          "contour": [
           {
            "colorbar": {
             "outlinewidth": 0,
             "ticks": ""
            },
            "colorscale": [
             [
              0,
              "#0d0887"
             ],
             [
              0.1111111111111111,
              "#46039f"
             ],
             [
              0.2222222222222222,
              "#7201a8"
             ],
             [
              0.3333333333333333,
              "#9c179e"
             ],
             [
              0.4444444444444444,
              "#bd3786"
             ],
             [
              0.5555555555555556,
              "#d8576b"
             ],
             [
              0.6666666666666666,
              "#ed7953"
             ],
             [
              0.7777777777777778,
              "#fb9f3a"
             ],
             [
              0.8888888888888888,
              "#fdca26"
             ],
             [
              1,
              "#f0f921"
             ]
            ],
            "type": "contour"
           }
          ],
          "contourcarpet": [
           {
            "colorbar": {
             "outlinewidth": 0,
             "ticks": ""
            },
            "type": "contourcarpet"
           }
          ],
          "heatmap": [
           {
            "colorbar": {
             "outlinewidth": 0,
             "ticks": ""
            },
            "colorscale": [
             [
              0,
              "#0d0887"
             ],
             [
              0.1111111111111111,
              "#46039f"
             ],
             [
              0.2222222222222222,
              "#7201a8"
             ],
             [
              0.3333333333333333,
              "#9c179e"
             ],
             [
              0.4444444444444444,
              "#bd3786"
             ],
             [
              0.5555555555555556,
              "#d8576b"
             ],
             [
              0.6666666666666666,
              "#ed7953"
             ],
             [
              0.7777777777777778,
              "#fb9f3a"
             ],
             [
              0.8888888888888888,
              "#fdca26"
             ],
             [
              1,
              "#f0f921"
             ]
            ],
            "type": "heatmap"
           }
          ],
          "heatmapgl": [
           {
            "colorbar": {
             "outlinewidth": 0,
             "ticks": ""
            },
            "colorscale": [
             [
              0,
              "#0d0887"
             ],
             [
              0.1111111111111111,
              "#46039f"
             ],
             [
              0.2222222222222222,
              "#7201a8"
             ],
             [
              0.3333333333333333,
              "#9c179e"
             ],
             [
              0.4444444444444444,
              "#bd3786"
             ],
             [
              0.5555555555555556,
              "#d8576b"
             ],
             [
              0.6666666666666666,
              "#ed7953"
             ],
             [
              0.7777777777777778,
              "#fb9f3a"
             ],
             [
              0.8888888888888888,
              "#fdca26"
             ],
             [
              1,
              "#f0f921"
             ]
            ],
            "type": "heatmapgl"
           }
          ],
          "histogram": [
           {
            "marker": {
             "pattern": {
              "fillmode": "overlay",
              "size": 10,
              "solidity": 0.2
             }
            },
            "type": "histogram"
           }
          ],
          "histogram2d": [
           {
            "colorbar": {
             "outlinewidth": 0,
             "ticks": ""
            },
            "colorscale": [
             [
              0,
              "#0d0887"
             ],
             [
              0.1111111111111111,
              "#46039f"
             ],
             [
              0.2222222222222222,
              "#7201a8"
             ],
             [
              0.3333333333333333,
              "#9c179e"
             ],
             [
              0.4444444444444444,
              "#bd3786"
             ],
             [
              0.5555555555555556,
              "#d8576b"
             ],
             [
              0.6666666666666666,
              "#ed7953"
             ],
             [
              0.7777777777777778,
              "#fb9f3a"
             ],
             [
              0.8888888888888888,
              "#fdca26"
             ],
             [
              1,
              "#f0f921"
             ]
            ],
            "type": "histogram2d"
           }
          ],
          "histogram2dcontour": [
           {
            "colorbar": {
             "outlinewidth": 0,
             "ticks": ""
            },
            "colorscale": [
             [
              0,
              "#0d0887"
             ],
             [
              0.1111111111111111,
              "#46039f"
             ],
             [
              0.2222222222222222,
              "#7201a8"
             ],
             [
              0.3333333333333333,
              "#9c179e"
             ],
             [
              0.4444444444444444,
              "#bd3786"
             ],
             [
              0.5555555555555556,
              "#d8576b"
             ],
             [
              0.6666666666666666,
              "#ed7953"
             ],
             [
              0.7777777777777778,
              "#fb9f3a"
             ],
             [
              0.8888888888888888,
              "#fdca26"
             ],
             [
              1,
              "#f0f921"
             ]
            ],
            "type": "histogram2dcontour"
           }
          ],
          "mesh3d": [
           {
            "colorbar": {
             "outlinewidth": 0,
             "ticks": ""
            },
            "type": "mesh3d"
           }
          ],
          "parcoords": [
           {
            "line": {
             "colorbar": {
              "outlinewidth": 0,
              "ticks": ""
             }
            },
            "type": "parcoords"
           }
          ],
          "pie": [
           {
            "automargin": true,
            "type": "pie"
           }
          ],
          "scatter": [
           {
            "fillpattern": {
             "fillmode": "overlay",
             "size": 10,
             "solidity": 0.2
            },
            "type": "scatter"
           }
          ],
          "scatter3d": [
           {
            "line": {
             "colorbar": {
              "outlinewidth": 0,
              "ticks": ""
             }
            },
            "marker": {
             "colorbar": {
              "outlinewidth": 0,
              "ticks": ""
             }
            },
            "type": "scatter3d"
           }
          ],
          "scattercarpet": [
           {
            "marker": {
             "colorbar": {
              "outlinewidth": 0,
              "ticks": ""
             }
            },
            "type": "scattercarpet"
           }
          ],
          "scattergeo": [
           {
            "marker": {
             "colorbar": {
              "outlinewidth": 0,
              "ticks": ""
             }
            },
            "type": "scattergeo"
           }
          ],
          "scattergl": [
           {
            "marker": {
             "colorbar": {
              "outlinewidth": 0,
              "ticks": ""
             }
            },
            "type": "scattergl"
           }
          ],
          "scattermapbox": [
           {
            "marker": {
             "colorbar": {
              "outlinewidth": 0,
              "ticks": ""
             }
            },
            "type": "scattermapbox"
           }
          ],
          "scatterpolar": [
           {
            "marker": {
             "colorbar": {
              "outlinewidth": 0,
              "ticks": ""
             }
            },
            "type": "scatterpolar"
           }
          ],
          "scatterpolargl": [
           {
            "marker": {
             "colorbar": {
              "outlinewidth": 0,
              "ticks": ""
             }
            },
            "type": "scatterpolargl"
           }
          ],
          "scatterternary": [
           {
            "marker": {
             "colorbar": {
              "outlinewidth": 0,
              "ticks": ""
             }
            },
            "type": "scatterternary"
           }
          ],
          "surface": [
           {
            "colorbar": {
             "outlinewidth": 0,
             "ticks": ""
            },
            "colorscale": [
             [
              0,
              "#0d0887"
             ],
             [
              0.1111111111111111,
              "#46039f"
             ],
             [
              0.2222222222222222,
              "#7201a8"
             ],
             [
              0.3333333333333333,
              "#9c179e"
             ],
             [
              0.4444444444444444,
              "#bd3786"
             ],
             [
              0.5555555555555556,
              "#d8576b"
             ],
             [
              0.6666666666666666,
              "#ed7953"
             ],
             [
              0.7777777777777778,
              "#fb9f3a"
             ],
             [
              0.8888888888888888,
              "#fdca26"
             ],
             [
              1,
              "#f0f921"
             ]
            ],
            "type": "surface"
           }
          ],
          "table": [
           {
            "cells": {
             "fill": {
              "color": "#EBF0F8"
             },
             "line": {
              "color": "white"
             }
            },
            "header": {
             "fill": {
              "color": "#C8D4E3"
             },
             "line": {
              "color": "white"
             }
            },
            "type": "table"
           }
          ]
         },
         "layout": {
          "annotationdefaults": {
           "arrowcolor": "#2a3f5f",
           "arrowhead": 0,
           "arrowwidth": 1
          },
          "autotypenumbers": "strict",
          "coloraxis": {
           "colorbar": {
            "outlinewidth": 0,
            "ticks": ""
           }
          },
          "colorscale": {
           "diverging": [
            [
             0,
             "#8e0152"
            ],
            [
             0.1,
             "#c51b7d"
            ],
            [
             0.2,
             "#de77ae"
            ],
            [
             0.3,
             "#f1b6da"
            ],
            [
             0.4,
             "#fde0ef"
            ],
            [
             0.5,
             "#f7f7f7"
            ],
            [
             0.6,
             "#e6f5d0"
            ],
            [
             0.7,
             "#b8e186"
            ],
            [
             0.8,
             "#7fbc41"
            ],
            [
             0.9,
             "#4d9221"
            ],
            [
             1,
             "#276419"
            ]
           ],
           "sequential": [
            [
             0,
             "#0d0887"
            ],
            [
             0.1111111111111111,
             "#46039f"
            ],
            [
             0.2222222222222222,
             "#7201a8"
            ],
            [
             0.3333333333333333,
             "#9c179e"
            ],
            [
             0.4444444444444444,
             "#bd3786"
            ],
            [
             0.5555555555555556,
             "#d8576b"
            ],
            [
             0.6666666666666666,
             "#ed7953"
            ],
            [
             0.7777777777777778,
             "#fb9f3a"
            ],
            [
             0.8888888888888888,
             "#fdca26"
            ],
            [
             1,
             "#f0f921"
            ]
           ],
           "sequentialminus": [
            [
             0,
             "#0d0887"
            ],
            [
             0.1111111111111111,
             "#46039f"
            ],
            [
             0.2222222222222222,
             "#7201a8"
            ],
            [
             0.3333333333333333,
             "#9c179e"
            ],
            [
             0.4444444444444444,
             "#bd3786"
            ],
            [
             0.5555555555555556,
             "#d8576b"
            ],
            [
             0.6666666666666666,
             "#ed7953"
            ],
            [
             0.7777777777777778,
             "#fb9f3a"
            ],
            [
             0.8888888888888888,
             "#fdca26"
            ],
            [
             1,
             "#f0f921"
            ]
           ]
          },
          "colorway": [
           "#636efa",
           "#EF553B",
           "#00cc96",
           "#ab63fa",
           "#FFA15A",
           "#19d3f3",
           "#FF6692",
           "#B6E880",
           "#FF97FF",
           "#FECB52"
          ],
          "font": {
           "color": "#2a3f5f"
          },
          "geo": {
           "bgcolor": "white",
           "lakecolor": "white",
           "landcolor": "#E5ECF6",
           "showlakes": true,
           "showland": true,
           "subunitcolor": "white"
          },
          "hoverlabel": {
           "align": "left"
          },
          "hovermode": "closest",
          "mapbox": {
           "style": "light"
          },
          "paper_bgcolor": "white",
          "plot_bgcolor": "#E5ECF6",
          "polar": {
           "angularaxis": {
            "gridcolor": "white",
            "linecolor": "white",
            "ticks": ""
           },
           "bgcolor": "#E5ECF6",
           "radialaxis": {
            "gridcolor": "white",
            "linecolor": "white",
            "ticks": ""
           }
          },
          "scene": {
           "xaxis": {
            "backgroundcolor": "#E5ECF6",
            "gridcolor": "white",
            "gridwidth": 2,
            "linecolor": "white",
            "showbackground": true,
            "ticks": "",
            "zerolinecolor": "white"
           },
           "yaxis": {
            "backgroundcolor": "#E5ECF6",
            "gridcolor": "white",
            "gridwidth": 2,
            "linecolor": "white",
            "showbackground": true,
            "ticks": "",
            "zerolinecolor": "white"
           },
           "zaxis": {
            "backgroundcolor": "#E5ECF6",
            "gridcolor": "white",
            "gridwidth": 2,
            "linecolor": "white",
            "showbackground": true,
            "ticks": "",
            "zerolinecolor": "white"
           }
          },
          "shapedefaults": {
           "line": {
            "color": "#2a3f5f"
           }
          },
          "ternary": {
           "aaxis": {
            "gridcolor": "white",
            "linecolor": "white",
            "ticks": ""
           },
           "baxis": {
            "gridcolor": "white",
            "linecolor": "white",
            "ticks": ""
           },
           "bgcolor": "#E5ECF6",
           "caxis": {
            "gridcolor": "white",
            "linecolor": "white",
            "ticks": ""
           }
          },
          "title": {
           "x": 0.05
          },
          "xaxis": {
           "automargin": true,
           "gridcolor": "white",
           "linecolor": "white",
           "ticks": "",
           "title": {
            "standoff": 15
           },
           "zerolinecolor": "white",
           "zerolinewidth": 2
          },
          "yaxis": {
           "automargin": true,
           "gridcolor": "white",
           "linecolor": "white",
           "ticks": "",
           "title": {
            "standoff": 15
           },
           "zerolinecolor": "white",
           "zerolinewidth": 2
          }
         }
        },
        "title": {
         "font": {
          "family": "Georgia",
          "size": 24
         },
         "text": "Drake Music Instrumentalness Levels",
         "x": 0.17,
         "y": 0.945
        },
        "width": 700,
        "xaxis": {
         "anchor": "y",
         "domain": [
          0,
          1
         ],
         "showgrid": true,
         "tickangle": 0.5,
         "tickfont": {
          "size": 11
         },
         "title": {
          "text": "Year"
         }
        },
        "yaxis": {
         "anchor": "x",
         "domain": [
          0,
          1
         ],
         "range": [
          0,
          0.1
         ],
         "rangemode": "tozero",
         "showgrid": true,
         "title": {
          "text": "Instrumentalness"
         }
        }
       }
      }
     },
     "metadata": {},
     "output_type": "display_data"
    }
   ],
   "source": [
    "fig12 = px.line(instrumentalness_trend, x='Release Year', y='Instrumentalness', title=\"Drake Music Instrumentalness Levels\")\n",
    "\n",
    "\n",
    "fig12.update_layout(title=dict(x=0.17, y=0.945, font=dict(size=24, family='Georgia')),\n",
    "                  width=700, height=700,\n",
    "                  paper_bgcolor='#F4F2F0', plot_bgcolor='#F4F2F0',\n",
    "                  xaxis=dict(showgrid=True), yaxis=dict(showgrid=True),\n",
    "                  xaxis_title=\"Year\", yaxis_title=\"Instrumentalness\", legend_title = None)\n",
    "fig12.update_traces(marker_line=dict(width=1, color='grey'), marker_color='#1ed760')\n",
    "\n",
    "fig12.update_xaxes(tickfont=dict(size=11), tickangle=0.5)\n",
    "fig12.update_yaxes(range=[0,0.1], rangemode='tozero')\n",
    "\n",
    "#Spotify\n",
    "fig12.add_layout_image(\n",
    "    dict(\n",
    "        source=\"logo.png\",\n",
    "        xref=\"paper\",\n",
    "        yref=\"paper\",\n",
    "        x=-0.099,\n",
    "        y=1.18,\n",
    "        sizex=0.13,\n",
    "        sizey=0.13,\n",
    "        xanchor=\"left\",\n",
    "        yanchor=\"top\"\n",
    "    )\n",
    ")\n",
    "\n",
    "#Credit\n",
    "fig12.add_annotation(\n",
    "    x=1.1,  # x-coordinate of the annotation\n",
    "    y=-0.15,  # y-coordinate of the annotation\n",
    "    xref='paper',  # x-coordinate reference system\n",
    "    yref='paper',  # y-coordinate reference system\n",
    "    text='Visual Created By Bjorn S.',  # text to display\n",
    "    showarrow=False,  # hide arrow head\n",
    "    font=dict(size=16, color='#535353', family='Georgia'),  # font style\n",
    "    align='right'  # horizontal alignment\n",
    ")\n",
    "\n",
    "fig12.show()"
   ]
  },
  {
   "cell_type": "code",
   "execution_count": 1557,
   "metadata": {},
   "outputs": [],
   "source": [
    "music_5 = '''SELECT [Release Year], AVG(Loudness) AS Loudness FROM data GROUP BY 1 ORDER BY 1 ASC'''\n",
    "\n",
    "loudness_trend = pysqldf(music_5)"
   ]
  },
  {
   "cell_type": "code",
   "execution_count": 1560,
   "metadata": {},
   "outputs": [
    {
     "data": {
      "text/html": [
       "<div>\n",
       "<style scoped>\n",
       "    .dataframe tbody tr th:only-of-type {\n",
       "        vertical-align: middle;\n",
       "    }\n",
       "\n",
       "    .dataframe tbody tr th {\n",
       "        vertical-align: top;\n",
       "    }\n",
       "\n",
       "    .dataframe thead th {\n",
       "        text-align: right;\n",
       "    }\n",
       "</style>\n",
       "<table border=\"1\" class=\"dataframe\">\n",
       "  <thead>\n",
       "    <tr style=\"text-align: right;\">\n",
       "      <th></th>\n",
       "      <th>Release Year</th>\n",
       "      <th>Loudness</th>\n",
       "    </tr>\n",
       "  </thead>\n",
       "  <tbody>\n",
       "    <tr>\n",
       "      <th>0</th>\n",
       "      <td>2010</td>\n",
       "      <td>-6.266357</td>\n",
       "    </tr>\n",
       "    <tr>\n",
       "      <th>1</th>\n",
       "      <td>2011</td>\n",
       "      <td>-10.918632</td>\n",
       "    </tr>\n",
       "    <tr>\n",
       "      <th>2</th>\n",
       "      <td>2013</td>\n",
       "      <td>-7.590200</td>\n",
       "    </tr>\n",
       "    <tr>\n",
       "      <th>3</th>\n",
       "      <td>2015</td>\n",
       "      <td>-8.125893</td>\n",
       "    </tr>\n",
       "    <tr>\n",
       "      <th>4</th>\n",
       "      <td>2016</td>\n",
       "      <td>-8.927550</td>\n",
       "    </tr>\n",
       "    <tr>\n",
       "      <th>5</th>\n",
       "      <td>2017</td>\n",
       "      <td>-8.865818</td>\n",
       "    </tr>\n",
       "    <tr>\n",
       "      <th>6</th>\n",
       "      <td>2018</td>\n",
       "      <td>-8.711640</td>\n",
       "    </tr>\n",
       "    <tr>\n",
       "      <th>7</th>\n",
       "      <td>2019</td>\n",
       "      <td>-6.765371</td>\n",
       "    </tr>\n",
       "    <tr>\n",
       "      <th>8</th>\n",
       "      <td>2020</td>\n",
       "      <td>-6.302571</td>\n",
       "    </tr>\n",
       "    <tr>\n",
       "      <th>9</th>\n",
       "      <td>2021</td>\n",
       "      <td>-7.573857</td>\n",
       "    </tr>\n",
       "    <tr>\n",
       "      <th>10</th>\n",
       "      <td>2022</td>\n",
       "      <td>-9.621767</td>\n",
       "    </tr>\n",
       "  </tbody>\n",
       "</table>\n",
       "</div>"
      ],
      "text/plain": [
       "    Release Year   Loudness\n",
       "0           2010  -6.266357\n",
       "1           2011 -10.918632\n",
       "2           2013  -7.590200\n",
       "3           2015  -8.125893\n",
       "4           2016  -8.927550\n",
       "5           2017  -8.865818\n",
       "6           2018  -8.711640\n",
       "7           2019  -6.765371\n",
       "8           2020  -6.302571\n",
       "9           2021  -7.573857\n",
       "10          2022  -9.621767"
      ]
     },
     "execution_count": 1560,
     "metadata": {},
     "output_type": "execute_result"
    }
   ],
   "source": [
    "loudness_trend"
   ]
  },
  {
   "cell_type": "code",
   "execution_count": 1565,
   "metadata": {},
   "outputs": [
    {
     "data": {
      "application/vnd.plotly.v1+json": {
       "config": {
        "plotlyServerURL": "https://plot.ly"
       },
       "data": [
        {
         "hovertemplate": "Release Year=%{x}<br>Loudness=%{y}<extra></extra>",
         "legendgroup": "",
         "line": {
          "color": "#636efa",
          "dash": "solid"
         },
         "marker": {
          "color": "#1ed760",
          "line": {
           "color": "grey",
           "width": 1
          },
          "symbol": "circle"
         },
         "mode": "lines",
         "name": "",
         "orientation": "v",
         "showlegend": false,
         "type": "scatter",
         "x": [
          2010,
          2011,
          2013,
          2015,
          2016,
          2017,
          2018,
          2019,
          2020,
          2021,
          2022
         ],
         "xaxis": "x",
         "y": [
          -6.266357142857143,
          -10.91863157894737,
          -7.5902,
          -8.125892857142857,
          -8.927549999999998,
          -8.865818181818183,
          -8.71164,
          -6.765371428571426,
          -6.3025714285714285,
          -7.573857142857145,
          -9.621766666666666
         ],
         "yaxis": "y"
        }
       ],
       "layout": {
        "annotations": [
         {
          "align": "right",
          "font": {
           "color": "#535353",
           "family": "Georgia",
           "size": 16
          },
          "showarrow": false,
          "text": "Visual Created By Bjorn S.",
          "x": 1.1,
          "xref": "paper",
          "y": -0.15,
          "yref": "paper"
         }
        ],
        "height": 700,
        "images": [
         {
          "sizex": 0.13,
          "sizey": 0.13,
          "source": "logo.png",
          "x": -0.099,
          "xanchor": "left",
          "xref": "paper",
          "y": 1.18,
          "yanchor": "top",
          "yref": "paper"
         }
        ],
        "legend": {
         "title": {},
         "tracegroupgap": 0
        },
        "paper_bgcolor": "#F4F2F0",
        "plot_bgcolor": "#F4F2F0",
        "template": {
         "data": {
          "bar": [
           {
            "error_x": {
             "color": "#2a3f5f"
            },
            "error_y": {
             "color": "#2a3f5f"
            },
            "marker": {
             "line": {
              "color": "#E5ECF6",
              "width": 0.5
             },
             "pattern": {
              "fillmode": "overlay",
              "size": 10,
              "solidity": 0.2
             }
            },
            "type": "bar"
           }
          ],
          "barpolar": [
           {
            "marker": {
             "line": {
              "color": "#E5ECF6",
              "width": 0.5
             },
             "pattern": {
              "fillmode": "overlay",
              "size": 10,
              "solidity": 0.2
             }
            },
            "type": "barpolar"
           }
          ],
          "carpet": [
           {
            "aaxis": {
             "endlinecolor": "#2a3f5f",
             "gridcolor": "white",
             "linecolor": "white",
             "minorgridcolor": "white",
             "startlinecolor": "#2a3f5f"
            },
            "baxis": {
             "endlinecolor": "#2a3f5f",
             "gridcolor": "white",
             "linecolor": "white",
             "minorgridcolor": "white",
             "startlinecolor": "#2a3f5f"
            },
            "type": "carpet"
           }
          ],
          "choropleth": [
           {
            "colorbar": {
             "outlinewidth": 0,
             "ticks": ""
            },
            "type": "choropleth"
           }
          ],
          "contour": [
           {
            "colorbar": {
             "outlinewidth": 0,
             "ticks": ""
            },
            "colorscale": [
             [
              0,
              "#0d0887"
             ],
             [
              0.1111111111111111,
              "#46039f"
             ],
             [
              0.2222222222222222,
              "#7201a8"
             ],
             [
              0.3333333333333333,
              "#9c179e"
             ],
             [
              0.4444444444444444,
              "#bd3786"
             ],
             [
              0.5555555555555556,
              "#d8576b"
             ],
             [
              0.6666666666666666,
              "#ed7953"
             ],
             [
              0.7777777777777778,
              "#fb9f3a"
             ],
             [
              0.8888888888888888,
              "#fdca26"
             ],
             [
              1,
              "#f0f921"
             ]
            ],
            "type": "contour"
           }
          ],
          "contourcarpet": [
           {
            "colorbar": {
             "outlinewidth": 0,
             "ticks": ""
            },
            "type": "contourcarpet"
           }
          ],
          "heatmap": [
           {
            "colorbar": {
             "outlinewidth": 0,
             "ticks": ""
            },
            "colorscale": [
             [
              0,
              "#0d0887"
             ],
             [
              0.1111111111111111,
              "#46039f"
             ],
             [
              0.2222222222222222,
              "#7201a8"
             ],
             [
              0.3333333333333333,
              "#9c179e"
             ],
             [
              0.4444444444444444,
              "#bd3786"
             ],
             [
              0.5555555555555556,
              "#d8576b"
             ],
             [
              0.6666666666666666,
              "#ed7953"
             ],
             [
              0.7777777777777778,
              "#fb9f3a"
             ],
             [
              0.8888888888888888,
              "#fdca26"
             ],
             [
              1,
              "#f0f921"
             ]
            ],
            "type": "heatmap"
           }
          ],
          "heatmapgl": [
           {
            "colorbar": {
             "outlinewidth": 0,
             "ticks": ""
            },
            "colorscale": [
             [
              0,
              "#0d0887"
             ],
             [
              0.1111111111111111,
              "#46039f"
             ],
             [
              0.2222222222222222,
              "#7201a8"
             ],
             [
              0.3333333333333333,
              "#9c179e"
             ],
             [
              0.4444444444444444,
              "#bd3786"
             ],
             [
              0.5555555555555556,
              "#d8576b"
             ],
             [
              0.6666666666666666,
              "#ed7953"
             ],
             [
              0.7777777777777778,
              "#fb9f3a"
             ],
             [
              0.8888888888888888,
              "#fdca26"
             ],
             [
              1,
              "#f0f921"
             ]
            ],
            "type": "heatmapgl"
           }
          ],
          "histogram": [
           {
            "marker": {
             "pattern": {
              "fillmode": "overlay",
              "size": 10,
              "solidity": 0.2
             }
            },
            "type": "histogram"
           }
          ],
          "histogram2d": [
           {
            "colorbar": {
             "outlinewidth": 0,
             "ticks": ""
            },
            "colorscale": [
             [
              0,
              "#0d0887"
             ],
             [
              0.1111111111111111,
              "#46039f"
             ],
             [
              0.2222222222222222,
              "#7201a8"
             ],
             [
              0.3333333333333333,
              "#9c179e"
             ],
             [
              0.4444444444444444,
              "#bd3786"
             ],
             [
              0.5555555555555556,
              "#d8576b"
             ],
             [
              0.6666666666666666,
              "#ed7953"
             ],
             [
              0.7777777777777778,
              "#fb9f3a"
             ],
             [
              0.8888888888888888,
              "#fdca26"
             ],
             [
              1,
              "#f0f921"
             ]
            ],
            "type": "histogram2d"
           }
          ],
          "histogram2dcontour": [
           {
            "colorbar": {
             "outlinewidth": 0,
             "ticks": ""
            },
            "colorscale": [
             [
              0,
              "#0d0887"
             ],
             [
              0.1111111111111111,
              "#46039f"
             ],
             [
              0.2222222222222222,
              "#7201a8"
             ],
             [
              0.3333333333333333,
              "#9c179e"
             ],
             [
              0.4444444444444444,
              "#bd3786"
             ],
             [
              0.5555555555555556,
              "#d8576b"
             ],
             [
              0.6666666666666666,
              "#ed7953"
             ],
             [
              0.7777777777777778,
              "#fb9f3a"
             ],
             [
              0.8888888888888888,
              "#fdca26"
             ],
             [
              1,
              "#f0f921"
             ]
            ],
            "type": "histogram2dcontour"
           }
          ],
          "mesh3d": [
           {
            "colorbar": {
             "outlinewidth": 0,
             "ticks": ""
            },
            "type": "mesh3d"
           }
          ],
          "parcoords": [
           {
            "line": {
             "colorbar": {
              "outlinewidth": 0,
              "ticks": ""
             }
            },
            "type": "parcoords"
           }
          ],
          "pie": [
           {
            "automargin": true,
            "type": "pie"
           }
          ],
          "scatter": [
           {
            "fillpattern": {
             "fillmode": "overlay",
             "size": 10,
             "solidity": 0.2
            },
            "type": "scatter"
           }
          ],
          "scatter3d": [
           {
            "line": {
             "colorbar": {
              "outlinewidth": 0,
              "ticks": ""
             }
            },
            "marker": {
             "colorbar": {
              "outlinewidth": 0,
              "ticks": ""
             }
            },
            "type": "scatter3d"
           }
          ],
          "scattercarpet": [
           {
            "marker": {
             "colorbar": {
              "outlinewidth": 0,
              "ticks": ""
             }
            },
            "type": "scattercarpet"
           }
          ],
          "scattergeo": [
           {
            "marker": {
             "colorbar": {
              "outlinewidth": 0,
              "ticks": ""
             }
            },
            "type": "scattergeo"
           }
          ],
          "scattergl": [
           {
            "marker": {
             "colorbar": {
              "outlinewidth": 0,
              "ticks": ""
             }
            },
            "type": "scattergl"
           }
          ],
          "scattermapbox": [
           {
            "marker": {
             "colorbar": {
              "outlinewidth": 0,
              "ticks": ""
             }
            },
            "type": "scattermapbox"
           }
          ],
          "scatterpolar": [
           {
            "marker": {
             "colorbar": {
              "outlinewidth": 0,
              "ticks": ""
             }
            },
            "type": "scatterpolar"
           }
          ],
          "scatterpolargl": [
           {
            "marker": {
             "colorbar": {
              "outlinewidth": 0,
              "ticks": ""
             }
            },
            "type": "scatterpolargl"
           }
          ],
          "scatterternary": [
           {
            "marker": {
             "colorbar": {
              "outlinewidth": 0,
              "ticks": ""
             }
            },
            "type": "scatterternary"
           }
          ],
          "surface": [
           {
            "colorbar": {
             "outlinewidth": 0,
             "ticks": ""
            },
            "colorscale": [
             [
              0,
              "#0d0887"
             ],
             [
              0.1111111111111111,
              "#46039f"
             ],
             [
              0.2222222222222222,
              "#7201a8"
             ],
             [
              0.3333333333333333,
              "#9c179e"
             ],
             [
              0.4444444444444444,
              "#bd3786"
             ],
             [
              0.5555555555555556,
              "#d8576b"
             ],
             [
              0.6666666666666666,
              "#ed7953"
             ],
             [
              0.7777777777777778,
              "#fb9f3a"
             ],
             [
              0.8888888888888888,
              "#fdca26"
             ],
             [
              1,
              "#f0f921"
             ]
            ],
            "type": "surface"
           }
          ],
          "table": [
           {
            "cells": {
             "fill": {
              "color": "#EBF0F8"
             },
             "line": {
              "color": "white"
             }
            },
            "header": {
             "fill": {
              "color": "#C8D4E3"
             },
             "line": {
              "color": "white"
             }
            },
            "type": "table"
           }
          ]
         },
         "layout": {
          "annotationdefaults": {
           "arrowcolor": "#2a3f5f",
           "arrowhead": 0,
           "arrowwidth": 1
          },
          "autotypenumbers": "strict",
          "coloraxis": {
           "colorbar": {
            "outlinewidth": 0,
            "ticks": ""
           }
          },
          "colorscale": {
           "diverging": [
            [
             0,
             "#8e0152"
            ],
            [
             0.1,
             "#c51b7d"
            ],
            [
             0.2,
             "#de77ae"
            ],
            [
             0.3,
             "#f1b6da"
            ],
            [
             0.4,
             "#fde0ef"
            ],
            [
             0.5,
             "#f7f7f7"
            ],
            [
             0.6,
             "#e6f5d0"
            ],
            [
             0.7,
             "#b8e186"
            ],
            [
             0.8,
             "#7fbc41"
            ],
            [
             0.9,
             "#4d9221"
            ],
            [
             1,
             "#276419"
            ]
           ],
           "sequential": [
            [
             0,
             "#0d0887"
            ],
            [
             0.1111111111111111,
             "#46039f"
            ],
            [
             0.2222222222222222,
             "#7201a8"
            ],
            [
             0.3333333333333333,
             "#9c179e"
            ],
            [
             0.4444444444444444,
             "#bd3786"
            ],
            [
             0.5555555555555556,
             "#d8576b"
            ],
            [
             0.6666666666666666,
             "#ed7953"
            ],
            [
             0.7777777777777778,
             "#fb9f3a"
            ],
            [
             0.8888888888888888,
             "#fdca26"
            ],
            [
             1,
             "#f0f921"
            ]
           ],
           "sequentialminus": [
            [
             0,
             "#0d0887"
            ],
            [
             0.1111111111111111,
             "#46039f"
            ],
            [
             0.2222222222222222,
             "#7201a8"
            ],
            [
             0.3333333333333333,
             "#9c179e"
            ],
            [
             0.4444444444444444,
             "#bd3786"
            ],
            [
             0.5555555555555556,
             "#d8576b"
            ],
            [
             0.6666666666666666,
             "#ed7953"
            ],
            [
             0.7777777777777778,
             "#fb9f3a"
            ],
            [
             0.8888888888888888,
             "#fdca26"
            ],
            [
             1,
             "#f0f921"
            ]
           ]
          },
          "colorway": [
           "#636efa",
           "#EF553B",
           "#00cc96",
           "#ab63fa",
           "#FFA15A",
           "#19d3f3",
           "#FF6692",
           "#B6E880",
           "#FF97FF",
           "#FECB52"
          ],
          "font": {
           "color": "#2a3f5f"
          },
          "geo": {
           "bgcolor": "white",
           "lakecolor": "white",
           "landcolor": "#E5ECF6",
           "showlakes": true,
           "showland": true,
           "subunitcolor": "white"
          },
          "hoverlabel": {
           "align": "left"
          },
          "hovermode": "closest",
          "mapbox": {
           "style": "light"
          },
          "paper_bgcolor": "white",
          "plot_bgcolor": "#E5ECF6",
          "polar": {
           "angularaxis": {
            "gridcolor": "white",
            "linecolor": "white",
            "ticks": ""
           },
           "bgcolor": "#E5ECF6",
           "radialaxis": {
            "gridcolor": "white",
            "linecolor": "white",
            "ticks": ""
           }
          },
          "scene": {
           "xaxis": {
            "backgroundcolor": "#E5ECF6",
            "gridcolor": "white",
            "gridwidth": 2,
            "linecolor": "white",
            "showbackground": true,
            "ticks": "",
            "zerolinecolor": "white"
           },
           "yaxis": {
            "backgroundcolor": "#E5ECF6",
            "gridcolor": "white",
            "gridwidth": 2,
            "linecolor": "white",
            "showbackground": true,
            "ticks": "",
            "zerolinecolor": "white"
           },
           "zaxis": {
            "backgroundcolor": "#E5ECF6",
            "gridcolor": "white",
            "gridwidth": 2,
            "linecolor": "white",
            "showbackground": true,
            "ticks": "",
            "zerolinecolor": "white"
           }
          },
          "shapedefaults": {
           "line": {
            "color": "#2a3f5f"
           }
          },
          "ternary": {
           "aaxis": {
            "gridcolor": "white",
            "linecolor": "white",
            "ticks": ""
           },
           "baxis": {
            "gridcolor": "white",
            "linecolor": "white",
            "ticks": ""
           },
           "bgcolor": "#E5ECF6",
           "caxis": {
            "gridcolor": "white",
            "linecolor": "white",
            "ticks": ""
           }
          },
          "title": {
           "x": 0.05
          },
          "xaxis": {
           "automargin": true,
           "gridcolor": "white",
           "linecolor": "white",
           "ticks": "",
           "title": {
            "standoff": 15
           },
           "zerolinecolor": "white",
           "zerolinewidth": 2
          },
          "yaxis": {
           "automargin": true,
           "gridcolor": "white",
           "linecolor": "white",
           "ticks": "",
           "title": {
            "standoff": 15
           },
           "zerolinecolor": "white",
           "zerolinewidth": 2
          }
         }
        },
        "title": {
         "font": {
          "family": "Georgia",
          "size": 24
         },
         "text": "Drake Music Loudness Levels",
         "x": 0.17,
         "y": 0.945
        },
        "width": 700,
        "xaxis": {
         "anchor": "y",
         "domain": [
          0,
          1
         ],
         "showgrid": true,
         "tickangle": 0.5,
         "tickfont": {
          "size": 11
         },
         "title": {
          "text": "Year"
         }
        },
        "yaxis": {
         "anchor": "x",
         "domain": [
          0,
          1
         ],
         "range": [
          -15,
          0
         ],
         "rangemode": "tozero",
         "showgrid": true,
         "title": {
          "text": "Loudness (db)"
         }
        }
       }
      }
     },
     "metadata": {},
     "output_type": "display_data"
    }
   ],
   "source": [
    "fig13 = px.line(loudness_trend, x='Release Year', y='Loudness', title=\"Drake Music Loudness Levels\")\n",
    "\n",
    "\n",
    "fig13.update_layout(title=dict(x=0.17, y=0.945, font=dict(size=24, family='Georgia')),\n",
    "                  width=700, height=700,\n",
    "                  paper_bgcolor='#F4F2F0', plot_bgcolor='#F4F2F0',\n",
    "                  xaxis=dict(showgrid=True), yaxis=dict(showgrid=True),\n",
    "                  xaxis_title=\"Year\", yaxis_title=\"Loudness (db)\", legend_title = None)\n",
    "fig13.update_traces(marker_line=dict(width=1, color='grey'), marker_color='#1ed760')\n",
    "\n",
    "fig13.update_xaxes(tickfont=dict(size=11), tickangle=0.5)\n",
    "fig13.update_yaxes(range=[-15,0], rangemode='tozero')\n",
    "\n",
    "#Spotify\n",
    "fig13.add_layout_image(\n",
    "    dict(\n",
    "        source=\"logo.png\",\n",
    "        xref=\"paper\",\n",
    "        yref=\"paper\",\n",
    "        x=-0.099,\n",
    "        y=1.18,\n",
    "        sizex=0.13,\n",
    "        sizey=0.13,\n",
    "        xanchor=\"left\",\n",
    "        yanchor=\"top\"\n",
    "    )\n",
    ")\n",
    "\n",
    "#Credit\n",
    "fig13.add_annotation(\n",
    "    x=1.1,  # x-coordinate of the annotation\n",
    "    y=-0.15,  # y-coordinate of the annotation\n",
    "    xref='paper',  # x-coordinate reference system\n",
    "    yref='paper',  # y-coordinate reference system\n",
    "    text='Visual Created By Bjorn S.',  # text to display\n",
    "    showarrow=False,  # hide arrow head\n",
    "    font=dict(size=16, color='#535353', family='Georgia'),  # font style\n",
    "    align='right'  # horizontal alignment\n",
    ")\n",
    "\n",
    "fig13.show()"
   ]
  },
  {
   "cell_type": "code",
   "execution_count": 1566,
   "metadata": {},
   "outputs": [
    {
     "data": {
      "text/html": [
       "<div>\n",
       "<style scoped>\n",
       "    .dataframe tbody tr th:only-of-type {\n",
       "        vertical-align: middle;\n",
       "    }\n",
       "\n",
       "    .dataframe tbody tr th {\n",
       "        vertical-align: top;\n",
       "    }\n",
       "\n",
       "    .dataframe thead th {\n",
       "        text-align: right;\n",
       "    }\n",
       "</style>\n",
       "<table border=\"1\" class=\"dataframe\">\n",
       "  <thead>\n",
       "    <tr style=\"text-align: right;\">\n",
       "      <th></th>\n",
       "      <th>Release Year</th>\n",
       "      <th>Tempo</th>\n",
       "    </tr>\n",
       "  </thead>\n",
       "  <tbody>\n",
       "    <tr>\n",
       "      <th>0</th>\n",
       "      <td>2010</td>\n",
       "      <td>114.718429</td>\n",
       "    </tr>\n",
       "    <tr>\n",
       "      <th>1</th>\n",
       "      <td>2011</td>\n",
       "      <td>138.225632</td>\n",
       "    </tr>\n",
       "    <tr>\n",
       "      <th>2</th>\n",
       "      <td>2013</td>\n",
       "      <td>105.463933</td>\n",
       "    </tr>\n",
       "    <tr>\n",
       "      <th>3</th>\n",
       "      <td>2015</td>\n",
       "      <td>124.047000</td>\n",
       "    </tr>\n",
       "    <tr>\n",
       "      <th>4</th>\n",
       "      <td>2016</td>\n",
       "      <td>117.383400</td>\n",
       "    </tr>\n",
       "    <tr>\n",
       "      <th>5</th>\n",
       "      <td>2017</td>\n",
       "      <td>119.887727</td>\n",
       "    </tr>\n",
       "    <tr>\n",
       "      <th>6</th>\n",
       "      <td>2018</td>\n",
       "      <td>121.663840</td>\n",
       "    </tr>\n",
       "    <tr>\n",
       "      <th>7</th>\n",
       "      <td>2019</td>\n",
       "      <td>123.184457</td>\n",
       "    </tr>\n",
       "    <tr>\n",
       "      <th>8</th>\n",
       "      <td>2020</td>\n",
       "      <td>114.239929</td>\n",
       "    </tr>\n",
       "    <tr>\n",
       "      <th>9</th>\n",
       "      <td>2021</td>\n",
       "      <td>118.024190</td>\n",
       "    </tr>\n",
       "    <tr>\n",
       "      <th>10</th>\n",
       "      <td>2022</td>\n",
       "      <td>122.061967</td>\n",
       "    </tr>\n",
       "  </tbody>\n",
       "</table>\n",
       "</div>"
      ],
      "text/plain": [
       "    Release Year       Tempo\n",
       "0           2010  114.718429\n",
       "1           2011  138.225632\n",
       "2           2013  105.463933\n",
       "3           2015  124.047000\n",
       "4           2016  117.383400\n",
       "5           2017  119.887727\n",
       "6           2018  121.663840\n",
       "7           2019  123.184457\n",
       "8           2020  114.239929\n",
       "9           2021  118.024190\n",
       "10          2022  122.061967"
      ]
     },
     "execution_count": 1566,
     "metadata": {},
     "output_type": "execute_result"
    }
   ],
   "source": [
    "music_6 = '''SELECT [Release Year], AVG(Tempo) AS Tempo FROM data GROUP BY 1 ORDER BY 1 ASC'''\n",
    "\n",
    "tempo_trend = pysqldf(music_6)\n",
    "\n",
    "tempo_trend"
   ]
  },
  {
   "cell_type": "code",
   "execution_count": 1567,
   "metadata": {},
   "outputs": [
    {
     "data": {
      "application/vnd.plotly.v1+json": {
       "config": {
        "plotlyServerURL": "https://plot.ly"
       },
       "data": [
        {
         "hovertemplate": "Release Year=%{x}<br>Tempo=%{y}<extra></extra>",
         "legendgroup": "",
         "line": {
          "color": "#636efa",
          "dash": "solid"
         },
         "marker": {
          "color": "#1ed760",
          "line": {
           "color": "grey",
           "width": 1
          },
          "symbol": "circle"
         },
         "mode": "lines",
         "name": "",
         "orientation": "v",
         "showlegend": false,
         "type": "scatter",
         "x": [
          2010,
          2011,
          2013,
          2015,
          2016,
          2017,
          2018,
          2019,
          2020,
          2021,
          2022
         ],
         "xaxis": "x",
         "y": [
          114.71842857142857,
          138.22563157894737,
          105.46393333333334,
          124.047,
          117.38340000000001,
          119.88772727272726,
          121.66384000000002,
          123.18445714285713,
          114.23992857142856,
          118.02419047619047,
          122.06196666666666
         ],
         "yaxis": "y"
        }
       ],
       "layout": {
        "annotations": [
         {
          "align": "right",
          "font": {
           "color": "#535353",
           "family": "Georgia",
           "size": 16
          },
          "showarrow": false,
          "text": "Visual Created By Bjorn S.",
          "x": 1.1,
          "xref": "paper",
          "y": -0.15,
          "yref": "paper"
         }
        ],
        "height": 700,
        "images": [
         {
          "sizex": 0.13,
          "sizey": 0.13,
          "source": "logo.png",
          "x": -0.099,
          "xanchor": "left",
          "xref": "paper",
          "y": 1.18,
          "yanchor": "top",
          "yref": "paper"
         }
        ],
        "legend": {
         "title": {},
         "tracegroupgap": 0
        },
        "paper_bgcolor": "#F4F2F0",
        "plot_bgcolor": "#F4F2F0",
        "template": {
         "data": {
          "bar": [
           {
            "error_x": {
             "color": "#2a3f5f"
            },
            "error_y": {
             "color": "#2a3f5f"
            },
            "marker": {
             "line": {
              "color": "#E5ECF6",
              "width": 0.5
             },
             "pattern": {
              "fillmode": "overlay",
              "size": 10,
              "solidity": 0.2
             }
            },
            "type": "bar"
           }
          ],
          "barpolar": [
           {
            "marker": {
             "line": {
              "color": "#E5ECF6",
              "width": 0.5
             },
             "pattern": {
              "fillmode": "overlay",
              "size": 10,
              "solidity": 0.2
             }
            },
            "type": "barpolar"
           }
          ],
          "carpet": [
           {
            "aaxis": {
             "endlinecolor": "#2a3f5f",
             "gridcolor": "white",
             "linecolor": "white",
             "minorgridcolor": "white",
             "startlinecolor": "#2a3f5f"
            },
            "baxis": {
             "endlinecolor": "#2a3f5f",
             "gridcolor": "white",
             "linecolor": "white",
             "minorgridcolor": "white",
             "startlinecolor": "#2a3f5f"
            },
            "type": "carpet"
           }
          ],
          "choropleth": [
           {
            "colorbar": {
             "outlinewidth": 0,
             "ticks": ""
            },
            "type": "choropleth"
           }
          ],
          "contour": [
           {
            "colorbar": {
             "outlinewidth": 0,
             "ticks": ""
            },
            "colorscale": [
             [
              0,
              "#0d0887"
             ],
             [
              0.1111111111111111,
              "#46039f"
             ],
             [
              0.2222222222222222,
              "#7201a8"
             ],
             [
              0.3333333333333333,
              "#9c179e"
             ],
             [
              0.4444444444444444,
              "#bd3786"
             ],
             [
              0.5555555555555556,
              "#d8576b"
             ],
             [
              0.6666666666666666,
              "#ed7953"
             ],
             [
              0.7777777777777778,
              "#fb9f3a"
             ],
             [
              0.8888888888888888,
              "#fdca26"
             ],
             [
              1,
              "#f0f921"
             ]
            ],
            "type": "contour"
           }
          ],
          "contourcarpet": [
           {
            "colorbar": {
             "outlinewidth": 0,
             "ticks": ""
            },
            "type": "contourcarpet"
           }
          ],
          "heatmap": [
           {
            "colorbar": {
             "outlinewidth": 0,
             "ticks": ""
            },
            "colorscale": [
             [
              0,
              "#0d0887"
             ],
             [
              0.1111111111111111,
              "#46039f"
             ],
             [
              0.2222222222222222,
              "#7201a8"
             ],
             [
              0.3333333333333333,
              "#9c179e"
             ],
             [
              0.4444444444444444,
              "#bd3786"
             ],
             [
              0.5555555555555556,
              "#d8576b"
             ],
             [
              0.6666666666666666,
              "#ed7953"
             ],
             [
              0.7777777777777778,
              "#fb9f3a"
             ],
             [
              0.8888888888888888,
              "#fdca26"
             ],
             [
              1,
              "#f0f921"
             ]
            ],
            "type": "heatmap"
           }
          ],
          "heatmapgl": [
           {
            "colorbar": {
             "outlinewidth": 0,
             "ticks": ""
            },
            "colorscale": [
             [
              0,
              "#0d0887"
             ],
             [
              0.1111111111111111,
              "#46039f"
             ],
             [
              0.2222222222222222,
              "#7201a8"
             ],
             [
              0.3333333333333333,
              "#9c179e"
             ],
             [
              0.4444444444444444,
              "#bd3786"
             ],
             [
              0.5555555555555556,
              "#d8576b"
             ],
             [
              0.6666666666666666,
              "#ed7953"
             ],
             [
              0.7777777777777778,
              "#fb9f3a"
             ],
             [
              0.8888888888888888,
              "#fdca26"
             ],
             [
              1,
              "#f0f921"
             ]
            ],
            "type": "heatmapgl"
           }
          ],
          "histogram": [
           {
            "marker": {
             "pattern": {
              "fillmode": "overlay",
              "size": 10,
              "solidity": 0.2
             }
            },
            "type": "histogram"
           }
          ],
          "histogram2d": [
           {
            "colorbar": {
             "outlinewidth": 0,
             "ticks": ""
            },
            "colorscale": [
             [
              0,
              "#0d0887"
             ],
             [
              0.1111111111111111,
              "#46039f"
             ],
             [
              0.2222222222222222,
              "#7201a8"
             ],
             [
              0.3333333333333333,
              "#9c179e"
             ],
             [
              0.4444444444444444,
              "#bd3786"
             ],
             [
              0.5555555555555556,
              "#d8576b"
             ],
             [
              0.6666666666666666,
              "#ed7953"
             ],
             [
              0.7777777777777778,
              "#fb9f3a"
             ],
             [
              0.8888888888888888,
              "#fdca26"
             ],
             [
              1,
              "#f0f921"
             ]
            ],
            "type": "histogram2d"
           }
          ],
          "histogram2dcontour": [
           {
            "colorbar": {
             "outlinewidth": 0,
             "ticks": ""
            },
            "colorscale": [
             [
              0,
              "#0d0887"
             ],
             [
              0.1111111111111111,
              "#46039f"
             ],
             [
              0.2222222222222222,
              "#7201a8"
             ],
             [
              0.3333333333333333,
              "#9c179e"
             ],
             [
              0.4444444444444444,
              "#bd3786"
             ],
             [
              0.5555555555555556,
              "#d8576b"
             ],
             [
              0.6666666666666666,
              "#ed7953"
             ],
             [
              0.7777777777777778,
              "#fb9f3a"
             ],
             [
              0.8888888888888888,
              "#fdca26"
             ],
             [
              1,
              "#f0f921"
             ]
            ],
            "type": "histogram2dcontour"
           }
          ],
          "mesh3d": [
           {
            "colorbar": {
             "outlinewidth": 0,
             "ticks": ""
            },
            "type": "mesh3d"
           }
          ],
          "parcoords": [
           {
            "line": {
             "colorbar": {
              "outlinewidth": 0,
              "ticks": ""
             }
            },
            "type": "parcoords"
           }
          ],
          "pie": [
           {
            "automargin": true,
            "type": "pie"
           }
          ],
          "scatter": [
           {
            "fillpattern": {
             "fillmode": "overlay",
             "size": 10,
             "solidity": 0.2
            },
            "type": "scatter"
           }
          ],
          "scatter3d": [
           {
            "line": {
             "colorbar": {
              "outlinewidth": 0,
              "ticks": ""
             }
            },
            "marker": {
             "colorbar": {
              "outlinewidth": 0,
              "ticks": ""
             }
            },
            "type": "scatter3d"
           }
          ],
          "scattercarpet": [
           {
            "marker": {
             "colorbar": {
              "outlinewidth": 0,
              "ticks": ""
             }
            },
            "type": "scattercarpet"
           }
          ],
          "scattergeo": [
           {
            "marker": {
             "colorbar": {
              "outlinewidth": 0,
              "ticks": ""
             }
            },
            "type": "scattergeo"
           }
          ],
          "scattergl": [
           {
            "marker": {
             "colorbar": {
              "outlinewidth": 0,
              "ticks": ""
             }
            },
            "type": "scattergl"
           }
          ],
          "scattermapbox": [
           {
            "marker": {
             "colorbar": {
              "outlinewidth": 0,
              "ticks": ""
             }
            },
            "type": "scattermapbox"
           }
          ],
          "scatterpolar": [
           {
            "marker": {
             "colorbar": {
              "outlinewidth": 0,
              "ticks": ""
             }
            },
            "type": "scatterpolar"
           }
          ],
          "scatterpolargl": [
           {
            "marker": {
             "colorbar": {
              "outlinewidth": 0,
              "ticks": ""
             }
            },
            "type": "scatterpolargl"
           }
          ],
          "scatterternary": [
           {
            "marker": {
             "colorbar": {
              "outlinewidth": 0,
              "ticks": ""
             }
            },
            "type": "scatterternary"
           }
          ],
          "surface": [
           {
            "colorbar": {
             "outlinewidth": 0,
             "ticks": ""
            },
            "colorscale": [
             [
              0,
              "#0d0887"
             ],
             [
              0.1111111111111111,
              "#46039f"
             ],
             [
              0.2222222222222222,
              "#7201a8"
             ],
             [
              0.3333333333333333,
              "#9c179e"
             ],
             [
              0.4444444444444444,
              "#bd3786"
             ],
             [
              0.5555555555555556,
              "#d8576b"
             ],
             [
              0.6666666666666666,
              "#ed7953"
             ],
             [
              0.7777777777777778,
              "#fb9f3a"
             ],
             [
              0.8888888888888888,
              "#fdca26"
             ],
             [
              1,
              "#f0f921"
             ]
            ],
            "type": "surface"
           }
          ],
          "table": [
           {
            "cells": {
             "fill": {
              "color": "#EBF0F8"
             },
             "line": {
              "color": "white"
             }
            },
            "header": {
             "fill": {
              "color": "#C8D4E3"
             },
             "line": {
              "color": "white"
             }
            },
            "type": "table"
           }
          ]
         },
         "layout": {
          "annotationdefaults": {
           "arrowcolor": "#2a3f5f",
           "arrowhead": 0,
           "arrowwidth": 1
          },
          "autotypenumbers": "strict",
          "coloraxis": {
           "colorbar": {
            "outlinewidth": 0,
            "ticks": ""
           }
          },
          "colorscale": {
           "diverging": [
            [
             0,
             "#8e0152"
            ],
            [
             0.1,
             "#c51b7d"
            ],
            [
             0.2,
             "#de77ae"
            ],
            [
             0.3,
             "#f1b6da"
            ],
            [
             0.4,
             "#fde0ef"
            ],
            [
             0.5,
             "#f7f7f7"
            ],
            [
             0.6,
             "#e6f5d0"
            ],
            [
             0.7,
             "#b8e186"
            ],
            [
             0.8,
             "#7fbc41"
            ],
            [
             0.9,
             "#4d9221"
            ],
            [
             1,
             "#276419"
            ]
           ],
           "sequential": [
            [
             0,
             "#0d0887"
            ],
            [
             0.1111111111111111,
             "#46039f"
            ],
            [
             0.2222222222222222,
             "#7201a8"
            ],
            [
             0.3333333333333333,
             "#9c179e"
            ],
            [
             0.4444444444444444,
             "#bd3786"
            ],
            [
             0.5555555555555556,
             "#d8576b"
            ],
            [
             0.6666666666666666,
             "#ed7953"
            ],
            [
             0.7777777777777778,
             "#fb9f3a"
            ],
            [
             0.8888888888888888,
             "#fdca26"
            ],
            [
             1,
             "#f0f921"
            ]
           ],
           "sequentialminus": [
            [
             0,
             "#0d0887"
            ],
            [
             0.1111111111111111,
             "#46039f"
            ],
            [
             0.2222222222222222,
             "#7201a8"
            ],
            [
             0.3333333333333333,
             "#9c179e"
            ],
            [
             0.4444444444444444,
             "#bd3786"
            ],
            [
             0.5555555555555556,
             "#d8576b"
            ],
            [
             0.6666666666666666,
             "#ed7953"
            ],
            [
             0.7777777777777778,
             "#fb9f3a"
            ],
            [
             0.8888888888888888,
             "#fdca26"
            ],
            [
             1,
             "#f0f921"
            ]
           ]
          },
          "colorway": [
           "#636efa",
           "#EF553B",
           "#00cc96",
           "#ab63fa",
           "#FFA15A",
           "#19d3f3",
           "#FF6692",
           "#B6E880",
           "#FF97FF",
           "#FECB52"
          ],
          "font": {
           "color": "#2a3f5f"
          },
          "geo": {
           "bgcolor": "white",
           "lakecolor": "white",
           "landcolor": "#E5ECF6",
           "showlakes": true,
           "showland": true,
           "subunitcolor": "white"
          },
          "hoverlabel": {
           "align": "left"
          },
          "hovermode": "closest",
          "mapbox": {
           "style": "light"
          },
          "paper_bgcolor": "white",
          "plot_bgcolor": "#E5ECF6",
          "polar": {
           "angularaxis": {
            "gridcolor": "white",
            "linecolor": "white",
            "ticks": ""
           },
           "bgcolor": "#E5ECF6",
           "radialaxis": {
            "gridcolor": "white",
            "linecolor": "white",
            "ticks": ""
           }
          },
          "scene": {
           "xaxis": {
            "backgroundcolor": "#E5ECF6",
            "gridcolor": "white",
            "gridwidth": 2,
            "linecolor": "white",
            "showbackground": true,
            "ticks": "",
            "zerolinecolor": "white"
           },
           "yaxis": {
            "backgroundcolor": "#E5ECF6",
            "gridcolor": "white",
            "gridwidth": 2,
            "linecolor": "white",
            "showbackground": true,
            "ticks": "",
            "zerolinecolor": "white"
           },
           "zaxis": {
            "backgroundcolor": "#E5ECF6",
            "gridcolor": "white",
            "gridwidth": 2,
            "linecolor": "white",
            "showbackground": true,
            "ticks": "",
            "zerolinecolor": "white"
           }
          },
          "shapedefaults": {
           "line": {
            "color": "#2a3f5f"
           }
          },
          "ternary": {
           "aaxis": {
            "gridcolor": "white",
            "linecolor": "white",
            "ticks": ""
           },
           "baxis": {
            "gridcolor": "white",
            "linecolor": "white",
            "ticks": ""
           },
           "bgcolor": "#E5ECF6",
           "caxis": {
            "gridcolor": "white",
            "linecolor": "white",
            "ticks": ""
           }
          },
          "title": {
           "x": 0.05
          },
          "xaxis": {
           "automargin": true,
           "gridcolor": "white",
           "linecolor": "white",
           "ticks": "",
           "title": {
            "standoff": 15
           },
           "zerolinecolor": "white",
           "zerolinewidth": 2
          },
          "yaxis": {
           "automargin": true,
           "gridcolor": "white",
           "linecolor": "white",
           "ticks": "",
           "title": {
            "standoff": 15
           },
           "zerolinecolor": "white",
           "zerolinewidth": 2
          }
         }
        },
        "title": {
         "font": {
          "family": "Georgia",
          "size": 24
         },
         "text": "Drake Music Tempo Levels",
         "x": 0.17,
         "y": 0.945
        },
        "width": 700,
        "xaxis": {
         "anchor": "y",
         "domain": [
          0,
          1
         ],
         "showgrid": true,
         "tickangle": 0.5,
         "tickfont": {
          "size": 11
         },
         "title": {
          "text": "Year"
         }
        },
        "yaxis": {
         "anchor": "x",
         "domain": [
          0,
          1
         ],
         "range": [
          100,
          200
         ],
         "rangemode": "tozero",
         "showgrid": true,
         "title": {
          "text": "Tempo (BPM)"
         }
        }
       }
      }
     },
     "metadata": {},
     "output_type": "display_data"
    }
   ],
   "source": [
    "fig14 = px.line(tempo_trend, x='Release Year', y='Tempo', title=\"Drake Music Tempo Levels\")\n",
    "\n",
    "\n",
    "fig14.update_layout(title=dict(x=0.17, y=0.945, font=dict(size=24, family='Georgia')),\n",
    "                  width=700, height=700,\n",
    "                  paper_bgcolor='#F4F2F0', plot_bgcolor='#F4F2F0',\n",
    "                  xaxis=dict(showgrid=True), yaxis=dict(showgrid=True),\n",
    "                  xaxis_title=\"Year\", yaxis_title=\"Tempo (BPM)\", legend_title = None)\n",
    "fig14.update_traces(marker_line=dict(width=1, color='grey'), marker_color='#1ed760')\n",
    "\n",
    "fig14.update_xaxes(tickfont=dict(size=11), tickangle=0.5)\n",
    "fig14.update_yaxes(range=[100,200], rangemode='tozero')\n",
    "\n",
    "#Spotify\n",
    "fig14.add_layout_image(\n",
    "    dict(\n",
    "        source=\"logo.png\",\n",
    "        xref=\"paper\",\n",
    "        yref=\"paper\",\n",
    "        x=-0.099,\n",
    "        y=1.18,\n",
    "        sizex=0.13,\n",
    "        sizey=0.13,\n",
    "        xanchor=\"left\",\n",
    "        yanchor=\"top\"\n",
    "    )\n",
    ")\n",
    "\n",
    "#Credit\n",
    "fig14.add_annotation(\n",
    "    x=1.1,  # x-coordinate of the annotation\n",
    "    y=-0.15,  # y-coordinate of the annotation\n",
    "    xref='paper',  # x-coordinate reference system\n",
    "    yref='paper',  # y-coordinate reference system\n",
    "    text='Visual Created By Bjorn S.',  # text to display\n",
    "    showarrow=False,  # hide arrow head\n",
    "    font=dict(size=16, color='#535353', family='Georgia'),  # font style\n",
    "    align='right'  # horizontal alignment\n",
    ")\n",
    "\n",
    "fig14.show()"
   ]
  },
  {
   "cell_type": "code",
   "execution_count": 1569,
   "metadata": {},
   "outputs": [],
   "source": [
    "music_7 = '''SELECT [Release Year], AVG(Valence) AS Valence FROM data GROUP BY 1 ORDER BY 1 ASC'''\n",
    "\n",
    "valence_trend = pysqldf(music_7)"
   ]
  },
  {
   "cell_type": "code",
   "execution_count": 1570,
   "metadata": {},
   "outputs": [
    {
     "data": {
      "application/vnd.plotly.v1+json": {
       "config": {
        "plotlyServerURL": "https://plot.ly"
       },
       "data": [
        {
         "hovertemplate": "Release Year=%{x}<br>Valence=%{y}<extra></extra>",
         "legendgroup": "",
         "line": {
          "color": "#636efa",
          "dash": "solid"
         },
         "marker": {
          "color": "#1ed760",
          "line": {
           "color": "grey",
           "width": 1
          },
          "symbol": "circle"
         },
         "mode": "lines",
         "name": "",
         "orientation": "v",
         "showlegend": false,
         "type": "scatter",
         "x": [
          2010,
          2011,
          2013,
          2015,
          2016,
          2017,
          2018,
          2019,
          2020,
          2021,
          2022
         ],
         "xaxis": "x",
         "y": [
          0.46900000000000003,
          0.3724736842105263,
          0.3529333333333333,
          0.32,
          0.272215,
          0.37211818181818185,
          0.322944,
          0.3929428571428571,
          0.4824071428571428,
          0.3442380952380953,
          0.3228733333333334
         ],
         "yaxis": "y"
        }
       ],
       "layout": {
        "annotations": [
         {
          "align": "right",
          "font": {
           "color": "#535353",
           "family": "Georgia",
           "size": 16
          },
          "showarrow": false,
          "text": "Visual Created By Bjorn S.",
          "x": 1.1,
          "xref": "paper",
          "y": -0.15,
          "yref": "paper"
         }
        ],
        "height": 700,
        "images": [
         {
          "sizex": 0.13,
          "sizey": 0.13,
          "source": "logo.png",
          "x": -0.099,
          "xanchor": "left",
          "xref": "paper",
          "y": 1.18,
          "yanchor": "top",
          "yref": "paper"
         }
        ],
        "legend": {
         "title": {},
         "tracegroupgap": 0
        },
        "paper_bgcolor": "#F4F2F0",
        "plot_bgcolor": "#F4F2F0",
        "template": {
         "data": {
          "bar": [
           {
            "error_x": {
             "color": "#2a3f5f"
            },
            "error_y": {
             "color": "#2a3f5f"
            },
            "marker": {
             "line": {
              "color": "#E5ECF6",
              "width": 0.5
             },
             "pattern": {
              "fillmode": "overlay",
              "size": 10,
              "solidity": 0.2
             }
            },
            "type": "bar"
           }
          ],
          "barpolar": [
           {
            "marker": {
             "line": {
              "color": "#E5ECF6",
              "width": 0.5
             },
             "pattern": {
              "fillmode": "overlay",
              "size": 10,
              "solidity": 0.2
             }
            },
            "type": "barpolar"
           }
          ],
          "carpet": [
           {
            "aaxis": {
             "endlinecolor": "#2a3f5f",
             "gridcolor": "white",
             "linecolor": "white",
             "minorgridcolor": "white",
             "startlinecolor": "#2a3f5f"
            },
            "baxis": {
             "endlinecolor": "#2a3f5f",
             "gridcolor": "white",
             "linecolor": "white",
             "minorgridcolor": "white",
             "startlinecolor": "#2a3f5f"
            },
            "type": "carpet"
           }
          ],
          "choropleth": [
           {
            "colorbar": {
             "outlinewidth": 0,
             "ticks": ""
            },
            "type": "choropleth"
           }
          ],
          "contour": [
           {
            "colorbar": {
             "outlinewidth": 0,
             "ticks": ""
            },
            "colorscale": [
             [
              0,
              "#0d0887"
             ],
             [
              0.1111111111111111,
              "#46039f"
             ],
             [
              0.2222222222222222,
              "#7201a8"
             ],
             [
              0.3333333333333333,
              "#9c179e"
             ],
             [
              0.4444444444444444,
              "#bd3786"
             ],
             [
              0.5555555555555556,
              "#d8576b"
             ],
             [
              0.6666666666666666,
              "#ed7953"
             ],
             [
              0.7777777777777778,
              "#fb9f3a"
             ],
             [
              0.8888888888888888,
              "#fdca26"
             ],
             [
              1,
              "#f0f921"
             ]
            ],
            "type": "contour"
           }
          ],
          "contourcarpet": [
           {
            "colorbar": {
             "outlinewidth": 0,
             "ticks": ""
            },
            "type": "contourcarpet"
           }
          ],
          "heatmap": [
           {
            "colorbar": {
             "outlinewidth": 0,
             "ticks": ""
            },
            "colorscale": [
             [
              0,
              "#0d0887"
             ],
             [
              0.1111111111111111,
              "#46039f"
             ],
             [
              0.2222222222222222,
              "#7201a8"
             ],
             [
              0.3333333333333333,
              "#9c179e"
             ],
             [
              0.4444444444444444,
              "#bd3786"
             ],
             [
              0.5555555555555556,
              "#d8576b"
             ],
             [
              0.6666666666666666,
              "#ed7953"
             ],
             [
              0.7777777777777778,
              "#fb9f3a"
             ],
             [
              0.8888888888888888,
              "#fdca26"
             ],
             [
              1,
              "#f0f921"
             ]
            ],
            "type": "heatmap"
           }
          ],
          "heatmapgl": [
           {
            "colorbar": {
             "outlinewidth": 0,
             "ticks": ""
            },
            "colorscale": [
             [
              0,
              "#0d0887"
             ],
             [
              0.1111111111111111,
              "#46039f"
             ],
             [
              0.2222222222222222,
              "#7201a8"
             ],
             [
              0.3333333333333333,
              "#9c179e"
             ],
             [
              0.4444444444444444,
              "#bd3786"
             ],
             [
              0.5555555555555556,
              "#d8576b"
             ],
             [
              0.6666666666666666,
              "#ed7953"
             ],
             [
              0.7777777777777778,
              "#fb9f3a"
             ],
             [
              0.8888888888888888,
              "#fdca26"
             ],
             [
              1,
              "#f0f921"
             ]
            ],
            "type": "heatmapgl"
           }
          ],
          "histogram": [
           {
            "marker": {
             "pattern": {
              "fillmode": "overlay",
              "size": 10,
              "solidity": 0.2
             }
            },
            "type": "histogram"
           }
          ],
          "histogram2d": [
           {
            "colorbar": {
             "outlinewidth": 0,
             "ticks": ""
            },
            "colorscale": [
             [
              0,
              "#0d0887"
             ],
             [
              0.1111111111111111,
              "#46039f"
             ],
             [
              0.2222222222222222,
              "#7201a8"
             ],
             [
              0.3333333333333333,
              "#9c179e"
             ],
             [
              0.4444444444444444,
              "#bd3786"
             ],
             [
              0.5555555555555556,
              "#d8576b"
             ],
             [
              0.6666666666666666,
              "#ed7953"
             ],
             [
              0.7777777777777778,
              "#fb9f3a"
             ],
             [
              0.8888888888888888,
              "#fdca26"
             ],
             [
              1,
              "#f0f921"
             ]
            ],
            "type": "histogram2d"
           }
          ],
          "histogram2dcontour": [
           {
            "colorbar": {
             "outlinewidth": 0,
             "ticks": ""
            },
            "colorscale": [
             [
              0,
              "#0d0887"
             ],
             [
              0.1111111111111111,
              "#46039f"
             ],
             [
              0.2222222222222222,
              "#7201a8"
             ],
             [
              0.3333333333333333,
              "#9c179e"
             ],
             [
              0.4444444444444444,
              "#bd3786"
             ],
             [
              0.5555555555555556,
              "#d8576b"
             ],
             [
              0.6666666666666666,
              "#ed7953"
             ],
             [
              0.7777777777777778,
              "#fb9f3a"
             ],
             [
              0.8888888888888888,
              "#fdca26"
             ],
             [
              1,
              "#f0f921"
             ]
            ],
            "type": "histogram2dcontour"
           }
          ],
          "mesh3d": [
           {
            "colorbar": {
             "outlinewidth": 0,
             "ticks": ""
            },
            "type": "mesh3d"
           }
          ],
          "parcoords": [
           {
            "line": {
             "colorbar": {
              "outlinewidth": 0,
              "ticks": ""
             }
            },
            "type": "parcoords"
           }
          ],
          "pie": [
           {
            "automargin": true,
            "type": "pie"
           }
          ],
          "scatter": [
           {
            "fillpattern": {
             "fillmode": "overlay",
             "size": 10,
             "solidity": 0.2
            },
            "type": "scatter"
           }
          ],
          "scatter3d": [
           {
            "line": {
             "colorbar": {
              "outlinewidth": 0,
              "ticks": ""
             }
            },
            "marker": {
             "colorbar": {
              "outlinewidth": 0,
              "ticks": ""
             }
            },
            "type": "scatter3d"
           }
          ],
          "scattercarpet": [
           {
            "marker": {
             "colorbar": {
              "outlinewidth": 0,
              "ticks": ""
             }
            },
            "type": "scattercarpet"
           }
          ],
          "scattergeo": [
           {
            "marker": {
             "colorbar": {
              "outlinewidth": 0,
              "ticks": ""
             }
            },
            "type": "scattergeo"
           }
          ],
          "scattergl": [
           {
            "marker": {
             "colorbar": {
              "outlinewidth": 0,
              "ticks": ""
             }
            },
            "type": "scattergl"
           }
          ],
          "scattermapbox": [
           {
            "marker": {
             "colorbar": {
              "outlinewidth": 0,
              "ticks": ""
             }
            },
            "type": "scattermapbox"
           }
          ],
          "scatterpolar": [
           {
            "marker": {
             "colorbar": {
              "outlinewidth": 0,
              "ticks": ""
             }
            },
            "type": "scatterpolar"
           }
          ],
          "scatterpolargl": [
           {
            "marker": {
             "colorbar": {
              "outlinewidth": 0,
              "ticks": ""
             }
            },
            "type": "scatterpolargl"
           }
          ],
          "scatterternary": [
           {
            "marker": {
             "colorbar": {
              "outlinewidth": 0,
              "ticks": ""
             }
            },
            "type": "scatterternary"
           }
          ],
          "surface": [
           {
            "colorbar": {
             "outlinewidth": 0,
             "ticks": ""
            },
            "colorscale": [
             [
              0,
              "#0d0887"
             ],
             [
              0.1111111111111111,
              "#46039f"
             ],
             [
              0.2222222222222222,
              "#7201a8"
             ],
             [
              0.3333333333333333,
              "#9c179e"
             ],
             [
              0.4444444444444444,
              "#bd3786"
             ],
             [
              0.5555555555555556,
              "#d8576b"
             ],
             [
              0.6666666666666666,
              "#ed7953"
             ],
             [
              0.7777777777777778,
              "#fb9f3a"
             ],
             [
              0.8888888888888888,
              "#fdca26"
             ],
             [
              1,
              "#f0f921"
             ]
            ],
            "type": "surface"
           }
          ],
          "table": [
           {
            "cells": {
             "fill": {
              "color": "#EBF0F8"
             },
             "line": {
              "color": "white"
             }
            },
            "header": {
             "fill": {
              "color": "#C8D4E3"
             },
             "line": {
              "color": "white"
             }
            },
            "type": "table"
           }
          ]
         },
         "layout": {
          "annotationdefaults": {
           "arrowcolor": "#2a3f5f",
           "arrowhead": 0,
           "arrowwidth": 1
          },
          "autotypenumbers": "strict",
          "coloraxis": {
           "colorbar": {
            "outlinewidth": 0,
            "ticks": ""
           }
          },
          "colorscale": {
           "diverging": [
            [
             0,
             "#8e0152"
            ],
            [
             0.1,
             "#c51b7d"
            ],
            [
             0.2,
             "#de77ae"
            ],
            [
             0.3,
             "#f1b6da"
            ],
            [
             0.4,
             "#fde0ef"
            ],
            [
             0.5,
             "#f7f7f7"
            ],
            [
             0.6,
             "#e6f5d0"
            ],
            [
             0.7,
             "#b8e186"
            ],
            [
             0.8,
             "#7fbc41"
            ],
            [
             0.9,
             "#4d9221"
            ],
            [
             1,
             "#276419"
            ]
           ],
           "sequential": [
            [
             0,
             "#0d0887"
            ],
            [
             0.1111111111111111,
             "#46039f"
            ],
            [
             0.2222222222222222,
             "#7201a8"
            ],
            [
             0.3333333333333333,
             "#9c179e"
            ],
            [
             0.4444444444444444,
             "#bd3786"
            ],
            [
             0.5555555555555556,
             "#d8576b"
            ],
            [
             0.6666666666666666,
             "#ed7953"
            ],
            [
             0.7777777777777778,
             "#fb9f3a"
            ],
            [
             0.8888888888888888,
             "#fdca26"
            ],
            [
             1,
             "#f0f921"
            ]
           ],
           "sequentialminus": [
            [
             0,
             "#0d0887"
            ],
            [
             0.1111111111111111,
             "#46039f"
            ],
            [
             0.2222222222222222,
             "#7201a8"
            ],
            [
             0.3333333333333333,
             "#9c179e"
            ],
            [
             0.4444444444444444,
             "#bd3786"
            ],
            [
             0.5555555555555556,
             "#d8576b"
            ],
            [
             0.6666666666666666,
             "#ed7953"
            ],
            [
             0.7777777777777778,
             "#fb9f3a"
            ],
            [
             0.8888888888888888,
             "#fdca26"
            ],
            [
             1,
             "#f0f921"
            ]
           ]
          },
          "colorway": [
           "#636efa",
           "#EF553B",
           "#00cc96",
           "#ab63fa",
           "#FFA15A",
           "#19d3f3",
           "#FF6692",
           "#B6E880",
           "#FF97FF",
           "#FECB52"
          ],
          "font": {
           "color": "#2a3f5f"
          },
          "geo": {
           "bgcolor": "white",
           "lakecolor": "white",
           "landcolor": "#E5ECF6",
           "showlakes": true,
           "showland": true,
           "subunitcolor": "white"
          },
          "hoverlabel": {
           "align": "left"
          },
          "hovermode": "closest",
          "mapbox": {
           "style": "light"
          },
          "paper_bgcolor": "white",
          "plot_bgcolor": "#E5ECF6",
          "polar": {
           "angularaxis": {
            "gridcolor": "white",
            "linecolor": "white",
            "ticks": ""
           },
           "bgcolor": "#E5ECF6",
           "radialaxis": {
            "gridcolor": "white",
            "linecolor": "white",
            "ticks": ""
           }
          },
          "scene": {
           "xaxis": {
            "backgroundcolor": "#E5ECF6",
            "gridcolor": "white",
            "gridwidth": 2,
            "linecolor": "white",
            "showbackground": true,
            "ticks": "",
            "zerolinecolor": "white"
           },
           "yaxis": {
            "backgroundcolor": "#E5ECF6",
            "gridcolor": "white",
            "gridwidth": 2,
            "linecolor": "white",
            "showbackground": true,
            "ticks": "",
            "zerolinecolor": "white"
           },
           "zaxis": {
            "backgroundcolor": "#E5ECF6",
            "gridcolor": "white",
            "gridwidth": 2,
            "linecolor": "white",
            "showbackground": true,
            "ticks": "",
            "zerolinecolor": "white"
           }
          },
          "shapedefaults": {
           "line": {
            "color": "#2a3f5f"
           }
          },
          "ternary": {
           "aaxis": {
            "gridcolor": "white",
            "linecolor": "white",
            "ticks": ""
           },
           "baxis": {
            "gridcolor": "white",
            "linecolor": "white",
            "ticks": ""
           },
           "bgcolor": "#E5ECF6",
           "caxis": {
            "gridcolor": "white",
            "linecolor": "white",
            "ticks": ""
           }
          },
          "title": {
           "x": 0.05
          },
          "xaxis": {
           "automargin": true,
           "gridcolor": "white",
           "linecolor": "white",
           "ticks": "",
           "title": {
            "standoff": 15
           },
           "zerolinecolor": "white",
           "zerolinewidth": 2
          },
          "yaxis": {
           "automargin": true,
           "gridcolor": "white",
           "linecolor": "white",
           "ticks": "",
           "title": {
            "standoff": 15
           },
           "zerolinecolor": "white",
           "zerolinewidth": 2
          }
         }
        },
        "title": {
         "font": {
          "family": "Georgia",
          "size": 24
         },
         "text": "Drake Music Valence Levels",
         "x": 0.17,
         "y": 0.945
        },
        "width": 700,
        "xaxis": {
         "anchor": "y",
         "domain": [
          0,
          1
         ],
         "showgrid": true,
         "tickangle": 0.5,
         "tickfont": {
          "size": 11
         },
         "title": {
          "text": "Year"
         }
        },
        "yaxis": {
         "anchor": "x",
         "domain": [
          0,
          1
         ],
         "range": [
          0,
          1
         ],
         "rangemode": "tozero",
         "showgrid": true,
         "title": {
          "text": "Valence"
         }
        }
       }
      }
     },
     "metadata": {},
     "output_type": "display_data"
    }
   ],
   "source": [
    "fig15 = px.line(valence_trend, x='Release Year', y='Valence', title=\"Drake Music Valence Levels\")\n",
    "\n",
    "\n",
    "fig15.update_layout(title=dict(x=0.17, y=0.945, font=dict(size=24, family='Georgia')),\n",
    "                  width=700, height=700,\n",
    "                  paper_bgcolor='#F4F2F0', plot_bgcolor='#F4F2F0',\n",
    "                  xaxis=dict(showgrid=True), yaxis=dict(showgrid=True),\n",
    "                  xaxis_title=\"Year\", yaxis_title=\"Valence\", legend_title = None)\n",
    "fig15.update_traces(marker_line=dict(width=1, color='grey'), marker_color='#1ed760')\n",
    "\n",
    "fig15.update_xaxes(tickfont=dict(size=11), tickangle=0.5)\n",
    "fig15.update_yaxes(range=[0,1], rangemode='tozero')\n",
    "\n",
    "#Spotify\n",
    "fig15.add_layout_image(\n",
    "    dict(\n",
    "        source=\"logo.png\",\n",
    "        xref=\"paper\",\n",
    "        yref=\"paper\",\n",
    "        x=-0.099,\n",
    "        y=1.18,\n",
    "        sizex=0.13,\n",
    "        sizey=0.13,\n",
    "        xanchor=\"left\",\n",
    "        yanchor=\"top\"\n",
    "    )\n",
    ")\n",
    "\n",
    "#Credit\n",
    "fig15.add_annotation(\n",
    "    x=1.1,  # x-coordinate of the annotation\n",
    "    y=-0.15,  # y-coordinate of the annotation\n",
    "    xref='paper',  # x-coordinate reference system\n",
    "    yref='paper',  # y-coordinate reference system\n",
    "    text='Visual Created By Bjorn S.',  # text to display\n",
    "    showarrow=False,  # hide arrow head\n",
    "    font=dict(size=16, color='#535353', family='Georgia'),  # font style\n",
    "    align='right'  # horizontal alignment\n",
    ")\n",
    "\n",
    "fig15.show()"
   ]
  },
  {
   "cell_type": "code",
   "execution_count": 1586,
   "metadata": {},
   "outputs": [
    {
     "data": {
      "application/vnd.plotly.v1+json": {
       "config": {
        "plotlyServerURL": "https://plot.ly"
       },
       "data": [
        {
         "colorscale": [
          [
           0,
           "#0d0887"
          ],
          [
           0.1111111111111111,
           "#46039f"
          ],
          [
           0.2222222222222222,
           "#7201a8"
          ],
          [
           0.3333333333333333,
           "#9c179e"
          ],
          [
           0.4444444444444444,
           "#bd3786"
          ],
          [
           0.5555555555555556,
           "#d8576b"
          ],
          [
           0.6666666666666666,
           "#ed7953"
          ],
          [
           0.7777777777777778,
           "#fb9f3a"
          ],
          [
           0.8888888888888888,
           "#fdca26"
          ],
          [
           1,
           "#f0f921"
          ]
         ],
         "name": "",
         "reversescale": false,
         "showscale": false,
         "type": "heatmap",
         "x": [
          "Release Year",
          "Release Month",
          "Release Day",
          "Number of Album Songs",
          "Plays",
          "Track Duration (Minutes)",
          "Track Duration (Seconds)",
          "Track Number",
          "Number of Artists",
          "Danceability",
          "Energy",
          "Key",
          "Loudness",
          "Speechiness",
          "Acousticness",
          "Instrumentalness",
          "Liveness",
          "Valence",
          "Tempo"
         ],
         "y": [
          "Release Year",
          "Release Month",
          "Release Day",
          "Number of Album Songs",
          "Plays",
          "Track Duration (Minutes)",
          "Track Duration (Seconds)",
          "Track Number",
          "Number of Artists",
          "Danceability",
          "Energy",
          "Key",
          "Loudness",
          "Speechiness",
          "Acousticness",
          "Instrumentalness",
          "Liveness",
          "Valence",
          "Tempo"
         ],
         "z": [
          [
           1,
           0.29,
           -0.01,
           0.12,
           -0.06,
           -0.16,
           0,
           0.01,
           0,
           0.13,
           -0.06,
           0.1,
           0.04,
           -0.1,
           0.09,
           0.12,
           0.01,
           -0.05,
           -0.03
          ],
          [
           0.29,
           1,
           0.06,
           0.06,
           -0.02,
           -0.03,
           -0.01,
           0.01,
           0.07,
           -0.05,
           -0.16,
           -0.14,
           -0.19,
           0.01,
           0,
           -0.07,
           0.01,
           -0.11,
           0.16
          ],
          [
           -0.01,
           0.06,
           1,
           0.44,
           0.14,
           -0.13,
           -0.09,
           -0.08,
           -0.11,
           0.17,
           -0.19,
           -0.08,
           -0.24,
           -0.06,
           -0.02,
           0.08,
           -0.02,
           -0.08,
           0.13
          ],
          [
           0.12,
           0.06,
           0.44,
           1,
           0.23,
           -0.05,
           -0.03,
           0.12,
           -0.08,
           0.09,
           -0.15,
           0.11,
           -0.09,
           -0.07,
           -0.04,
           -0.03,
           0.11,
           -0.08,
           0
          ],
          [
           -0.06,
           -0.02,
           0.14,
           0.23,
           1,
           -0.07,
           0.05,
           -0.03,
           0.06,
           0.27,
           -0.05,
           0.03,
           0,
           -0.14,
           -0.2,
           -0.05,
           0.02,
           0.06,
           -0.04
          ],
          [
           -0.16,
           -0.03,
           -0.13,
           -0.05,
           -0.07,
           1,
           -0.31,
           0.12,
           0.07,
           -0.3,
           0.14,
           -0.07,
           0.11,
           0.13,
           0.05,
           -0.18,
           -0.05,
           -0.09,
           -0.05
          ],
          [
           0,
           -0.01,
           -0.09,
           -0.03,
           0.05,
           -0.31,
           1,
           -0.07,
           -0.03,
           -0.02,
           -0.04,
           -0.04,
           -0.02,
           -0.13,
           0.04,
           0.06,
           0.01,
           0.05,
           -0.05
          ],
          [
           0.01,
           0.01,
           -0.08,
           0.12,
           -0.03,
           0.12,
           -0.07,
           1,
           0.1,
           -0.13,
           -0.06,
           -0.07,
           0,
           0.03,
           0.01,
           -0.05,
           -0.07,
           -0.04,
           -0.03
          ],
          [
           0,
           0.07,
           -0.11,
           -0.08,
           0.06,
           0.07,
           -0.03,
           0.1,
           1,
           0.07,
           0.02,
           -0.07,
           0.08,
           0.1,
           -0.2,
           0.04,
           0.09,
           0,
           0.13
          ],
          [
           0.13,
           -0.05,
           0.17,
           0.09,
           0.27,
           -0.3,
           -0.02,
           -0.13,
           0.07,
           1,
           -0.15,
           0.04,
           0.06,
           -0.09,
           -0.36,
           -0.14,
           -0.01,
           0.18,
           -0.03
          ],
          [
           -0.06,
           -0.16,
           -0.19,
           -0.15,
           -0.05,
           0.14,
           -0.04,
           -0.06,
           0.02,
           -0.15,
           1,
           0,
           0.7,
           0.26,
           -0.32,
           -0.21,
           0.18,
           0.34,
           0.09
          ],
          [
           0.1,
           -0.14,
           -0.08,
           0.11,
           0.03,
           -0.07,
           -0.04,
           -0.07,
           -0.07,
           0.04,
           0,
           1,
           0.07,
           0,
           0.09,
           -0.04,
           -0.01,
           0.02,
           -0.04
          ],
          [
           0.04,
           -0.19,
           -0.24,
           -0.09,
           0,
           0.11,
           -0.02,
           0,
           0.08,
           0.06,
           0.7,
           0.07,
           1,
           0.19,
           -0.38,
           -0.5,
           0.16,
           0.21,
           0
          ],
          [
           -0.1,
           0.01,
           -0.06,
           -0.07,
           -0.14,
           0.13,
           -0.13,
           0.03,
           0.1,
           -0.09,
           0.26,
           0,
           0.19,
           1,
           -0.03,
           -0.18,
           0.15,
           0.06,
           0.23
          ],
          [
           0.09,
           0,
           -0.02,
           -0.04,
           -0.2,
           0.05,
           0.04,
           0.01,
           -0.2,
           -0.36,
           -0.32,
           0.09,
           -0.38,
           -0.03,
           1,
           0.22,
           -0.13,
           -0.01,
           -0.09
          ],
          [
           0.12,
           -0.07,
           0.08,
           -0.03,
           -0.05,
           -0.18,
           0.06,
           -0.05,
           0.04,
           -0.14,
           -0.21,
           -0.04,
           -0.5,
           -0.18,
           0.22,
           1,
           -0.03,
           0.01,
           0.09
          ],
          [
           0.01,
           0.01,
           -0.02,
           0.11,
           0.02,
           -0.05,
           0.01,
           -0.07,
           0.09,
           -0.01,
           0.18,
           -0.01,
           0.16,
           0.15,
           -0.13,
           -0.03,
           1,
           0.04,
           0.06
          ],
          [
           -0.05,
           -0.11,
           -0.08,
           -0.08,
           0.06,
           -0.09,
           0.05,
           -0.04,
           0,
           0.18,
           0.34,
           0.02,
           0.21,
           0.06,
           -0.01,
           0.01,
           0.04,
           1,
           0.04
          ],
          [
           -0.03,
           0.16,
           0.13,
           0,
           -0.04,
           -0.05,
           -0.05,
           -0.03,
           0.13,
           -0.03,
           0.09,
           -0.04,
           0,
           0.23,
           -0.09,
           0.09,
           0.06,
           0.04,
           1
          ]
         ]
        }
       ],
       "layout": {
        "annotations": [
         {
          "font": {
           "color": "#000000"
          },
          "showarrow": false,
          "text": "1.0",
          "x": "Release Year",
          "xref": "x",
          "y": "Release Year",
          "yref": "y"
         },
         {
          "font": {
           "color": "#000000"
          },
          "showarrow": false,
          "text": "0.29",
          "x": "Release Month",
          "xref": "x",
          "y": "Release Year",
          "yref": "y"
         },
         {
          "font": {
           "color": "#FFFFFF"
          },
          "showarrow": false,
          "text": "-0.01",
          "x": "Release Day",
          "xref": "x",
          "y": "Release Year",
          "yref": "y"
         },
         {
          "font": {
           "color": "#FFFFFF"
          },
          "showarrow": false,
          "text": "0.12",
          "x": "Number of Album Songs",
          "xref": "x",
          "y": "Release Year",
          "yref": "y"
         },
         {
          "font": {
           "color": "#FFFFFF"
          },
          "showarrow": false,
          "text": "-0.06",
          "x": "Plays",
          "xref": "x",
          "y": "Release Year",
          "yref": "y"
         },
         {
          "font": {
           "color": "#FFFFFF"
          },
          "showarrow": false,
          "text": "-0.16",
          "x": "Track Duration (Minutes)",
          "xref": "x",
          "y": "Release Year",
          "yref": "y"
         },
         {
          "font": {
           "color": "#FFFFFF"
          },
          "showarrow": false,
          "text": "-0.0",
          "x": "Track Duration (Seconds)",
          "xref": "x",
          "y": "Release Year",
          "yref": "y"
         },
         {
          "font": {
           "color": "#FFFFFF"
          },
          "showarrow": false,
          "text": "0.01",
          "x": "Track Number",
          "xref": "x",
          "y": "Release Year",
          "yref": "y"
         },
         {
          "font": {
           "color": "#FFFFFF"
          },
          "showarrow": false,
          "text": "-0.0",
          "x": "Number of Artists",
          "xref": "x",
          "y": "Release Year",
          "yref": "y"
         },
         {
          "font": {
           "color": "#FFFFFF"
          },
          "showarrow": false,
          "text": "0.13",
          "x": "Danceability",
          "xref": "x",
          "y": "Release Year",
          "yref": "y"
         },
         {
          "font": {
           "color": "#FFFFFF"
          },
          "showarrow": false,
          "text": "-0.06",
          "x": "Energy",
          "xref": "x",
          "y": "Release Year",
          "yref": "y"
         },
         {
          "font": {
           "color": "#FFFFFF"
          },
          "showarrow": false,
          "text": "0.1",
          "x": "Key",
          "xref": "x",
          "y": "Release Year",
          "yref": "y"
         },
         {
          "font": {
           "color": "#FFFFFF"
          },
          "showarrow": false,
          "text": "0.04",
          "x": "Loudness",
          "xref": "x",
          "y": "Release Year",
          "yref": "y"
         },
         {
          "font": {
           "color": "#FFFFFF"
          },
          "showarrow": false,
          "text": "-0.1",
          "x": "Speechiness",
          "xref": "x",
          "y": "Release Year",
          "yref": "y"
         },
         {
          "font": {
           "color": "#FFFFFF"
          },
          "showarrow": false,
          "text": "0.09",
          "x": "Acousticness",
          "xref": "x",
          "y": "Release Year",
          "yref": "y"
         },
         {
          "font": {
           "color": "#FFFFFF"
          },
          "showarrow": false,
          "text": "0.12",
          "x": "Instrumentalness",
          "xref": "x",
          "y": "Release Year",
          "yref": "y"
         },
         {
          "font": {
           "color": "#FFFFFF"
          },
          "showarrow": false,
          "text": "0.01",
          "x": "Liveness",
          "xref": "x",
          "y": "Release Year",
          "yref": "y"
         },
         {
          "font": {
           "color": "#FFFFFF"
          },
          "showarrow": false,
          "text": "-0.05",
          "x": "Valence",
          "xref": "x",
          "y": "Release Year",
          "yref": "y"
         },
         {
          "font": {
           "color": "#FFFFFF"
          },
          "showarrow": false,
          "text": "-0.03",
          "x": "Tempo",
          "xref": "x",
          "y": "Release Year",
          "yref": "y"
         },
         {
          "font": {
           "color": "#000000"
          },
          "showarrow": false,
          "text": "0.29",
          "x": "Release Year",
          "xref": "x",
          "y": "Release Month",
          "yref": "y"
         },
         {
          "font": {
           "color": "#000000"
          },
          "showarrow": false,
          "text": "1.0",
          "x": "Release Month",
          "xref": "x",
          "y": "Release Month",
          "yref": "y"
         },
         {
          "font": {
           "color": "#FFFFFF"
          },
          "showarrow": false,
          "text": "0.06",
          "x": "Release Day",
          "xref": "x",
          "y": "Release Month",
          "yref": "y"
         },
         {
          "font": {
           "color": "#FFFFFF"
          },
          "showarrow": false,
          "text": "0.06",
          "x": "Number of Album Songs",
          "xref": "x",
          "y": "Release Month",
          "yref": "y"
         },
         {
          "font": {
           "color": "#FFFFFF"
          },
          "showarrow": false,
          "text": "-0.02",
          "x": "Plays",
          "xref": "x",
          "y": "Release Month",
          "yref": "y"
         },
         {
          "font": {
           "color": "#FFFFFF"
          },
          "showarrow": false,
          "text": "-0.03",
          "x": "Track Duration (Minutes)",
          "xref": "x",
          "y": "Release Month",
          "yref": "y"
         },
         {
          "font": {
           "color": "#FFFFFF"
          },
          "showarrow": false,
          "text": "-0.01",
          "x": "Track Duration (Seconds)",
          "xref": "x",
          "y": "Release Month",
          "yref": "y"
         },
         {
          "font": {
           "color": "#FFFFFF"
          },
          "showarrow": false,
          "text": "0.01",
          "x": "Track Number",
          "xref": "x",
          "y": "Release Month",
          "yref": "y"
         },
         {
          "font": {
           "color": "#FFFFFF"
          },
          "showarrow": false,
          "text": "0.07",
          "x": "Number of Artists",
          "xref": "x",
          "y": "Release Month",
          "yref": "y"
         },
         {
          "font": {
           "color": "#FFFFFF"
          },
          "showarrow": false,
          "text": "-0.05",
          "x": "Danceability",
          "xref": "x",
          "y": "Release Month",
          "yref": "y"
         },
         {
          "font": {
           "color": "#FFFFFF"
          },
          "showarrow": false,
          "text": "-0.16",
          "x": "Energy",
          "xref": "x",
          "y": "Release Month",
          "yref": "y"
         },
         {
          "font": {
           "color": "#FFFFFF"
          },
          "showarrow": false,
          "text": "-0.14",
          "x": "Key",
          "xref": "x",
          "y": "Release Month",
          "yref": "y"
         },
         {
          "font": {
           "color": "#FFFFFF"
          },
          "showarrow": false,
          "text": "-0.19",
          "x": "Loudness",
          "xref": "x",
          "y": "Release Month",
          "yref": "y"
         },
         {
          "font": {
           "color": "#FFFFFF"
          },
          "showarrow": false,
          "text": "0.01",
          "x": "Speechiness",
          "xref": "x",
          "y": "Release Month",
          "yref": "y"
         },
         {
          "font": {
           "color": "#FFFFFF"
          },
          "showarrow": false,
          "text": "0.0",
          "x": "Acousticness",
          "xref": "x",
          "y": "Release Month",
          "yref": "y"
         },
         {
          "font": {
           "color": "#FFFFFF"
          },
          "showarrow": false,
          "text": "-0.07",
          "x": "Instrumentalness",
          "xref": "x",
          "y": "Release Month",
          "yref": "y"
         },
         {
          "font": {
           "color": "#FFFFFF"
          },
          "showarrow": false,
          "text": "0.01",
          "x": "Liveness",
          "xref": "x",
          "y": "Release Month",
          "yref": "y"
         },
         {
          "font": {
           "color": "#FFFFFF"
          },
          "showarrow": false,
          "text": "-0.11",
          "x": "Valence",
          "xref": "x",
          "y": "Release Month",
          "yref": "y"
         },
         {
          "font": {
           "color": "#FFFFFF"
          },
          "showarrow": false,
          "text": "0.16",
          "x": "Tempo",
          "xref": "x",
          "y": "Release Month",
          "yref": "y"
         },
         {
          "font": {
           "color": "#FFFFFF"
          },
          "showarrow": false,
          "text": "-0.01",
          "x": "Release Year",
          "xref": "x",
          "y": "Release Day",
          "yref": "y"
         },
         {
          "font": {
           "color": "#FFFFFF"
          },
          "showarrow": false,
          "text": "0.06",
          "x": "Release Month",
          "xref": "x",
          "y": "Release Day",
          "yref": "y"
         },
         {
          "font": {
           "color": "#000000"
          },
          "showarrow": false,
          "text": "1.0",
          "x": "Release Day",
          "xref": "x",
          "y": "Release Day",
          "yref": "y"
         },
         {
          "font": {
           "color": "#000000"
          },
          "showarrow": false,
          "text": "0.44",
          "x": "Number of Album Songs",
          "xref": "x",
          "y": "Release Day",
          "yref": "y"
         },
         {
          "font": {
           "color": "#FFFFFF"
          },
          "showarrow": false,
          "text": "0.14",
          "x": "Plays",
          "xref": "x",
          "y": "Release Day",
          "yref": "y"
         },
         {
          "font": {
           "color": "#FFFFFF"
          },
          "showarrow": false,
          "text": "-0.13",
          "x": "Track Duration (Minutes)",
          "xref": "x",
          "y": "Release Day",
          "yref": "y"
         },
         {
          "font": {
           "color": "#FFFFFF"
          },
          "showarrow": false,
          "text": "-0.09",
          "x": "Track Duration (Seconds)",
          "xref": "x",
          "y": "Release Day",
          "yref": "y"
         },
         {
          "font": {
           "color": "#FFFFFF"
          },
          "showarrow": false,
          "text": "-0.08",
          "x": "Track Number",
          "xref": "x",
          "y": "Release Day",
          "yref": "y"
         },
         {
          "font": {
           "color": "#FFFFFF"
          },
          "showarrow": false,
          "text": "-0.11",
          "x": "Number of Artists",
          "xref": "x",
          "y": "Release Day",
          "yref": "y"
         },
         {
          "font": {
           "color": "#FFFFFF"
          },
          "showarrow": false,
          "text": "0.17",
          "x": "Danceability",
          "xref": "x",
          "y": "Release Day",
          "yref": "y"
         },
         {
          "font": {
           "color": "#FFFFFF"
          },
          "showarrow": false,
          "text": "-0.19",
          "x": "Energy",
          "xref": "x",
          "y": "Release Day",
          "yref": "y"
         },
         {
          "font": {
           "color": "#FFFFFF"
          },
          "showarrow": false,
          "text": "-0.08",
          "x": "Key",
          "xref": "x",
          "y": "Release Day",
          "yref": "y"
         },
         {
          "font": {
           "color": "#FFFFFF"
          },
          "showarrow": false,
          "text": "-0.24",
          "x": "Loudness",
          "xref": "x",
          "y": "Release Day",
          "yref": "y"
         },
         {
          "font": {
           "color": "#FFFFFF"
          },
          "showarrow": false,
          "text": "-0.06",
          "x": "Speechiness",
          "xref": "x",
          "y": "Release Day",
          "yref": "y"
         },
         {
          "font": {
           "color": "#FFFFFF"
          },
          "showarrow": false,
          "text": "-0.02",
          "x": "Acousticness",
          "xref": "x",
          "y": "Release Day",
          "yref": "y"
         },
         {
          "font": {
           "color": "#FFFFFF"
          },
          "showarrow": false,
          "text": "0.08",
          "x": "Instrumentalness",
          "xref": "x",
          "y": "Release Day",
          "yref": "y"
         },
         {
          "font": {
           "color": "#FFFFFF"
          },
          "showarrow": false,
          "text": "-0.02",
          "x": "Liveness",
          "xref": "x",
          "y": "Release Day",
          "yref": "y"
         },
         {
          "font": {
           "color": "#FFFFFF"
          },
          "showarrow": false,
          "text": "-0.08",
          "x": "Valence",
          "xref": "x",
          "y": "Release Day",
          "yref": "y"
         },
         {
          "font": {
           "color": "#FFFFFF"
          },
          "showarrow": false,
          "text": "0.13",
          "x": "Tempo",
          "xref": "x",
          "y": "Release Day",
          "yref": "y"
         },
         {
          "font": {
           "color": "#FFFFFF"
          },
          "showarrow": false,
          "text": "0.12",
          "x": "Release Year",
          "xref": "x",
          "y": "Number of Album Songs",
          "yref": "y"
         },
         {
          "font": {
           "color": "#FFFFFF"
          },
          "showarrow": false,
          "text": "0.06",
          "x": "Release Month",
          "xref": "x",
          "y": "Number of Album Songs",
          "yref": "y"
         },
         {
          "font": {
           "color": "#000000"
          },
          "showarrow": false,
          "text": "0.44",
          "x": "Release Day",
          "xref": "x",
          "y": "Number of Album Songs",
          "yref": "y"
         },
         {
          "font": {
           "color": "#000000"
          },
          "showarrow": false,
          "text": "1.0",
          "x": "Number of Album Songs",
          "xref": "x",
          "y": "Number of Album Songs",
          "yref": "y"
         },
         {
          "font": {
           "color": "#FFFFFF"
          },
          "showarrow": false,
          "text": "0.23",
          "x": "Plays",
          "xref": "x",
          "y": "Number of Album Songs",
          "yref": "y"
         },
         {
          "font": {
           "color": "#FFFFFF"
          },
          "showarrow": false,
          "text": "-0.05",
          "x": "Track Duration (Minutes)",
          "xref": "x",
          "y": "Number of Album Songs",
          "yref": "y"
         },
         {
          "font": {
           "color": "#FFFFFF"
          },
          "showarrow": false,
          "text": "-0.03",
          "x": "Track Duration (Seconds)",
          "xref": "x",
          "y": "Number of Album Songs",
          "yref": "y"
         },
         {
          "font": {
           "color": "#FFFFFF"
          },
          "showarrow": false,
          "text": "0.12",
          "x": "Track Number",
          "xref": "x",
          "y": "Number of Album Songs",
          "yref": "y"
         },
         {
          "font": {
           "color": "#FFFFFF"
          },
          "showarrow": false,
          "text": "-0.08",
          "x": "Number of Artists",
          "xref": "x",
          "y": "Number of Album Songs",
          "yref": "y"
         },
         {
          "font": {
           "color": "#FFFFFF"
          },
          "showarrow": false,
          "text": "0.09",
          "x": "Danceability",
          "xref": "x",
          "y": "Number of Album Songs",
          "yref": "y"
         },
         {
          "font": {
           "color": "#FFFFFF"
          },
          "showarrow": false,
          "text": "-0.15",
          "x": "Energy",
          "xref": "x",
          "y": "Number of Album Songs",
          "yref": "y"
         },
         {
          "font": {
           "color": "#FFFFFF"
          },
          "showarrow": false,
          "text": "0.11",
          "x": "Key",
          "xref": "x",
          "y": "Number of Album Songs",
          "yref": "y"
         },
         {
          "font": {
           "color": "#FFFFFF"
          },
          "showarrow": false,
          "text": "-0.09",
          "x": "Loudness",
          "xref": "x",
          "y": "Number of Album Songs",
          "yref": "y"
         },
         {
          "font": {
           "color": "#FFFFFF"
          },
          "showarrow": false,
          "text": "-0.07",
          "x": "Speechiness",
          "xref": "x",
          "y": "Number of Album Songs",
          "yref": "y"
         },
         {
          "font": {
           "color": "#FFFFFF"
          },
          "showarrow": false,
          "text": "-0.04",
          "x": "Acousticness",
          "xref": "x",
          "y": "Number of Album Songs",
          "yref": "y"
         },
         {
          "font": {
           "color": "#FFFFFF"
          },
          "showarrow": false,
          "text": "-0.03",
          "x": "Instrumentalness",
          "xref": "x",
          "y": "Number of Album Songs",
          "yref": "y"
         },
         {
          "font": {
           "color": "#FFFFFF"
          },
          "showarrow": false,
          "text": "0.11",
          "x": "Liveness",
          "xref": "x",
          "y": "Number of Album Songs",
          "yref": "y"
         },
         {
          "font": {
           "color": "#FFFFFF"
          },
          "showarrow": false,
          "text": "-0.08",
          "x": "Valence",
          "xref": "x",
          "y": "Number of Album Songs",
          "yref": "y"
         },
         {
          "font": {
           "color": "#FFFFFF"
          },
          "showarrow": false,
          "text": "-0.0",
          "x": "Tempo",
          "xref": "x",
          "y": "Number of Album Songs",
          "yref": "y"
         },
         {
          "font": {
           "color": "#FFFFFF"
          },
          "showarrow": false,
          "text": "-0.06",
          "x": "Release Year",
          "xref": "x",
          "y": "Plays",
          "yref": "y"
         },
         {
          "font": {
           "color": "#FFFFFF"
          },
          "showarrow": false,
          "text": "-0.02",
          "x": "Release Month",
          "xref": "x",
          "y": "Plays",
          "yref": "y"
         },
         {
          "font": {
           "color": "#FFFFFF"
          },
          "showarrow": false,
          "text": "0.14",
          "x": "Release Day",
          "xref": "x",
          "y": "Plays",
          "yref": "y"
         },
         {
          "font": {
           "color": "#FFFFFF"
          },
          "showarrow": false,
          "text": "0.23",
          "x": "Number of Album Songs",
          "xref": "x",
          "y": "Plays",
          "yref": "y"
         },
         {
          "font": {
           "color": "#000000"
          },
          "showarrow": false,
          "text": "1.0",
          "x": "Plays",
          "xref": "x",
          "y": "Plays",
          "yref": "y"
         },
         {
          "font": {
           "color": "#FFFFFF"
          },
          "showarrow": false,
          "text": "-0.07",
          "x": "Track Duration (Minutes)",
          "xref": "x",
          "y": "Plays",
          "yref": "y"
         },
         {
          "font": {
           "color": "#FFFFFF"
          },
          "showarrow": false,
          "text": "0.05",
          "x": "Track Duration (Seconds)",
          "xref": "x",
          "y": "Plays",
          "yref": "y"
         },
         {
          "font": {
           "color": "#FFFFFF"
          },
          "showarrow": false,
          "text": "-0.03",
          "x": "Track Number",
          "xref": "x",
          "y": "Plays",
          "yref": "y"
         },
         {
          "font": {
           "color": "#FFFFFF"
          },
          "showarrow": false,
          "text": "0.06",
          "x": "Number of Artists",
          "xref": "x",
          "y": "Plays",
          "yref": "y"
         },
         {
          "font": {
           "color": "#000000"
          },
          "showarrow": false,
          "text": "0.27",
          "x": "Danceability",
          "xref": "x",
          "y": "Plays",
          "yref": "y"
         },
         {
          "font": {
           "color": "#FFFFFF"
          },
          "showarrow": false,
          "text": "-0.05",
          "x": "Energy",
          "xref": "x",
          "y": "Plays",
          "yref": "y"
         },
         {
          "font": {
           "color": "#FFFFFF"
          },
          "showarrow": false,
          "text": "0.03",
          "x": "Key",
          "xref": "x",
          "y": "Plays",
          "yref": "y"
         },
         {
          "font": {
           "color": "#FFFFFF"
          },
          "showarrow": false,
          "text": "-0.0",
          "x": "Loudness",
          "xref": "x",
          "y": "Plays",
          "yref": "y"
         },
         {
          "font": {
           "color": "#FFFFFF"
          },
          "showarrow": false,
          "text": "-0.14",
          "x": "Speechiness",
          "xref": "x",
          "y": "Plays",
          "yref": "y"
         },
         {
          "font": {
           "color": "#FFFFFF"
          },
          "showarrow": false,
          "text": "-0.2",
          "x": "Acousticness",
          "xref": "x",
          "y": "Plays",
          "yref": "y"
         },
         {
          "font": {
           "color": "#FFFFFF"
          },
          "showarrow": false,
          "text": "-0.05",
          "x": "Instrumentalness",
          "xref": "x",
          "y": "Plays",
          "yref": "y"
         },
         {
          "font": {
           "color": "#FFFFFF"
          },
          "showarrow": false,
          "text": "0.02",
          "x": "Liveness",
          "xref": "x",
          "y": "Plays",
          "yref": "y"
         },
         {
          "font": {
           "color": "#FFFFFF"
          },
          "showarrow": false,
          "text": "0.06",
          "x": "Valence",
          "xref": "x",
          "y": "Plays",
          "yref": "y"
         },
         {
          "font": {
           "color": "#FFFFFF"
          },
          "showarrow": false,
          "text": "-0.04",
          "x": "Tempo",
          "xref": "x",
          "y": "Plays",
          "yref": "y"
         },
         {
          "font": {
           "color": "#FFFFFF"
          },
          "showarrow": false,
          "text": "-0.16",
          "x": "Release Year",
          "xref": "x",
          "y": "Track Duration (Minutes)",
          "yref": "y"
         },
         {
          "font": {
           "color": "#FFFFFF"
          },
          "showarrow": false,
          "text": "-0.03",
          "x": "Release Month",
          "xref": "x",
          "y": "Track Duration (Minutes)",
          "yref": "y"
         },
         {
          "font": {
           "color": "#FFFFFF"
          },
          "showarrow": false,
          "text": "-0.13",
          "x": "Release Day",
          "xref": "x",
          "y": "Track Duration (Minutes)",
          "yref": "y"
         },
         {
          "font": {
           "color": "#FFFFFF"
          },
          "showarrow": false,
          "text": "-0.05",
          "x": "Number of Album Songs",
          "xref": "x",
          "y": "Track Duration (Minutes)",
          "yref": "y"
         },
         {
          "font": {
           "color": "#FFFFFF"
          },
          "showarrow": false,
          "text": "-0.07",
          "x": "Plays",
          "xref": "x",
          "y": "Track Duration (Minutes)",
          "yref": "y"
         },
         {
          "font": {
           "color": "#000000"
          },
          "showarrow": false,
          "text": "1.0",
          "x": "Track Duration (Minutes)",
          "xref": "x",
          "y": "Track Duration (Minutes)",
          "yref": "y"
         },
         {
          "font": {
           "color": "#FFFFFF"
          },
          "showarrow": false,
          "text": "-0.31",
          "x": "Track Duration (Seconds)",
          "xref": "x",
          "y": "Track Duration (Minutes)",
          "yref": "y"
         },
         {
          "font": {
           "color": "#FFFFFF"
          },
          "showarrow": false,
          "text": "0.12",
          "x": "Track Number",
          "xref": "x",
          "y": "Track Duration (Minutes)",
          "yref": "y"
         },
         {
          "font": {
           "color": "#FFFFFF"
          },
          "showarrow": false,
          "text": "0.07",
          "x": "Number of Artists",
          "xref": "x",
          "y": "Track Duration (Minutes)",
          "yref": "y"
         },
         {
          "font": {
           "color": "#FFFFFF"
          },
          "showarrow": false,
          "text": "-0.3",
          "x": "Danceability",
          "xref": "x",
          "y": "Track Duration (Minutes)",
          "yref": "y"
         },
         {
          "font": {
           "color": "#FFFFFF"
          },
          "showarrow": false,
          "text": "0.14",
          "x": "Energy",
          "xref": "x",
          "y": "Track Duration (Minutes)",
          "yref": "y"
         },
         {
          "font": {
           "color": "#FFFFFF"
          },
          "showarrow": false,
          "text": "-0.07",
          "x": "Key",
          "xref": "x",
          "y": "Track Duration (Minutes)",
          "yref": "y"
         },
         {
          "font": {
           "color": "#FFFFFF"
          },
          "showarrow": false,
          "text": "0.11",
          "x": "Loudness",
          "xref": "x",
          "y": "Track Duration (Minutes)",
          "yref": "y"
         },
         {
          "font": {
           "color": "#FFFFFF"
          },
          "showarrow": false,
          "text": "0.13",
          "x": "Speechiness",
          "xref": "x",
          "y": "Track Duration (Minutes)",
          "yref": "y"
         },
         {
          "font": {
           "color": "#FFFFFF"
          },
          "showarrow": false,
          "text": "0.05",
          "x": "Acousticness",
          "xref": "x",
          "y": "Track Duration (Minutes)",
          "yref": "y"
         },
         {
          "font": {
           "color": "#FFFFFF"
          },
          "showarrow": false,
          "text": "-0.18",
          "x": "Instrumentalness",
          "xref": "x",
          "y": "Track Duration (Minutes)",
          "yref": "y"
         },
         {
          "font": {
           "color": "#FFFFFF"
          },
          "showarrow": false,
          "text": "-0.05",
          "x": "Liveness",
          "xref": "x",
          "y": "Track Duration (Minutes)",
          "yref": "y"
         },
         {
          "font": {
           "color": "#FFFFFF"
          },
          "showarrow": false,
          "text": "-0.09",
          "x": "Valence",
          "xref": "x",
          "y": "Track Duration (Minutes)",
          "yref": "y"
         },
         {
          "font": {
           "color": "#FFFFFF"
          },
          "showarrow": false,
          "text": "-0.05",
          "x": "Tempo",
          "xref": "x",
          "y": "Track Duration (Minutes)",
          "yref": "y"
         },
         {
          "font": {
           "color": "#FFFFFF"
          },
          "showarrow": false,
          "text": "-0.0",
          "x": "Release Year",
          "xref": "x",
          "y": "Track Duration (Seconds)",
          "yref": "y"
         },
         {
          "font": {
           "color": "#FFFFFF"
          },
          "showarrow": false,
          "text": "-0.01",
          "x": "Release Month",
          "xref": "x",
          "y": "Track Duration (Seconds)",
          "yref": "y"
         },
         {
          "font": {
           "color": "#FFFFFF"
          },
          "showarrow": false,
          "text": "-0.09",
          "x": "Release Day",
          "xref": "x",
          "y": "Track Duration (Seconds)",
          "yref": "y"
         },
         {
          "font": {
           "color": "#FFFFFF"
          },
          "showarrow": false,
          "text": "-0.03",
          "x": "Number of Album Songs",
          "xref": "x",
          "y": "Track Duration (Seconds)",
          "yref": "y"
         },
         {
          "font": {
           "color": "#FFFFFF"
          },
          "showarrow": false,
          "text": "0.05",
          "x": "Plays",
          "xref": "x",
          "y": "Track Duration (Seconds)",
          "yref": "y"
         },
         {
          "font": {
           "color": "#FFFFFF"
          },
          "showarrow": false,
          "text": "-0.31",
          "x": "Track Duration (Minutes)",
          "xref": "x",
          "y": "Track Duration (Seconds)",
          "yref": "y"
         },
         {
          "font": {
           "color": "#000000"
          },
          "showarrow": false,
          "text": "1.0",
          "x": "Track Duration (Seconds)",
          "xref": "x",
          "y": "Track Duration (Seconds)",
          "yref": "y"
         },
         {
          "font": {
           "color": "#FFFFFF"
          },
          "showarrow": false,
          "text": "-0.07",
          "x": "Track Number",
          "xref": "x",
          "y": "Track Duration (Seconds)",
          "yref": "y"
         },
         {
          "font": {
           "color": "#FFFFFF"
          },
          "showarrow": false,
          "text": "-0.03",
          "x": "Number of Artists",
          "xref": "x",
          "y": "Track Duration (Seconds)",
          "yref": "y"
         },
         {
          "font": {
           "color": "#FFFFFF"
          },
          "showarrow": false,
          "text": "-0.02",
          "x": "Danceability",
          "xref": "x",
          "y": "Track Duration (Seconds)",
          "yref": "y"
         },
         {
          "font": {
           "color": "#FFFFFF"
          },
          "showarrow": false,
          "text": "-0.04",
          "x": "Energy",
          "xref": "x",
          "y": "Track Duration (Seconds)",
          "yref": "y"
         },
         {
          "font": {
           "color": "#FFFFFF"
          },
          "showarrow": false,
          "text": "-0.04",
          "x": "Key",
          "xref": "x",
          "y": "Track Duration (Seconds)",
          "yref": "y"
         },
         {
          "font": {
           "color": "#FFFFFF"
          },
          "showarrow": false,
          "text": "-0.02",
          "x": "Loudness",
          "xref": "x",
          "y": "Track Duration (Seconds)",
          "yref": "y"
         },
         {
          "font": {
           "color": "#FFFFFF"
          },
          "showarrow": false,
          "text": "-0.13",
          "x": "Speechiness",
          "xref": "x",
          "y": "Track Duration (Seconds)",
          "yref": "y"
         },
         {
          "font": {
           "color": "#FFFFFF"
          },
          "showarrow": false,
          "text": "0.04",
          "x": "Acousticness",
          "xref": "x",
          "y": "Track Duration (Seconds)",
          "yref": "y"
         },
         {
          "font": {
           "color": "#FFFFFF"
          },
          "showarrow": false,
          "text": "0.06",
          "x": "Instrumentalness",
          "xref": "x",
          "y": "Track Duration (Seconds)",
          "yref": "y"
         },
         {
          "font": {
           "color": "#FFFFFF"
          },
          "showarrow": false,
          "text": "0.01",
          "x": "Liveness",
          "xref": "x",
          "y": "Track Duration (Seconds)",
          "yref": "y"
         },
         {
          "font": {
           "color": "#FFFFFF"
          },
          "showarrow": false,
          "text": "0.05",
          "x": "Valence",
          "xref": "x",
          "y": "Track Duration (Seconds)",
          "yref": "y"
         },
         {
          "font": {
           "color": "#FFFFFF"
          },
          "showarrow": false,
          "text": "-0.05",
          "x": "Tempo",
          "xref": "x",
          "y": "Track Duration (Seconds)",
          "yref": "y"
         },
         {
          "font": {
           "color": "#FFFFFF"
          },
          "showarrow": false,
          "text": "0.01",
          "x": "Release Year",
          "xref": "x",
          "y": "Track Number",
          "yref": "y"
         },
         {
          "font": {
           "color": "#FFFFFF"
          },
          "showarrow": false,
          "text": "0.01",
          "x": "Release Month",
          "xref": "x",
          "y": "Track Number",
          "yref": "y"
         },
         {
          "font": {
           "color": "#FFFFFF"
          },
          "showarrow": false,
          "text": "-0.08",
          "x": "Release Day",
          "xref": "x",
          "y": "Track Number",
          "yref": "y"
         },
         {
          "font": {
           "color": "#FFFFFF"
          },
          "showarrow": false,
          "text": "0.12",
          "x": "Number of Album Songs",
          "xref": "x",
          "y": "Track Number",
          "yref": "y"
         },
         {
          "font": {
           "color": "#FFFFFF"
          },
          "showarrow": false,
          "text": "-0.03",
          "x": "Plays",
          "xref": "x",
          "y": "Track Number",
          "yref": "y"
         },
         {
          "font": {
           "color": "#FFFFFF"
          },
          "showarrow": false,
          "text": "0.12",
          "x": "Track Duration (Minutes)",
          "xref": "x",
          "y": "Track Number",
          "yref": "y"
         },
         {
          "font": {
           "color": "#FFFFFF"
          },
          "showarrow": false,
          "text": "-0.07",
          "x": "Track Duration (Seconds)",
          "xref": "x",
          "y": "Track Number",
          "yref": "y"
         },
         {
          "font": {
           "color": "#000000"
          },
          "showarrow": false,
          "text": "1.0",
          "x": "Track Number",
          "xref": "x",
          "y": "Track Number",
          "yref": "y"
         },
         {
          "font": {
           "color": "#FFFFFF"
          },
          "showarrow": false,
          "text": "0.1",
          "x": "Number of Artists",
          "xref": "x",
          "y": "Track Number",
          "yref": "y"
         },
         {
          "font": {
           "color": "#FFFFFF"
          },
          "showarrow": false,
          "text": "-0.13",
          "x": "Danceability",
          "xref": "x",
          "y": "Track Number",
          "yref": "y"
         },
         {
          "font": {
           "color": "#FFFFFF"
          },
          "showarrow": false,
          "text": "-0.06",
          "x": "Energy",
          "xref": "x",
          "y": "Track Number",
          "yref": "y"
         },
         {
          "font": {
           "color": "#FFFFFF"
          },
          "showarrow": false,
          "text": "-0.07",
          "x": "Key",
          "xref": "x",
          "y": "Track Number",
          "yref": "y"
         },
         {
          "font": {
           "color": "#FFFFFF"
          },
          "showarrow": false,
          "text": "0.0",
          "x": "Loudness",
          "xref": "x",
          "y": "Track Number",
          "yref": "y"
         },
         {
          "font": {
           "color": "#FFFFFF"
          },
          "showarrow": false,
          "text": "0.03",
          "x": "Speechiness",
          "xref": "x",
          "y": "Track Number",
          "yref": "y"
         },
         {
          "font": {
           "color": "#FFFFFF"
          },
          "showarrow": false,
          "text": "0.01",
          "x": "Acousticness",
          "xref": "x",
          "y": "Track Number",
          "yref": "y"
         },
         {
          "font": {
           "color": "#FFFFFF"
          },
          "showarrow": false,
          "text": "-0.05",
          "x": "Instrumentalness",
          "xref": "x",
          "y": "Track Number",
          "yref": "y"
         },
         {
          "font": {
           "color": "#FFFFFF"
          },
          "showarrow": false,
          "text": "-0.07",
          "x": "Liveness",
          "xref": "x",
          "y": "Track Number",
          "yref": "y"
         },
         {
          "font": {
           "color": "#FFFFFF"
          },
          "showarrow": false,
          "text": "-0.04",
          "x": "Valence",
          "xref": "x",
          "y": "Track Number",
          "yref": "y"
         },
         {
          "font": {
           "color": "#FFFFFF"
          },
          "showarrow": false,
          "text": "-0.03",
          "x": "Tempo",
          "xref": "x",
          "y": "Track Number",
          "yref": "y"
         },
         {
          "font": {
           "color": "#FFFFFF"
          },
          "showarrow": false,
          "text": "-0.0",
          "x": "Release Year",
          "xref": "x",
          "y": "Number of Artists",
          "yref": "y"
         },
         {
          "font": {
           "color": "#FFFFFF"
          },
          "showarrow": false,
          "text": "0.07",
          "x": "Release Month",
          "xref": "x",
          "y": "Number of Artists",
          "yref": "y"
         },
         {
          "font": {
           "color": "#FFFFFF"
          },
          "showarrow": false,
          "text": "-0.11",
          "x": "Release Day",
          "xref": "x",
          "y": "Number of Artists",
          "yref": "y"
         },
         {
          "font": {
           "color": "#FFFFFF"
          },
          "showarrow": false,
          "text": "-0.08",
          "x": "Number of Album Songs",
          "xref": "x",
          "y": "Number of Artists",
          "yref": "y"
         },
         {
          "font": {
           "color": "#FFFFFF"
          },
          "showarrow": false,
          "text": "0.06",
          "x": "Plays",
          "xref": "x",
          "y": "Number of Artists",
          "yref": "y"
         },
         {
          "font": {
           "color": "#FFFFFF"
          },
          "showarrow": false,
          "text": "0.07",
          "x": "Track Duration (Minutes)",
          "xref": "x",
          "y": "Number of Artists",
          "yref": "y"
         },
         {
          "font": {
           "color": "#FFFFFF"
          },
          "showarrow": false,
          "text": "-0.03",
          "x": "Track Duration (Seconds)",
          "xref": "x",
          "y": "Number of Artists",
          "yref": "y"
         },
         {
          "font": {
           "color": "#FFFFFF"
          },
          "showarrow": false,
          "text": "0.1",
          "x": "Track Number",
          "xref": "x",
          "y": "Number of Artists",
          "yref": "y"
         },
         {
          "font": {
           "color": "#000000"
          },
          "showarrow": false,
          "text": "1.0",
          "x": "Number of Artists",
          "xref": "x",
          "y": "Number of Artists",
          "yref": "y"
         },
         {
          "font": {
           "color": "#FFFFFF"
          },
          "showarrow": false,
          "text": "0.07",
          "x": "Danceability",
          "xref": "x",
          "y": "Number of Artists",
          "yref": "y"
         },
         {
          "font": {
           "color": "#FFFFFF"
          },
          "showarrow": false,
          "text": "0.02",
          "x": "Energy",
          "xref": "x",
          "y": "Number of Artists",
          "yref": "y"
         },
         {
          "font": {
           "color": "#FFFFFF"
          },
          "showarrow": false,
          "text": "-0.07",
          "x": "Key",
          "xref": "x",
          "y": "Number of Artists",
          "yref": "y"
         },
         {
          "font": {
           "color": "#FFFFFF"
          },
          "showarrow": false,
          "text": "0.08",
          "x": "Loudness",
          "xref": "x",
          "y": "Number of Artists",
          "yref": "y"
         },
         {
          "font": {
           "color": "#FFFFFF"
          },
          "showarrow": false,
          "text": "0.1",
          "x": "Speechiness",
          "xref": "x",
          "y": "Number of Artists",
          "yref": "y"
         },
         {
          "font": {
           "color": "#FFFFFF"
          },
          "showarrow": false,
          "text": "-0.2",
          "x": "Acousticness",
          "xref": "x",
          "y": "Number of Artists",
          "yref": "y"
         },
         {
          "font": {
           "color": "#FFFFFF"
          },
          "showarrow": false,
          "text": "0.04",
          "x": "Instrumentalness",
          "xref": "x",
          "y": "Number of Artists",
          "yref": "y"
         },
         {
          "font": {
           "color": "#FFFFFF"
          },
          "showarrow": false,
          "text": "0.09",
          "x": "Liveness",
          "xref": "x",
          "y": "Number of Artists",
          "yref": "y"
         },
         {
          "font": {
           "color": "#FFFFFF"
          },
          "showarrow": false,
          "text": "0.0",
          "x": "Valence",
          "xref": "x",
          "y": "Number of Artists",
          "yref": "y"
         },
         {
          "font": {
           "color": "#FFFFFF"
          },
          "showarrow": false,
          "text": "0.13",
          "x": "Tempo",
          "xref": "x",
          "y": "Number of Artists",
          "yref": "y"
         },
         {
          "font": {
           "color": "#FFFFFF"
          },
          "showarrow": false,
          "text": "0.13",
          "x": "Release Year",
          "xref": "x",
          "y": "Danceability",
          "yref": "y"
         },
         {
          "font": {
           "color": "#FFFFFF"
          },
          "showarrow": false,
          "text": "-0.05",
          "x": "Release Month",
          "xref": "x",
          "y": "Danceability",
          "yref": "y"
         },
         {
          "font": {
           "color": "#FFFFFF"
          },
          "showarrow": false,
          "text": "0.17",
          "x": "Release Day",
          "xref": "x",
          "y": "Danceability",
          "yref": "y"
         },
         {
          "font": {
           "color": "#FFFFFF"
          },
          "showarrow": false,
          "text": "0.09",
          "x": "Number of Album Songs",
          "xref": "x",
          "y": "Danceability",
          "yref": "y"
         },
         {
          "font": {
           "color": "#000000"
          },
          "showarrow": false,
          "text": "0.27",
          "x": "Plays",
          "xref": "x",
          "y": "Danceability",
          "yref": "y"
         },
         {
          "font": {
           "color": "#FFFFFF"
          },
          "showarrow": false,
          "text": "-0.3",
          "x": "Track Duration (Minutes)",
          "xref": "x",
          "y": "Danceability",
          "yref": "y"
         },
         {
          "font": {
           "color": "#FFFFFF"
          },
          "showarrow": false,
          "text": "-0.02",
          "x": "Track Duration (Seconds)",
          "xref": "x",
          "y": "Danceability",
          "yref": "y"
         },
         {
          "font": {
           "color": "#FFFFFF"
          },
          "showarrow": false,
          "text": "-0.13",
          "x": "Track Number",
          "xref": "x",
          "y": "Danceability",
          "yref": "y"
         },
         {
          "font": {
           "color": "#FFFFFF"
          },
          "showarrow": false,
          "text": "0.07",
          "x": "Number of Artists",
          "xref": "x",
          "y": "Danceability",
          "yref": "y"
         },
         {
          "font": {
           "color": "#000000"
          },
          "showarrow": false,
          "text": "1.0",
          "x": "Danceability",
          "xref": "x",
          "y": "Danceability",
          "yref": "y"
         },
         {
          "font": {
           "color": "#FFFFFF"
          },
          "showarrow": false,
          "text": "-0.15",
          "x": "Energy",
          "xref": "x",
          "y": "Danceability",
          "yref": "y"
         },
         {
          "font": {
           "color": "#FFFFFF"
          },
          "showarrow": false,
          "text": "0.04",
          "x": "Key",
          "xref": "x",
          "y": "Danceability",
          "yref": "y"
         },
         {
          "font": {
           "color": "#FFFFFF"
          },
          "showarrow": false,
          "text": "0.06",
          "x": "Loudness",
          "xref": "x",
          "y": "Danceability",
          "yref": "y"
         },
         {
          "font": {
           "color": "#FFFFFF"
          },
          "showarrow": false,
          "text": "-0.09",
          "x": "Speechiness",
          "xref": "x",
          "y": "Danceability",
          "yref": "y"
         },
         {
          "font": {
           "color": "#FFFFFF"
          },
          "showarrow": false,
          "text": "-0.36",
          "x": "Acousticness",
          "xref": "x",
          "y": "Danceability",
          "yref": "y"
         },
         {
          "font": {
           "color": "#FFFFFF"
          },
          "showarrow": false,
          "text": "-0.14",
          "x": "Instrumentalness",
          "xref": "x",
          "y": "Danceability",
          "yref": "y"
         },
         {
          "font": {
           "color": "#FFFFFF"
          },
          "showarrow": false,
          "text": "-0.01",
          "x": "Liveness",
          "xref": "x",
          "y": "Danceability",
          "yref": "y"
         },
         {
          "font": {
           "color": "#FFFFFF"
          },
          "showarrow": false,
          "text": "0.18",
          "x": "Valence",
          "xref": "x",
          "y": "Danceability",
          "yref": "y"
         },
         {
          "font": {
           "color": "#FFFFFF"
          },
          "showarrow": false,
          "text": "-0.03",
          "x": "Tempo",
          "xref": "x",
          "y": "Danceability",
          "yref": "y"
         },
         {
          "font": {
           "color": "#FFFFFF"
          },
          "showarrow": false,
          "text": "-0.06",
          "x": "Release Year",
          "xref": "x",
          "y": "Energy",
          "yref": "y"
         },
         {
          "font": {
           "color": "#FFFFFF"
          },
          "showarrow": false,
          "text": "-0.16",
          "x": "Release Month",
          "xref": "x",
          "y": "Energy",
          "yref": "y"
         },
         {
          "font": {
           "color": "#FFFFFF"
          },
          "showarrow": false,
          "text": "-0.19",
          "x": "Release Day",
          "xref": "x",
          "y": "Energy",
          "yref": "y"
         },
         {
          "font": {
           "color": "#FFFFFF"
          },
          "showarrow": false,
          "text": "-0.15",
          "x": "Number of Album Songs",
          "xref": "x",
          "y": "Energy",
          "yref": "y"
         },
         {
          "font": {
           "color": "#FFFFFF"
          },
          "showarrow": false,
          "text": "-0.05",
          "x": "Plays",
          "xref": "x",
          "y": "Energy",
          "yref": "y"
         },
         {
          "font": {
           "color": "#FFFFFF"
          },
          "showarrow": false,
          "text": "0.14",
          "x": "Track Duration (Minutes)",
          "xref": "x",
          "y": "Energy",
          "yref": "y"
         },
         {
          "font": {
           "color": "#FFFFFF"
          },
          "showarrow": false,
          "text": "-0.04",
          "x": "Track Duration (Seconds)",
          "xref": "x",
          "y": "Energy",
          "yref": "y"
         },
         {
          "font": {
           "color": "#FFFFFF"
          },
          "showarrow": false,
          "text": "-0.06",
          "x": "Track Number",
          "xref": "x",
          "y": "Energy",
          "yref": "y"
         },
         {
          "font": {
           "color": "#FFFFFF"
          },
          "showarrow": false,
          "text": "0.02",
          "x": "Number of Artists",
          "xref": "x",
          "y": "Energy",
          "yref": "y"
         },
         {
          "font": {
           "color": "#FFFFFF"
          },
          "showarrow": false,
          "text": "-0.15",
          "x": "Danceability",
          "xref": "x",
          "y": "Energy",
          "yref": "y"
         },
         {
          "font": {
           "color": "#000000"
          },
          "showarrow": false,
          "text": "1.0",
          "x": "Energy",
          "xref": "x",
          "y": "Energy",
          "yref": "y"
         },
         {
          "font": {
           "color": "#FFFFFF"
          },
          "showarrow": false,
          "text": "0.0",
          "x": "Key",
          "xref": "x",
          "y": "Energy",
          "yref": "y"
         },
         {
          "font": {
           "color": "#000000"
          },
          "showarrow": false,
          "text": "0.7",
          "x": "Loudness",
          "xref": "x",
          "y": "Energy",
          "yref": "y"
         },
         {
          "font": {
           "color": "#000000"
          },
          "showarrow": false,
          "text": "0.26",
          "x": "Speechiness",
          "xref": "x",
          "y": "Energy",
          "yref": "y"
         },
         {
          "font": {
           "color": "#FFFFFF"
          },
          "showarrow": false,
          "text": "-0.32",
          "x": "Acousticness",
          "xref": "x",
          "y": "Energy",
          "yref": "y"
         },
         {
          "font": {
           "color": "#FFFFFF"
          },
          "showarrow": false,
          "text": "-0.21",
          "x": "Instrumentalness",
          "xref": "x",
          "y": "Energy",
          "yref": "y"
         },
         {
          "font": {
           "color": "#FFFFFF"
          },
          "showarrow": false,
          "text": "0.18",
          "x": "Liveness",
          "xref": "x",
          "y": "Energy",
          "yref": "y"
         },
         {
          "font": {
           "color": "#000000"
          },
          "showarrow": false,
          "text": "0.34",
          "x": "Valence",
          "xref": "x",
          "y": "Energy",
          "yref": "y"
         },
         {
          "font": {
           "color": "#FFFFFF"
          },
          "showarrow": false,
          "text": "0.09",
          "x": "Tempo",
          "xref": "x",
          "y": "Energy",
          "yref": "y"
         },
         {
          "font": {
           "color": "#FFFFFF"
          },
          "showarrow": false,
          "text": "0.1",
          "x": "Release Year",
          "xref": "x",
          "y": "Key",
          "yref": "y"
         },
         {
          "font": {
           "color": "#FFFFFF"
          },
          "showarrow": false,
          "text": "-0.14",
          "x": "Release Month",
          "xref": "x",
          "y": "Key",
          "yref": "y"
         },
         {
          "font": {
           "color": "#FFFFFF"
          },
          "showarrow": false,
          "text": "-0.08",
          "x": "Release Day",
          "xref": "x",
          "y": "Key",
          "yref": "y"
         },
         {
          "font": {
           "color": "#FFFFFF"
          },
          "showarrow": false,
          "text": "0.11",
          "x": "Number of Album Songs",
          "xref": "x",
          "y": "Key",
          "yref": "y"
         },
         {
          "font": {
           "color": "#FFFFFF"
          },
          "showarrow": false,
          "text": "0.03",
          "x": "Plays",
          "xref": "x",
          "y": "Key",
          "yref": "y"
         },
         {
          "font": {
           "color": "#FFFFFF"
          },
          "showarrow": false,
          "text": "-0.07",
          "x": "Track Duration (Minutes)",
          "xref": "x",
          "y": "Key",
          "yref": "y"
         },
         {
          "font": {
           "color": "#FFFFFF"
          },
          "showarrow": false,
          "text": "-0.04",
          "x": "Track Duration (Seconds)",
          "xref": "x",
          "y": "Key",
          "yref": "y"
         },
         {
          "font": {
           "color": "#FFFFFF"
          },
          "showarrow": false,
          "text": "-0.07",
          "x": "Track Number",
          "xref": "x",
          "y": "Key",
          "yref": "y"
         },
         {
          "font": {
           "color": "#FFFFFF"
          },
          "showarrow": false,
          "text": "-0.07",
          "x": "Number of Artists",
          "xref": "x",
          "y": "Key",
          "yref": "y"
         },
         {
          "font": {
           "color": "#FFFFFF"
          },
          "showarrow": false,
          "text": "0.04",
          "x": "Danceability",
          "xref": "x",
          "y": "Key",
          "yref": "y"
         },
         {
          "font": {
           "color": "#FFFFFF"
          },
          "showarrow": false,
          "text": "0.0",
          "x": "Energy",
          "xref": "x",
          "y": "Key",
          "yref": "y"
         },
         {
          "font": {
           "color": "#000000"
          },
          "showarrow": false,
          "text": "1.0",
          "x": "Key",
          "xref": "x",
          "y": "Key",
          "yref": "y"
         },
         {
          "font": {
           "color": "#FFFFFF"
          },
          "showarrow": false,
          "text": "0.07",
          "x": "Loudness",
          "xref": "x",
          "y": "Key",
          "yref": "y"
         },
         {
          "font": {
           "color": "#FFFFFF"
          },
          "showarrow": false,
          "text": "0.0",
          "x": "Speechiness",
          "xref": "x",
          "y": "Key",
          "yref": "y"
         },
         {
          "font": {
           "color": "#FFFFFF"
          },
          "showarrow": false,
          "text": "0.09",
          "x": "Acousticness",
          "xref": "x",
          "y": "Key",
          "yref": "y"
         },
         {
          "font": {
           "color": "#FFFFFF"
          },
          "showarrow": false,
          "text": "-0.04",
          "x": "Instrumentalness",
          "xref": "x",
          "y": "Key",
          "yref": "y"
         },
         {
          "font": {
           "color": "#FFFFFF"
          },
          "showarrow": false,
          "text": "-0.01",
          "x": "Liveness",
          "xref": "x",
          "y": "Key",
          "yref": "y"
         },
         {
          "font": {
           "color": "#FFFFFF"
          },
          "showarrow": false,
          "text": "0.02",
          "x": "Valence",
          "xref": "x",
          "y": "Key",
          "yref": "y"
         },
         {
          "font": {
           "color": "#FFFFFF"
          },
          "showarrow": false,
          "text": "-0.04",
          "x": "Tempo",
          "xref": "x",
          "y": "Key",
          "yref": "y"
         },
         {
          "font": {
           "color": "#FFFFFF"
          },
          "showarrow": false,
          "text": "0.04",
          "x": "Release Year",
          "xref": "x",
          "y": "Loudness",
          "yref": "y"
         },
         {
          "font": {
           "color": "#FFFFFF"
          },
          "showarrow": false,
          "text": "-0.19",
          "x": "Release Month",
          "xref": "x",
          "y": "Loudness",
          "yref": "y"
         },
         {
          "font": {
           "color": "#FFFFFF"
          },
          "showarrow": false,
          "text": "-0.24",
          "x": "Release Day",
          "xref": "x",
          "y": "Loudness",
          "yref": "y"
         },
         {
          "font": {
           "color": "#FFFFFF"
          },
          "showarrow": false,
          "text": "-0.09",
          "x": "Number of Album Songs",
          "xref": "x",
          "y": "Loudness",
          "yref": "y"
         },
         {
          "font": {
           "color": "#FFFFFF"
          },
          "showarrow": false,
          "text": "-0.0",
          "x": "Plays",
          "xref": "x",
          "y": "Loudness",
          "yref": "y"
         },
         {
          "font": {
           "color": "#FFFFFF"
          },
          "showarrow": false,
          "text": "0.11",
          "x": "Track Duration (Minutes)",
          "xref": "x",
          "y": "Loudness",
          "yref": "y"
         },
         {
          "font": {
           "color": "#FFFFFF"
          },
          "showarrow": false,
          "text": "-0.02",
          "x": "Track Duration (Seconds)",
          "xref": "x",
          "y": "Loudness",
          "yref": "y"
         },
         {
          "font": {
           "color": "#FFFFFF"
          },
          "showarrow": false,
          "text": "0.0",
          "x": "Track Number",
          "xref": "x",
          "y": "Loudness",
          "yref": "y"
         },
         {
          "font": {
           "color": "#FFFFFF"
          },
          "showarrow": false,
          "text": "0.08",
          "x": "Number of Artists",
          "xref": "x",
          "y": "Loudness",
          "yref": "y"
         },
         {
          "font": {
           "color": "#FFFFFF"
          },
          "showarrow": false,
          "text": "0.06",
          "x": "Danceability",
          "xref": "x",
          "y": "Loudness",
          "yref": "y"
         },
         {
          "font": {
           "color": "#000000"
          },
          "showarrow": false,
          "text": "0.7",
          "x": "Energy",
          "xref": "x",
          "y": "Loudness",
          "yref": "y"
         },
         {
          "font": {
           "color": "#FFFFFF"
          },
          "showarrow": false,
          "text": "0.07",
          "x": "Key",
          "xref": "x",
          "y": "Loudness",
          "yref": "y"
         },
         {
          "font": {
           "color": "#000000"
          },
          "showarrow": false,
          "text": "1.0",
          "x": "Loudness",
          "xref": "x",
          "y": "Loudness",
          "yref": "y"
         },
         {
          "font": {
           "color": "#FFFFFF"
          },
          "showarrow": false,
          "text": "0.19",
          "x": "Speechiness",
          "xref": "x",
          "y": "Loudness",
          "yref": "y"
         },
         {
          "font": {
           "color": "#FFFFFF"
          },
          "showarrow": false,
          "text": "-0.38",
          "x": "Acousticness",
          "xref": "x",
          "y": "Loudness",
          "yref": "y"
         },
         {
          "font": {
           "color": "#FFFFFF"
          },
          "showarrow": false,
          "text": "-0.5",
          "x": "Instrumentalness",
          "xref": "x",
          "y": "Loudness",
          "yref": "y"
         },
         {
          "font": {
           "color": "#FFFFFF"
          },
          "showarrow": false,
          "text": "0.16",
          "x": "Liveness",
          "xref": "x",
          "y": "Loudness",
          "yref": "y"
         },
         {
          "font": {
           "color": "#FFFFFF"
          },
          "showarrow": false,
          "text": "0.21",
          "x": "Valence",
          "xref": "x",
          "y": "Loudness",
          "yref": "y"
         },
         {
          "font": {
           "color": "#FFFFFF"
          },
          "showarrow": false,
          "text": "-0.0",
          "x": "Tempo",
          "xref": "x",
          "y": "Loudness",
          "yref": "y"
         },
         {
          "font": {
           "color": "#FFFFFF"
          },
          "showarrow": false,
          "text": "-0.1",
          "x": "Release Year",
          "xref": "x",
          "y": "Speechiness",
          "yref": "y"
         },
         {
          "font": {
           "color": "#FFFFFF"
          },
          "showarrow": false,
          "text": "0.01",
          "x": "Release Month",
          "xref": "x",
          "y": "Speechiness",
          "yref": "y"
         },
         {
          "font": {
           "color": "#FFFFFF"
          },
          "showarrow": false,
          "text": "-0.06",
          "x": "Release Day",
          "xref": "x",
          "y": "Speechiness",
          "yref": "y"
         },
         {
          "font": {
           "color": "#FFFFFF"
          },
          "showarrow": false,
          "text": "-0.07",
          "x": "Number of Album Songs",
          "xref": "x",
          "y": "Speechiness",
          "yref": "y"
         },
         {
          "font": {
           "color": "#FFFFFF"
          },
          "showarrow": false,
          "text": "-0.14",
          "x": "Plays",
          "xref": "x",
          "y": "Speechiness",
          "yref": "y"
         },
         {
          "font": {
           "color": "#FFFFFF"
          },
          "showarrow": false,
          "text": "0.13",
          "x": "Track Duration (Minutes)",
          "xref": "x",
          "y": "Speechiness",
          "yref": "y"
         },
         {
          "font": {
           "color": "#FFFFFF"
          },
          "showarrow": false,
          "text": "-0.13",
          "x": "Track Duration (Seconds)",
          "xref": "x",
          "y": "Speechiness",
          "yref": "y"
         },
         {
          "font": {
           "color": "#FFFFFF"
          },
          "showarrow": false,
          "text": "0.03",
          "x": "Track Number",
          "xref": "x",
          "y": "Speechiness",
          "yref": "y"
         },
         {
          "font": {
           "color": "#FFFFFF"
          },
          "showarrow": false,
          "text": "0.1",
          "x": "Number of Artists",
          "xref": "x",
          "y": "Speechiness",
          "yref": "y"
         },
         {
          "font": {
           "color": "#FFFFFF"
          },
          "showarrow": false,
          "text": "-0.09",
          "x": "Danceability",
          "xref": "x",
          "y": "Speechiness",
          "yref": "y"
         },
         {
          "font": {
           "color": "#000000"
          },
          "showarrow": false,
          "text": "0.26",
          "x": "Energy",
          "xref": "x",
          "y": "Speechiness",
          "yref": "y"
         },
         {
          "font": {
           "color": "#FFFFFF"
          },
          "showarrow": false,
          "text": "0.0",
          "x": "Key",
          "xref": "x",
          "y": "Speechiness",
          "yref": "y"
         },
         {
          "font": {
           "color": "#FFFFFF"
          },
          "showarrow": false,
          "text": "0.19",
          "x": "Loudness",
          "xref": "x",
          "y": "Speechiness",
          "yref": "y"
         },
         {
          "font": {
           "color": "#000000"
          },
          "showarrow": false,
          "text": "1.0",
          "x": "Speechiness",
          "xref": "x",
          "y": "Speechiness",
          "yref": "y"
         },
         {
          "font": {
           "color": "#FFFFFF"
          },
          "showarrow": false,
          "text": "-0.03",
          "x": "Acousticness",
          "xref": "x",
          "y": "Speechiness",
          "yref": "y"
         },
         {
          "font": {
           "color": "#FFFFFF"
          },
          "showarrow": false,
          "text": "-0.18",
          "x": "Instrumentalness",
          "xref": "x",
          "y": "Speechiness",
          "yref": "y"
         },
         {
          "font": {
           "color": "#FFFFFF"
          },
          "showarrow": false,
          "text": "0.15",
          "x": "Liveness",
          "xref": "x",
          "y": "Speechiness",
          "yref": "y"
         },
         {
          "font": {
           "color": "#FFFFFF"
          },
          "showarrow": false,
          "text": "0.06",
          "x": "Valence",
          "xref": "x",
          "y": "Speechiness",
          "yref": "y"
         },
         {
          "font": {
           "color": "#FFFFFF"
          },
          "showarrow": false,
          "text": "0.23",
          "x": "Tempo",
          "xref": "x",
          "y": "Speechiness",
          "yref": "y"
         },
         {
          "font": {
           "color": "#FFFFFF"
          },
          "showarrow": false,
          "text": "0.09",
          "x": "Release Year",
          "xref": "x",
          "y": "Acousticness",
          "yref": "y"
         },
         {
          "font": {
           "color": "#FFFFFF"
          },
          "showarrow": false,
          "text": "0.0",
          "x": "Release Month",
          "xref": "x",
          "y": "Acousticness",
          "yref": "y"
         },
         {
          "font": {
           "color": "#FFFFFF"
          },
          "showarrow": false,
          "text": "-0.02",
          "x": "Release Day",
          "xref": "x",
          "y": "Acousticness",
          "yref": "y"
         },
         {
          "font": {
           "color": "#FFFFFF"
          },
          "showarrow": false,
          "text": "-0.04",
          "x": "Number of Album Songs",
          "xref": "x",
          "y": "Acousticness",
          "yref": "y"
         },
         {
          "font": {
           "color": "#FFFFFF"
          },
          "showarrow": false,
          "text": "-0.2",
          "x": "Plays",
          "xref": "x",
          "y": "Acousticness",
          "yref": "y"
         },
         {
          "font": {
           "color": "#FFFFFF"
          },
          "showarrow": false,
          "text": "0.05",
          "x": "Track Duration (Minutes)",
          "xref": "x",
          "y": "Acousticness",
          "yref": "y"
         },
         {
          "font": {
           "color": "#FFFFFF"
          },
          "showarrow": false,
          "text": "0.04",
          "x": "Track Duration (Seconds)",
          "xref": "x",
          "y": "Acousticness",
          "yref": "y"
         },
         {
          "font": {
           "color": "#FFFFFF"
          },
          "showarrow": false,
          "text": "0.01",
          "x": "Track Number",
          "xref": "x",
          "y": "Acousticness",
          "yref": "y"
         },
         {
          "font": {
           "color": "#FFFFFF"
          },
          "showarrow": false,
          "text": "-0.2",
          "x": "Number of Artists",
          "xref": "x",
          "y": "Acousticness",
          "yref": "y"
         },
         {
          "font": {
           "color": "#FFFFFF"
          },
          "showarrow": false,
          "text": "-0.36",
          "x": "Danceability",
          "xref": "x",
          "y": "Acousticness",
          "yref": "y"
         },
         {
          "font": {
           "color": "#FFFFFF"
          },
          "showarrow": false,
          "text": "-0.32",
          "x": "Energy",
          "xref": "x",
          "y": "Acousticness",
          "yref": "y"
         },
         {
          "font": {
           "color": "#FFFFFF"
          },
          "showarrow": false,
          "text": "0.09",
          "x": "Key",
          "xref": "x",
          "y": "Acousticness",
          "yref": "y"
         },
         {
          "font": {
           "color": "#FFFFFF"
          },
          "showarrow": false,
          "text": "-0.38",
          "x": "Loudness",
          "xref": "x",
          "y": "Acousticness",
          "yref": "y"
         },
         {
          "font": {
           "color": "#FFFFFF"
          },
          "showarrow": false,
          "text": "-0.03",
          "x": "Speechiness",
          "xref": "x",
          "y": "Acousticness",
          "yref": "y"
         },
         {
          "font": {
           "color": "#000000"
          },
          "showarrow": false,
          "text": "1.0",
          "x": "Acousticness",
          "xref": "x",
          "y": "Acousticness",
          "yref": "y"
         },
         {
          "font": {
           "color": "#FFFFFF"
          },
          "showarrow": false,
          "text": "0.22",
          "x": "Instrumentalness",
          "xref": "x",
          "y": "Acousticness",
          "yref": "y"
         },
         {
          "font": {
           "color": "#FFFFFF"
          },
          "showarrow": false,
          "text": "-0.13",
          "x": "Liveness",
          "xref": "x",
          "y": "Acousticness",
          "yref": "y"
         },
         {
          "font": {
           "color": "#FFFFFF"
          },
          "showarrow": false,
          "text": "-0.01",
          "x": "Valence",
          "xref": "x",
          "y": "Acousticness",
          "yref": "y"
         },
         {
          "font": {
           "color": "#FFFFFF"
          },
          "showarrow": false,
          "text": "-0.09",
          "x": "Tempo",
          "xref": "x",
          "y": "Acousticness",
          "yref": "y"
         },
         {
          "font": {
           "color": "#FFFFFF"
          },
          "showarrow": false,
          "text": "0.12",
          "x": "Release Year",
          "xref": "x",
          "y": "Instrumentalness",
          "yref": "y"
         },
         {
          "font": {
           "color": "#FFFFFF"
          },
          "showarrow": false,
          "text": "-0.07",
          "x": "Release Month",
          "xref": "x",
          "y": "Instrumentalness",
          "yref": "y"
         },
         {
          "font": {
           "color": "#FFFFFF"
          },
          "showarrow": false,
          "text": "0.08",
          "x": "Release Day",
          "xref": "x",
          "y": "Instrumentalness",
          "yref": "y"
         },
         {
          "font": {
           "color": "#FFFFFF"
          },
          "showarrow": false,
          "text": "-0.03",
          "x": "Number of Album Songs",
          "xref": "x",
          "y": "Instrumentalness",
          "yref": "y"
         },
         {
          "font": {
           "color": "#FFFFFF"
          },
          "showarrow": false,
          "text": "-0.05",
          "x": "Plays",
          "xref": "x",
          "y": "Instrumentalness",
          "yref": "y"
         },
         {
          "font": {
           "color": "#FFFFFF"
          },
          "showarrow": false,
          "text": "-0.18",
          "x": "Track Duration (Minutes)",
          "xref": "x",
          "y": "Instrumentalness",
          "yref": "y"
         },
         {
          "font": {
           "color": "#FFFFFF"
          },
          "showarrow": false,
          "text": "0.06",
          "x": "Track Duration (Seconds)",
          "xref": "x",
          "y": "Instrumentalness",
          "yref": "y"
         },
         {
          "font": {
           "color": "#FFFFFF"
          },
          "showarrow": false,
          "text": "-0.05",
          "x": "Track Number",
          "xref": "x",
          "y": "Instrumentalness",
          "yref": "y"
         },
         {
          "font": {
           "color": "#FFFFFF"
          },
          "showarrow": false,
          "text": "0.04",
          "x": "Number of Artists",
          "xref": "x",
          "y": "Instrumentalness",
          "yref": "y"
         },
         {
          "font": {
           "color": "#FFFFFF"
          },
          "showarrow": false,
          "text": "-0.14",
          "x": "Danceability",
          "xref": "x",
          "y": "Instrumentalness",
          "yref": "y"
         },
         {
          "font": {
           "color": "#FFFFFF"
          },
          "showarrow": false,
          "text": "-0.21",
          "x": "Energy",
          "xref": "x",
          "y": "Instrumentalness",
          "yref": "y"
         },
         {
          "font": {
           "color": "#FFFFFF"
          },
          "showarrow": false,
          "text": "-0.04",
          "x": "Key",
          "xref": "x",
          "y": "Instrumentalness",
          "yref": "y"
         },
         {
          "font": {
           "color": "#FFFFFF"
          },
          "showarrow": false,
          "text": "-0.5",
          "x": "Loudness",
          "xref": "x",
          "y": "Instrumentalness",
          "yref": "y"
         },
         {
          "font": {
           "color": "#FFFFFF"
          },
          "showarrow": false,
          "text": "-0.18",
          "x": "Speechiness",
          "xref": "x",
          "y": "Instrumentalness",
          "yref": "y"
         },
         {
          "font": {
           "color": "#FFFFFF"
          },
          "showarrow": false,
          "text": "0.22",
          "x": "Acousticness",
          "xref": "x",
          "y": "Instrumentalness",
          "yref": "y"
         },
         {
          "font": {
           "color": "#000000"
          },
          "showarrow": false,
          "text": "1.0",
          "x": "Instrumentalness",
          "xref": "x",
          "y": "Instrumentalness",
          "yref": "y"
         },
         {
          "font": {
           "color": "#FFFFFF"
          },
          "showarrow": false,
          "text": "-0.03",
          "x": "Liveness",
          "xref": "x",
          "y": "Instrumentalness",
          "yref": "y"
         },
         {
          "font": {
           "color": "#FFFFFF"
          },
          "showarrow": false,
          "text": "0.01",
          "x": "Valence",
          "xref": "x",
          "y": "Instrumentalness",
          "yref": "y"
         },
         {
          "font": {
           "color": "#FFFFFF"
          },
          "showarrow": false,
          "text": "0.09",
          "x": "Tempo",
          "xref": "x",
          "y": "Instrumentalness",
          "yref": "y"
         },
         {
          "font": {
           "color": "#FFFFFF"
          },
          "showarrow": false,
          "text": "0.01",
          "x": "Release Year",
          "xref": "x",
          "y": "Liveness",
          "yref": "y"
         },
         {
          "font": {
           "color": "#FFFFFF"
          },
          "showarrow": false,
          "text": "0.01",
          "x": "Release Month",
          "xref": "x",
          "y": "Liveness",
          "yref": "y"
         },
         {
          "font": {
           "color": "#FFFFFF"
          },
          "showarrow": false,
          "text": "-0.02",
          "x": "Release Day",
          "xref": "x",
          "y": "Liveness",
          "yref": "y"
         },
         {
          "font": {
           "color": "#FFFFFF"
          },
          "showarrow": false,
          "text": "0.11",
          "x": "Number of Album Songs",
          "xref": "x",
          "y": "Liveness",
          "yref": "y"
         },
         {
          "font": {
           "color": "#FFFFFF"
          },
          "showarrow": false,
          "text": "0.02",
          "x": "Plays",
          "xref": "x",
          "y": "Liveness",
          "yref": "y"
         },
         {
          "font": {
           "color": "#FFFFFF"
          },
          "showarrow": false,
          "text": "-0.05",
          "x": "Track Duration (Minutes)",
          "xref": "x",
          "y": "Liveness",
          "yref": "y"
         },
         {
          "font": {
           "color": "#FFFFFF"
          },
          "showarrow": false,
          "text": "0.01",
          "x": "Track Duration (Seconds)",
          "xref": "x",
          "y": "Liveness",
          "yref": "y"
         },
         {
          "font": {
           "color": "#FFFFFF"
          },
          "showarrow": false,
          "text": "-0.07",
          "x": "Track Number",
          "xref": "x",
          "y": "Liveness",
          "yref": "y"
         },
         {
          "font": {
           "color": "#FFFFFF"
          },
          "showarrow": false,
          "text": "0.09",
          "x": "Number of Artists",
          "xref": "x",
          "y": "Liveness",
          "yref": "y"
         },
         {
          "font": {
           "color": "#FFFFFF"
          },
          "showarrow": false,
          "text": "-0.01",
          "x": "Danceability",
          "xref": "x",
          "y": "Liveness",
          "yref": "y"
         },
         {
          "font": {
           "color": "#FFFFFF"
          },
          "showarrow": false,
          "text": "0.18",
          "x": "Energy",
          "xref": "x",
          "y": "Liveness",
          "yref": "y"
         },
         {
          "font": {
           "color": "#FFFFFF"
          },
          "showarrow": false,
          "text": "-0.01",
          "x": "Key",
          "xref": "x",
          "y": "Liveness",
          "yref": "y"
         },
         {
          "font": {
           "color": "#FFFFFF"
          },
          "showarrow": false,
          "text": "0.16",
          "x": "Loudness",
          "xref": "x",
          "y": "Liveness",
          "yref": "y"
         },
         {
          "font": {
           "color": "#FFFFFF"
          },
          "showarrow": false,
          "text": "0.15",
          "x": "Speechiness",
          "xref": "x",
          "y": "Liveness",
          "yref": "y"
         },
         {
          "font": {
           "color": "#FFFFFF"
          },
          "showarrow": false,
          "text": "-0.13",
          "x": "Acousticness",
          "xref": "x",
          "y": "Liveness",
          "yref": "y"
         },
         {
          "font": {
           "color": "#FFFFFF"
          },
          "showarrow": false,
          "text": "-0.03",
          "x": "Instrumentalness",
          "xref": "x",
          "y": "Liveness",
          "yref": "y"
         },
         {
          "font": {
           "color": "#000000"
          },
          "showarrow": false,
          "text": "1.0",
          "x": "Liveness",
          "xref": "x",
          "y": "Liveness",
          "yref": "y"
         },
         {
          "font": {
           "color": "#FFFFFF"
          },
          "showarrow": false,
          "text": "0.04",
          "x": "Valence",
          "xref": "x",
          "y": "Liveness",
          "yref": "y"
         },
         {
          "font": {
           "color": "#FFFFFF"
          },
          "showarrow": false,
          "text": "0.06",
          "x": "Tempo",
          "xref": "x",
          "y": "Liveness",
          "yref": "y"
         },
         {
          "font": {
           "color": "#FFFFFF"
          },
          "showarrow": false,
          "text": "-0.05",
          "x": "Release Year",
          "xref": "x",
          "y": "Valence",
          "yref": "y"
         },
         {
          "font": {
           "color": "#FFFFFF"
          },
          "showarrow": false,
          "text": "-0.11",
          "x": "Release Month",
          "xref": "x",
          "y": "Valence",
          "yref": "y"
         },
         {
          "font": {
           "color": "#FFFFFF"
          },
          "showarrow": false,
          "text": "-0.08",
          "x": "Release Day",
          "xref": "x",
          "y": "Valence",
          "yref": "y"
         },
         {
          "font": {
           "color": "#FFFFFF"
          },
          "showarrow": false,
          "text": "-0.08",
          "x": "Number of Album Songs",
          "xref": "x",
          "y": "Valence",
          "yref": "y"
         },
         {
          "font": {
           "color": "#FFFFFF"
          },
          "showarrow": false,
          "text": "0.06",
          "x": "Plays",
          "xref": "x",
          "y": "Valence",
          "yref": "y"
         },
         {
          "font": {
           "color": "#FFFFFF"
          },
          "showarrow": false,
          "text": "-0.09",
          "x": "Track Duration (Minutes)",
          "xref": "x",
          "y": "Valence",
          "yref": "y"
         },
         {
          "font": {
           "color": "#FFFFFF"
          },
          "showarrow": false,
          "text": "0.05",
          "x": "Track Duration (Seconds)",
          "xref": "x",
          "y": "Valence",
          "yref": "y"
         },
         {
          "font": {
           "color": "#FFFFFF"
          },
          "showarrow": false,
          "text": "-0.04",
          "x": "Track Number",
          "xref": "x",
          "y": "Valence",
          "yref": "y"
         },
         {
          "font": {
           "color": "#FFFFFF"
          },
          "showarrow": false,
          "text": "0.0",
          "x": "Number of Artists",
          "xref": "x",
          "y": "Valence",
          "yref": "y"
         },
         {
          "font": {
           "color": "#FFFFFF"
          },
          "showarrow": false,
          "text": "0.18",
          "x": "Danceability",
          "xref": "x",
          "y": "Valence",
          "yref": "y"
         },
         {
          "font": {
           "color": "#000000"
          },
          "showarrow": false,
          "text": "0.34",
          "x": "Energy",
          "xref": "x",
          "y": "Valence",
          "yref": "y"
         },
         {
          "font": {
           "color": "#FFFFFF"
          },
          "showarrow": false,
          "text": "0.02",
          "x": "Key",
          "xref": "x",
          "y": "Valence",
          "yref": "y"
         },
         {
          "font": {
           "color": "#FFFFFF"
          },
          "showarrow": false,
          "text": "0.21",
          "x": "Loudness",
          "xref": "x",
          "y": "Valence",
          "yref": "y"
         },
         {
          "font": {
           "color": "#FFFFFF"
          },
          "showarrow": false,
          "text": "0.06",
          "x": "Speechiness",
          "xref": "x",
          "y": "Valence",
          "yref": "y"
         },
         {
          "font": {
           "color": "#FFFFFF"
          },
          "showarrow": false,
          "text": "-0.01",
          "x": "Acousticness",
          "xref": "x",
          "y": "Valence",
          "yref": "y"
         },
         {
          "font": {
           "color": "#FFFFFF"
          },
          "showarrow": false,
          "text": "0.01",
          "x": "Instrumentalness",
          "xref": "x",
          "y": "Valence",
          "yref": "y"
         },
         {
          "font": {
           "color": "#FFFFFF"
          },
          "showarrow": false,
          "text": "0.04",
          "x": "Liveness",
          "xref": "x",
          "y": "Valence",
          "yref": "y"
         },
         {
          "font": {
           "color": "#000000"
          },
          "showarrow": false,
          "text": "1.0",
          "x": "Valence",
          "xref": "x",
          "y": "Valence",
          "yref": "y"
         },
         {
          "font": {
           "color": "#FFFFFF"
          },
          "showarrow": false,
          "text": "0.04",
          "x": "Tempo",
          "xref": "x",
          "y": "Valence",
          "yref": "y"
         },
         {
          "font": {
           "color": "#FFFFFF"
          },
          "showarrow": false,
          "text": "-0.03",
          "x": "Release Year",
          "xref": "x",
          "y": "Tempo",
          "yref": "y"
         },
         {
          "font": {
           "color": "#FFFFFF"
          },
          "showarrow": false,
          "text": "0.16",
          "x": "Release Month",
          "xref": "x",
          "y": "Tempo",
          "yref": "y"
         },
         {
          "font": {
           "color": "#FFFFFF"
          },
          "showarrow": false,
          "text": "0.13",
          "x": "Release Day",
          "xref": "x",
          "y": "Tempo",
          "yref": "y"
         },
         {
          "font": {
           "color": "#FFFFFF"
          },
          "showarrow": false,
          "text": "-0.0",
          "x": "Number of Album Songs",
          "xref": "x",
          "y": "Tempo",
          "yref": "y"
         },
         {
          "font": {
           "color": "#FFFFFF"
          },
          "showarrow": false,
          "text": "-0.04",
          "x": "Plays",
          "xref": "x",
          "y": "Tempo",
          "yref": "y"
         },
         {
          "font": {
           "color": "#FFFFFF"
          },
          "showarrow": false,
          "text": "-0.05",
          "x": "Track Duration (Minutes)",
          "xref": "x",
          "y": "Tempo",
          "yref": "y"
         },
         {
          "font": {
           "color": "#FFFFFF"
          },
          "showarrow": false,
          "text": "-0.05",
          "x": "Track Duration (Seconds)",
          "xref": "x",
          "y": "Tempo",
          "yref": "y"
         },
         {
          "font": {
           "color": "#FFFFFF"
          },
          "showarrow": false,
          "text": "-0.03",
          "x": "Track Number",
          "xref": "x",
          "y": "Tempo",
          "yref": "y"
         },
         {
          "font": {
           "color": "#FFFFFF"
          },
          "showarrow": false,
          "text": "0.13",
          "x": "Number of Artists",
          "xref": "x",
          "y": "Tempo",
          "yref": "y"
         },
         {
          "font": {
           "color": "#FFFFFF"
          },
          "showarrow": false,
          "text": "-0.03",
          "x": "Danceability",
          "xref": "x",
          "y": "Tempo",
          "yref": "y"
         },
         {
          "font": {
           "color": "#FFFFFF"
          },
          "showarrow": false,
          "text": "0.09",
          "x": "Energy",
          "xref": "x",
          "y": "Tempo",
          "yref": "y"
         },
         {
          "font": {
           "color": "#FFFFFF"
          },
          "showarrow": false,
          "text": "-0.04",
          "x": "Key",
          "xref": "x",
          "y": "Tempo",
          "yref": "y"
         },
         {
          "font": {
           "color": "#FFFFFF"
          },
          "showarrow": false,
          "text": "-0.0",
          "x": "Loudness",
          "xref": "x",
          "y": "Tempo",
          "yref": "y"
         },
         {
          "font": {
           "color": "#FFFFFF"
          },
          "showarrow": false,
          "text": "0.23",
          "x": "Speechiness",
          "xref": "x",
          "y": "Tempo",
          "yref": "y"
         },
         {
          "font": {
           "color": "#FFFFFF"
          },
          "showarrow": false,
          "text": "-0.09",
          "x": "Acousticness",
          "xref": "x",
          "y": "Tempo",
          "yref": "y"
         },
         {
          "font": {
           "color": "#FFFFFF"
          },
          "showarrow": false,
          "text": "0.09",
          "x": "Instrumentalness",
          "xref": "x",
          "y": "Tempo",
          "yref": "y"
         },
         {
          "font": {
           "color": "#FFFFFF"
          },
          "showarrow": false,
          "text": "0.06",
          "x": "Liveness",
          "xref": "x",
          "y": "Tempo",
          "yref": "y"
         },
         {
          "font": {
           "color": "#FFFFFF"
          },
          "showarrow": false,
          "text": "0.04",
          "x": "Valence",
          "xref": "x",
          "y": "Tempo",
          "yref": "y"
         },
         {
          "font": {
           "color": "#000000"
          },
          "showarrow": false,
          "text": "1.0",
          "x": "Tempo",
          "xref": "x",
          "y": "Tempo",
          "yref": "y"
         }
        ],
        "font": {
         "color": "#28221D"
        },
        "height": 1000,
        "margin": {
         "t": 18
        },
        "template": {
         "data": {
          "bar": [
           {
            "error_x": {
             "color": "#2a3f5f"
            },
            "error_y": {
             "color": "#2a3f5f"
            },
            "marker": {
             "line": {
              "color": "#E5ECF6",
              "width": 0.5
             },
             "pattern": {
              "fillmode": "overlay",
              "size": 10,
              "solidity": 0.2
             }
            },
            "type": "bar"
           }
          ],
          "barpolar": [
           {
            "marker": {
             "line": {
              "color": "#E5ECF6",
              "width": 0.5
             },
             "pattern": {
              "fillmode": "overlay",
              "size": 10,
              "solidity": 0.2
             }
            },
            "type": "barpolar"
           }
          ],
          "carpet": [
           {
            "aaxis": {
             "endlinecolor": "#2a3f5f",
             "gridcolor": "white",
             "linecolor": "white",
             "minorgridcolor": "white",
             "startlinecolor": "#2a3f5f"
            },
            "baxis": {
             "endlinecolor": "#2a3f5f",
             "gridcolor": "white",
             "linecolor": "white",
             "minorgridcolor": "white",
             "startlinecolor": "#2a3f5f"
            },
            "type": "carpet"
           }
          ],
          "choropleth": [
           {
            "colorbar": {
             "outlinewidth": 0,
             "ticks": ""
            },
            "type": "choropleth"
           }
          ],
          "contour": [
           {
            "colorbar": {
             "outlinewidth": 0,
             "ticks": ""
            },
            "colorscale": [
             [
              0,
              "#0d0887"
             ],
             [
              0.1111111111111111,
              "#46039f"
             ],
             [
              0.2222222222222222,
              "#7201a8"
             ],
             [
              0.3333333333333333,
              "#9c179e"
             ],
             [
              0.4444444444444444,
              "#bd3786"
             ],
             [
              0.5555555555555556,
              "#d8576b"
             ],
             [
              0.6666666666666666,
              "#ed7953"
             ],
             [
              0.7777777777777778,
              "#fb9f3a"
             ],
             [
              0.8888888888888888,
              "#fdca26"
             ],
             [
              1,
              "#f0f921"
             ]
            ],
            "type": "contour"
           }
          ],
          "contourcarpet": [
           {
            "colorbar": {
             "outlinewidth": 0,
             "ticks": ""
            },
            "type": "contourcarpet"
           }
          ],
          "heatmap": [
           {
            "colorbar": {
             "outlinewidth": 0,
             "ticks": ""
            },
            "colorscale": [
             [
              0,
              "#0d0887"
             ],
             [
              0.1111111111111111,
              "#46039f"
             ],
             [
              0.2222222222222222,
              "#7201a8"
             ],
             [
              0.3333333333333333,
              "#9c179e"
             ],
             [
              0.4444444444444444,
              "#bd3786"
             ],
             [
              0.5555555555555556,
              "#d8576b"
             ],
             [
              0.6666666666666666,
              "#ed7953"
             ],
             [
              0.7777777777777778,
              "#fb9f3a"
             ],
             [
              0.8888888888888888,
              "#fdca26"
             ],
             [
              1,
              "#f0f921"
             ]
            ],
            "type": "heatmap"
           }
          ],
          "heatmapgl": [
           {
            "colorbar": {
             "outlinewidth": 0,
             "ticks": ""
            },
            "colorscale": [
             [
              0,
              "#0d0887"
             ],
             [
              0.1111111111111111,
              "#46039f"
             ],
             [
              0.2222222222222222,
              "#7201a8"
             ],
             [
              0.3333333333333333,
              "#9c179e"
             ],
             [
              0.4444444444444444,
              "#bd3786"
             ],
             [
              0.5555555555555556,
              "#d8576b"
             ],
             [
              0.6666666666666666,
              "#ed7953"
             ],
             [
              0.7777777777777778,
              "#fb9f3a"
             ],
             [
              0.8888888888888888,
              "#fdca26"
             ],
             [
              1,
              "#f0f921"
             ]
            ],
            "type": "heatmapgl"
           }
          ],
          "histogram": [
           {
            "marker": {
             "pattern": {
              "fillmode": "overlay",
              "size": 10,
              "solidity": 0.2
             }
            },
            "type": "histogram"
           }
          ],
          "histogram2d": [
           {
            "colorbar": {
             "outlinewidth": 0,
             "ticks": ""
            },
            "colorscale": [
             [
              0,
              "#0d0887"
             ],
             [
              0.1111111111111111,
              "#46039f"
             ],
             [
              0.2222222222222222,
              "#7201a8"
             ],
             [
              0.3333333333333333,
              "#9c179e"
             ],
             [
              0.4444444444444444,
              "#bd3786"
             ],
             [
              0.5555555555555556,
              "#d8576b"
             ],
             [
              0.6666666666666666,
              "#ed7953"
             ],
             [
              0.7777777777777778,
              "#fb9f3a"
             ],
             [
              0.8888888888888888,
              "#fdca26"
             ],
             [
              1,
              "#f0f921"
             ]
            ],
            "type": "histogram2d"
           }
          ],
          "histogram2dcontour": [
           {
            "colorbar": {
             "outlinewidth": 0,
             "ticks": ""
            },
            "colorscale": [
             [
              0,
              "#0d0887"
             ],
             [
              0.1111111111111111,
              "#46039f"
             ],
             [
              0.2222222222222222,
              "#7201a8"
             ],
             [
              0.3333333333333333,
              "#9c179e"
             ],
             [
              0.4444444444444444,
              "#bd3786"
             ],
             [
              0.5555555555555556,
              "#d8576b"
             ],
             [
              0.6666666666666666,
              "#ed7953"
             ],
             [
              0.7777777777777778,
              "#fb9f3a"
             ],
             [
              0.8888888888888888,
              "#fdca26"
             ],
             [
              1,
              "#f0f921"
             ]
            ],
            "type": "histogram2dcontour"
           }
          ],
          "mesh3d": [
           {
            "colorbar": {
             "outlinewidth": 0,
             "ticks": ""
            },
            "type": "mesh3d"
           }
          ],
          "parcoords": [
           {
            "line": {
             "colorbar": {
              "outlinewidth": 0,
              "ticks": ""
             }
            },
            "type": "parcoords"
           }
          ],
          "pie": [
           {
            "automargin": true,
            "type": "pie"
           }
          ],
          "scatter": [
           {
            "fillpattern": {
             "fillmode": "overlay",
             "size": 10,
             "solidity": 0.2
            },
            "type": "scatter"
           }
          ],
          "scatter3d": [
           {
            "line": {
             "colorbar": {
              "outlinewidth": 0,
              "ticks": ""
             }
            },
            "marker": {
             "colorbar": {
              "outlinewidth": 0,
              "ticks": ""
             }
            },
            "type": "scatter3d"
           }
          ],
          "scattercarpet": [
           {
            "marker": {
             "colorbar": {
              "outlinewidth": 0,
              "ticks": ""
             }
            },
            "type": "scattercarpet"
           }
          ],
          "scattergeo": [
           {
            "marker": {
             "colorbar": {
              "outlinewidth": 0,
              "ticks": ""
             }
            },
            "type": "scattergeo"
           }
          ],
          "scattergl": [
           {
            "marker": {
             "colorbar": {
              "outlinewidth": 0,
              "ticks": ""
             }
            },
            "type": "scattergl"
           }
          ],
          "scattermapbox": [
           {
            "marker": {
             "colorbar": {
              "outlinewidth": 0,
              "ticks": ""
             }
            },
            "type": "scattermapbox"
           }
          ],
          "scatterpolar": [
           {
            "marker": {
             "colorbar": {
              "outlinewidth": 0,
              "ticks": ""
             }
            },
            "type": "scatterpolar"
           }
          ],
          "scatterpolargl": [
           {
            "marker": {
             "colorbar": {
              "outlinewidth": 0,
              "ticks": ""
             }
            },
            "type": "scatterpolargl"
           }
          ],
          "scatterternary": [
           {
            "marker": {
             "colorbar": {
              "outlinewidth": 0,
              "ticks": ""
             }
            },
            "type": "scatterternary"
           }
          ],
          "surface": [
           {
            "colorbar": {
             "outlinewidth": 0,
             "ticks": ""
            },
            "colorscale": [
             [
              0,
              "#0d0887"
             ],
             [
              0.1111111111111111,
              "#46039f"
             ],
             [
              0.2222222222222222,
              "#7201a8"
             ],
             [
              0.3333333333333333,
              "#9c179e"
             ],
             [
              0.4444444444444444,
              "#bd3786"
             ],
             [
              0.5555555555555556,
              "#d8576b"
             ],
             [
              0.6666666666666666,
              "#ed7953"
             ],
             [
              0.7777777777777778,
              "#fb9f3a"
             ],
             [
              0.8888888888888888,
              "#fdca26"
             ],
             [
              1,
              "#f0f921"
             ]
            ],
            "type": "surface"
           }
          ],
          "table": [
           {
            "cells": {
             "fill": {
              "color": "#EBF0F8"
             },
             "line": {
              "color": "white"
             }
            },
            "header": {
             "fill": {
              "color": "#C8D4E3"
             },
             "line": {
              "color": "white"
             }
            },
            "type": "table"
           }
          ]
         },
         "layout": {
          "annotationdefaults": {
           "arrowcolor": "#2a3f5f",
           "arrowhead": 0,
           "arrowwidth": 1
          },
          "autotypenumbers": "strict",
          "coloraxis": {
           "colorbar": {
            "outlinewidth": 0,
            "ticks": ""
           }
          },
          "colorscale": {
           "diverging": [
            [
             0,
             "#8e0152"
            ],
            [
             0.1,
             "#c51b7d"
            ],
            [
             0.2,
             "#de77ae"
            ],
            [
             0.3,
             "#f1b6da"
            ],
            [
             0.4,
             "#fde0ef"
            ],
            [
             0.5,
             "#f7f7f7"
            ],
            [
             0.6,
             "#e6f5d0"
            ],
            [
             0.7,
             "#b8e186"
            ],
            [
             0.8,
             "#7fbc41"
            ],
            [
             0.9,
             "#4d9221"
            ],
            [
             1,
             "#276419"
            ]
           ],
           "sequential": [
            [
             0,
             "#0d0887"
            ],
            [
             0.1111111111111111,
             "#46039f"
            ],
            [
             0.2222222222222222,
             "#7201a8"
            ],
            [
             0.3333333333333333,
             "#9c179e"
            ],
            [
             0.4444444444444444,
             "#bd3786"
            ],
            [
             0.5555555555555556,
             "#d8576b"
            ],
            [
             0.6666666666666666,
             "#ed7953"
            ],
            [
             0.7777777777777778,
             "#fb9f3a"
            ],
            [
             0.8888888888888888,
             "#fdca26"
            ],
            [
             1,
             "#f0f921"
            ]
           ],
           "sequentialminus": [
            [
             0,
             "#0d0887"
            ],
            [
             0.1111111111111111,
             "#46039f"
            ],
            [
             0.2222222222222222,
             "#7201a8"
            ],
            [
             0.3333333333333333,
             "#9c179e"
            ],
            [
             0.4444444444444444,
             "#bd3786"
            ],
            [
             0.5555555555555556,
             "#d8576b"
            ],
            [
             0.6666666666666666,
             "#ed7953"
            ],
            [
             0.7777777777777778,
             "#fb9f3a"
            ],
            [
             0.8888888888888888,
             "#fdca26"
            ],
            [
             1,
             "#f0f921"
            ]
           ]
          },
          "colorway": [
           "#636efa",
           "#EF553B",
           "#00cc96",
           "#ab63fa",
           "#FFA15A",
           "#19d3f3",
           "#FF6692",
           "#B6E880",
           "#FF97FF",
           "#FECB52"
          ],
          "font": {
           "color": "#2a3f5f"
          },
          "geo": {
           "bgcolor": "white",
           "lakecolor": "white",
           "landcolor": "#E5ECF6",
           "showlakes": true,
           "showland": true,
           "subunitcolor": "white"
          },
          "hoverlabel": {
           "align": "left"
          },
          "hovermode": "closest",
          "mapbox": {
           "style": "light"
          },
          "paper_bgcolor": "white",
          "plot_bgcolor": "#E5ECF6",
          "polar": {
           "angularaxis": {
            "gridcolor": "white",
            "linecolor": "white",
            "ticks": ""
           },
           "bgcolor": "#E5ECF6",
           "radialaxis": {
            "gridcolor": "white",
            "linecolor": "white",
            "ticks": ""
           }
          },
          "scene": {
           "xaxis": {
            "backgroundcolor": "#E5ECF6",
            "gridcolor": "white",
            "gridwidth": 2,
            "linecolor": "white",
            "showbackground": true,
            "ticks": "",
            "zerolinecolor": "white"
           },
           "yaxis": {
            "backgroundcolor": "#E5ECF6",
            "gridcolor": "white",
            "gridwidth": 2,
            "linecolor": "white",
            "showbackground": true,
            "ticks": "",
            "zerolinecolor": "white"
           },
           "zaxis": {
            "backgroundcolor": "#E5ECF6",
            "gridcolor": "white",
            "gridwidth": 2,
            "linecolor": "white",
            "showbackground": true,
            "ticks": "",
            "zerolinecolor": "white"
           }
          },
          "shapedefaults": {
           "line": {
            "color": "#2a3f5f"
           }
          },
          "ternary": {
           "aaxis": {
            "gridcolor": "white",
            "linecolor": "white",
            "ticks": ""
           },
           "baxis": {
            "gridcolor": "white",
            "linecolor": "white",
            "ticks": ""
           },
           "bgcolor": "#E5ECF6",
           "caxis": {
            "gridcolor": "white",
            "linecolor": "white",
            "ticks": ""
           }
          },
          "title": {
           "x": 0.05
          },
          "xaxis": {
           "automargin": true,
           "gridcolor": "white",
           "linecolor": "white",
           "ticks": "",
           "title": {
            "standoff": 15
           },
           "zerolinecolor": "white",
           "zerolinewidth": 2
          },
          "yaxis": {
           "automargin": true,
           "gridcolor": "white",
           "linecolor": "white",
           "ticks": "",
           "title": {
            "standoff": 15
           },
           "zerolinecolor": "white",
           "zerolinewidth": 2
          }
         }
        },
        "xaxis": {
         "dtick": 1,
         "gridcolor": "rgb(0, 0, 0)",
         "side": "top",
         "ticks": ""
        },
        "yaxis": {
         "dtick": 1,
         "ticks": "",
         "ticksuffix": "  "
        }
       }
      }
     },
     "metadata": {},
     "output_type": "display_data"
    }
   ],
   "source": [
    "corr = data.corr().round(2)\n",
    "\n",
    "x = corr.index.to_list()\n",
    "y = corr.columns.to_list()\n",
    "z = corr.to_numpy()\n",
    "\n",
    "fig16 = ff.create_annotated_heatmap(z=z, x=x, y=y, annotation_text=z, name='')\n",
    "fig16.update_layout(font_color='#28221D', margin=dict(t=18), height=1000)\n",
    "fig16.show()\n"
   ]
  },
  {
   "cell_type": "code",
   "execution_count": 1633,
   "metadata": {},
   "outputs": [
    {
     "data": {
      "application/vnd.plotly.v1+json": {
       "config": {
        "plotlyServerURL": "https://plot.ly"
       },
       "data": [
        {
         "hovertemplate": "Danceability=%{x}<br>Plays=%{y}<extra></extra>",
         "legendgroup": "",
         "marker": {
          "color": "#636efa",
          "symbol": "circle"
         },
         "mode": "markers",
         "name": "",
         "orientation": "v",
         "showlegend": false,
         "type": "scatter",
         "x": [
          0.561,
          0.908,
          0.841,
          0.849,
          0.934,
          0.773,
          0.501,
          0.746,
          0.734,
          0.749,
          0.642,
          0.466,
          0.799,
          0.704,
          0.475,
          0.385,
          0.193,
          0.718,
          0.765,
          0.883,
          0.6,
          0.826,
          0.853,
          0.499,
          0.593,
          0.502,
          0.718,
          0.775,
          0.557,
          0.529,
          0.423,
          0.701,
          0.767,
          0.686,
          0.73,
          0.666,
          0.803,
          0.568,
          0.507,
          0.518,
          0.476,
          0.84,
          0.849,
          0.724,
          0.488,
          0.843,
          0.32,
          0.519,
          0.59,
          0.783,
          0.473,
          0.473,
          0.41,
          0.735,
          0.458,
          0.83,
          0.812,
          0.864,
          0.881,
          0.718,
          0.825,
          0.551,
          0.787,
          0.543,
          0.749,
          0.423,
          0.631,
          0.789,
          0.421,
          0.733,
          0.673,
          0.743,
          0.555,
          0.477,
          0.549,
          0.498,
          0.338,
          0.508,
          0.641,
          0.619,
          0.505,
          0.643,
          0.477,
          0.597,
          0.565,
          0.794,
          0.756,
          0.622,
          0.565,
          0.545,
          0.76,
          0.441,
          0.775,
          0.433,
          0.691,
          0.456,
          0.468,
          0.393,
          0.413,
          0.393,
          0.555,
          0.912,
          0.758,
          0.414,
          0.754,
          0.899,
          0.527,
          0.754,
          0.761,
          0.486,
          0.758,
          0.708,
          0.687,
          0.776,
          0.764,
          0.585,
          0.807,
          0.657,
          0.85,
          0.889,
          0.835,
          0.822,
          0.687,
          0.5,
          0.558,
          0.736,
          0.913,
          0.809,
          0.735,
          0.781,
          0.839,
          0.726,
          0.609,
          0.877,
          0.745,
          0.925,
          0.903,
          0.766,
          0.766,
          0.875,
          0.526,
          0.856,
          0.688,
          0.468,
          0.928,
          0.813,
          0.618,
          0.378,
          0.68,
          0.429,
          0.582,
          0.787,
          0.623,
          0.694,
          0.878,
          0.536,
          0.834,
          0.59,
          0.792,
          0.676,
          0.746,
          0.713,
          0.794,
          0.699,
          0.722,
          0.395,
          0.891,
          0.881,
          0.807,
          0.828,
          0.504,
          0.556,
          0.844,
          0.829,
          0.813,
          0.859,
          0.766,
          0.622,
          0.714,
          0.747,
          0.825,
          0.72,
          0.823,
          0.905,
          0.868,
          0.521,
          0.605,
          0.312,
          0.926,
          0.568,
          0.555,
          0.651,
          0.545,
          0.697,
          0.554,
          0.597,
          0.484,
          0.794,
          0.832,
          0.654,
          0.779,
          0.738,
          0.776,
          0.683,
          0.831,
          0.419,
          0.637,
          0.521,
          0.558,
          0.67,
          0.489,
          0.566,
          0.636,
          0.418,
          0.629,
          0.492,
          0.711,
          0.487,
          0.386,
          0.684,
          0.417,
          0.441,
          0.397,
          0.567,
          0.495,
          0.444,
          0.446,
          0.556,
          0.766,
          0.55,
          0.758,
          0.547,
          0.35,
          0.667,
          0.606,
          0.53,
          0.59,
          0.546,
          0.472,
          0.426,
          0.473,
          0.627,
          0.495
         ],
         "xaxis": "x",
         "y": [
          463655324,
          134609385,
          137344442,
          80148026,
          92548320,
          138636896,
          70293470,
          53310628,
          117259009,
          160380898,
          89443026,
          50230363,
          63497544,
          57308394,
          30366030,
          33648395,
          24368407,
          69736461,
          55320977,
          45583615,
          60353868,
          48942257,
          166348023,
          174859003,
          47997276,
          32267291,
          24174495,
          28720957,
          30954672,
          508089150,
          220411505,
          115627577,
          355987921,
          138120129,
          122738951,
          517341956,
          465563204,
          128978190,
          103986157,
          101035918,
          170747288,
          167683016,
          545288250,
          68954836,
          80547708,
          108599888,
          76333808,
          70029752,
          98164661,
          51562600,
          39760868,
          38975060,
          47335544,
          584668843,
          98552578,
          961536663,
          85424563,
          196839063,
          49530429,
          71655676,
          151595489,
          32691513,
          60515572,
          75370503,
          76362941,
          30538423,
          84976545,
          66710240,
          196352476,
          23649349,
          19295610,
          30995815,
          31912536,
          20837066,
          13697367,
          17316761,
          21251430,
          15582791,
          9504759,
          43702289,
          23378192,
          65723756,
          28511682,
          50897510,
          42527144,
          15896932,
          44704936,
          31069126,
          13052288,
          13463035,
          29636098,
          496427648,
          11860207,
          65334623,
          13677216,
          23927581,
          19717503,
          7724540,
          21918519,
          14580112,
          114479974,
          965929333,
          154756057,
          181069151,
          2169557886,
          396712905,
          115578019,
          339167582,
          190932885,
          110813262,
          103974222,
          74249158,
          90214445,
          106058606,
          153710900,
          1113016827,
          227327806,
          68939634,
          119355445,
          134881928,
          1290100065,
          457123574,
          106683901,
          71754467,
          57102237,
          190402949,
          126260898,
          1286403608,
          123716243,
          240249101,
          146514318,
          227908938,
          145056761,
          341603006,
          83133870,
          528368559,
          141129021,
          87752158,
          526182322,
          164788585,
          80977631,
          93189253,
          75789716,
          77619084,
          899932461,
          113137528,
          353984871,
          91180559,
          132689277,
          119066913,
          309527685,
          171603584,
          101630852,
          161449583,
          178582388,
          91464011,
          271411121,
          746449406,
          2607846326,
          160183185,
          258641914,
          352525069,
          957800485,
          96134317,
          256806599,
          87261682,
          1182189657,
          119890467,
          202106279,
          101009732,
          147493803,
          116091068,
          84683819,
          83960471,
          80977906,
          765718064,
          106444094,
          55507398,
          358330049,
          439535359,
          251709997,
          374636945,
          140845843,
          85598692,
          166027211,
          107074473,
          138088929,
          76288294,
          101652254,
          111845049,
          96612017,
          104172822,
          74053185,
          312909009,
          60586674,
          93408776,
          140219114,
          437406572,
          117289013,
          113409940,
          167400361,
          391645704,
          820185400,
          80992361,
          143817226,
          67039723,
          171870501,
          236872572,
          123780058,
          335659240,
          110104982,
          181614553,
          494559698,
          286760272,
          511423163,
          495596995,
          57193253,
          94008092,
          73332531,
          227508876,
          73534942,
          105247705,
          202169164,
          74299387,
          83736421,
          256832293,
          137138149,
          48057039,
          451094170,
          44260669,
          26132519,
          38257347,
          194804221,
          44581564,
          167972667,
          90984221,
          54323798,
          38868535,
          28557227,
          73921014,
          15793663,
          139514897,
          33594339
         ],
         "yaxis": "y"
        }
       ],
       "layout": {
        "legend": {
         "tracegroupgap": 0
        },
        "margin": {
         "t": 60
        },
        "template": {
         "data": {
          "bar": [
           {
            "error_x": {
             "color": "#2a3f5f"
            },
            "error_y": {
             "color": "#2a3f5f"
            },
            "marker": {
             "line": {
              "color": "#E5ECF6",
              "width": 0.5
             },
             "pattern": {
              "fillmode": "overlay",
              "size": 10,
              "solidity": 0.2
             }
            },
            "type": "bar"
           }
          ],
          "barpolar": [
           {
            "marker": {
             "line": {
              "color": "#E5ECF6",
              "width": 0.5
             },
             "pattern": {
              "fillmode": "overlay",
              "size": 10,
              "solidity": 0.2
             }
            },
            "type": "barpolar"
           }
          ],
          "carpet": [
           {
            "aaxis": {
             "endlinecolor": "#2a3f5f",
             "gridcolor": "white",
             "linecolor": "white",
             "minorgridcolor": "white",
             "startlinecolor": "#2a3f5f"
            },
            "baxis": {
             "endlinecolor": "#2a3f5f",
             "gridcolor": "white",
             "linecolor": "white",
             "minorgridcolor": "white",
             "startlinecolor": "#2a3f5f"
            },
            "type": "carpet"
           }
          ],
          "choropleth": [
           {
            "colorbar": {
             "outlinewidth": 0,
             "ticks": ""
            },
            "type": "choropleth"
           }
          ],
          "contour": [
           {
            "colorbar": {
             "outlinewidth": 0,
             "ticks": ""
            },
            "colorscale": [
             [
              0,
              "#0d0887"
             ],
             [
              0.1111111111111111,
              "#46039f"
             ],
             [
              0.2222222222222222,
              "#7201a8"
             ],
             [
              0.3333333333333333,
              "#9c179e"
             ],
             [
              0.4444444444444444,
              "#bd3786"
             ],
             [
              0.5555555555555556,
              "#d8576b"
             ],
             [
              0.6666666666666666,
              "#ed7953"
             ],
             [
              0.7777777777777778,
              "#fb9f3a"
             ],
             [
              0.8888888888888888,
              "#fdca26"
             ],
             [
              1,
              "#f0f921"
             ]
            ],
            "type": "contour"
           }
          ],
          "contourcarpet": [
           {
            "colorbar": {
             "outlinewidth": 0,
             "ticks": ""
            },
            "type": "contourcarpet"
           }
          ],
          "heatmap": [
           {
            "colorbar": {
             "outlinewidth": 0,
             "ticks": ""
            },
            "colorscale": [
             [
              0,
              "#0d0887"
             ],
             [
              0.1111111111111111,
              "#46039f"
             ],
             [
              0.2222222222222222,
              "#7201a8"
             ],
             [
              0.3333333333333333,
              "#9c179e"
             ],
             [
              0.4444444444444444,
              "#bd3786"
             ],
             [
              0.5555555555555556,
              "#d8576b"
             ],
             [
              0.6666666666666666,
              "#ed7953"
             ],
             [
              0.7777777777777778,
              "#fb9f3a"
             ],
             [
              0.8888888888888888,
              "#fdca26"
             ],
             [
              1,
              "#f0f921"
             ]
            ],
            "type": "heatmap"
           }
          ],
          "heatmapgl": [
           {
            "colorbar": {
             "outlinewidth": 0,
             "ticks": ""
            },
            "colorscale": [
             [
              0,
              "#0d0887"
             ],
             [
              0.1111111111111111,
              "#46039f"
             ],
             [
              0.2222222222222222,
              "#7201a8"
             ],
             [
              0.3333333333333333,
              "#9c179e"
             ],
             [
              0.4444444444444444,
              "#bd3786"
             ],
             [
              0.5555555555555556,
              "#d8576b"
             ],
             [
              0.6666666666666666,
              "#ed7953"
             ],
             [
              0.7777777777777778,
              "#fb9f3a"
             ],
             [
              0.8888888888888888,
              "#fdca26"
             ],
             [
              1,
              "#f0f921"
             ]
            ],
            "type": "heatmapgl"
           }
          ],
          "histogram": [
           {
            "marker": {
             "pattern": {
              "fillmode": "overlay",
              "size": 10,
              "solidity": 0.2
             }
            },
            "type": "histogram"
           }
          ],
          "histogram2d": [
           {
            "colorbar": {
             "outlinewidth": 0,
             "ticks": ""
            },
            "colorscale": [
             [
              0,
              "#0d0887"
             ],
             [
              0.1111111111111111,
              "#46039f"
             ],
             [
              0.2222222222222222,
              "#7201a8"
             ],
             [
              0.3333333333333333,
              "#9c179e"
             ],
             [
              0.4444444444444444,
              "#bd3786"
             ],
             [
              0.5555555555555556,
              "#d8576b"
             ],
             [
              0.6666666666666666,
              "#ed7953"
             ],
             [
              0.7777777777777778,
              "#fb9f3a"
             ],
             [
              0.8888888888888888,
              "#fdca26"
             ],
             [
              1,
              "#f0f921"
             ]
            ],
            "type": "histogram2d"
           }
          ],
          "histogram2dcontour": [
           {
            "colorbar": {
             "outlinewidth": 0,
             "ticks": ""
            },
            "colorscale": [
             [
              0,
              "#0d0887"
             ],
             [
              0.1111111111111111,
              "#46039f"
             ],
             [
              0.2222222222222222,
              "#7201a8"
             ],
             [
              0.3333333333333333,
              "#9c179e"
             ],
             [
              0.4444444444444444,
              "#bd3786"
             ],
             [
              0.5555555555555556,
              "#d8576b"
             ],
             [
              0.6666666666666666,
              "#ed7953"
             ],
             [
              0.7777777777777778,
              "#fb9f3a"
             ],
             [
              0.8888888888888888,
              "#fdca26"
             ],
             [
              1,
              "#f0f921"
             ]
            ],
            "type": "histogram2dcontour"
           }
          ],
          "mesh3d": [
           {
            "colorbar": {
             "outlinewidth": 0,
             "ticks": ""
            },
            "type": "mesh3d"
           }
          ],
          "parcoords": [
           {
            "line": {
             "colorbar": {
              "outlinewidth": 0,
              "ticks": ""
             }
            },
            "type": "parcoords"
           }
          ],
          "pie": [
           {
            "automargin": true,
            "type": "pie"
           }
          ],
          "scatter": [
           {
            "fillpattern": {
             "fillmode": "overlay",
             "size": 10,
             "solidity": 0.2
            },
            "type": "scatter"
           }
          ],
          "scatter3d": [
           {
            "line": {
             "colorbar": {
              "outlinewidth": 0,
              "ticks": ""
             }
            },
            "marker": {
             "colorbar": {
              "outlinewidth": 0,
              "ticks": ""
             }
            },
            "type": "scatter3d"
           }
          ],
          "scattercarpet": [
           {
            "marker": {
             "colorbar": {
              "outlinewidth": 0,
              "ticks": ""
             }
            },
            "type": "scattercarpet"
           }
          ],
          "scattergeo": [
           {
            "marker": {
             "colorbar": {
              "outlinewidth": 0,
              "ticks": ""
             }
            },
            "type": "scattergeo"
           }
          ],
          "scattergl": [
           {
            "marker": {
             "colorbar": {
              "outlinewidth": 0,
              "ticks": ""
             }
            },
            "type": "scattergl"
           }
          ],
          "scattermapbox": [
           {
            "marker": {
             "colorbar": {
              "outlinewidth": 0,
              "ticks": ""
             }
            },
            "type": "scattermapbox"
           }
          ],
          "scatterpolar": [
           {
            "marker": {
             "colorbar": {
              "outlinewidth": 0,
              "ticks": ""
             }
            },
            "type": "scatterpolar"
           }
          ],
          "scatterpolargl": [
           {
            "marker": {
             "colorbar": {
              "outlinewidth": 0,
              "ticks": ""
             }
            },
            "type": "scatterpolargl"
           }
          ],
          "scatterternary": [
           {
            "marker": {
             "colorbar": {
              "outlinewidth": 0,
              "ticks": ""
             }
            },
            "type": "scatterternary"
           }
          ],
          "surface": [
           {
            "colorbar": {
             "outlinewidth": 0,
             "ticks": ""
            },
            "colorscale": [
             [
              0,
              "#0d0887"
             ],
             [
              0.1111111111111111,
              "#46039f"
             ],
             [
              0.2222222222222222,
              "#7201a8"
             ],
             [
              0.3333333333333333,
              "#9c179e"
             ],
             [
              0.4444444444444444,
              "#bd3786"
             ],
             [
              0.5555555555555556,
              "#d8576b"
             ],
             [
              0.6666666666666666,
              "#ed7953"
             ],
             [
              0.7777777777777778,
              "#fb9f3a"
             ],
             [
              0.8888888888888888,
              "#fdca26"
             ],
             [
              1,
              "#f0f921"
             ]
            ],
            "type": "surface"
           }
          ],
          "table": [
           {
            "cells": {
             "fill": {
              "color": "#EBF0F8"
             },
             "line": {
              "color": "white"
             }
            },
            "header": {
             "fill": {
              "color": "#C8D4E3"
             },
             "line": {
              "color": "white"
             }
            },
            "type": "table"
           }
          ]
         },
         "layout": {
          "annotationdefaults": {
           "arrowcolor": "#2a3f5f",
           "arrowhead": 0,
           "arrowwidth": 1
          },
          "autotypenumbers": "strict",
          "coloraxis": {
           "colorbar": {
            "outlinewidth": 0,
            "ticks": ""
           }
          },
          "colorscale": {
           "diverging": [
            [
             0,
             "#8e0152"
            ],
            [
             0.1,
             "#c51b7d"
            ],
            [
             0.2,
             "#de77ae"
            ],
            [
             0.3,
             "#f1b6da"
            ],
            [
             0.4,
             "#fde0ef"
            ],
            [
             0.5,
             "#f7f7f7"
            ],
            [
             0.6,
             "#e6f5d0"
            ],
            [
             0.7,
             "#b8e186"
            ],
            [
             0.8,
             "#7fbc41"
            ],
            [
             0.9,
             "#4d9221"
            ],
            [
             1,
             "#276419"
            ]
           ],
           "sequential": [
            [
             0,
             "#0d0887"
            ],
            [
             0.1111111111111111,
             "#46039f"
            ],
            [
             0.2222222222222222,
             "#7201a8"
            ],
            [
             0.3333333333333333,
             "#9c179e"
            ],
            [
             0.4444444444444444,
             "#bd3786"
            ],
            [
             0.5555555555555556,
             "#d8576b"
            ],
            [
             0.6666666666666666,
             "#ed7953"
            ],
            [
             0.7777777777777778,
             "#fb9f3a"
            ],
            [
             0.8888888888888888,
             "#fdca26"
            ],
            [
             1,
             "#f0f921"
            ]
           ],
           "sequentialminus": [
            [
             0,
             "#0d0887"
            ],
            [
             0.1111111111111111,
             "#46039f"
            ],
            [
             0.2222222222222222,
             "#7201a8"
            ],
            [
             0.3333333333333333,
             "#9c179e"
            ],
            [
             0.4444444444444444,
             "#bd3786"
            ],
            [
             0.5555555555555556,
             "#d8576b"
            ],
            [
             0.6666666666666666,
             "#ed7953"
            ],
            [
             0.7777777777777778,
             "#fb9f3a"
            ],
            [
             0.8888888888888888,
             "#fdca26"
            ],
            [
             1,
             "#f0f921"
            ]
           ]
          },
          "colorway": [
           "#636efa",
           "#EF553B",
           "#00cc96",
           "#ab63fa",
           "#FFA15A",
           "#19d3f3",
           "#FF6692",
           "#B6E880",
           "#FF97FF",
           "#FECB52"
          ],
          "font": {
           "color": "#2a3f5f"
          },
          "geo": {
           "bgcolor": "white",
           "lakecolor": "white",
           "landcolor": "#E5ECF6",
           "showlakes": true,
           "showland": true,
           "subunitcolor": "white"
          },
          "hoverlabel": {
           "align": "left"
          },
          "hovermode": "closest",
          "mapbox": {
           "style": "light"
          },
          "paper_bgcolor": "white",
          "plot_bgcolor": "#E5ECF6",
          "polar": {
           "angularaxis": {
            "gridcolor": "white",
            "linecolor": "white",
            "ticks": ""
           },
           "bgcolor": "#E5ECF6",
           "radialaxis": {
            "gridcolor": "white",
            "linecolor": "white",
            "ticks": ""
           }
          },
          "scene": {
           "xaxis": {
            "backgroundcolor": "#E5ECF6",
            "gridcolor": "white",
            "gridwidth": 2,
            "linecolor": "white",
            "showbackground": true,
            "ticks": "",
            "zerolinecolor": "white"
           },
           "yaxis": {
            "backgroundcolor": "#E5ECF6",
            "gridcolor": "white",
            "gridwidth": 2,
            "linecolor": "white",
            "showbackground": true,
            "ticks": "",
            "zerolinecolor": "white"
           },
           "zaxis": {
            "backgroundcolor": "#E5ECF6",
            "gridcolor": "white",
            "gridwidth": 2,
            "linecolor": "white",
            "showbackground": true,
            "ticks": "",
            "zerolinecolor": "white"
           }
          },
          "shapedefaults": {
           "line": {
            "color": "#2a3f5f"
           }
          },
          "ternary": {
           "aaxis": {
            "gridcolor": "white",
            "linecolor": "white",
            "ticks": ""
           },
           "baxis": {
            "gridcolor": "white",
            "linecolor": "white",
            "ticks": ""
           },
           "bgcolor": "#E5ECF6",
           "caxis": {
            "gridcolor": "white",
            "linecolor": "white",
            "ticks": ""
           }
          },
          "title": {
           "x": 0.05
          },
          "xaxis": {
           "automargin": true,
           "gridcolor": "white",
           "linecolor": "white",
           "ticks": "",
           "title": {
            "standoff": 15
           },
           "zerolinecolor": "white",
           "zerolinewidth": 2
          },
          "yaxis": {
           "automargin": true,
           "gridcolor": "white",
           "linecolor": "white",
           "ticks": "",
           "title": {
            "standoff": 15
           },
           "zerolinecolor": "white",
           "zerolinewidth": 2
          }
         }
        },
        "xaxis": {
         "anchor": "y",
         "domain": [
          0,
          1
         ],
         "title": {
          "text": "Danceability"
         }
        },
        "yaxis": {
         "anchor": "x",
         "domain": [
          0,
          1
         ],
         "title": {
          "text": "Plays"
         }
        }
       }
      }
     },
     "metadata": {},
     "output_type": "display_data"
    }
   ],
   "source": [
    "figgg = px.scatter(data, x='Danceability', y='Plays')\n",
    "\n",
    "figgg.show()"
   ]
  },
  {
   "attachments": {},
   "cell_type": "markdown",
   "metadata": {},
   "source": [
    "# Developing Personalized Playlist"
   ]
  },
  {
   "cell_type": "markdown",
   "metadata": {},
   "source": []
  },
  {
   "attachments": {},
   "cell_type": "markdown",
   "metadata": {},
   "source": [
    "I originally had the intent of analyzing his discography, but I figured that with this data available, I could create custom "
   ]
  },
  {
   "cell_type": "code",
   "execution_count": 1466,
   "metadata": {},
   "outputs": [
    {
     "data": {
      "text/plain": [
       "Index(['Album', 'Release Date', 'Release Year', 'Release Month',\n",
       "       'Release Month (Name)', 'Release Day', 'Release Day (Name)', 'Album ID',\n",
       "       'Number of Album Songs', 'Song Name', 'Plays', 'Artist', 'Song ID',\n",
       "       'Track Duration', 'Track Duration (Minutes)',\n",
       "       'Track Duration (Seconds)', 'Track Number', 'Number of Artists',\n",
       "       'Danceability', 'Energy', 'Key', 'Loudness', 'Speechiness',\n",
       "       'Acousticness', 'Instrumentalness', 'Liveness', 'Valence', 'Tempo',\n",
       "       'Artist 1', 'Artist 2', 'Artist 3'],\n",
       "      dtype='object')"
      ]
     },
     "execution_count": 1466,
     "metadata": {},
     "output_type": "execute_result"
    }
   ],
   "source": [
    "data.columns"
   ]
  },
  {
   "cell_type": "code",
   "execution_count": 1608,
   "metadata": {},
   "outputs": [
    {
     "data": {
      "text/html": [
       "<div>\n",
       "<style scoped>\n",
       "    .dataframe tbody tr th:only-of-type {\n",
       "        vertical-align: middle;\n",
       "    }\n",
       "\n",
       "    .dataframe tbody tr th {\n",
       "        vertical-align: top;\n",
       "    }\n",
       "\n",
       "    .dataframe thead th {\n",
       "        text-align: right;\n",
       "    }\n",
       "</style>\n",
       "<table border=\"1\" class=\"dataframe\">\n",
       "  <thead>\n",
       "    <tr style=\"text-align: right;\">\n",
       "      <th></th>\n",
       "      <th>Album</th>\n",
       "      <th>Release Date</th>\n",
       "      <th>Release Year</th>\n",
       "      <th>Release Month</th>\n",
       "      <th>Release Month (Name)</th>\n",
       "      <th>Release Day</th>\n",
       "      <th>Release Day (Name)</th>\n",
       "      <th>Album ID</th>\n",
       "      <th>Number of Album Songs</th>\n",
       "      <th>Song Name</th>\n",
       "      <th>Plays</th>\n",
       "      <th>Artist</th>\n",
       "      <th>Song ID</th>\n",
       "      <th>Track Duration</th>\n",
       "      <th>Track Duration (Minutes)</th>\n",
       "      <th>Track Duration (Seconds)</th>\n",
       "      <th>Track Number</th>\n",
       "      <th>Number of Artists</th>\n",
       "      <th>Danceability</th>\n",
       "      <th>Energy</th>\n",
       "      <th>Key</th>\n",
       "      <th>Loudness</th>\n",
       "      <th>Speechiness</th>\n",
       "      <th>Acousticness</th>\n",
       "      <th>Instrumentalness</th>\n",
       "      <th>Liveness</th>\n",
       "      <th>Valence</th>\n",
       "      <th>Tempo</th>\n",
       "      <th>Artist 1</th>\n",
       "      <th>Artist 2</th>\n",
       "      <th>Artist 3</th>\n",
       "    </tr>\n",
       "  </thead>\n",
       "  <tbody>\n",
       "    <tr>\n",
       "      <th>0</th>\n",
       "      <td>Her Loss</td>\n",
       "      <td>11/4/22</td>\n",
       "      <td>2022</td>\n",
       "      <td>11</td>\n",
       "      <td>November</td>\n",
       "      <td>4</td>\n",
       "      <td>Friday</td>\n",
       "      <td>5MS3MvWHJ3lOZPLiMxzOU6</td>\n",
       "      <td>16</td>\n",
       "      <td>Rich Flex</td>\n",
       "      <td>463655324</td>\n",
       "      <td>Drake,21 Savage</td>\n",
       "      <td>1bDbXMyjaUIooNwFE9wn0N</td>\n",
       "      <td>3:59</td>\n",
       "      <td>3</td>\n",
       "      <td>59</td>\n",
       "      <td>1</td>\n",
       "      <td>2</td>\n",
       "      <td>0.561</td>\n",
       "      <td>0.520</td>\n",
       "      <td>11</td>\n",
       "      <td>-9.342</td>\n",
       "      <td>0.2440</td>\n",
       "      <td>0.05030</td>\n",
       "      <td>0.000000</td>\n",
       "      <td>0.3550</td>\n",
       "      <td>0.424</td>\n",
       "      <td>153.150</td>\n",
       "      <td>Drake</td>\n",
       "      <td>21 Savage</td>\n",
       "      <td>NaN</td>\n",
       "    </tr>\n",
       "    <tr>\n",
       "      <th>1</th>\n",
       "      <td>Her Loss</td>\n",
       "      <td>11/4/22</td>\n",
       "      <td>2022</td>\n",
       "      <td>11</td>\n",
       "      <td>November</td>\n",
       "      <td>4</td>\n",
       "      <td>Friday</td>\n",
       "      <td>5MS3MvWHJ3lOZPLiMxzOU6</td>\n",
       "      <td>16</td>\n",
       "      <td>Major Distribution</td>\n",
       "      <td>134609385</td>\n",
       "      <td>Drake,21 Savage</td>\n",
       "      <td>46s57QULU02Voy0Kup6UEb</td>\n",
       "      <td>2:50</td>\n",
       "      <td>2</td>\n",
       "      <td>50</td>\n",
       "      <td>2</td>\n",
       "      <td>2</td>\n",
       "      <td>0.908</td>\n",
       "      <td>0.546</td>\n",
       "      <td>8</td>\n",
       "      <td>-10.491</td>\n",
       "      <td>0.3230</td>\n",
       "      <td>0.01270</td>\n",
       "      <td>0.000000</td>\n",
       "      <td>0.0707</td>\n",
       "      <td>0.225</td>\n",
       "      <td>131.016</td>\n",
       "      <td>Drake</td>\n",
       "      <td>21 Savage</td>\n",
       "      <td>NaN</td>\n",
       "    </tr>\n",
       "    <tr>\n",
       "      <th>2</th>\n",
       "      <td>Her Loss</td>\n",
       "      <td>11/4/22</td>\n",
       "      <td>2022</td>\n",
       "      <td>11</td>\n",
       "      <td>November</td>\n",
       "      <td>4</td>\n",
       "      <td>Friday</td>\n",
       "      <td>5MS3MvWHJ3lOZPLiMxzOU6</td>\n",
       "      <td>16</td>\n",
       "      <td>On BS</td>\n",
       "      <td>137344442</td>\n",
       "      <td>Drake,21 Savage</td>\n",
       "      <td>34tz0eDhGuFErIuW3q4mPX</td>\n",
       "      <td>4:21</td>\n",
       "      <td>4</td>\n",
       "      <td>21</td>\n",
       "      <td>3</td>\n",
       "      <td>2</td>\n",
       "      <td>0.841</td>\n",
       "      <td>0.358</td>\n",
       "      <td>9</td>\n",
       "      <td>-8.368</td>\n",
       "      <td>0.5910</td>\n",
       "      <td>0.02010</td>\n",
       "      <td>0.000000</td>\n",
       "      <td>0.3900</td>\n",
       "      <td>0.329</td>\n",
       "      <td>158.014</td>\n",
       "      <td>Drake</td>\n",
       "      <td>21 Savage</td>\n",
       "      <td>NaN</td>\n",
       "    </tr>\n",
       "    <tr>\n",
       "      <th>3</th>\n",
       "      <td>Her Loss</td>\n",
       "      <td>11/4/22</td>\n",
       "      <td>2022</td>\n",
       "      <td>11</td>\n",
       "      <td>November</td>\n",
       "      <td>4</td>\n",
       "      <td>Friday</td>\n",
       "      <td>5MS3MvWHJ3lOZPLiMxzOU6</td>\n",
       "      <td>16</td>\n",
       "      <td>BackOutsideBoyz</td>\n",
       "      <td>80148026</td>\n",
       "      <td>Drake</td>\n",
       "      <td>0wshkEEcJUQU33RSRBb5dv</td>\n",
       "      <td>2:32</td>\n",
       "      <td>2</td>\n",
       "      <td>32</td>\n",
       "      <td>4</td>\n",
       "      <td>1</td>\n",
       "      <td>0.849</td>\n",
       "      <td>0.433</td>\n",
       "      <td>5</td>\n",
       "      <td>-8.434</td>\n",
       "      <td>0.3160</td>\n",
       "      <td>0.04070</td>\n",
       "      <td>0.000000</td>\n",
       "      <td>0.3880</td>\n",
       "      <td>0.395</td>\n",
       "      <td>142.110</td>\n",
       "      <td>Drake</td>\n",
       "      <td>NaN</td>\n",
       "      <td>NaN</td>\n",
       "    </tr>\n",
       "    <tr>\n",
       "      <th>4</th>\n",
       "      <td>Her Loss</td>\n",
       "      <td>11/4/22</td>\n",
       "      <td>2022</td>\n",
       "      <td>11</td>\n",
       "      <td>November</td>\n",
       "      <td>4</td>\n",
       "      <td>Friday</td>\n",
       "      <td>5MS3MvWHJ3lOZPLiMxzOU6</td>\n",
       "      <td>16</td>\n",
       "      <td>Privileged Rappers</td>\n",
       "      <td>92548320</td>\n",
       "      <td>Drake,21 Savage</td>\n",
       "      <td>7l2nxyx7IkBX5orhkALg0V</td>\n",
       "      <td>2:40</td>\n",
       "      <td>2</td>\n",
       "      <td>40</td>\n",
       "      <td>5</td>\n",
       "      <td>2</td>\n",
       "      <td>0.934</td>\n",
       "      <td>0.614</td>\n",
       "      <td>5</td>\n",
       "      <td>-7.384</td>\n",
       "      <td>0.1980</td>\n",
       "      <td>0.00274</td>\n",
       "      <td>0.000000</td>\n",
       "      <td>0.1230</td>\n",
       "      <td>0.616</td>\n",
       "      <td>144.045</td>\n",
       "      <td>Drake</td>\n",
       "      <td>21 Savage</td>\n",
       "      <td>NaN</td>\n",
       "    </tr>\n",
       "    <tr>\n",
       "      <th>...</th>\n",
       "      <td>...</td>\n",
       "      <td>...</td>\n",
       "      <td>...</td>\n",
       "      <td>...</td>\n",
       "      <td>...</td>\n",
       "      <td>...</td>\n",
       "      <td>...</td>\n",
       "      <td>...</td>\n",
       "      <td>...</td>\n",
       "      <td>...</td>\n",
       "      <td>...</td>\n",
       "      <td>...</td>\n",
       "      <td>...</td>\n",
       "      <td>...</td>\n",
       "      <td>...</td>\n",
       "      <td>...</td>\n",
       "      <td>...</td>\n",
       "      <td>...</td>\n",
       "      <td>...</td>\n",
       "      <td>...</td>\n",
       "      <td>...</td>\n",
       "      <td>...</td>\n",
       "      <td>...</td>\n",
       "      <td>...</td>\n",
       "      <td>...</td>\n",
       "      <td>...</td>\n",
       "      <td>...</td>\n",
       "      <td>...</td>\n",
       "      <td>...</td>\n",
       "      <td>...</td>\n",
       "      <td>...</td>\n",
       "    </tr>\n",
       "    <tr>\n",
       "      <th>238</th>\n",
       "      <td>Thank Me Later</td>\n",
       "      <td>1/1/10</td>\n",
       "      <td>2010</td>\n",
       "      <td>1</td>\n",
       "      <td>January</td>\n",
       "      <td>1</td>\n",
       "      <td>Friday</td>\n",
       "      <td>6jlrjFR9mJV3jd1IPSplXU</td>\n",
       "      <td>14</td>\n",
       "      <td>Light Up</td>\n",
       "      <td>28557227</td>\n",
       "      <td>Drake,JAY-Z</td>\n",
       "      <td>0PWQqF5PvqRq0OPLSH0FKI</td>\n",
       "      <td>4:34</td>\n",
       "      <td>4</td>\n",
       "      <td>34</td>\n",
       "      <td>10</td>\n",
       "      <td>2</td>\n",
       "      <td>0.472</td>\n",
       "      <td>0.908</td>\n",
       "      <td>8</td>\n",
       "      <td>-5.991</td>\n",
       "      <td>0.4500</td>\n",
       "      <td>0.09360</td>\n",
       "      <td>0.000000</td>\n",
       "      <td>0.1500</td>\n",
       "      <td>0.198</td>\n",
       "      <td>172.924</td>\n",
       "      <td>Drake</td>\n",
       "      <td>JAY-Z</td>\n",
       "      <td>NaN</td>\n",
       "    </tr>\n",
       "    <tr>\n",
       "      <th>239</th>\n",
       "      <td>Thank Me Later</td>\n",
       "      <td>1/1/10</td>\n",
       "      <td>2010</td>\n",
       "      <td>1</td>\n",
       "      <td>January</td>\n",
       "      <td>1</td>\n",
       "      <td>Friday</td>\n",
       "      <td>6jlrjFR9mJV3jd1IPSplXU</td>\n",
       "      <td>14</td>\n",
       "      <td>Miss Me</td>\n",
       "      <td>73921014</td>\n",
       "      <td>Drake,Lil Wayne</td>\n",
       "      <td>1U4mweNwisxNj23ffuC9gO</td>\n",
       "      <td>5:05</td>\n",
       "      <td>5</td>\n",
       "      <td>5</td>\n",
       "      <td>11</td>\n",
       "      <td>2</td>\n",
       "      <td>0.426</td>\n",
       "      <td>0.862</td>\n",
       "      <td>2</td>\n",
       "      <td>-5.979</td>\n",
       "      <td>0.5970</td>\n",
       "      <td>0.08130</td>\n",
       "      <td>0.000000</td>\n",
       "      <td>0.3400</td>\n",
       "      <td>0.332</td>\n",
       "      <td>100.300</td>\n",
       "      <td>Drake</td>\n",
       "      <td>Lil Wayne</td>\n",
       "      <td>NaN</td>\n",
       "    </tr>\n",
       "    <tr>\n",
       "      <th>240</th>\n",
       "      <td>Thank Me Later</td>\n",
       "      <td>1/1/10</td>\n",
       "      <td>2010</td>\n",
       "      <td>1</td>\n",
       "      <td>January</td>\n",
       "      <td>1</td>\n",
       "      <td>Friday</td>\n",
       "      <td>6jlrjFR9mJV3jd1IPSplXU</td>\n",
       "      <td>14</td>\n",
       "      <td>Cece's Interlude</td>\n",
       "      <td>15793663</td>\n",
       "      <td>Drake</td>\n",
       "      <td>2G7QCDuRM7rTj0pX21e0xk</td>\n",
       "      <td>2:34</td>\n",
       "      <td>2</td>\n",
       "      <td>34</td>\n",
       "      <td>12</td>\n",
       "      <td>1</td>\n",
       "      <td>0.473</td>\n",
       "      <td>0.603</td>\n",
       "      <td>9</td>\n",
       "      <td>-6.875</td>\n",
       "      <td>0.0319</td>\n",
       "      <td>0.05490</td>\n",
       "      <td>0.000006</td>\n",
       "      <td>0.1150</td>\n",
       "      <td>0.234</td>\n",
       "      <td>94.984</td>\n",
       "      <td>Drake</td>\n",
       "      <td>NaN</td>\n",
       "      <td>NaN</td>\n",
       "    </tr>\n",
       "    <tr>\n",
       "      <th>241</th>\n",
       "      <td>Thank Me Later</td>\n",
       "      <td>1/1/10</td>\n",
       "      <td>2010</td>\n",
       "      <td>1</td>\n",
       "      <td>January</td>\n",
       "      <td>1</td>\n",
       "      <td>Friday</td>\n",
       "      <td>6jlrjFR9mJV3jd1IPSplXU</td>\n",
       "      <td>14</td>\n",
       "      <td>Find Your Love</td>\n",
       "      <td>139514897</td>\n",
       "      <td>Drake</td>\n",
       "      <td>4BycRneKmOs6MhYG9THsuX</td>\n",
       "      <td>3:28</td>\n",
       "      <td>3</td>\n",
       "      <td>28</td>\n",
       "      <td>13</td>\n",
       "      <td>1</td>\n",
       "      <td>0.627</td>\n",
       "      <td>0.614</td>\n",
       "      <td>6</td>\n",
       "      <td>-6.006</td>\n",
       "      <td>0.1700</td>\n",
       "      <td>0.02110</td>\n",
       "      <td>0.000000</td>\n",
       "      <td>0.0286</td>\n",
       "      <td>0.758</td>\n",
       "      <td>96.038</td>\n",
       "      <td>Drake</td>\n",
       "      <td>NaN</td>\n",
       "      <td>NaN</td>\n",
       "    </tr>\n",
       "    <tr>\n",
       "      <th>242</th>\n",
       "      <td>Thank Me Later</td>\n",
       "      <td>1/1/10</td>\n",
       "      <td>2010</td>\n",
       "      <td>1</td>\n",
       "      <td>January</td>\n",
       "      <td>1</td>\n",
       "      <td>Friday</td>\n",
       "      <td>6jlrjFR9mJV3jd1IPSplXU</td>\n",
       "      <td>14</td>\n",
       "      <td>Thank Me Now</td>\n",
       "      <td>33594339</td>\n",
       "      <td>Drake</td>\n",
       "      <td>3cBUv0RIoEyAm2b7qimEY6</td>\n",
       "      <td>5:28</td>\n",
       "      <td>5</td>\n",
       "      <td>28</td>\n",
       "      <td>14</td>\n",
       "      <td>1</td>\n",
       "      <td>0.495</td>\n",
       "      <td>0.772</td>\n",
       "      <td>8</td>\n",
       "      <td>-4.851</td>\n",
       "      <td>0.4250</td>\n",
       "      <td>0.28200</td>\n",
       "      <td>0.000000</td>\n",
       "      <td>0.1190</td>\n",
       "      <td>0.748</td>\n",
       "      <td>71.295</td>\n",
       "      <td>Drake</td>\n",
       "      <td>NaN</td>\n",
       "      <td>NaN</td>\n",
       "    </tr>\n",
       "  </tbody>\n",
       "</table>\n",
       "<p>243 rows × 31 columns</p>\n",
       "</div>"
      ],
      "text/plain": [
       "              Album Release Date  Release Year  Release Month  \\\n",
       "0          Her Loss      11/4/22          2022             11   \n",
       "1          Her Loss      11/4/22          2022             11   \n",
       "2          Her Loss      11/4/22          2022             11   \n",
       "3          Her Loss      11/4/22          2022             11   \n",
       "4          Her Loss      11/4/22          2022             11   \n",
       "..              ...          ...           ...            ...   \n",
       "238  Thank Me Later       1/1/10          2010              1   \n",
       "239  Thank Me Later       1/1/10          2010              1   \n",
       "240  Thank Me Later       1/1/10          2010              1   \n",
       "241  Thank Me Later       1/1/10          2010              1   \n",
       "242  Thank Me Later       1/1/10          2010              1   \n",
       "\n",
       "    Release Month (Name)  Release Day Release Day (Name)  \\\n",
       "0               November            4             Friday   \n",
       "1               November            4             Friday   \n",
       "2               November            4             Friday   \n",
       "3               November            4             Friday   \n",
       "4               November            4             Friday   \n",
       "..                   ...          ...                ...   \n",
       "238              January            1             Friday   \n",
       "239              January            1             Friday   \n",
       "240              January            1             Friday   \n",
       "241              January            1             Friday   \n",
       "242              January            1             Friday   \n",
       "\n",
       "                   Album ID  Number of Album Songs           Song Name  \\\n",
       "0    5MS3MvWHJ3lOZPLiMxzOU6                     16           Rich Flex   \n",
       "1    5MS3MvWHJ3lOZPLiMxzOU6                     16  Major Distribution   \n",
       "2    5MS3MvWHJ3lOZPLiMxzOU6                     16               On BS   \n",
       "3    5MS3MvWHJ3lOZPLiMxzOU6                     16     BackOutsideBoyz   \n",
       "4    5MS3MvWHJ3lOZPLiMxzOU6                     16  Privileged Rappers   \n",
       "..                      ...                    ...                 ...   \n",
       "238  6jlrjFR9mJV3jd1IPSplXU                     14            Light Up   \n",
       "239  6jlrjFR9mJV3jd1IPSplXU                     14             Miss Me   \n",
       "240  6jlrjFR9mJV3jd1IPSplXU                     14    Cece's Interlude   \n",
       "241  6jlrjFR9mJV3jd1IPSplXU                     14      Find Your Love   \n",
       "242  6jlrjFR9mJV3jd1IPSplXU                     14        Thank Me Now   \n",
       "\n",
       "         Plays           Artist                 Song ID Track Duration  \\\n",
       "0    463655324  Drake,21 Savage  1bDbXMyjaUIooNwFE9wn0N           3:59   \n",
       "1    134609385  Drake,21 Savage  46s57QULU02Voy0Kup6UEb           2:50   \n",
       "2    137344442  Drake,21 Savage  34tz0eDhGuFErIuW3q4mPX           4:21   \n",
       "3     80148026            Drake  0wshkEEcJUQU33RSRBb5dv           2:32   \n",
       "4     92548320  Drake,21 Savage  7l2nxyx7IkBX5orhkALg0V           2:40   \n",
       "..         ...              ...                     ...            ...   \n",
       "238   28557227      Drake,JAY-Z  0PWQqF5PvqRq0OPLSH0FKI           4:34   \n",
       "239   73921014  Drake,Lil Wayne  1U4mweNwisxNj23ffuC9gO           5:05   \n",
       "240   15793663            Drake  2G7QCDuRM7rTj0pX21e0xk           2:34   \n",
       "241  139514897            Drake  4BycRneKmOs6MhYG9THsuX           3:28   \n",
       "242   33594339            Drake  3cBUv0RIoEyAm2b7qimEY6           5:28   \n",
       "\n",
       "     Track Duration (Minutes)  Track Duration (Seconds)  Track Number  \\\n",
       "0                           3                        59             1   \n",
       "1                           2                        50             2   \n",
       "2                           4                        21             3   \n",
       "3                           2                        32             4   \n",
       "4                           2                        40             5   \n",
       "..                        ...                       ...           ...   \n",
       "238                         4                        34            10   \n",
       "239                         5                         5            11   \n",
       "240                         2                        34            12   \n",
       "241                         3                        28            13   \n",
       "242                         5                        28            14   \n",
       "\n",
       "     Number of Artists  Danceability  Energy  Key  Loudness  Speechiness  \\\n",
       "0                    2         0.561   0.520   11    -9.342       0.2440   \n",
       "1                    2         0.908   0.546    8   -10.491       0.3230   \n",
       "2                    2         0.841   0.358    9    -8.368       0.5910   \n",
       "3                    1         0.849   0.433    5    -8.434       0.3160   \n",
       "4                    2         0.934   0.614    5    -7.384       0.1980   \n",
       "..                 ...           ...     ...  ...       ...          ...   \n",
       "238                  2         0.472   0.908    8    -5.991       0.4500   \n",
       "239                  2         0.426   0.862    2    -5.979       0.5970   \n",
       "240                  1         0.473   0.603    9    -6.875       0.0319   \n",
       "241                  1         0.627   0.614    6    -6.006       0.1700   \n",
       "242                  1         0.495   0.772    8    -4.851       0.4250   \n",
       "\n",
       "     Acousticness  Instrumentalness  Liveness  Valence    Tempo Artist 1  \\\n",
       "0         0.05030          0.000000    0.3550    0.424  153.150    Drake   \n",
       "1         0.01270          0.000000    0.0707    0.225  131.016    Drake   \n",
       "2         0.02010          0.000000    0.3900    0.329  158.014    Drake   \n",
       "3         0.04070          0.000000    0.3880    0.395  142.110    Drake   \n",
       "4         0.00274          0.000000    0.1230    0.616  144.045    Drake   \n",
       "..            ...               ...       ...      ...      ...      ...   \n",
       "238       0.09360          0.000000    0.1500    0.198  172.924    Drake   \n",
       "239       0.08130          0.000000    0.3400    0.332  100.300    Drake   \n",
       "240       0.05490          0.000006    0.1150    0.234   94.984    Drake   \n",
       "241       0.02110          0.000000    0.0286    0.758   96.038    Drake   \n",
       "242       0.28200          0.000000    0.1190    0.748   71.295    Drake   \n",
       "\n",
       "      Artist 2 Artist 3  \n",
       "0    21 Savage      NaN  \n",
       "1    21 Savage      NaN  \n",
       "2    21 Savage      NaN  \n",
       "3          NaN      NaN  \n",
       "4    21 Savage      NaN  \n",
       "..         ...      ...  \n",
       "238      JAY-Z      NaN  \n",
       "239  Lil Wayne      NaN  \n",
       "240        NaN      NaN  \n",
       "241        NaN      NaN  \n",
       "242        NaN      NaN  \n",
       "\n",
       "[243 rows x 31 columns]"
      ]
     },
     "execution_count": 1608,
     "metadata": {},
     "output_type": "execute_result"
    }
   ],
   "source": [
    "data"
   ]
  },
  {
   "cell_type": "code",
   "execution_count": 1642,
   "metadata": {},
   "outputs": [
    {
     "data": {
      "text/html": [
       "<div>\n",
       "<style scoped>\n",
       "    .dataframe tbody tr th:only-of-type {\n",
       "        vertical-align: middle;\n",
       "    }\n",
       "\n",
       "    .dataframe tbody tr th {\n",
       "        vertical-align: top;\n",
       "    }\n",
       "\n",
       "    .dataframe thead th {\n",
       "        text-align: right;\n",
       "    }\n",
       "</style>\n",
       "<table border=\"1\" class=\"dataframe\">\n",
       "  <thead>\n",
       "    <tr style=\"text-align: right;\">\n",
       "      <th></th>\n",
       "      <th>Danceability</th>\n",
       "      <th>Energy</th>\n",
       "      <th>Key</th>\n",
       "      <th>Loudness</th>\n",
       "      <th>Speechiness</th>\n",
       "      <th>Acousticness</th>\n",
       "      <th>Instrumentalness</th>\n",
       "      <th>Liveness</th>\n",
       "      <th>Valence</th>\n",
       "      <th>Tempo</th>\n",
       "    </tr>\n",
       "  </thead>\n",
       "  <tbody>\n",
       "    <tr>\n",
       "      <th>0</th>\n",
       "      <td>0.561</td>\n",
       "      <td>0.520</td>\n",
       "      <td>11</td>\n",
       "      <td>-9.342</td>\n",
       "      <td>0.2440</td>\n",
       "      <td>0.05030</td>\n",
       "      <td>0.000000</td>\n",
       "      <td>0.3550</td>\n",
       "      <td>0.424</td>\n",
       "      <td>153.150</td>\n",
       "    </tr>\n",
       "    <tr>\n",
       "      <th>1</th>\n",
       "      <td>0.908</td>\n",
       "      <td>0.546</td>\n",
       "      <td>8</td>\n",
       "      <td>-10.491</td>\n",
       "      <td>0.3230</td>\n",
       "      <td>0.01270</td>\n",
       "      <td>0.000000</td>\n",
       "      <td>0.0707</td>\n",
       "      <td>0.225</td>\n",
       "      <td>131.016</td>\n",
       "    </tr>\n",
       "    <tr>\n",
       "      <th>2</th>\n",
       "      <td>0.841</td>\n",
       "      <td>0.358</td>\n",
       "      <td>9</td>\n",
       "      <td>-8.368</td>\n",
       "      <td>0.5910</td>\n",
       "      <td>0.02010</td>\n",
       "      <td>0.000000</td>\n",
       "      <td>0.3900</td>\n",
       "      <td>0.329</td>\n",
       "      <td>158.014</td>\n",
       "    </tr>\n",
       "    <tr>\n",
       "      <th>3</th>\n",
       "      <td>0.849</td>\n",
       "      <td>0.433</td>\n",
       "      <td>5</td>\n",
       "      <td>-8.434</td>\n",
       "      <td>0.3160</td>\n",
       "      <td>0.04070</td>\n",
       "      <td>0.000000</td>\n",
       "      <td>0.3880</td>\n",
       "      <td>0.395</td>\n",
       "      <td>142.110</td>\n",
       "    </tr>\n",
       "    <tr>\n",
       "      <th>4</th>\n",
       "      <td>0.934</td>\n",
       "      <td>0.614</td>\n",
       "      <td>5</td>\n",
       "      <td>-7.384</td>\n",
       "      <td>0.1980</td>\n",
       "      <td>0.00274</td>\n",
       "      <td>0.000000</td>\n",
       "      <td>0.1230</td>\n",
       "      <td>0.616</td>\n",
       "      <td>144.045</td>\n",
       "    </tr>\n",
       "    <tr>\n",
       "      <th>...</th>\n",
       "      <td>...</td>\n",
       "      <td>...</td>\n",
       "      <td>...</td>\n",
       "      <td>...</td>\n",
       "      <td>...</td>\n",
       "      <td>...</td>\n",
       "      <td>...</td>\n",
       "      <td>...</td>\n",
       "      <td>...</td>\n",
       "      <td>...</td>\n",
       "    </tr>\n",
       "    <tr>\n",
       "      <th>238</th>\n",
       "      <td>0.472</td>\n",
       "      <td>0.908</td>\n",
       "      <td>8</td>\n",
       "      <td>-5.991</td>\n",
       "      <td>0.4500</td>\n",
       "      <td>0.09360</td>\n",
       "      <td>0.000000</td>\n",
       "      <td>0.1500</td>\n",
       "      <td>0.198</td>\n",
       "      <td>172.924</td>\n",
       "    </tr>\n",
       "    <tr>\n",
       "      <th>239</th>\n",
       "      <td>0.426</td>\n",
       "      <td>0.862</td>\n",
       "      <td>2</td>\n",
       "      <td>-5.979</td>\n",
       "      <td>0.5970</td>\n",
       "      <td>0.08130</td>\n",
       "      <td>0.000000</td>\n",
       "      <td>0.3400</td>\n",
       "      <td>0.332</td>\n",
       "      <td>100.300</td>\n",
       "    </tr>\n",
       "    <tr>\n",
       "      <th>240</th>\n",
       "      <td>0.473</td>\n",
       "      <td>0.603</td>\n",
       "      <td>9</td>\n",
       "      <td>-6.875</td>\n",
       "      <td>0.0319</td>\n",
       "      <td>0.05490</td>\n",
       "      <td>0.000006</td>\n",
       "      <td>0.1150</td>\n",
       "      <td>0.234</td>\n",
       "      <td>94.984</td>\n",
       "    </tr>\n",
       "    <tr>\n",
       "      <th>241</th>\n",
       "      <td>0.627</td>\n",
       "      <td>0.614</td>\n",
       "      <td>6</td>\n",
       "      <td>-6.006</td>\n",
       "      <td>0.1700</td>\n",
       "      <td>0.02110</td>\n",
       "      <td>0.000000</td>\n",
       "      <td>0.0286</td>\n",
       "      <td>0.758</td>\n",
       "      <td>96.038</td>\n",
       "    </tr>\n",
       "    <tr>\n",
       "      <th>242</th>\n",
       "      <td>0.495</td>\n",
       "      <td>0.772</td>\n",
       "      <td>8</td>\n",
       "      <td>-4.851</td>\n",
       "      <td>0.4250</td>\n",
       "      <td>0.28200</td>\n",
       "      <td>0.000000</td>\n",
       "      <td>0.1190</td>\n",
       "      <td>0.748</td>\n",
       "      <td>71.295</td>\n",
       "    </tr>\n",
       "  </tbody>\n",
       "</table>\n",
       "<p>243 rows × 10 columns</p>\n",
       "</div>"
      ],
      "text/plain": [
       "     Danceability  Energy  Key  Loudness  Speechiness  Acousticness  \\\n",
       "0           0.561   0.520   11    -9.342       0.2440       0.05030   \n",
       "1           0.908   0.546    8   -10.491       0.3230       0.01270   \n",
       "2           0.841   0.358    9    -8.368       0.5910       0.02010   \n",
       "3           0.849   0.433    5    -8.434       0.3160       0.04070   \n",
       "4           0.934   0.614    5    -7.384       0.1980       0.00274   \n",
       "..            ...     ...  ...       ...          ...           ...   \n",
       "238         0.472   0.908    8    -5.991       0.4500       0.09360   \n",
       "239         0.426   0.862    2    -5.979       0.5970       0.08130   \n",
       "240         0.473   0.603    9    -6.875       0.0319       0.05490   \n",
       "241         0.627   0.614    6    -6.006       0.1700       0.02110   \n",
       "242         0.495   0.772    8    -4.851       0.4250       0.28200   \n",
       "\n",
       "     Instrumentalness  Liveness  Valence    Tempo  \n",
       "0            0.000000    0.3550    0.424  153.150  \n",
       "1            0.000000    0.0707    0.225  131.016  \n",
       "2            0.000000    0.3900    0.329  158.014  \n",
       "3            0.000000    0.3880    0.395  142.110  \n",
       "4            0.000000    0.1230    0.616  144.045  \n",
       "..                ...       ...      ...      ...  \n",
       "238          0.000000    0.1500    0.198  172.924  \n",
       "239          0.000000    0.3400    0.332  100.300  \n",
       "240          0.000006    0.1150    0.234   94.984  \n",
       "241          0.000000    0.0286    0.758   96.038  \n",
       "242          0.000000    0.1190    0.748   71.295  \n",
       "\n",
       "[243 rows x 10 columns]"
      ]
     },
     "execution_count": 1642,
     "metadata": {},
     "output_type": "execute_result"
    }
   ],
   "source": [
    "audio_df = data.iloc[:,18:28]\n",
    "\n",
    "audio_df"
   ]
  },
  {
   "cell_type": "code",
   "execution_count": 1704,
   "metadata": {},
   "outputs": [
    {
     "data": {
      "text/html": [
       "<div>\n",
       "<style scoped>\n",
       "    .dataframe tbody tr th:only-of-type {\n",
       "        vertical-align: middle;\n",
       "    }\n",
       "\n",
       "    .dataframe tbody tr th {\n",
       "        vertical-align: top;\n",
       "    }\n",
       "\n",
       "    .dataframe thead th {\n",
       "        text-align: right;\n",
       "    }\n",
       "</style>\n",
       "<table border=\"1\" class=\"dataframe\">\n",
       "  <thead>\n",
       "    <tr style=\"text-align: right;\">\n",
       "      <th></th>\n",
       "      <th>Album</th>\n",
       "      <th>Release Date</th>\n",
       "      <th>Release Year</th>\n",
       "      <th>Release Month</th>\n",
       "      <th>Release Month (Name)</th>\n",
       "      <th>Release Day</th>\n",
       "      <th>Release Day (Name)</th>\n",
       "      <th>Album ID</th>\n",
       "      <th>Number of Album Songs</th>\n",
       "      <th>Song Name</th>\n",
       "      <th>Plays</th>\n",
       "      <th>Artist</th>\n",
       "      <th>Song ID</th>\n",
       "      <th>Track Duration</th>\n",
       "      <th>Track Duration (Minutes)</th>\n",
       "      <th>Track Duration (Seconds)</th>\n",
       "      <th>Track Number</th>\n",
       "      <th>Number of Artists</th>\n",
       "      <th>Danceability</th>\n",
       "      <th>Energy</th>\n",
       "      <th>Key</th>\n",
       "      <th>Loudness</th>\n",
       "      <th>Speechiness</th>\n",
       "      <th>Acousticness</th>\n",
       "      <th>Instrumentalness</th>\n",
       "      <th>Liveness</th>\n",
       "      <th>Valence</th>\n",
       "      <th>Tempo</th>\n",
       "      <th>Artist 1</th>\n",
       "      <th>Artist 2</th>\n",
       "      <th>Artist 3</th>\n",
       "      <th>Cluster</th>\n",
       "    </tr>\n",
       "  </thead>\n",
       "  <tbody>\n",
       "    <tr>\n",
       "      <th>0</th>\n",
       "      <td>Her Loss</td>\n",
       "      <td>11/4/22</td>\n",
       "      <td>2022</td>\n",
       "      <td>11</td>\n",
       "      <td>November</td>\n",
       "      <td>4</td>\n",
       "      <td>Friday</td>\n",
       "      <td>5MS3MvWHJ3lOZPLiMxzOU6</td>\n",
       "      <td>16</td>\n",
       "      <td>Rich Flex</td>\n",
       "      <td>463655324</td>\n",
       "      <td>Drake,21 Savage</td>\n",
       "      <td>1bDbXMyjaUIooNwFE9wn0N</td>\n",
       "      <td>3:59</td>\n",
       "      <td>3</td>\n",
       "      <td>59</td>\n",
       "      <td>1</td>\n",
       "      <td>2</td>\n",
       "      <td>0.561</td>\n",
       "      <td>0.520</td>\n",
       "      <td>11</td>\n",
       "      <td>-9.342</td>\n",
       "      <td>0.244</td>\n",
       "      <td>0.05030</td>\n",
       "      <td>0.0</td>\n",
       "      <td>0.3550</td>\n",
       "      <td>0.424</td>\n",
       "      <td>153.150</td>\n",
       "      <td>Drake</td>\n",
       "      <td>21 Savage</td>\n",
       "      <td>NaN</td>\n",
       "      <td>1</td>\n",
       "    </tr>\n",
       "    <tr>\n",
       "      <th>1</th>\n",
       "      <td>Her Loss</td>\n",
       "      <td>11/4/22</td>\n",
       "      <td>2022</td>\n",
       "      <td>11</td>\n",
       "      <td>November</td>\n",
       "      <td>4</td>\n",
       "      <td>Friday</td>\n",
       "      <td>5MS3MvWHJ3lOZPLiMxzOU6</td>\n",
       "      <td>16</td>\n",
       "      <td>Major Distribution</td>\n",
       "      <td>134609385</td>\n",
       "      <td>Drake,21 Savage</td>\n",
       "      <td>46s57QULU02Voy0Kup6UEb</td>\n",
       "      <td>2:50</td>\n",
       "      <td>2</td>\n",
       "      <td>50</td>\n",
       "      <td>2</td>\n",
       "      <td>2</td>\n",
       "      <td>0.908</td>\n",
       "      <td>0.546</td>\n",
       "      <td>8</td>\n",
       "      <td>-10.491</td>\n",
       "      <td>0.323</td>\n",
       "      <td>0.01270</td>\n",
       "      <td>0.0</td>\n",
       "      <td>0.0707</td>\n",
       "      <td>0.225</td>\n",
       "      <td>131.016</td>\n",
       "      <td>Drake</td>\n",
       "      <td>21 Savage</td>\n",
       "      <td>NaN</td>\n",
       "      <td>3</td>\n",
       "    </tr>\n",
       "    <tr>\n",
       "      <th>2</th>\n",
       "      <td>Her Loss</td>\n",
       "      <td>11/4/22</td>\n",
       "      <td>2022</td>\n",
       "      <td>11</td>\n",
       "      <td>November</td>\n",
       "      <td>4</td>\n",
       "      <td>Friday</td>\n",
       "      <td>5MS3MvWHJ3lOZPLiMxzOU6</td>\n",
       "      <td>16</td>\n",
       "      <td>On BS</td>\n",
       "      <td>137344442</td>\n",
       "      <td>Drake,21 Savage</td>\n",
       "      <td>34tz0eDhGuFErIuW3q4mPX</td>\n",
       "      <td>4:21</td>\n",
       "      <td>4</td>\n",
       "      <td>21</td>\n",
       "      <td>3</td>\n",
       "      <td>2</td>\n",
       "      <td>0.841</td>\n",
       "      <td>0.358</td>\n",
       "      <td>9</td>\n",
       "      <td>-8.368</td>\n",
       "      <td>0.591</td>\n",
       "      <td>0.02010</td>\n",
       "      <td>0.0</td>\n",
       "      <td>0.3900</td>\n",
       "      <td>0.329</td>\n",
       "      <td>158.014</td>\n",
       "      <td>Drake</td>\n",
       "      <td>21 Savage</td>\n",
       "      <td>NaN</td>\n",
       "      <td>3</td>\n",
       "    </tr>\n",
       "    <tr>\n",
       "      <th>3</th>\n",
       "      <td>Her Loss</td>\n",
       "      <td>11/4/22</td>\n",
       "      <td>2022</td>\n",
       "      <td>11</td>\n",
       "      <td>November</td>\n",
       "      <td>4</td>\n",
       "      <td>Friday</td>\n",
       "      <td>5MS3MvWHJ3lOZPLiMxzOU6</td>\n",
       "      <td>16</td>\n",
       "      <td>BackOutsideBoyz</td>\n",
       "      <td>80148026</td>\n",
       "      <td>Drake</td>\n",
       "      <td>0wshkEEcJUQU33RSRBb5dv</td>\n",
       "      <td>2:32</td>\n",
       "      <td>2</td>\n",
       "      <td>32</td>\n",
       "      <td>4</td>\n",
       "      <td>1</td>\n",
       "      <td>0.849</td>\n",
       "      <td>0.433</td>\n",
       "      <td>5</td>\n",
       "      <td>-8.434</td>\n",
       "      <td>0.316</td>\n",
       "      <td>0.04070</td>\n",
       "      <td>0.0</td>\n",
       "      <td>0.3880</td>\n",
       "      <td>0.395</td>\n",
       "      <td>142.110</td>\n",
       "      <td>Drake</td>\n",
       "      <td>NaN</td>\n",
       "      <td>NaN</td>\n",
       "      <td>3</td>\n",
       "    </tr>\n",
       "    <tr>\n",
       "      <th>4</th>\n",
       "      <td>Her Loss</td>\n",
       "      <td>11/4/22</td>\n",
       "      <td>2022</td>\n",
       "      <td>11</td>\n",
       "      <td>November</td>\n",
       "      <td>4</td>\n",
       "      <td>Friday</td>\n",
       "      <td>5MS3MvWHJ3lOZPLiMxzOU6</td>\n",
       "      <td>16</td>\n",
       "      <td>Privileged Rappers</td>\n",
       "      <td>92548320</td>\n",
       "      <td>Drake,21 Savage</td>\n",
       "      <td>7l2nxyx7IkBX5orhkALg0V</td>\n",
       "      <td>2:40</td>\n",
       "      <td>2</td>\n",
       "      <td>40</td>\n",
       "      <td>5</td>\n",
       "      <td>2</td>\n",
       "      <td>0.934</td>\n",
       "      <td>0.614</td>\n",
       "      <td>5</td>\n",
       "      <td>-7.384</td>\n",
       "      <td>0.198</td>\n",
       "      <td>0.00274</td>\n",
       "      <td>0.0</td>\n",
       "      <td>0.1230</td>\n",
       "      <td>0.616</td>\n",
       "      <td>144.045</td>\n",
       "      <td>Drake</td>\n",
       "      <td>21 Savage</td>\n",
       "      <td>NaN</td>\n",
       "      <td>3</td>\n",
       "    </tr>\n",
       "  </tbody>\n",
       "</table>\n",
       "</div>"
      ],
      "text/plain": [
       "      Album Release Date  Release Year  Release Month Release Month (Name)  \\\n",
       "0  Her Loss      11/4/22          2022             11             November   \n",
       "1  Her Loss      11/4/22          2022             11             November   \n",
       "2  Her Loss      11/4/22          2022             11             November   \n",
       "3  Her Loss      11/4/22          2022             11             November   \n",
       "4  Her Loss      11/4/22          2022             11             November   \n",
       "\n",
       "   Release Day Release Day (Name)                Album ID  \\\n",
       "0            4             Friday  5MS3MvWHJ3lOZPLiMxzOU6   \n",
       "1            4             Friday  5MS3MvWHJ3lOZPLiMxzOU6   \n",
       "2            4             Friday  5MS3MvWHJ3lOZPLiMxzOU6   \n",
       "3            4             Friday  5MS3MvWHJ3lOZPLiMxzOU6   \n",
       "4            4             Friday  5MS3MvWHJ3lOZPLiMxzOU6   \n",
       "\n",
       "   Number of Album Songs           Song Name      Plays           Artist  \\\n",
       "0                     16           Rich Flex  463655324  Drake,21 Savage   \n",
       "1                     16  Major Distribution  134609385  Drake,21 Savage   \n",
       "2                     16               On BS  137344442  Drake,21 Savage   \n",
       "3                     16     BackOutsideBoyz   80148026            Drake   \n",
       "4                     16  Privileged Rappers   92548320  Drake,21 Savage   \n",
       "\n",
       "                  Song ID Track Duration  Track Duration (Minutes)  \\\n",
       "0  1bDbXMyjaUIooNwFE9wn0N           3:59                         3   \n",
       "1  46s57QULU02Voy0Kup6UEb           2:50                         2   \n",
       "2  34tz0eDhGuFErIuW3q4mPX           4:21                         4   \n",
       "3  0wshkEEcJUQU33RSRBb5dv           2:32                         2   \n",
       "4  7l2nxyx7IkBX5orhkALg0V           2:40                         2   \n",
       "\n",
       "   Track Duration (Seconds)  Track Number  Number of Artists  Danceability  \\\n",
       "0                        59             1                  2         0.561   \n",
       "1                        50             2                  2         0.908   \n",
       "2                        21             3                  2         0.841   \n",
       "3                        32             4                  1         0.849   \n",
       "4                        40             5                  2         0.934   \n",
       "\n",
       "   Energy  Key  Loudness  Speechiness  Acousticness  Instrumentalness  \\\n",
       "0   0.520   11    -9.342        0.244       0.05030               0.0   \n",
       "1   0.546    8   -10.491        0.323       0.01270               0.0   \n",
       "2   0.358    9    -8.368        0.591       0.02010               0.0   \n",
       "3   0.433    5    -8.434        0.316       0.04070               0.0   \n",
       "4   0.614    5    -7.384        0.198       0.00274               0.0   \n",
       "\n",
       "   Liveness  Valence    Tempo Artist 1   Artist 2 Artist 3  Cluster  \n",
       "0    0.3550    0.424  153.150    Drake  21 Savage      NaN        1  \n",
       "1    0.0707    0.225  131.016    Drake  21 Savage      NaN        3  \n",
       "2    0.3900    0.329  158.014    Drake  21 Savage      NaN        3  \n",
       "3    0.3880    0.395  142.110    Drake        NaN      NaN        3  \n",
       "4    0.1230    0.616  144.045    Drake  21 Savage      NaN        3  "
      ]
     },
     "execution_count": 1704,
     "metadata": {},
     "output_type": "execute_result"
    }
   ],
   "source": [
    "data.head()"
   ]
  },
  {
   "cell_type": "code",
   "execution_count": 1660,
   "metadata": {},
   "outputs": [],
   "source": [
    "import matplotlib.pyplot as plt"
   ]
  },
  {
   "cell_type": "code",
   "execution_count": 1662,
   "metadata": {},
   "outputs": [
    {
     "data": {
      "image/png": "[encoded data removed]",
      "text/plain": [
       "<Figure size 432x288 with 1 Axes>"
      ]
     },
     "metadata": {
      "needs_background": "light"
     },
     "output_type": "display_data"
    }
   ],
   "source": [
    "import matplotlib.pyplot as plt\n",
    "from mpl_toolkits.mplot3d import Axes3D\n",
    "\n",
    "# Assuming you have the data points stored in a variable called 'data'\n",
    "# Assuming you have the assigned cluster labels stored in a variable called 'labels'\n",
    "\n",
    "# Extract the feature values for plotting\n",
    "x = data['Danceability']\n",
    "y = data['Energy']\n",
    "z = data['Valence']\n",
    "\n",
    "# Create a 3D scatter plot\n",
    "fig = plt.figure()\n",
    "ax = fig.add_subplot(111, projection='3d')\n",
    "ax.scatter(x, y, z, c=cluster_labels, cmap='viridis')\n",
    "\n",
    "# Add labels and title\n",
    "ax.set_xlabel('Danceability')\n",
    "ax.set_ylabel('Energy')\n",
    "ax.set_zlabel('Valence')\n",
    "plt.title('Clustering Results')\n",
    "\n",
    "# Show the plot\n",
    "plt.show()\n"
   ]
  },
  {
   "cell_type": "code",
   "execution_count": 1631,
   "metadata": {},
   "outputs": [
    {
     "name": "stdout",
     "output_type": "stream",
     "text": [
      "Accuracy: 0.0\n",
      "Classification Report:\n",
      "               precision    recall  f1-score   support\n",
      "\n",
      "         SUV       0.00      0.00      0.00       1.0\n",
      "       Sedan       0.00      0.00      0.00       1.0\n",
      "\n",
      "    accuracy                           0.00       2.0\n",
      "   macro avg       0.00      0.00      0.00       2.0\n",
      "weighted avg       0.00      0.00      0.00       2.0\n",
      "\n"
     ]
    }
   ],
   "source": [
    "from sklearn.model_selection import train_test_split\n",
    "\n",
    "# Separate the features and the target variable\n",
    "X = ohe.drop('Label', axis=1)\n",
    "y = ohe['Label']\n",
    "\n",
    "# Split the data into training and testing sets\n",
    "X_train, X_test, y_train, y_test = train_test_split(X, y, test_size=0.2, random_state=42)\n",
    "\n",
    "\n",
    "from sklearn.preprocessing import StandardScaler\n",
    "\n",
    "# Initialize the StandardScaler\n",
    "scaler = StandardScaler()\n",
    "\n",
    "# Fit and transform the training features\n",
    "X_train_scaled = scaler.fit_transform(X_train)\n",
    "\n",
    "# Transform the testing features\n",
    "X_test_scaled = scaler.transform(X_test)\n",
    "\n",
    "from sklearn.neighbors import KNeighborsClassifier\n",
    "\n",
    "# Initialize the KNN classifier\n",
    "knn = KNeighborsClassifier(n_neighbors=3)\n",
    "\n",
    "# Train the model using the scaled training data\n",
    "knn.fit(X_train_scaled, y_train)\n",
    "\n",
    "# Make predictions on the scaled testing data\n",
    "y_pred = knn.predict(X_test_scaled)\n",
    "\n",
    "\n",
    "from sklearn.metrics import accuracy_score, classification_report\n",
    "\n",
    "# Calculate the accuracy score\n",
    "accuracy = accuracy_score(y_test, y_pred)\n",
    "print(\"Accuracy:\", accuracy)\n",
    "\n",
    "# Generate a classification report\n",
    "report = classification_report(y_test, y_pred)\n",
    "print(\"Classification Report:\\n\", report)\n",
    "\n"
   ]
  },
  {
   "cell_type": "code",
   "execution_count": 1632,
   "metadata": {},
   "outputs": [
    {
     "data": {
      "text/plain": [
       "array([[0, 1],\n",
       "       [1, 0]])"
      ]
     },
     "execution_count": 1632,
     "metadata": {},
     "output_type": "execute_result"
    }
   ],
   "source": [
    "from sklearn.metrics import confusion_matrix \n",
    "\n",
    "cm = confusion_matrix(y_test, y_pred)\n",
    "cm "
   ]
  },
  {
   "cell_type": "code",
   "execution_count": 1320,
   "metadata": {},
   "outputs": [
    {
     "data": {
      "text/plain": [
       "200"
      ]
     },
     "execution_count": 1320,
     "metadata": {},
     "output_type": "execute_result"
    }
   ],
   "source": [
    "cas = requests.get(\"https://overfast-api.tekrop.fr/players?name=Veilance\")\n",
    "\n",
    "cas.status_code"
   ]
  },
  {
   "cell_type": "code",
   "execution_count": 1321,
   "metadata": {},
   "outputs": [],
   "source": [
    "veilance_data = cas.json()\n",
    "\n",
    "\n",
    "player_id = veilance_data['results'][0]['player_id']\n"
   ]
  },
  {
   "cell_type": "code",
   "execution_count": 1322,
   "metadata": {},
   "outputs": [
    {
     "data": {
      "text/plain": [
       "'Veilance-1532'"
      ]
     },
     "execution_count": 1322,
     "metadata": {},
     "output_type": "execute_result"
    }
   ],
   "source": [
    "player_id"
   ]
  },
  {
   "cell_type": "code",
   "execution_count": 1324,
   "metadata": {},
   "outputs": [
    {
     "data": {
      "text/plain": [
       "200"
      ]
     },
     "execution_count": 1324,
     "metadata": {},
     "output_type": "execute_result"
    }
   ],
   "source": [
    "veil = requests.get(f\"https://overfast-api.tekrop.fr/players/{player_id}/stats/summary\")\n",
    "\n",
    "veil.status_code"
   ]
  },
  {
   "cell_type": "code",
   "execution_count": 1325,
   "metadata": {},
   "outputs": [
    {
     "data": {
      "text/plain": [
       "{'general': {'games_played': 123,\n",
       "  'time_played': 81593,\n",
       "  'winrate': 56.1,\n",
       "  'kda': 3.68,\n",
       "  'total': {'eliminations': 3291,\n",
       "   'assists': 27,\n",
       "   'deaths': 901,\n",
       "   'damage': 1706602,\n",
       "   'healing': 29595},\n",
       "  'average': {'eliminations': 24.2,\n",
       "   'assists': 0.2,\n",
       "   'deaths': 6.63,\n",
       "   'damage': 12549.62,\n",
       "   'healing': 217.63}},\n",
       " 'roles': {'tank': {'games_played': 6,\n",
       "   'time_played': 3709,\n",
       "   'winrate': 100.0,\n",
       "   'kda': 8.74,\n",
       "   'total': {'eliminations': 174,\n",
       "    'assists': 27,\n",
       "    'deaths': 23,\n",
       "    'damage': 97778,\n",
       "    'healing': 0},\n",
       "   'average': {'eliminations': 28.15,\n",
       "    'assists': 4.37,\n",
       "    'deaths': 3.72,\n",
       "    'damage': 15817.42,\n",
       "    'healing': 0.0}},\n",
       "  'damage': {'games_played': 117,\n",
       "   'time_played': 77884,\n",
       "   'winrate': 53.85,\n",
       "   'kda': 3.55,\n",
       "   'total': {'eliminations': 3117,\n",
       "    'assists': 0,\n",
       "    'deaths': 878,\n",
       "    'damage': 1608824,\n",
       "    'healing': 29595},\n",
       "   'average': {'eliminations': 24.01,\n",
       "    'assists': 0.0,\n",
       "    'deaths': 6.76,\n",
       "    'damage': 12394.0,\n",
       "    'healing': 227.99}}},\n",
       " 'heroes': {'echo': {'games_played': 3,\n",
       "   'time_played': 1244,\n",
       "   'winrate': 33.33,\n",
       "   'kda': 3.82,\n",
       "   'total': {'eliminations': 42,\n",
       "    'assists': 0,\n",
       "    'deaths': 11,\n",
       "    'damage': 23931,\n",
       "    'healing': 0},\n",
       "   'average': {'eliminations': 20.26,\n",
       "    'assists': 0.0,\n",
       "    'deaths': 5.31,\n",
       "    'damage': 11542.28,\n",
       "    'healing': 0.0}},\n",
       "  'orisa': {'games_played': 3,\n",
       "   'time_played': 1771,\n",
       "   'winrate': 100.0,\n",
       "   'kda': 7.07,\n",
       "   'total': {'eliminations': 86,\n",
       "    'assists': 13,\n",
       "    'deaths': 14,\n",
       "    'damage': 45810,\n",
       "    'healing': 0},\n",
       "   'average': {'eliminations': 29.14,\n",
       "    'assists': 4.4,\n",
       "    'deaths': 4.74,\n",
       "    'damage': 15520.05,\n",
       "    'healing': 0.0}},\n",
       "  'reaper': {'games_played': 2,\n",
       "   'time_played': 1735,\n",
       "   'winrate': 50.0,\n",
       "   'kda': 2.95,\n",
       "   'total': {'eliminations': 65,\n",
       "    'assists': 0,\n",
       "    'deaths': 22,\n",
       "    'damage': 22966,\n",
       "    'healing': 0},\n",
       "   'average': {'eliminations': 22.48,\n",
       "    'assists': 0.0,\n",
       "    'deaths': 7.61,\n",
       "    'damage': 7942.13,\n",
       "    'healing': 0.0}},\n",
       "  'sigma': {'games_played': 3,\n",
       "   'time_played': 1938,\n",
       "   'winrate': 100.0,\n",
       "   'kda': 11.33,\n",
       "   'total': {'eliminations': 88,\n",
       "    'assists': 14,\n",
       "    'deaths': 9,\n",
       "    'damage': 51968,\n",
       "    'healing': 0},\n",
       "   'average': {'eliminations': 27.24,\n",
       "    'assists': 4.33,\n",
       "    'deaths': 2.79,\n",
       "    'damage': 16089.16,\n",
       "    'healing': 0.0}},\n",
       "  'sojourn': {'games_played': 92,\n",
       "   'time_played': 61736,\n",
       "   'winrate': 55.43,\n",
       "   'kda': 3.54,\n",
       "   'total': {'eliminations': 2488,\n",
       "    'assists': 0,\n",
       "    'deaths': 702,\n",
       "    'damage': 1285887,\n",
       "    'healing': 0},\n",
       "   'average': {'eliminations': 24.18,\n",
       "    'assists': 0.0,\n",
       "    'deaths': 6.82,\n",
       "    'damage': 12497.28,\n",
       "    'healing': 0.0}},\n",
       "  'soldier-76': {'games_played': 20,\n",
       "   'time_played': 13169,\n",
       "   'winrate': 50.0,\n",
       "   'kda': 3.65,\n",
       "   'total': {'eliminations': 522,\n",
       "    'assists': 0,\n",
       "    'deaths': 143,\n",
       "    'damage': 276040,\n",
       "    'healing': 29595},\n",
       "   'average': {'eliminations': 23.78,\n",
       "    'assists': 0.0,\n",
       "    'deaths': 6.52,\n",
       "    'damage': 12576.81,\n",
       "    'healing': 1348.39}}}}"
      ]
     },
     "execution_count": 1325,
     "metadata": {},
     "output_type": "execute_result"
    }
   ],
   "source": [
    "veil.json()"
   ]
  },
  {
   "cell_type": "code",
   "execution_count": 1326,
   "metadata": {},
   "outputs": [
    {
     "data": {
      "text/plain": [
       "{'summary': {'username': 'Veilance',\n",
       "  'avatar': 'https://d15f34w2p8l1cc.cloudfront.net/overwatch/a3d0137926328df8535d59f7f9f1cf1762e2e74e54127bc8342007fbe8ad0f2c.png',\n",
       "  'namecard': 'https://d15f34w2p8l1cc.cloudfront.net/overwatch/547afad62e63b9c6147741b1450cea6a97983ca3bc7b53514561ea98973818b0.png',\n",
       "  'title': 'Nomad',\n",
       "  'endorsement': {'level': 2,\n",
       "   'frame': 'https://static.playoverwatch.com/img/pages/career/icons/endorsement/2-8b9f0faa25.svg#icon'},\n",
       "  'competitive': None,\n",
       "  'privacy': 'public'},\n",
       " 'stats': {'pc': None,\n",
       "  'console': {'quickplay': {'heroes_comparisons': {'time_played': {'label': 'Time Played',\n",
       "      'values': [{'hero': 'echo', 'value': 1244},\n",
       "       {'hero': 'soldier-76', 'value': 1237},\n",
       "       {'hero': 'reaper', 'value': 789},\n",
       "       {'hero': 'ashe', 'value': 471},\n",
       "       {'hero': 'lucio', 'value': 458},\n",
       "       {'hero': 'mercy', 'value': 28},\n",
       "       {'hero': 'junkrat', 'value': 19}]},\n",
       "     'games_won': {'label': 'Games Won',\n",
       "      'values': [{'hero': 'soldier-76', 'value': 3},\n",
       "       {'hero': 'echo', 'value': 1},\n",
       "       {'hero': 'lucio', 'value': 1},\n",
       "       {'hero': 'reaper', 'value': 1},\n",
       "       {'hero': 'junkrat', 'value': 1},\n",
       "       {'hero': 'ashe', 'value': 1},\n",
       "       {'hero': 'mercy', 'value': 0}]},\n",
       "     'weapon_accuracy': {'label': 'Weapon Accuracy',\n",
       "      'values': [{'hero': 'ashe', 'value': 40},\n",
       "       {'hero': 'soldier-76', 'value': 35},\n",
       "       {'hero': 'lucio', 'value': 25},\n",
       "       {'hero': 'reaper', 'value': 22},\n",
       "       {'hero': 'echo', 'value': 20},\n",
       "       {'hero': 'junkrat', 'value': 7},\n",
       "       {'hero': 'mercy', 'value': 0}]},\n",
       "     'win_percentage': None,\n",
       "     'eliminations_per_life': {'label': 'Eliminations per Life',\n",
       "      'values': [{'hero': 'lucio', 'value': 18.0},\n",
       "       {'hero': 'soldier-76', 'value': 5.92},\n",
       "       {'hero': 'ashe', 'value': 4.75},\n",
       "       {'hero': 'reaper', 'value': 4.5},\n",
       "       {'hero': 'echo', 'value': 3.82},\n",
       "       {'hero': 'mercy', 'value': 0},\n",
       "       {'hero': 'junkrat', 'value': 0}]},\n",
       "     'critical_hit_accuracy': {'label': 'Critical Hit Accuracy',\n",
       "      'values': [{'hero': 'reaper', 'value': 15},\n",
       "       {'hero': 'ashe', 'value': 14},\n",
       "       {'hero': 'soldier-76', 'value': 10},\n",
       "       {'hero': 'lucio', 'value': 10},\n",
       "       {'hero': 'echo', 'value': 8},\n",
       "       {'hero': 'mercy', 'value': 0},\n",
       "       {'hero': 'junkrat', 'value': 0}]},\n",
       "     'multikill_best': {'label': 'Multikill - Best',\n",
       "      'values': [{'hero': 'reaper', 'value': 3},\n",
       "       {'hero': 'echo', 'value': 3},\n",
       "       {'hero': 'mercy', 'value': 0},\n",
       "       {'hero': 'junkrat', 'value': 0},\n",
       "       {'hero': 'soldier-76', 'value': 0},\n",
       "       {'hero': 'lucio', 'value': 0},\n",
       "       {'hero': 'ashe', 'value': 0}]},\n",
       "     'objective_kills': {'label': 'Objective Kills',\n",
       "      'values': [{'hero': 'reaper', 'value': 17},\n",
       "       {'hero': 'soldier-76', 'value': 14},\n",
       "       {'hero': 'echo', 'value': 8},\n",
       "       {'hero': 'junkrat', 'value': 2},\n",
       "       {'hero': 'lucio', 'value': 2},\n",
       "       {'hero': 'ashe', 'value': 1},\n",
       "       {'hero': 'mercy', 'value': 0}]}},\n",
       "    'career_stats': {'all-heroes': [{'category': 'best',\n",
       "       'label': 'Best',\n",
       "       'stats': [{'key': 'eliminations_most_in_game',\n",
       "         'label': 'Eliminations - Most in Game',\n",
       "         'value': 38},\n",
       "        {'key': 'final_blows_most_in_game',\n",
       "         'label': 'Final Blows - Most in Game',\n",
       "         'value': 24},\n",
       "        {'key': 'all_damage_done_most_in_game',\n",
       "         'label': 'All Damage Done - Most in Game',\n",
       "         'value': 14093},\n",
       "        {'key': 'healing_done_most_in_game',\n",
       "         'label': 'Healing Done - Most in Game',\n",
       "         'value': 1849},\n",
       "        {'key': 'defensive_assists_most_in_game',\n",
       "         'label': 'Defensive Assists - Most in Game',\n",
       "         'value': 3},\n",
       "        {'key': 'offensive_assists_most_in_game',\n",
       "         'label': 'Offensive Assists - Most in Game',\n",
       "         'value': 5},\n",
       "        {'key': 'objective_kills_most_in_game',\n",
       "         'label': 'Objective Kills - Most in Game',\n",
       "         'value': 15},\n",
       "        {'key': 'objective_time_most_in_game',\n",
       "         'label': 'Objective Time - Most in Game',\n",
       "         'value': 87},\n",
       "        {'key': 'multikill_best', 'label': 'Multikill - Best', 'value': 3},\n",
       "        {'key': 'solo_kills_most_in_game',\n",
       "         'label': 'Solo Kills - Most in Game',\n",
       "         'value': 24},\n",
       "        {'key': 'time_spent_on_fire_most_in_game',\n",
       "         'label': 'Time Spent on Fire - Most in Game',\n",
       "         'value': 412},\n",
       "        {'key': 'melee_final_blow_most_in_game',\n",
       "         'label': 'Melee Final Blow - Most in Game',\n",
       "         'value': 1},\n",
       "        {'key': 'environmental_kill_most_in_game',\n",
       "         'label': 'Environmental Kill - Most in Game',\n",
       "         'value': 1},\n",
       "        {'key': 'kill_streak_best',\n",
       "         'label': 'Kill Streak - Best',\n",
       "         'value': 15},\n",
       "        {'key': 'hero_damage_done_most_in_game',\n",
       "         'label': 'Hero Damage Done - Most in Game',\n",
       "         'value': 13855},\n",
       "        {'key': 'barrier_damage_done_most_in_game',\n",
       "         'label': 'Barrier Damage Done - Most in Game',\n",
       "         'value': 3843},\n",
       "        {'key': 'assist_most_in_game',\n",
       "         'label': 'Assist - Most in Game',\n",
       "         'value': 1},\n",
       "        {'key': 'objective_contest_time_most_in_game',\n",
       "         'label': 'Objective Contest Time - Most in Game',\n",
       "         'value': 69}]},\n",
       "      {'category': 'average',\n",
       "       'label': 'Average',\n",
       "       'stats': [{'key': 'objective_kills_avg_per_10_min',\n",
       "         'label': 'Objective Kills - Avg per 10 Min',\n",
       "         'value': 6.22},\n",
       "        {'key': 'objective_time_avg_per_10_min',\n",
       "         'label': 'Objective Time - Avg per 10 Min',\n",
       "         'value': 34},\n",
       "        {'key': 'final_blows_avg_per_10_min',\n",
       "         'label': 'Final Blows - Avg per 10 Min',\n",
       "         'value': 15.12},\n",
       "        {'key': 'objective_contest_time_avg_per_10_min',\n",
       "         'label': 'Objective Contest Time - Avg per 10 Min',\n",
       "         'value': 17},\n",
       "        {'key': 'solo_kills_avg_per_10_min',\n",
       "         'label': 'Solo Kills - Avg per 10 Min',\n",
       "         'value': 3.11},\n",
       "        {'key': 'hero_damage_done_avg_per_10_min',\n",
       "         'label': 'Hero Damage Done - Avg per 10 Min',\n",
       "         'value': 9332},\n",
       "        {'key': 'eliminations_avg_per_10_min',\n",
       "         'label': 'Eliminations - Avg per 10 Min',\n",
       "         'value': 27.97},\n",
       "        {'key': 'deaths_avg_per_10_min',\n",
       "         'label': 'Deaths - Avg per 10 Min',\n",
       "         'value': 5.23},\n",
       "        {'key': 'assists_avg_per_10_min',\n",
       "         'label': 'Assists - Avg per 10 min',\n",
       "         'value': 1.55},\n",
       "        {'key': 'healing_done_avg_per_10_min',\n",
       "         'label': 'Healing Done - Avg per 10 Min',\n",
       "         'value': 1241}]},\n",
       "      {'category': 'game',\n",
       "       'label': 'Game',\n",
       "       'stats': [{'key': 'time_played', 'label': 'Time Played', 'value': 4247},\n",
       "        {'key': 'games_played', 'label': 'Games Played', 'value': 10},\n",
       "        {'key': 'games_won', 'label': 'Games Won', 'value': 8},\n",
       "        {'key': 'games_lost', 'label': 'Games Lost', 'value': 2},\n",
       "        {'key': 'hero_wins', 'label': 'Hero Wins', 'value': 8}]},\n",
       "      {'category': 'combat',\n",
       "       'label': 'Combat',\n",
       "       'stats': [{'key': 'environmental_kill',\n",
       "         'label': 'Environmental Kill',\n",
       "         'value': 1},\n",
       "        {'key': 'melee_final_blow', 'label': 'Melee Final Blow', 'value': 1},\n",
       "        {'key': 'multikills', 'label': 'Multikills', 'value': 2},\n",
       "        {'key': 'deaths', 'label': 'Deaths', 'value': 37},\n",
       "        {'key': 'eliminations', 'label': 'Eliminations', 'value': 198},\n",
       "        {'key': 'objective_kills', 'label': 'Objective Kills', 'value': 44},\n",
       "        {'key': 'final_blows', 'label': 'Final Blows', 'value': 107},\n",
       "        {'key': 'objective_time', 'label': 'Objective Time', 'value': 243},\n",
       "        {'key': 'hero_damage_done',\n",
       "         'label': 'Hero Damage Done',\n",
       "         'value': 66055},\n",
       "        {'key': 'objective_contest_time',\n",
       "         'label': 'Objective Contest Time',\n",
       "         'value': 122},\n",
       "        {'key': 'solo_kills', 'label': 'Solo Kills', 'value': 22},\n",
       "        {'key': 'damage_done', 'label': 'Damage Done', 'value': 66055}]},\n",
       "      {'category': 'assists',\n",
       "       'label': 'Assists',\n",
       "       'stats': [{'key': 'defensive_assists',\n",
       "         'label': 'Defensive Assists',\n",
       "         'value': 11},\n",
       "        {'key': 'healing_done', 'label': 'Healing Done', 'value': 8783},\n",
       "        {'key': 'offensive_assists', 'label': 'Offensive Assists', 'value': 5},\n",
       "        {'key': 'assists', 'label': 'Assists', 'value': 11}]}],\n",
       "     'ana': None,\n",
       "     'ashe': [{'category': 'hero_specific',\n",
       "       'label': 'Hero Specific',\n",
       "       'stats': [{'key': 'scoped_critical_hits',\n",
       "         'label': 'Scoped Critical Hits',\n",
       "         'value': 7},\n",
       "        {'key': 'scoped_critical_hits_most_in_game',\n",
       "         'label': 'Scoped Critical Hits - Most in Game',\n",
       "         'value': 7},\n",
       "        {'key': 'scoped_accuracy_best_in_game',\n",
       "         'label': 'Scoped Accuracy - Best in Game',\n",
       "         'value': 43},\n",
       "        {'key': 'bob_kill', 'label': 'Bob Kill', 'value': 1},\n",
       "        {'key': 'bob_kill_most_in_game',\n",
       "         'label': 'Bob Kill - Most in Game',\n",
       "         'value': 1},\n",
       "        {'key': 'scoped_critical_hit_kills',\n",
       "         'label': 'Scoped Critical Hit Kills',\n",
       "         'value': 2},\n",
       "        {'key': 'scoped_critical_hits_most_in_game',\n",
       "         'label': 'Scoped Critical Hits - Most in Game',\n",
       "         'value': 2},\n",
       "        {'key': 'long_range_final_blows',\n",
       "         'label': 'Long Range Final Blows',\n",
       "         'value': 3},\n",
       "        {'key': 'long_range_final_blows_most_in_game',\n",
       "         'label': 'Long Range Final Blows - Most in Game',\n",
       "         'value': 3},\n",
       "        {'key': 'scoped_critical_hits_avg_per_10_min',\n",
       "         'label': 'Scoped Critical Hits - Avg per 10 Min',\n",
       "         'value': 8.91},\n",
       "        {'key': 'scoped_accuracy', 'label': 'Scoped Accuracy', 'value': 45},\n",
       "        {'key': 'scoped_critical_hit_kills_avg_per_10_min',\n",
       "         'label': 'Scoped Critical Hit Kills - Avg per 10 Min',\n",
       "         'value': 2.55},\n",
       "        {'key': 'long_range_final_blows_avg_per_10_min',\n",
       "         'label': 'Long Range Final Blows - Avg per 10 Min',\n",
       "         'value': 3.82},\n",
       "        {'key': 'scoped_critical_hit_accuracy',\n",
       "         'label': 'Scoped Critical Hit Accuracy',\n",
       "         'value': 16},\n",
       "        {'key': 'bob_kills_avg_per_10_min',\n",
       "         'label': 'Bob Kills - Avg per 10 Min',\n",
       "         'value': 1.27}]},\n",
       "      {'category': 'best',\n",
       "       'label': 'Best',\n",
       "       'stats': [{'key': 'eliminations_most_in_life',\n",
       "         'label': 'Eliminations - Most in Life',\n",
       "         'value': 9},\n",
       "        {'key': 'all_damage_done_most_in_life',\n",
       "         'label': 'All Damage Done - Most in Life',\n",
       "         'value': 2635},\n",
       "        {'key': 'weapon_accuracy_best_in_game',\n",
       "         'label': 'Weapon Accuracy - Best in Game',\n",
       "         'value': 40},\n",
       "        {'key': 'kill_streak_best', 'label': 'Kill Streak - Best', 'value': 9},\n",
       "        {'key': 'all_damage_done_most_in_game',\n",
       "         'label': 'All Damage Done - Most in Game',\n",
       "         'value': 7364},\n",
       "        {'key': 'eliminations_most_in_game',\n",
       "         'label': 'Eliminations - Most in Game',\n",
       "         'value': 19},\n",
       "        {'key': 'final_blows_most_in_game',\n",
       "         'label': 'Final Blows - Most in Game',\n",
       "         'value': 8},\n",
       "        {'key': 'objective_kill_most_in_game',\n",
       "         'label': 'Objective Kill - Most in Game',\n",
       "         'value': 1},\n",
       "        {'key': 'objective_time_most_in_game',\n",
       "         'label': 'Objective Time - Most in Game',\n",
       "         'value': 51},\n",
       "        {'key': 'solo_kills_most_in_game',\n",
       "         'label': 'Solo Kills - Most in Game',\n",
       "         'value': 2},\n",
       "        {'key': 'critical_hits_most_in_game',\n",
       "         'label': 'Critical Hits - Most in Game',\n",
       "         'value': 16},\n",
       "        {'key': 'critical_hits_most_in_life',\n",
       "         'label': 'Critical Hits - Most in Life',\n",
       "         'value': 7},\n",
       "        {'key': 'hero_damage_done_most_in_game',\n",
       "         'label': 'Hero Damage Done - Most in Game',\n",
       "         'value': 6002},\n",
       "        {'key': 'hero_damage_done_most_in_life',\n",
       "         'label': 'Hero Damage Done - Most in Life',\n",
       "         'value': 2066},\n",
       "        {'key': 'critical_hit_kills_most_in_game',\n",
       "         'label': 'Critical Hit Kills - Most in Game',\n",
       "         'value': 2},\n",
       "        {'key': 'obj_contest_time_most_in_game',\n",
       "         'label': 'Obj Contest Time - Most in Game',\n",
       "         'value': 6}]},\n",
       "      {'category': 'average',\n",
       "       'label': 'Average',\n",
       "       'stats': [{'key': 'objective_time_avg_per_10_min',\n",
       "         'label': 'Objective Time - Avg per 10 Min',\n",
       "         'value': 65},\n",
       "        {'key': 'all_damage_done_avg_per_10_min',\n",
       "         'label': 'All Damage Done - Avg per 10 Min',\n",
       "         'value': 9374},\n",
       "        {'key': 'critical_hits_avg_per_10_min',\n",
       "         'label': 'Critical Hits - Avg per 10 Min',\n",
       "         'value': 20.37},\n",
       "        {'key': 'eliminations_per_life',\n",
       "         'label': 'Eliminations per Life',\n",
       "         'value': 4.75},\n",
       "        {'key': 'objective_kills_avg_per_10_min',\n",
       "         'label': 'Objective Kills - Avg per 10 Min',\n",
       "         'value': 1.27},\n",
       "        {'key': 'obj_contest_time_avg_per_10_min',\n",
       "         'label': 'Obj Contest Time - Avg per 10 Min',\n",
       "         'value': 7},\n",
       "        {'key': 'solo_kills_avg_per_10_min',\n",
       "         'label': 'Solo Kills - Avg per 10 Min',\n",
       "         'value': 2.55},\n",
       "        {'key': 'final_blows_avg_per_10_min',\n",
       "         'label': 'Final Blows - Avg per 10 Min',\n",
       "         'value': 10.18},\n",
       "        {'key': 'deaths_avg_per_10_min',\n",
       "         'label': 'Deaths - Avg per 10 Min',\n",
       "         'value': 5.09},\n",
       "        {'key': 'hero_damage_done_avg_per_10_min',\n",
       "         'label': 'Hero Damage Done - Avg per 10 Min',\n",
       "         'value': 7641},\n",
       "        {'key': 'eliminations_avg_per_10_min',\n",
       "         'label': 'Eliminations - Avg per 10 Min',\n",
       "         'value': 24.19},\n",
       "        {'key': 'critical_hit_kills_avg_per_10_min',\n",
       "         'label': 'Critical Hit Kills - Avg per 10 Min',\n",
       "         'value': 2.55}]},\n",
       "      {'category': 'game',\n",
       "       'label': 'Game',\n",
       "       'stats': [{'key': 'time_played', 'label': 'Time Played', 'value': 471},\n",
       "        {'key': 'game_played', 'label': 'Game Played', 'value': 1},\n",
       "        {'key': 'game_won', 'label': 'Game Won', 'value': 1},\n",
       "        {'key': 'game_won', 'label': 'Game Won', 'value': 1},\n",
       "        {'key': 'game_won', 'label': 'Game Won', 'value': 1},\n",
       "        {'key': 'hero_win', 'label': 'Hero Win', 'value': 1},\n",
       "        {'key': 'win_percentage', 'label': 'Win Percentage', 'value': 100},\n",
       "        {'key': 'games_lost', 'label': 'Games Lost', 'value': 0}]},\n",
       "      {'category': 'combat',\n",
       "       'label': 'Combat',\n",
       "       'stats': [{'key': 'eliminations', 'label': 'Eliminations', 'value': 19},\n",
       "        {'key': 'deaths', 'label': 'Deaths', 'value': 4},\n",
       "        {'key': 'final_blows', 'label': 'Final Blows', 'value': 8},\n",
       "        {'key': 'solo_kills', 'label': 'Solo Kills', 'value': 2},\n",
       "        {'key': 'all_damage_done', 'label': 'All Damage Done', 'value': 7364},\n",
       "        {'key': 'objective_kill', 'label': 'Objective Kill', 'value': 1},\n",
       "        {'key': 'objective_time', 'label': 'Objective Time', 'value': 51},\n",
       "        {'key': 'critical_hits', 'label': 'Critical Hits', 'value': 16},\n",
       "        {'key': 'hero_damage_done',\n",
       "         'label': 'Hero Damage Done',\n",
       "         'value': 6002},\n",
       "        {'key': 'critical_hit_kills',\n",
       "         'label': 'Critical Hit Kills',\n",
       "         'value': 2},\n",
       "        {'key': 'obj_contest_time', 'label': 'Obj Contest Time', 'value': 6},\n",
       "        {'key': 'critical_hit_accuracy',\n",
       "         'label': 'Critical Hit Accuracy',\n",
       "         'value': 14},\n",
       "        {'key': 'weapon_accuracy', 'label': 'Weapon Accuracy', 'value': 40}]}],\n",
       "     'baptiste': None,\n",
       "     'bastion': None,\n",
       "     'brigitte': None,\n",
       "     'cassidy': None,\n",
       "     'dva': None,\n",
       "     'doomfist': None,\n",
       "     'echo': [{'category': 'hero_specific',\n",
       "       'label': 'Hero Specific',\n",
       "       'stats': [{'key': 'focusing_beam_kills',\n",
       "         'label': 'Focusing Beam Kills',\n",
       "         'value': 14},\n",
       "        {'key': 'focusing_beam_kills_most_in_game',\n",
       "         'label': 'Focusing Beam Kills - Most in Game',\n",
       "         'value': 7},\n",
       "        {'key': 'sticky_bombs_kills',\n",
       "         'label': 'Sticky Bombs Kills',\n",
       "         'value': 18},\n",
       "        {'key': 'sticky_bombs_kills_most_in_game',\n",
       "         'label': 'Sticky Bombs Kills - Most in Game',\n",
       "         'value': 10},\n",
       "        {'key': 'duplicate_kills', 'label': 'Duplicate Kills', 'value': 7},\n",
       "        {'key': 'duplicate_kills_most_in_game',\n",
       "         'label': 'Duplicate Kills - Most in Game',\n",
       "         'value': 7},\n",
       "        {'key': 'sticky_bombs_direct_hits_most_in_game',\n",
       "         'label': 'Sticky Bombs Direct Hits - Most in Game',\n",
       "         'value': 58},\n",
       "        {'key': 'sticky_bombs_direct_hits_avg_per_10_min',\n",
       "         'label': 'Sticky Bombs Direct Hits - Avg per 10 Min',\n",
       "         'value': 44.87},\n",
       "        {'key': 'focusing_beam_kills_avg_per_10_min',\n",
       "         'label': 'Focusing Beam Kills - Avg per 10 Min',\n",
       "         'value': 6.75},\n",
       "        {'key': 'focusing_beam_accuracy',\n",
       "         'label': 'Focusing Beam Accuracy',\n",
       "         'value': 38},\n",
       "        {'key': 'sticky_bombs_kills_avg_per_10_min',\n",
       "         'label': 'Sticky Bombs Kills - Avg per 10 Min',\n",
       "         'value': 8.68},\n",
       "        {'key': 'sticky_bombs_direct_hit_accuracy',\n",
       "         'label': 'Sticky Bombs Direct Hit Accuracy',\n",
       "         'value': 20},\n",
       "        {'key': 'duplicate_kills_avg_per_10_min',\n",
       "         'label': 'Duplicate Kills - Avg per 10 Min',\n",
       "         'value': 3.38}]},\n",
       "      {'category': 'best',\n",
       "       'label': 'Best',\n",
       "       'stats': [{'key': 'eliminations_most_in_life',\n",
       "         'label': 'Eliminations - Most in Life',\n",
       "         'value': 15},\n",
       "        {'key': 'all_damage_done_most_in_life',\n",
       "         'label': 'All Damage Done - Most in Life',\n",
       "         'value': 5971},\n",
       "        {'key': 'weapon_accuracy_best_in_game',\n",
       "         'label': 'Weapon Accuracy - Best in Game',\n",
       "         'value': 22},\n",
       "        {'key': 'kill_streak_best',\n",
       "         'label': 'Kill Streak - Best',\n",
       "         'value': 15},\n",
       "        {'key': 'all_damage_done_most_in_game',\n",
       "         'label': 'All Damage Done - Most in Game',\n",
       "         'value': 11512},\n",
       "        {'key': 'eliminations_most_in_game',\n",
       "         'label': 'Eliminations - Most in Game',\n",
       "         'value': 25},\n",
       "        {'key': 'final_blows_most_in_game',\n",
       "         'label': 'Final Blows - Most in Game',\n",
       "         'value': 13},\n",
       "        {'key': 'objective_kills_most_in_game',\n",
       "         'label': 'Objective Kills - Most in Game',\n",
       "         'value': 6},\n",
       "        {'key': 'objective_time_most_in_game',\n",
       "         'label': 'Objective Time - Most in Game',\n",
       "         'value': 21},\n",
       "        {'key': 'multikill_best', 'label': 'Multikill - Best', 'value': 3},\n",
       "        {'key': 'solo_kill_most_in_game',\n",
       "         'label': 'Solo Kill - Most in Game',\n",
       "         'value': 1},\n",
       "        {'key': 'critical_hits_most_in_game',\n",
       "         'label': 'Critical Hits - Most in Game',\n",
       "         'value': 31},\n",
       "        {'key': 'critical_hits_most_in_life',\n",
       "         'label': 'Critical Hits - Most in Life',\n",
       "         'value': 16},\n",
       "        {'key': 'hero_damage_done_most_in_game',\n",
       "         'label': 'Hero Damage Done - Most in Game',\n",
       "         'value': 7652},\n",
       "        {'key': 'hero_damage_done_most_in_life',\n",
       "         'label': 'Hero Damage Done - Most in Life',\n",
       "         'value': 4260},\n",
       "        {'key': 'assist_most_in_game',\n",
       "         'label': 'Assist - Most in Game',\n",
       "         'value': 1},\n",
       "        {'key': 'critical_hit_kill_most_in_game',\n",
       "         'label': 'Critical Hit Kill - Most in Game',\n",
       "         'value': 1},\n",
       "        {'key': 'obj_contest_time_most_in_game',\n",
       "         'label': 'Obj Contest Time - Most in Game',\n",
       "         'value': 14}]},\n",
       "      {'category': 'average',\n",
       "       'label': 'Average',\n",
       "       'stats': [{'key': 'objective_time_avg_per_10_min',\n",
       "         'label': 'Objective Time - Avg per 10 Min',\n",
       "         'value': 22},\n",
       "        {'key': 'all_damage_done_avg_per_10_min',\n",
       "         'label': 'All Damage Done - Avg per 10 Min',\n",
       "         'value': 11547},\n",
       "        {'key': 'critical_hits_avg_per_10_min',\n",
       "         'label': 'Critical Hits - Avg per 10 Min',\n",
       "         'value': 25.09},\n",
       "        {'key': 'eliminations_per_life',\n",
       "         'label': 'Eliminations per Life',\n",
       "         'value': 3.82},\n",
       "        {'key': 'objective_kills_avg_per_10_min',\n",
       "         'label': 'Objective Kills - Avg per 10 Min',\n",
       "         'value': 3.86},\n",
       "        {'key': 'obj_contest_time_avg_per_10_min',\n",
       "         'label': 'Obj Contest Time - Avg per 10 Min',\n",
       "         'value': 14},\n",
       "        {'key': 'solo_kills_avg_per_10_min',\n",
       "         'label': 'Solo Kills - Avg per 10 Min',\n",
       "         'value': 0.48},\n",
       "        {'key': 'final_blows_avg_per_10_min',\n",
       "         'label': 'Final Blows - Avg per 10 Min',\n",
       "         'value': 9.65},\n",
       "        {'key': 'healing_done_avg_per_10_min',\n",
       "         'label': 'Healing Done - Avg per 10 Min',\n",
       "         'value': 34.34},\n",
       "        {'key': 'deaths_avg_per_10_min',\n",
       "         'label': 'Deaths - Avg per 10 Min',\n",
       "         'value': 5.31},\n",
       "        {'key': 'hero_damage_done_avg_per_10_min',\n",
       "         'label': 'Hero Damage Done - Avg per 10 Min',\n",
       "         'value': 7667},\n",
       "        {'key': 'eliminations_avg_per_10_min',\n",
       "         'label': 'Eliminations - Avg per 10 Min',\n",
       "         'value': 20.26},\n",
       "        {'key': 'assists_avg_per_10_min',\n",
       "         'label': 'Assists - Avg per 10 min',\n",
       "         'value': 0.48},\n",
       "        {'key': 'critical_hit_kills_avg_per_10_min',\n",
       "         'label': 'Critical Hit Kills - Avg per 10 Min',\n",
       "         'value': 0.48}]},\n",
       "      {'category': 'game',\n",
       "       'label': 'Game',\n",
       "       'stats': [{'key': 'time_played', 'label': 'Time Played', 'value': 1244},\n",
       "        {'key': 'games_played', 'label': 'Games Played', 'value': 3},\n",
       "        {'key': 'game_won', 'label': 'Game Won', 'value': 1},\n",
       "        {'key': 'game_won', 'label': 'Game Won', 'value': 1},\n",
       "        {'key': 'game_won', 'label': 'Game Won', 'value': 1},\n",
       "        {'key': 'hero_win', 'label': 'Hero Win', 'value': 1},\n",
       "        {'key': 'win_percentage', 'label': 'Win Percentage', 'value': 36},\n",
       "        {'key': 'games_lost', 'label': 'Games Lost', 'value': 2}]},\n",
       "      {'category': 'combat',\n",
       "       'label': 'Combat',\n",
       "       'stats': [{'key': 'eliminations', 'label': 'Eliminations', 'value': 42},\n",
       "        {'key': 'deaths', 'label': 'Deaths', 'value': 11},\n",
       "        {'key': 'final_blows', 'label': 'Final Blows', 'value': 20},\n",
       "        {'key': 'solo_kill', 'label': 'Solo Kill', 'value': 1},\n",
       "        {'key': 'all_damage_done', 'label': 'All Damage Done', 'value': 23931},\n",
       "        {'key': 'objective_kills', 'label': 'Objective Kills', 'value': 8},\n",
       "        {'key': 'objective_time', 'label': 'Objective Time', 'value': 46},\n",
       "        {'key': 'multikill', 'label': 'Multikill', 'value': 1},\n",
       "        {'key': 'critical_hits', 'label': 'Critical Hits', 'value': 52},\n",
       "        {'key': 'hero_damage_done',\n",
       "         'label': 'Hero Damage Done',\n",
       "         'value': 15891},\n",
       "        {'key': 'critical_hit_kill', 'label': 'Critical Hit Kill', 'value': 1},\n",
       "        {'key': 'obj_contest_time', 'label': 'Obj Contest Time', 'value': 30},\n",
       "        {'key': 'critical_hit_accuracy',\n",
       "         'label': 'Critical Hit Accuracy',\n",
       "         'value': 8},\n",
       "        {'key': 'weapon_accuracy', 'label': 'Weapon Accuracy', 'value': 20}]},\n",
       "      {'category': 'assists',\n",
       "       'label': 'Assists',\n",
       "       'stats': [{'key': 'assist', 'label': 'Assist', 'value': 1}]}],\n",
       "     'genji': None,\n",
       "     'hanzo': None,\n",
       "     'junker-queen': None,\n",
       "     'junkrat': [{'category': 'hero_specific',\n",
       "       'label': 'Hero Specific',\n",
       "       'stats': [{'key': 'rip_tire_kill_most_in_game',\n",
       "         'label': 'RIP-Tire Kill - Most in Game',\n",
       "         'value': 1},\n",
       "        {'key': 'rip_tire_kill', 'label': 'RIP-Tire Kill', 'value': 1},\n",
       "        {'key': 'direct_hit_accuracy',\n",
       "         'label': 'Direct Hit Accuracy',\n",
       "         'value': 7},\n",
       "        {'key': 'rip_tire_kills_avg_per_10_min',\n",
       "         'label': 'RIP-Tire Kills - Avg per 10 Min',\n",
       "         'value': 30.82}]},\n",
       "      {'category': 'best',\n",
       "       'label': 'Best',\n",
       "       'stats': [{'key': 'eliminations_most_in_life',\n",
       "         'label': 'Eliminations - Most in Life',\n",
       "         'value': 8},\n",
       "        {'key': 'all_damage_done_most_in_life',\n",
       "         'label': 'All Damage Done - Most in Life',\n",
       "         'value': 120},\n",
       "        {'key': 'weapon_accuracy_best_in_game',\n",
       "         'label': 'Weapon Accuracy - Best in Game',\n",
       "         'value': 7},\n",
       "        {'key': 'kill_streak_best', 'label': 'Kill Streak - Best', 'value': 8},\n",
       "        {'key': 'all_damage_done_most_in_game',\n",
       "         'label': 'All Damage Done - Most in Game',\n",
       "         'value': 120},\n",
       "        {'key': 'eliminations_most_in_game',\n",
       "         'label': 'Eliminations - Most in Game',\n",
       "         'value': 12},\n",
       "        {'key': 'final_blows_most_in_game',\n",
       "         'label': 'Final Blows - Most in Game',\n",
       "         'value': 9},\n",
       "        {'key': 'objective_kills_most_in_game',\n",
       "         'label': 'Objective Kills - Most in Game',\n",
       "         'value': 2},\n",
       "        {'key': 'solo_kills_most_in_game',\n",
       "         'label': 'Solo Kills - Most in Game',\n",
       "         'value': 3},\n",
       "        {'key': 'hero_damage_done_most_in_game',\n",
       "         'label': 'Hero Damage Done - Most in Game',\n",
       "         'value': 120},\n",
       "        {'key': 'hero_damage_done_most_in_life',\n",
       "         'label': 'Hero Damage Done - Most in Life',\n",
       "         'value': 120}]},\n",
       "      {'category': 'average',\n",
       "       'label': 'Average',\n",
       "       'stats': [{'key': 'all_damage_done_avg_per_10_min',\n",
       "         'label': 'All Damage Done - Avg per 10 Min',\n",
       "         'value': 3698},\n",
       "        {'key': 'objective_kills_avg_per_10_min',\n",
       "         'label': 'Objective Kills - Avg per 10 Min',\n",
       "         'value': 61.63},\n",
       "        {'key': 'solo_kills_avg_per_10_min',\n",
       "         'label': 'Solo Kills - Avg per 10 Min',\n",
       "         'value': 92.45},\n",
       "        {'key': 'final_blows_avg_per_10_min',\n",
       "         'label': 'Final Blows - Avg per 10 Min',\n",
       "         'value': 277},\n",
       "        {'key': 'hero_damage_done_avg_per_10_min',\n",
       "         'label': 'Hero Damage Done - Avg per 10 Min',\n",
       "         'value': 3698},\n",
       "        {'key': 'eliminations_avg_per_10_min',\n",
       "         'label': 'Eliminations - Avg per 10 Min',\n",
       "         'value': 370}]},\n",
       "      {'category': 'game',\n",
       "       'label': 'Game',\n",
       "       'stats': [{'key': 'time_played', 'label': 'Time Played', 'value': 19},\n",
       "        {'key': 'games_played', 'label': 'Games Played', 'value': 0},\n",
       "        {'key': 'game_won', 'label': 'Game Won', 'value': 1},\n",
       "        {'key': 'game_won', 'label': 'Game Won', 'value': 1},\n",
       "        {'key': 'game_won', 'label': 'Game Won', 'value': 1},\n",
       "        {'key': 'hero_win', 'label': 'Hero Win', 'value': 1},\n",
       "        {'key': 'win_percentage', 'label': 'Win Percentage', 'value': 1950},\n",
       "        {'key': 'games_lost', 'label': 'Games Lost', 'value': -1}]},\n",
       "      {'category': 'combat',\n",
       "       'label': 'Combat',\n",
       "       'stats': [{'key': 'eliminations', 'label': 'Eliminations', 'value': 12},\n",
       "        {'key': 'final_blows', 'label': 'Final Blows', 'value': 9},\n",
       "        {'key': 'solo_kills', 'label': 'Solo Kills', 'value': 3},\n",
       "        {'key': 'all_damage_done', 'label': 'All Damage Done', 'value': 120},\n",
       "        {'key': 'objective_kills', 'label': 'Objective Kills', 'value': 2},\n",
       "        {'key': 'hero_damage_done', 'label': 'Hero Damage Done', 'value': 120},\n",
       "        {'key': 'weapon_accuracy', 'label': 'Weapon Accuracy', 'value': 7}]}],\n",
       "     'kiriko': None,\n",
       "     'lifeweaver': None,\n",
       "     'lucio': [{'category': 'hero_specific',\n",
       "       'label': 'Hero Specific',\n",
       "       'stats': [{'key': 'sound_barriers_provided',\n",
       "         'label': 'Sound Barriers Provided',\n",
       "         'value': 9},\n",
       "        {'key': 'sound_barriers_provided_most_in_game',\n",
       "         'label': 'Sound Barriers Provided - Most in Game',\n",
       "         'value': 9},\n",
       "        {'key': 'self_healing', 'label': 'Self Healing', 'value': 940},\n",
       "        {'key': 'self_healing_most_in_game',\n",
       "         'label': 'Self Healing - Most in Game',\n",
       "         'value': 940},\n",
       "        {'key': 'players_knocked_back_most_in_game',\n",
       "         'label': 'Players Knocked Back - Most in Game',\n",
       "         'value': 11},\n",
       "        {'key': 'self_healing_avg_per_10_min',\n",
       "         'label': 'Self Healing - Avg per 10 Min',\n",
       "         'value': 1231},\n",
       "        {'key': 'players_knocked_back_avg_per_10_min',\n",
       "         'label': 'Players Knocked Back - Avg per 10 Min',\n",
       "         'value': 14.4},\n",
       "        {'key': 'sound_barriers_provided_avg_per_10_min',\n",
       "         'label': 'Sound Barriers Provided - Avg per 10 Min',\n",
       "         'value': 11.78}]},\n",
       "      {'category': 'best',\n",
       "       'label': 'Best',\n",
       "       'stats': [{'key': 'eliminations_most_in_life',\n",
       "         'label': 'Eliminations - Most in Life',\n",
       "         'value': 9},\n",
       "        {'key': 'all_damage_done_most_in_life',\n",
       "         'label': 'All Damage Done - Most in Life',\n",
       "         'value': 3457},\n",
       "        {'key': 'weapon_accuracy_best_in_game',\n",
       "         'label': 'Weapon Accuracy - Best in Game',\n",
       "         'value': 25},\n",
       "        {'key': 'kill_streak_best', 'label': 'Kill Streak - Best', 'value': 9},\n",
       "        {'key': 'all_damage_done_most_in_game',\n",
       "         'label': 'All Damage Done - Most in Game',\n",
       "         'value': 4948},\n",
       "        {'key': 'eliminations_most_in_game',\n",
       "         'label': 'Eliminations - Most in Game',\n",
       "         'value': 18},\n",
       "        {'key': 'final_blows_most_in_game',\n",
       "         'label': 'Final Blows - Most in Game',\n",
       "         'value': 8},\n",
       "        {'key': 'objective_kills_most_in_game',\n",
       "         'label': 'Objective Kills - Most in Game',\n",
       "         'value': 2},\n",
       "        {'key': 'objective_time_most_in_game',\n",
       "         'label': 'Objective Time - Most in Game',\n",
       "         'value': 41},\n",
       "        {'key': 'solo_kills_most_in_game',\n",
       "         'label': 'Solo Kills - Most in Game',\n",
       "         'value': 3},\n",
       "        {'key': 'critical_hits_most_in_game',\n",
       "         'label': 'Critical Hits - Most in Game',\n",
       "         'value': 21},\n",
       "        {'key': 'critical_hits_most_in_life',\n",
       "         'label': 'Critical Hits - Most in Life',\n",
       "         'value': 17},\n",
       "        {'key': 'hero_damage_done_most_in_game',\n",
       "         'label': 'Hero Damage Done - Most in Game',\n",
       "         'value': 4697},\n",
       "        {'key': 'hero_damage_done_most_in_life',\n",
       "         'label': 'Hero Damage Done - Most in Life',\n",
       "         'value': 3206},\n",
       "        {'key': 'assists_most_in_game',\n",
       "         'label': 'Assists - Most in Game',\n",
       "         'value': 6},\n",
       "        {'key': 'critical_hit_kills_most_in_game',\n",
       "         'label': 'Critical Hit Kills - Most in Game',\n",
       "         'value': 2},\n",
       "        {'key': 'obj_contest_time_most_in_game',\n",
       "         'label': 'Obj Contest Time - Most in Game',\n",
       "         'value': 4}]},\n",
       "      {'category': 'average',\n",
       "       'label': 'Average',\n",
       "       'stats': [{'key': 'objective_time_avg_per_10_min',\n",
       "         'label': 'Objective Time - Avg per 10 Min',\n",
       "         'value': 53},\n",
       "        {'key': 'all_damage_done_avg_per_10_min',\n",
       "         'label': 'All Damage Done - Avg per 10 Min',\n",
       "         'value': 6478},\n",
       "        {'key': 'critical_hits_avg_per_10_min',\n",
       "         'label': 'Critical Hits - Avg per 10 Min',\n",
       "         'value': 27.49},\n",
       "        {'key': 'eliminations_per_life',\n",
       "         'label': 'Eliminations per Life',\n",
       "         'value': 18.0},\n",
       "        {'key': 'objective_kills_avg_per_10_min',\n",
       "         'label': 'Objective Kills - Avg per 10 Min',\n",
       "         'value': 2.62},\n",
       "        {'key': 'obj_contest_time_avg_per_10_min',\n",
       "         'label': 'Obj Contest Time - Avg per 10 Min',\n",
       "         'value': 6},\n",
       "        {'key': 'solo_kills_avg_per_10_min',\n",
       "         'label': 'Solo Kills - Avg per 10 Min',\n",
       "         'value': 3.93},\n",
       "        {'key': 'final_blows_avg_per_10_min',\n",
       "         'label': 'Final Blows - Avg per 10 Min',\n",
       "         'value': 10.47},\n",
       "        {'key': 'healing_done_avg_per_10_min',\n",
       "         'label': 'Healing Done - Avg per 10 Min',\n",
       "         'value': 5309},\n",
       "        {'key': 'deaths_avg_per_10_min',\n",
       "         'label': 'Deaths - Avg per 10 Min',\n",
       "         'value': 1.31},\n",
       "        {'key': 'hero_damage_done_avg_per_10_min',\n",
       "         'label': 'Hero Damage Done - Avg per 10 Min',\n",
       "         'value': 6149},\n",
       "        {'key': 'eliminations_avg_per_10_min',\n",
       "         'label': 'Eliminations - Avg per 10 Min',\n",
       "         'value': 23.56},\n",
       "        {'key': 'assists_avg_per_10_min',\n",
       "         'label': 'Assists - Avg per 10 min',\n",
       "         'value': 7.85},\n",
       "        {'key': 'critical_hit_kills_avg_per_10_min',\n",
       "         'label': 'Critical Hit Kills - Avg per 10 Min',\n",
       "         'value': 2.62}]},\n",
       "      {'category': 'game',\n",
       "       'label': 'Game',\n",
       "       'stats': [{'key': 'time_played', 'label': 'Time Played', 'value': 458},\n",
       "        {'key': 'game_played', 'label': 'Game Played', 'value': 1},\n",
       "        {'key': 'game_won', 'label': 'Game Won', 'value': 1},\n",
       "        {'key': 'game_won', 'label': 'Game Won', 'value': 1},\n",
       "        {'key': 'game_won', 'label': 'Game Won', 'value': 1},\n",
       "        {'key': 'hero_win', 'label': 'Hero Win', 'value': 1},\n",
       "        {'key': 'win_percentage', 'label': 'Win Percentage', 'value': 100},\n",
       "        {'key': 'games_lost', 'label': 'Games Lost', 'value': 0}]},\n",
       "      {'category': 'combat',\n",
       "       'label': 'Combat',\n",
       "       'stats': [{'key': 'eliminations', 'label': 'Eliminations', 'value': 18},\n",
       "        {'key': 'death', 'label': 'Death', 'value': 1},\n",
       "        {'key': 'final_blows', 'label': 'Final Blows', 'value': 8},\n",
       "        {'key': 'solo_kills', 'label': 'Solo Kills', 'value': 3},\n",
       "        {'key': 'all_damage_done', 'label': 'All Damage Done', 'value': 4948},\n",
       "        {'key': 'objective_kills', 'label': 'Objective Kills', 'value': 2},\n",
       "        {'key': 'objective_time', 'label': 'Objective Time', 'value': 41},\n",
       "        {'key': 'critical_hits', 'label': 'Critical Hits', 'value': 21},\n",
       "        {'key': 'hero_damage_done',\n",
       "         'label': 'Hero Damage Done',\n",
       "         'value': 4697},\n",
       "        {'key': 'critical_hit_kills',\n",
       "         'label': 'Critical Hit Kills',\n",
       "         'value': 2},\n",
       "        {'key': 'obj_contest_time', 'label': 'Obj Contest Time', 'value': 4},\n",
       "        {'key': 'critical_hit_accuracy',\n",
       "         'label': 'Critical Hit Accuracy',\n",
       "         'value': 10},\n",
       "        {'key': 'weapon_accuracy', 'label': 'Weapon Accuracy', 'value': 25}]},\n",
       "      {'category': 'assists',\n",
       "       'label': 'Assists',\n",
       "       'stats': [{'key': 'offensive_assists',\n",
       "         'label': 'Offensive Assists',\n",
       "         'value': 5},\n",
       "        {'key': 'offensive_assists_most_in_game',\n",
       "         'label': 'Offensive Assists - Most in Game',\n",
       "         'value': 5},\n",
       "        {'key': 'defensive_assists', 'label': 'Defensive Assists', 'value': 3},\n",
       "        {'key': 'defensive_assists_most_in_game',\n",
       "         'label': 'Defensive Assists - Most in Game',\n",
       "         'value': 3},\n",
       "        {'key': 'healing_done', 'label': 'Healing Done', 'value': 4056},\n",
       "        {'key': 'healing_done_most_in_game',\n",
       "         'label': 'Healing Done - Most in Game',\n",
       "         'value': 4056},\n",
       "        {'key': 'assists', 'label': 'Assists', 'value': 6},\n",
       "        {'key': 'defensive_assists_avg_per_10_min',\n",
       "         'label': 'Defensive Assists - Avg per 10 Min',\n",
       "         'value': 3.93},\n",
       "        {'key': 'offensive_assists_avg_per_10_min',\n",
       "         'label': 'Offensive Assists - Avg per 10 Min',\n",
       "         'value': 6.55}]}],\n",
       "     'mei': None,\n",
       "     'mercy': [{'category': 'best',\n",
       "       'label': 'Best',\n",
       "       'stats': [{'key': 'assist_most_in_game',\n",
       "         'label': 'Assist - Most in Game',\n",
       "         'value': 1}]},\n",
       "      {'category': 'average',\n",
       "       'label': 'Average',\n",
       "       'stats': [{'key': 'healing_done_avg_per_10_min',\n",
       "         'label': 'Healing Done - Avg per 10 Min',\n",
       "         'value': 1323},\n",
       "        {'key': 'deaths_avg_per_10_min',\n",
       "         'label': 'Deaths - Avg per 10 Min',\n",
       "         'value': 21.17},\n",
       "        {'key': 'assists_avg_per_10_min',\n",
       "         'label': 'Assists - Avg per 10 min',\n",
       "         'value': 21.17}]},\n",
       "      {'category': 'game',\n",
       "       'label': 'Game',\n",
       "       'stats': [{'key': 'time_played', 'label': 'Time Played', 'value': 28},\n",
       "        {'key': 'game_played', 'label': 'Game Played', 'value': 1},\n",
       "        {'key': 'game_lost', 'label': 'Game Lost', 'value': 1}]},\n",
       "      {'category': 'combat',\n",
       "       'label': 'Combat',\n",
       "       'stats': [{'key': 'death', 'label': 'Death', 'value': 1}]},\n",
       "      {'category': 'assists',\n",
       "       'label': 'Assists',\n",
       "       'stats': [{'key': 'defensive_assist',\n",
       "         'label': 'Defensive Assist',\n",
       "         'value': 1},\n",
       "        {'key': 'defensive_assist_most_in_game',\n",
       "         'label': 'Defensive Assist - Most in Game',\n",
       "         'value': 1},\n",
       "        {'key': 'healing_done', 'label': 'Healing Done', 'value': 63},\n",
       "        {'key': 'healing_done_most_in_game',\n",
       "         'label': 'Healing Done - Most in Game',\n",
       "         'value': 63},\n",
       "        {'key': 'assist', 'label': 'Assist', 'value': 1},\n",
       "        {'key': 'defensive_assists_avg_per_10_min',\n",
       "         'label': 'Defensive Assists - Avg per 10 Min',\n",
       "         'value': 21.17}]}],\n",
       "     'moira': None,\n",
       "     'orisa': None,\n",
       "     'pharah': None,\n",
       "     'ramattra': None,\n",
       "     'reaper': [{'category': 'hero_specific',\n",
       "       'label': 'Hero Specific',\n",
       "       'stats': [{'key': 'death_blossom_kills',\n",
       "         'label': 'Death Blossom Kills',\n",
       "         'value': 3},\n",
       "        {'key': 'death_blossom_kills_most_in_game',\n",
       "         'label': 'Death Blossom Kills - Most in Game',\n",
       "         'value': 3},\n",
       "        {'key': 'self_healing', 'label': 'Self Healing', 'value': 2004},\n",
       "        {'key': 'self_healing_most_in_game',\n",
       "         'label': 'Self Healing - Most in Game',\n",
       "         'value': 1849},\n",
       "        {'key': 'self_healing_avg_per_10_min',\n",
       "         'label': 'Self Healing - Avg per 10 Min',\n",
       "         'value': 1525},\n",
       "        {'key': 'death_blossom_kills_avg_per_10_min',\n",
       "         'label': 'Death Blossom Kills - Avg per 10 Min',\n",
       "         'value': 2.28}]},\n",
       "      {'category': 'best',\n",
       "       'label': 'Best',\n",
       "       'stats': [{'key': 'eliminations_most_in_life',\n",
       "         'label': 'Eliminations - Most in Life',\n",
       "         'value': 13},\n",
       "        {'key': 'all_damage_done_most_in_life',\n",
       "         'label': 'All Damage Done - Most in Life',\n",
       "         'value': 4768},\n",
       "        {'key': 'weapon_accuracy_best_in_game',\n",
       "         'label': 'Weapon Accuracy - Best in Game',\n",
       "         'value': 23},\n",
       "        {'key': 'kill_streak_best',\n",
       "         'label': 'Kill Streak - Best',\n",
       "         'value': 13},\n",
       "        {'key': 'all_damage_done_most_in_game',\n",
       "         'label': 'All Damage Done - Most in Game',\n",
       "         'value': 11661},\n",
       "        {'key': 'eliminations_most_in_game',\n",
       "         'label': 'Eliminations - Most in Game',\n",
       "         'value': 34},\n",
       "        {'key': 'final_blows_most_in_game',\n",
       "         'label': 'Final Blows - Most in Game',\n",
       "         'value': 17},\n",
       "        {'key': 'objective_kills_most_in_game',\n",
       "         'label': 'Objective Kills - Most in Game',\n",
       "         'value': 15},\n",
       "        {'key': 'objective_time_most_in_game',\n",
       "         'label': 'Objective Time - Most in Game',\n",
       "         'value': 87},\n",
       "        {'key': 'multikill_best', 'label': 'Multikill - Best', 'value': 3},\n",
       "        {'key': 'solo_kills_most_in_game',\n",
       "         'label': 'Solo Kills - Most in Game',\n",
       "         'value': 5},\n",
       "        {'key': 'critical_hits_most_in_game',\n",
       "         'label': 'Critical Hits - Most in Game',\n",
       "         'value': 239},\n",
       "        {'key': 'critical_hits_most_in_life',\n",
       "         'label': 'Critical Hits - Most in Life',\n",
       "         'value': 87},\n",
       "        {'key': 'melee_final_blow_most_in_game',\n",
       "         'label': 'Melee Final Blow - Most in Game',\n",
       "         'value': 1},\n",
       "        {'key': 'hero_damage_done_most_in_game',\n",
       "         'label': 'Hero Damage Done - Most in Game',\n",
       "         'value': 9165},\n",
       "        {'key': 'hero_damage_done_most_in_life',\n",
       "         'label': 'Hero Damage Done - Most in Life',\n",
       "         'value': 3563},\n",
       "        {'key': 'critical_hit_kills_most_in_game',\n",
       "         'label': 'Critical Hit Kills - Most in Game',\n",
       "         'value': 5},\n",
       "        {'key': 'obj_contest_time_most_in_game',\n",
       "         'label': 'Obj Contest Time - Most in Game',\n",
       "         'value': 69}]},\n",
       "      {'category': 'average',\n",
       "       'label': 'Average',\n",
       "       'stats': [{'key': 'melee_final_blows_avg_per_10_min',\n",
       "         'label': 'Melee Final Blows - Avg per 10 Min',\n",
       "         'value': 0.76},\n",
       "        {'key': 'objective_time_avg_per_10_min',\n",
       "         'label': 'Objective Time - Avg per 10 Min',\n",
       "         'value': 68},\n",
       "        {'key': 'all_damage_done_avg_per_10_min',\n",
       "         'label': 'All Damage Done - Avg per 10 Min',\n",
       "         'value': 9751},\n",
       "        {'key': 'critical_hits_avg_per_10_min',\n",
       "         'label': 'Critical Hits - Avg per 10 Min',\n",
       "         'value': 202},\n",
       "        {'key': 'eliminations_per_life',\n",
       "         'label': 'Eliminations per Life',\n",
       "         'value': 4.5},\n",
       "        {'key': 'objective_kills_avg_per_10_min',\n",
       "         'label': 'Objective Kills - Avg per 10 Min',\n",
       "         'value': 12.94},\n",
       "        {'key': 'obj_contest_time_avg_per_10_min',\n",
       "         'label': 'Obj Contest Time - Avg per 10 Min',\n",
       "         'value': 54},\n",
       "        {'key': 'solo_kills_avg_per_10_min',\n",
       "         'label': 'Solo Kills - Avg per 10 Min',\n",
       "         'value': 3.8},\n",
       "        {'key': 'final_blows_avg_per_10_min',\n",
       "         'label': 'Final Blows - Avg per 10 Min',\n",
       "         'value': 13.7},\n",
       "        {'key': 'healing_done_avg_per_10_min',\n",
       "         'label': 'Healing Done - Avg per 10 Min',\n",
       "         'value': 1525},\n",
       "        {'key': 'deaths_avg_per_10_min',\n",
       "         'label': 'Deaths - Avg per 10 Min',\n",
       "         'value': 6.09},\n",
       "        {'key': 'hero_damage_done_avg_per_10_min',\n",
       "         'label': 'Hero Damage Done - Avg per 10 Min',\n",
       "         'value': 7681},\n",
       "        {'key': 'eliminations_avg_per_10_min',\n",
       "         'label': 'Eliminations - Avg per 10 Min',\n",
       "         'value': 27.39},\n",
       "        {'key': 'critical_hit_kills_avg_per_10_min',\n",
       "         'label': 'Critical Hit Kills - Avg per 10 Min',\n",
       "         'value': 3.8}]},\n",
       "      {'category': 'game',\n",
       "       'label': 'Game',\n",
       "       'stats': [{'key': 'time_played', 'label': 'Time Played', 'value': 789},\n",
       "        {'key': 'games_played', 'label': 'Games Played', 'value': 1},\n",
       "        {'key': 'game_won', 'label': 'Game Won', 'value': 1},\n",
       "        {'key': 'game_won', 'label': 'Game Won', 'value': 1},\n",
       "        {'key': 'game_won', 'label': 'Game Won', 'value': 1},\n",
       "        {'key': 'hero_win', 'label': 'Hero Win', 'value': 1},\n",
       "        {'key': 'win_percentage', 'label': 'Win Percentage', 'value': 83},\n",
       "        {'key': 'games_lost', 'label': 'Games Lost', 'value': 0}]},\n",
       "      {'category': 'combat',\n",
       "       'label': 'Combat',\n",
       "       'stats': [{'key': 'eliminations', 'label': 'Eliminations', 'value': 36},\n",
       "        {'key': 'deaths', 'label': 'Deaths', 'value': 8},\n",
       "        {'key': 'final_blows', 'label': 'Final Blows', 'value': 18},\n",
       "        {'key': 'solo_kills', 'label': 'Solo Kills', 'value': 5},\n",
       "        {'key': 'all_damage_done', 'label': 'All Damage Done', 'value': 12815},\n",
       "        {'key': 'objective_kills', 'label': 'Objective Kills', 'value': 17},\n",
       "        {'key': 'objective_time', 'label': 'Objective Time', 'value': 89},\n",
       "        {'key': 'multikill', 'label': 'Multikill', 'value': 1},\n",
       "        {'key': 'melee_final_blow', 'label': 'Melee Final Blow', 'value': 1},\n",
       "        {'key': 'critical_hits', 'label': 'Critical Hits', 'value': 266},\n",
       "        {'key': 'hero_damage_done',\n",
       "         'label': 'Hero Damage Done',\n",
       "         'value': 10095},\n",
       "        {'key': 'critical_hit_kills',\n",
       "         'label': 'Critical Hit Kills',\n",
       "         'value': 5},\n",
       "        {'key': 'obj_contest_time', 'label': 'Obj Contest Time', 'value': 71},\n",
       "        {'key': 'critical_hit_accuracy',\n",
       "         'label': 'Critical Hit Accuracy',\n",
       "         'value': 15},\n",
       "        {'key': 'weapon_accuracy', 'label': 'Weapon Accuracy', 'value': 22}]}],\n",
       "     'reinhardt': None,\n",
       "     'roadhog': None,\n",
       "     'sigma': None,\n",
       "     'sojourn': None,\n",
       "     'soldier-76': [{'category': 'hero_specific',\n",
       "       'label': 'Hero Specific',\n",
       "       'stats': [{'key': 'helix_rocket_kills_most_in_game',\n",
       "         'label': 'Helix Rocket Kills - Most in Game',\n",
       "         'value': 13},\n",
       "        {'key': 'helix_rocket_kills',\n",
       "         'label': 'Helix Rocket Kills',\n",
       "         'value': 25},\n",
       "        {'key': 'tactical_visor_kills',\n",
       "         'label': 'Tactical Visor Kills',\n",
       "         'value': 9},\n",
       "        {'key': 'tactical_visor_kills_most_in_game',\n",
       "         'label': 'Tactical Visor Kills - Most in Game',\n",
       "         'value': 5},\n",
       "        {'key': 'self_healing', 'label': 'Self Healing', 'value': 1798},\n",
       "        {'key': 'self_healing_most_in_game',\n",
       "         'label': 'Self Healing - Most in Game',\n",
       "         'value': 666},\n",
       "        {'key': 'long_range_final_blows',\n",
       "         'label': 'Long Range Final Blows',\n",
       "         'value': 8},\n",
       "        {'key': 'long_range_final_blows_most_in_game',\n",
       "         'label': 'Long Range Final Blows - Most in Game',\n",
       "         'value': 5},\n",
       "        {'key': 'self_healing_avg_per_10_min',\n",
       "         'label': 'Self Healing - Avg per 10 Min',\n",
       "         'value': 872},\n",
       "        {'key': 'long_range_final_blows_avg_per_10_min',\n",
       "         'label': 'Long Range Final Blows - Avg per 10 Min',\n",
       "         'value': 3.88},\n",
       "        {'key': 'tactical_visor_kills_avg_per_10_min',\n",
       "         'label': 'Tactical Visor Kills - Avg per 10 Min',\n",
       "         'value': 4.36},\n",
       "        {'key': 'helix_rocket_accuracy',\n",
       "         'label': 'Helix Rocket Accuracy',\n",
       "         'value': 69},\n",
       "        {'key': 'helix_rocket_kills_avg_per_10_min',\n",
       "         'label': 'Helix Rocket Kills - Avg per 10 Min',\n",
       "         'value': 12.12}]},\n",
       "      {'category': 'best',\n",
       "       'label': 'Best',\n",
       "       'stats': [{'key': 'eliminations_most_in_life',\n",
       "         'label': 'Eliminations - Most in Life',\n",
       "         'value': 15},\n",
       "        {'key': 'all_damage_done_most_in_life',\n",
       "         'label': 'All Damage Done - Most in Life',\n",
       "         'value': 5405},\n",
       "        {'key': 'weapon_accuracy_best_in_game',\n",
       "         'label': 'Weapon Accuracy - Best in Game',\n",
       "         'value': 38},\n",
       "        {'key': 'kill_streak_best',\n",
       "         'label': 'Kill Streak - Best',\n",
       "         'value': 15},\n",
       "        {'key': 'all_damage_done_most_in_game',\n",
       "         'label': 'All Damage Done - Most in Game',\n",
       "         'value': 14093},\n",
       "        {'key': 'eliminations_most_in_game',\n",
       "         'label': 'Eliminations - Most in Game',\n",
       "         'value': 38},\n",
       "        {'key': 'final_blows_most_in_game',\n",
       "         'label': 'Final Blows - Most in Game',\n",
       "         'value': 24},\n",
       "        {'key': 'objective_kills_most_in_game',\n",
       "         'label': 'Objective Kills - Most in Game',\n",
       "         'value': 5},\n",
       "        {'key': 'objective_time_most_in_game',\n",
       "         'label': 'Objective Time - Most in Game',\n",
       "         'value': 14},\n",
       "        {'key': 'solo_kills_most_in_game',\n",
       "         'label': 'Solo Kills - Most in Game',\n",
       "         'value': 5},\n",
       "        {'key': 'critical_hits_most_in_game',\n",
       "         'label': 'Critical Hits - Most in Game',\n",
       "         'value': 79},\n",
       "        {'key': 'critical_hits_most_in_life',\n",
       "         'label': 'Critical Hits - Most in Life',\n",
       "         'value': 36},\n",
       "        {'key': 'hero_damage_done_most_in_game',\n",
       "         'label': 'Hero Damage Done - Most in Game',\n",
       "         'value': 13855},\n",
       "        {'key': 'hero_damage_done_most_in_life',\n",
       "         'label': 'Hero Damage Done - Most in Life',\n",
       "         'value': 5275},\n",
       "        {'key': 'assist_most_in_game',\n",
       "         'label': 'Assist - Most in Game',\n",
       "         'value': 1},\n",
       "        {'key': 'environmental_kill_most_in_game',\n",
       "         'label': 'Environmental Kill - Most in Game',\n",
       "         'value': 1},\n",
       "        {'key': 'critical_hit_kills_most_in_game',\n",
       "         'label': 'Critical Hit Kills - Most in Game',\n",
       "         'value': 4},\n",
       "        {'key': 'obj_contest_time_most_in_game',\n",
       "         'label': 'Obj Contest Time - Most in Game',\n",
       "         'value': 8}]},\n",
       "      {'category': 'average',\n",
       "       'label': 'Average',\n",
       "       'stats': [{'key': 'objective_time_avg_per_10_min',\n",
       "         'label': 'Objective Time - Avg per 10 Min',\n",
       "         'value': 8},\n",
       "        {'key': 'all_damage_done_avg_per_10_min',\n",
       "         'label': 'All Damage Done - Avg per 10 Min',\n",
       "         'value': 14538},\n",
       "        {'key': 'critical_hits_avg_per_10_min',\n",
       "         'label': 'Critical Hits - Avg per 10 Min',\n",
       "         'value': 69.35},\n",
       "        {'key': 'eliminations_per_life',\n",
       "         'label': 'Eliminations per Life',\n",
       "         'value': 5.92},\n",
       "        {'key': 'objective_kills_avg_per_10_min',\n",
       "         'label': 'Objective Kills - Avg per 10 Min',\n",
       "         'value': 6.79},\n",
       "        {'key': 'obj_contest_time_avg_per_10_min',\n",
       "         'label': 'Obj Contest Time - Avg per 10 Min',\n",
       "         'value': 5},\n",
       "        {'key': 'solo_kills_avg_per_10_min',\n",
       "         'label': 'Solo Kills - Avg per 10 Min',\n",
       "         'value': 3.88},\n",
       "        {'key': 'final_blows_avg_per_10_min',\n",
       "         'label': 'Final Blows - Avg per 10 Min',\n",
       "         'value': 21.34},\n",
       "        {'key': 'healing_done_avg_per_10_min',\n",
       "         'label': 'Healing Done - Avg per 10 Min',\n",
       "         'value': 1256},\n",
       "        {'key': 'deaths_avg_per_10_min',\n",
       "         'label': 'Deaths - Avg per 10 Min',\n",
       "         'value': 5.82},\n",
       "        {'key': 'hero_damage_done_avg_per_10_min',\n",
       "         'label': 'Hero Damage Done - Avg per 10 Min',\n",
       "         'value': 14184},\n",
       "        {'key': 'eliminations_avg_per_10_min',\n",
       "         'label': 'Eliminations - Avg per 10 Min',\n",
       "         'value': 34.43},\n",
       "        {'key': 'assists_avg_per_10_min',\n",
       "         'label': 'Assists - Avg per 10 min',\n",
       "         'value': 1.45},\n",
       "        {'key': 'critical_hit_kills_avg_per_10_min',\n",
       "         'label': 'Critical Hit Kills - Avg per 10 Min',\n",
       "         'value': 3.88}]},\n",
       "      {'category': 'game',\n",
       "       'label': 'Game',\n",
       "       'stats': [{'key': 'time_played', 'label': 'Time Played', 'value': 1237},\n",
       "        {'key': 'games_played', 'label': 'Games Played', 'value': 3},\n",
       "        {'key': 'games_won', 'label': 'Games Won', 'value': 3},\n",
       "        {'key': 'games_won', 'label': 'Games Won', 'value': 3},\n",
       "        {'key': 'games_won', 'label': 'Games Won', 'value': 3},\n",
       "        {'key': 'hero_wins', 'label': 'Hero Wins', 'value': 3},\n",
       "        {'key': 'win_percentage', 'label': 'Win Percentage', 'value': 102},\n",
       "        {'key': 'games_lost', 'label': 'Games Lost', 'value': 0}]},\n",
       "      {'category': 'combat',\n",
       "       'label': 'Combat',\n",
       "       'stats': [{'key': 'eliminations', 'label': 'Eliminations', 'value': 71},\n",
       "        {'key': 'deaths', 'label': 'Deaths', 'value': 12},\n",
       "        {'key': 'final_blows', 'label': 'Final Blows', 'value': 44},\n",
       "        {'key': 'solo_kills', 'label': 'Solo Kills', 'value': 8},\n",
       "        {'key': 'all_damage_done', 'label': 'All Damage Done', 'value': 29980},\n",
       "        {'key': 'objective_kills', 'label': 'Objective Kills', 'value': 14},\n",
       "        {'key': 'objective_time', 'label': 'Objective Time', 'value': 17},\n",
       "        {'key': 'environmental_kill',\n",
       "         'label': 'Environmental Kill',\n",
       "         'value': 1},\n",
       "        {'key': 'critical_hits', 'label': 'Critical Hits', 'value': 143},\n",
       "        {'key': 'hero_damage_done',\n",
       "         'label': 'Hero Damage Done',\n",
       "         'value': 29250},\n",
       "        {'key': 'critical_hit_kills',\n",
       "         'label': 'Critical Hit Kills',\n",
       "         'value': 8},\n",
       "        {'key': 'obj_contest_time', 'label': 'Obj Contest Time', 'value': 11},\n",
       "        {'key': 'critical_hit_accuracy',\n",
       "         'label': 'Critical Hit Accuracy',\n",
       "         'value': 10},\n",
       "        {'key': 'environmental_kills_avg_per_10_min',\n",
       "         'label': 'Environmental Kills - Avg per 10 Min',\n",
       "         'value': 0.48},\n",
       "        {'key': 'weapon_accuracy', 'label': 'Weapon Accuracy', 'value': 35}]},\n",
       "      {'category': 'assists',\n",
       "       'label': 'Assists',\n",
       "       'stats': [{'key': 'defensive_assists',\n",
       "         'label': 'Defensive Assists',\n",
       "         'value': 7},\n",
       "        {'key': 'defensive_assists_most_in_game',\n",
       "         'label': 'Defensive Assists - Most in Game',\n",
       "         'value': 3},\n",
       "        {'key': 'healing_done', 'label': 'Healing Done', 'value': 2590},\n",
       "        {'key': 'healing_done_most_in_game',\n",
       "         'label': 'Healing Done - Most in Game',\n",
       "         'value': 1180},\n",
       "        {'key': 'assists', 'label': 'Assists', 'value': 3},\n",
       "        {'key': 'defensive_assists_avg_per_10_min',\n",
       "         'label': 'Defensive Assists - Avg per 10 Min',\n",
       "         'value': 3.39}]}],\n",
       "     'sombra': None,\n",
       "     'symmetra': None,\n",
       "     'torbjorn': None,\n",
       "     'tracer': None,\n",
       "     'widowmaker': None,\n",
       "     'winston': None,\n",
       "     'wrecking-ball': None,\n",
       "     'zarya': None,\n",
       "     'zenyatta': None}},\n",
       "   'competitive': {'heroes_comparisons': {'time_played': {'label': 'Time Played',\n",
       "      'values': [{'hero': 'sojourn', 'value': 61736},\n",
       "       {'hero': 'soldier-76', 'value': 11932},\n",
       "       {'hero': 'sigma', 'value': 1938},\n",
       "       {'hero': 'orisa', 'value': 1771},\n",
       "       {'hero': 'reaper', 'value': 946},\n",
       "       {'hero': 'widowmaker', 'value': 181},\n",
       "       {'hero': 'reinhardt', 'value': 160},\n",
       "       {'hero': 'ashe', 'value': 153},\n",
       "       {'hero': 'junker-queen', 'value': 130},\n",
       "       {'hero': 'pharah', 'value': 79},\n",
       "       {'hero': 'doomfist', 'value': 7}]},\n",
       "     'games_won': {'label': 'Games Won',\n",
       "      'values': [{'hero': 'sojourn', 'value': 50},\n",
       "       {'hero': 'soldier-76', 'value': 7},\n",
       "       {'hero': 'sigma', 'value': 2},\n",
       "       {'hero': 'orisa', 'value': 2},\n",
       "       {'hero': 'reinhardt', 'value': 0},\n",
       "       {'hero': 'widowmaker', 'value': 0},\n",
       "       {'hero': 'junker-queen', 'value': 0},\n",
       "       {'hero': 'reaper', 'value': 0},\n",
       "       {'hero': 'doomfist', 'value': 0},\n",
       "       {'hero': 'pharah', 'value': 0},\n",
       "       {'hero': 'ashe', 'value': 0}]},\n",
       "     'weapon_accuracy': {'label': 'Weapon Accuracy',\n",
       "      'values': [{'hero': 'widowmaker', 'value': 58},\n",
       "       {'hero': 'ashe', 'value': 53},\n",
       "       {'hero': 'pharah', 'value': 50},\n",
       "       {'hero': 'sigma', 'value': 48},\n",
       "       {'hero': 'junker-queen', 'value': 34},\n",
       "       {'hero': 'soldier-76', 'value': 32},\n",
       "       {'hero': 'orisa', 'value': 32},\n",
       "       {'hero': 'sojourn', 'value': 24},\n",
       "       {'hero': 'reaper', 'value': 17},\n",
       "       {'hero': 'reinhardt', 'value': 0},\n",
       "       {'hero': 'doomfist', 'value': 0}]},\n",
       "     'win_percentage': {'label': 'Win Percentage',\n",
       "      'values': [{'hero': 'reinhardt', 'value': 100},\n",
       "       {'hero': 'doomfist', 'value': 100},\n",
       "       {'hero': 'junker-queen', 'value': 100},\n",
       "       {'hero': 'widowmaker', 'value': 83},\n",
       "       {'hero': 'sigma', 'value': 67},\n",
       "       {'hero': 'orisa', 'value': 61},\n",
       "       {'hero': 'sojourn', 'value': 55},\n",
       "       {'hero': 'soldier-76', 'value': 39},\n",
       "       {'hero': 'reaper', 'value': 4},\n",
       "       {'hero': 'pharah', 'value': 0},\n",
       "       {'hero': 'ashe', 'value': 0}]},\n",
       "     'eliminations_per_life': {'label': 'Eliminations per Life',\n",
       "      'values': [{'hero': 'junker-queen', 'value': 10.0},\n",
       "       {'hero': 'sigma', 'value': 9.78},\n",
       "       {'hero': 'orisa', 'value': 6.14},\n",
       "       {'hero': 'sojourn', 'value': 3.54},\n",
       "       {'hero': 'soldier-76', 'value': 3.44},\n",
       "       {'hero': 'widowmaker', 'value': 3.0},\n",
       "       {'hero': 'reaper', 'value': 2.07},\n",
       "       {'hero': 'ashe', 'value': 1.0},\n",
       "       {'hero': 'reinhardt', 'value': 0.67},\n",
       "       {'hero': 'pharah', 'value': 0.5},\n",
       "       {'hero': 'doomfist', 'value': 0}]},\n",
       "     'critical_hit_accuracy': {'label': 'Critical Hit Accuracy',\n",
       "      'values': [{'hero': 'widowmaker', 'value': 12},\n",
       "       {'hero': 'reaper', 'value': 10},\n",
       "       {'hero': 'soldier-76', 'value': 9},\n",
       "       {'hero': 'ashe', 'value': 6},\n",
       "       {'hero': 'reinhardt', 'value': 0},\n",
       "       {'hero': 'pharah', 'value': 0},\n",
       "       {'hero': 'doomfist', 'value': 0},\n",
       "       {'hero': 'orisa', 'value': 0},\n",
       "       {'hero': 'sojourn', 'value': 0},\n",
       "       {'hero': 'junker-queen', 'value': 0},\n",
       "       {'hero': 'sigma', 'value': 0}]},\n",
       "     'multikill_best': {'label': 'Multikill - Best',\n",
       "      'values': [{'hero': 'sojourn', 'value': 4},\n",
       "       {'hero': 'soldier-76', 'value': 3},\n",
       "       {'hero': 'orisa', 'value': 3},\n",
       "       {'hero': 'sigma', 'value': 3},\n",
       "       {'hero': 'reaper', 'value': 0},\n",
       "       {'hero': 'reinhardt', 'value': 0},\n",
       "       {'hero': 'pharah', 'value': 0},\n",
       "       {'hero': 'widowmaker', 'value': 0},\n",
       "       {'hero': 'doomfist', 'value': 0},\n",
       "       {'hero': 'ashe', 'value': 0},\n",
       "       {'hero': 'junker-queen', 'value': 0}]},\n",
       "     'objective_kills': {'label': 'Objective Kills',\n",
       "      'values': [{'hero': 'sojourn', 'value': 832},\n",
       "       {'hero': 'soldier-76', 'value': 145},\n",
       "       {'hero': 'sigma', 'value': 39},\n",
       "       {'hero': 'orisa', 'value': 37},\n",
       "       {'hero': 'reaper', 'value': 17},\n",
       "       {'hero': 'junker-queen', 'value': 3},\n",
       "       {'hero': 'ashe', 'value': 2},\n",
       "       {'hero': 'pharah', 'value': 1},\n",
       "       {'hero': 'widowmaker', 'value': 1},\n",
       "       {'hero': 'reinhardt', 'value': 0},\n",
       "       {'hero': 'doomfist', 'value': 0}]}},\n",
       "    'career_stats': {'all-heroes': [{'category': 'best',\n",
       "       'label': 'Best',\n",
       "       'stats': [{'key': 'eliminations_most_in_game',\n",
       "         'label': 'Eliminations - Most in Game',\n",
       "         'value': 60},\n",
       "        {'key': 'final_blows_most_in_game',\n",
       "         'label': 'Final Blows - Most in Game',\n",
       "         'value': 40},\n",
       "        {'key': 'all_damage_done_most_in_game',\n",
       "         'label': 'All Damage Done - Most in Game',\n",
       "         'value': 31252},\n",
       "        {'key': 'healing_done_most_in_game',\n",
       "         'label': 'Healing Done - Most in Game',\n",
       "         'value': 2835},\n",
       "        {'key': 'defensive_assists_most_in_game',\n",
       "         'label': 'Defensive Assists - Most in Game',\n",
       "         'value': 6},\n",
       "        {'key': 'offensive_assists_most_in_game',\n",
       "         'label': 'Offensive Assists - Most in Game',\n",
       "         'value': 9},\n",
       "        {'key': 'objective_kills_most_in_game',\n",
       "         'label': 'Objective Kills - Most in Game',\n",
       "         'value': 28},\n",
       "        {'key': 'objective_time_most_in_game',\n",
       "         'label': 'Objective Time - Most in Game',\n",
       "         'value': 196},\n",
       "        {'key': 'multikill_best', 'label': 'Multikill - Best', 'value': 4},\n",
       "        {'key': 'solo_kills_most_in_game',\n",
       "         'label': 'Solo Kills - Most in Game',\n",
       "         'value': 40},\n",
       "        {'key': 'time_spent_on_fire_most_in_game',\n",
       "         'label': 'Time Spent on Fire - Most in Game',\n",
       "         'value': 448},\n",
       "        {'key': 'melee_final_blow_most_in_game',\n",
       "         'label': 'Melee Final Blow - Most in Game',\n",
       "         'value': 1},\n",
       "        {'key': 'environmental_kill_most_in_game',\n",
       "         'label': 'Environmental Kill - Most in Game',\n",
       "         'value': 1},\n",
       "        {'key': 'kill_streak_best',\n",
       "         'label': 'Kill Streak - Best',\n",
       "         'value': 23},\n",
       "        {'key': 'hero_damage_done_most_in_game',\n",
       "         'label': 'Hero Damage Done - Most in Game',\n",
       "         'value': 24727},\n",
       "        {'key': 'barrier_damage_done_most_in_game',\n",
       "         'label': 'Barrier Damage Done - Most in Game',\n",
       "         'value': 7245},\n",
       "        {'key': 'assists_most_in_game',\n",
       "         'label': 'Assists - Most in Game',\n",
       "         'value': 9},\n",
       "        {'key': 'objective_contest_time_most_in_game',\n",
       "         'label': 'Objective Contest Time - Most in Game',\n",
       "         'value': 196},\n",
       "        {'key': 'recon_assist_most_in_game',\n",
       "         'label': 'Recon Assist - Most in Game',\n",
       "         'value': 1}]},\n",
       "      {'category': 'average',\n",
       "       'label': 'Average',\n",
       "       'stats': [{'key': 'objective_kills_avg_per_10_min',\n",
       "         'label': 'Objective Kills - Avg per 10 Min',\n",
       "         'value': 8.18},\n",
       "        {'key': 'objective_time_avg_per_10_min',\n",
       "         'label': 'Objective Time - Avg per 10 Min',\n",
       "         'value': 39},\n",
       "        {'key': 'final_blows_avg_per_10_min',\n",
       "         'label': 'Final Blows - Avg per 10 Min',\n",
       "         'value': 13.26},\n",
       "        {'key': 'objective_contest_time_avg_per_10_min',\n",
       "         'label': 'Objective Contest Time - Avg per 10 Min',\n",
       "         'value': 20},\n",
       "        {'key': 'solo_kills_avg_per_10_min',\n",
       "         'label': 'Solo Kills - Avg per 10 Min',\n",
       "         'value': 2.22},\n",
       "        {'key': 'hero_damage_done_avg_per_10_min',\n",
       "         'label': 'Hero Damage Done - Avg per 10 Min',\n",
       "         'value': 10682},\n",
       "        {'key': 'eliminations_avg_per_10_min',\n",
       "         'label': 'Eliminations - Avg per 10 Min',\n",
       "         'value': 24.03},\n",
       "        {'key': 'deaths_avg_per_10_min',\n",
       "         'label': 'Deaths - Avg per 10 Min',\n",
       "         'value': 6.7},\n",
       "        {'key': 'assists_avg_per_10_min',\n",
       "         'label': 'Assists - Avg per 10 min',\n",
       "         'value': 2.41},\n",
       "        {'key': 'healing_done_avg_per_10_min',\n",
       "         'label': 'Healing Done - Avg per 10 Min',\n",
       "         'value': 215}]},\n",
       "      {'category': 'game',\n",
       "       'label': 'Game',\n",
       "       'stats': [{'key': 'game_tied', 'label': 'Game Tied', 'value': 1},\n",
       "        {'key': 'time_played', 'label': 'Time Played', 'value': 79033},\n",
       "        {'key': 'games_played', 'label': 'Games Played', 'value': 117},\n",
       "        {'key': 'games_won', 'label': 'Games Won', 'value': 61},\n",
       "        {'key': 'games_lost', 'label': 'Games Lost', 'value': 55},\n",
       "        {'key': 'hero_wins', 'label': 'Hero Wins', 'value': 61}]},\n",
       "      {'category': 'combat',\n",
       "       'label': 'Combat',\n",
       "       'stats': [{'key': 'melee_final_blow',\n",
       "         'label': 'Melee Final Blow',\n",
       "         'value': 1},\n",
       "        {'key': 'multikills', 'label': 'Multikills', 'value': 16},\n",
       "        {'key': 'environmental_kill',\n",
       "         'label': 'Environmental Kill',\n",
       "         'value': 1},\n",
       "        {'key': 'deaths', 'label': 'Deaths', 'value': 882},\n",
       "        {'key': 'eliminations', 'label': 'Eliminations', 'value': 3165},\n",
       "        {'key': 'objective_kills', 'label': 'Objective Kills', 'value': 1077},\n",
       "        {'key': 'final_blows', 'label': 'Final Blows', 'value': 1747},\n",
       "        {'key': 'objective_time', 'label': 'Objective Time', 'value': 5150},\n",
       "        {'key': 'hero_damage_done',\n",
       "         'label': 'Hero Damage Done',\n",
       "         'value': 1407084},\n",
       "        {'key': 'objective_contest_time',\n",
       "         'label': 'Objective Contest Time',\n",
       "         'value': 2614},\n",
       "        {'key': 'solo_kills', 'label': 'Solo Kills', 'value': 293},\n",
       "        {'key': 'damage_done', 'label': 'Damage Done', 'value': 1407084}]},\n",
       "      {'category': 'assists',\n",
       "       'label': 'Assists',\n",
       "       'stats': [{'key': 'defensive_assists',\n",
       "         'label': 'Defensive Assists',\n",
       "         'value': 43},\n",
       "        {'key': 'recon_assist', 'label': 'Recon Assist', 'value': 1},\n",
       "        {'key': 'healing_done', 'label': 'Healing Done', 'value': 28374},\n",
       "        {'key': 'offensive_assists',\n",
       "         'label': 'Offensive Assists',\n",
       "         'value': 27},\n",
       "        {'key': 'assists', 'label': 'Assists', 'value': 318}]}],\n",
       "     'ana': None,\n",
       "     'ashe': [{'category': 'hero_specific',\n",
       "       'label': 'Hero Specific',\n",
       "       'stats': [{'key': 'scoped_critical_hits',\n",
       "         'label': 'Scoped Critical Hits',\n",
       "         'value': 2},\n",
       "        {'key': 'scoped_critical_hit_most_in_game',\n",
       "         'label': 'Scoped Critical Hit - Most in Game',\n",
       "         'value': 1},\n",
       "        {'key': 'scoped_accuracy_best_in_game',\n",
       "         'label': 'Scoped Accuracy - Best in Game',\n",
       "         'value': 79},\n",
       "        {'key': 'long_range_final_blow',\n",
       "         'label': 'Long Range Final Blow',\n",
       "         'value': 1},\n",
       "        {'key': 'long_range_final_blow_most_in_game',\n",
       "         'label': 'Long Range Final Blow - Most in Game',\n",
       "         'value': 1},\n",
       "        {'key': 'scoped_critical_hits_avg_per_10_min',\n",
       "         'label': 'Scoped Critical Hits - Avg per 10 Min',\n",
       "         'value': 7.83},\n",
       "        {'key': 'scoped_accuracy', 'label': 'Scoped Accuracy', 'value': 73},\n",
       "        {'key': 'long_range_final_blows_avg_per_10_min',\n",
       "         'label': 'Long Range Final Blows - Avg per 10 Min',\n",
       "         'value': 3.91},\n",
       "        {'key': 'scoped_critical_hit_accuracy',\n",
       "         'label': 'Scoped Critical Hit Accuracy',\n",
       "         'value': 13}]},\n",
       "      {'category': 'best',\n",
       "       'label': 'Best',\n",
       "       'stats': [{'key': 'eliminations_most_in_life',\n",
       "         'label': 'Eliminations - Most in Life',\n",
       "         'value': 2},\n",
       "        {'key': 'all_damage_done_most_in_life',\n",
       "         'label': 'All Damage Done - Most in Life',\n",
       "         'value': 1146},\n",
       "        {'key': 'weapon_accuracy_best_in_game',\n",
       "         'label': 'Weapon Accuracy - Best in Game',\n",
       "         'value': 64},\n",
       "        {'key': 'kill_streak_best', 'label': 'Kill Streak - Best', 'value': 2},\n",
       "        {'key': 'all_damage_done_most_in_game',\n",
       "         'label': 'All Damage Done - Most in Game',\n",
       "         'value': 1754},\n",
       "        {'key': 'eliminations_most_in_game',\n",
       "         'label': 'Eliminations - Most in Game',\n",
       "         'value': 4},\n",
       "        {'key': 'final_blows_most_in_game',\n",
       "         'label': 'Final Blows - Most in Game',\n",
       "         'value': 2},\n",
       "        {'key': 'objective_kills_most_in_game',\n",
       "         'label': 'Objective Kills - Most in Game',\n",
       "         'value': 2},\n",
       "        {'key': 'objective_time_most_in_game',\n",
       "         'label': 'Objective Time - Most in Game',\n",
       "         'value': 5},\n",
       "        {'key': 'solo_kill_most_in_game',\n",
       "         'label': 'Solo Kill - Most in Game',\n",
       "         'value': 1},\n",
       "        {'key': 'critical_hit_most_in_game',\n",
       "         'label': 'Critical Hit - Most in Game',\n",
       "         'value': 1},\n",
       "        {'key': 'critical_hit_most_in_life',\n",
       "         'label': 'Critical Hit - Most in Life',\n",
       "         'value': 1},\n",
       "        {'key': 'hero_damage_done_most_in_game',\n",
       "         'label': 'Hero Damage Done - Most in Game',\n",
       "         'value': 1323},\n",
       "        {'key': 'hero_damage_done_most_in_life',\n",
       "         'label': 'Hero Damage Done - Most in Life',\n",
       "         'value': 822},\n",
       "        {'key': 'obj_contest_time_most_in_game',\n",
       "         'label': 'Obj Contest Time - Most in Game',\n",
       "         'value': 5}]},\n",
       "      {'category': 'average',\n",
       "       'label': 'Average',\n",
       "       'stats': [{'key': 'objective_time_avg_per_10_min',\n",
       "         'label': 'Objective Time - Avg per 10 Min',\n",
       "         'value': 20},\n",
       "        {'key': 'all_damage_done_avg_per_10_min',\n",
       "         'label': 'All Damage Done - Avg per 10 Min',\n",
       "         'value': 8027},\n",
       "        {'key': 'critical_hits_avg_per_10_min',\n",
       "         'label': 'Critical Hits - Avg per 10 Min',\n",
       "         'value': 7.83},\n",
       "        {'key': 'elimination_per_life',\n",
       "         'label': 'Elimination per Life',\n",
       "         'value': 1.0},\n",
       "        {'key': 'objective_kills_avg_per_10_min',\n",
       "         'label': 'Objective Kills - Avg per 10 Min',\n",
       "         'value': 7.83},\n",
       "        {'key': 'obj_contest_time_avg_per_10_min',\n",
       "         'label': 'Obj Contest Time - Avg per 10 Min',\n",
       "         'value': 20},\n",
       "        {'key': 'solo_kills_avg_per_10_min',\n",
       "         'label': 'Solo Kills - Avg per 10 Min',\n",
       "         'value': 3.91},\n",
       "        {'key': 'final_blows_avg_per_10_min',\n",
       "         'label': 'Final Blows - Avg per 10 Min',\n",
       "         'value': 7.83},\n",
       "        {'key': 'deaths_avg_per_10_min',\n",
       "         'label': 'Deaths - Avg per 10 Min',\n",
       "         'value': 15.65},\n",
       "        {'key': 'hero_damage_done_avg_per_10_min',\n",
       "         'label': 'Hero Damage Done - Avg per 10 Min',\n",
       "         'value': 6337},\n",
       "        {'key': 'eliminations_avg_per_10_min',\n",
       "         'label': 'Eliminations - Avg per 10 Min',\n",
       "         'value': 15.65}]},\n",
       "      {'category': 'game',\n",
       "       'label': 'Game',\n",
       "       'stats': [{'key': 'time_played', 'label': 'Time Played', 'value': 153},\n",
       "        {'key': 'games_played', 'label': 'Games Played', 'value': 0},\n",
       "        {'key': 'games_lost', 'label': 'Games Lost', 'value': 0}]},\n",
       "      {'category': 'combat',\n",
       "       'label': 'Combat',\n",
       "       'stats': [{'key': 'eliminations', 'label': 'Eliminations', 'value': 4},\n",
       "        {'key': 'deaths', 'label': 'Deaths', 'value': 4},\n",
       "        {'key': 'final_blows', 'label': 'Final Blows', 'value': 2},\n",
       "        {'key': 'solo_kill', 'label': 'Solo Kill', 'value': 1},\n",
       "        {'key': 'all_damage_done', 'label': 'All Damage Done', 'value': 2051},\n",
       "        {'key': 'objective_kills', 'label': 'Objective Kills', 'value': 2},\n",
       "        {'key': 'objective_time', 'label': 'Objective Time', 'value': 5},\n",
       "        {'key': 'critical_hits', 'label': 'Critical Hits', 'value': 2},\n",
       "        {'key': 'hero_damage_done',\n",
       "         'label': 'Hero Damage Done',\n",
       "         'value': 1620},\n",
       "        {'key': 'obj_contest_time', 'label': 'Obj Contest Time', 'value': 5},\n",
       "        {'key': 'critical_hit_accuracy',\n",
       "         'label': 'Critical Hit Accuracy',\n",
       "         'value': 6},\n",
       "        {'key': 'weapon_accuracy', 'label': 'Weapon Accuracy', 'value': 53}]}],\n",
       "     'baptiste': None,\n",
       "     'bastion': None,\n",
       "     'brigitte': None,\n",
       "     'cassidy': None,\n",
       "     'dva': None,\n",
       "     'doomfist': [{'category': 'game',\n",
       "       'label': 'Game',\n",
       "       'stats': [{'key': 'time_played', 'label': 'Time Played', 'value': 7},\n",
       "        {'key': 'games_played', 'label': 'Games Played', 'value': 0},\n",
       "        {'key': 'games_won', 'label': 'Games Won', 'value': 0},\n",
       "        {'key': 'games_won', 'label': 'Games Won', 'value': 0},\n",
       "        {'key': 'games_won', 'label': 'Games Won', 'value': 0},\n",
       "        {'key': 'hero_wins', 'label': 'Hero Wins', 'value': 0},\n",
       "        {'key': 'win_percentage', 'label': 'Win Percentage', 'value': 100},\n",
       "        {'key': 'games_lost', 'label': 'Games Lost', 'value': 0}]}],\n",
       "     'echo': None,\n",
       "     'genji': None,\n",
       "     'hanzo': None,\n",
       "     'junker-queen': [{'category': 'hero_specific',\n",
       "       'label': 'Hero Specific',\n",
       "       'stats': [{'key': 'self_healing',\n",
       "         'label': 'Self Healing',\n",
       "         'value': 275},\n",
       "        {'key': 'self_healing_most_in_game',\n",
       "         'label': 'Self Healing - Most in Game',\n",
       "         'value': 275},\n",
       "        {'key': 'jagged_blade_kills',\n",
       "         'label': 'Jagged Blade Kills',\n",
       "         'value': 4},\n",
       "        {'key': 'jagged_blade_kills_most_in_game',\n",
       "         'label': 'Jagged Blade Kills - Most in Game',\n",
       "         'value': 4},\n",
       "        {'key': 'jagged_blade_accuracy_best_in_game',\n",
       "         'label': 'Jagged Blade Accuracy - Best in Game',\n",
       "         'value': 54},\n",
       "        {'key': 'carnage_kills', 'label': 'Carnage Kills', 'value': 4},\n",
       "        {'key': 'carnage_kills_most_in_game',\n",
       "         'label': 'Carnage Kills - Most in Game',\n",
       "         'value': 4},\n",
       "        {'key': 'rampage_kill', 'label': 'Rampage Kill', 'value': 1},\n",
       "        {'key': 'rampage_kill_most_in_game',\n",
       "         'label': 'Rampage Kill - Most in Game',\n",
       "         'value': 1},\n",
       "        {'key': 'self_healing_avg_per_10_min',\n",
       "         'label': 'Self Healing - Avg per 10 Min',\n",
       "         'value': 1268},\n",
       "        {'key': 'jagged_blade_accuracy',\n",
       "         'label': 'Jagged Blade Accuracy',\n",
       "         'value': 54},\n",
       "        {'key': 'rampage_kills_avg_per_10_min',\n",
       "         'label': 'Rampage Kills - Avg per 10 Min',\n",
       "         'value': 4.61},\n",
       "        {'key': 'carnage_kills_avg_per_10_min',\n",
       "         'label': 'Carnage Kills - Avg per 10 Min',\n",
       "         'value': 18.45},\n",
       "        {'key': 'wound_uptime_percentage',\n",
       "         'label': 'Wound Uptime Percentage',\n",
       "         'value': 27},\n",
       "        {'key': 'jagged_blade_kills_avg_per_10_min',\n",
       "         'label': 'Jagged Blade Kills - Avg per 10 Min',\n",
       "         'value': 18.45}]},\n",
       "      {'category': 'best',\n",
       "       'label': 'Best',\n",
       "       'stats': [{'key': 'eliminations_most_in_life',\n",
       "         'label': 'Eliminations - Most in Life',\n",
       "         'value': 10},\n",
       "        {'key': 'all_damage_done_most_in_life',\n",
       "         'label': 'All Damage Done - Most in Life',\n",
       "         'value': 2602},\n",
       "        {'key': 'weapon_accuracy_best_in_game',\n",
       "         'label': 'Weapon Accuracy - Best in Game',\n",
       "         'value': 34},\n",
       "        {'key': 'kill_streak_best',\n",
       "         'label': 'Kill Streak - Best',\n",
       "         'value': 10},\n",
       "        {'key': 'all_damage_done_most_in_game',\n",
       "         'label': 'All Damage Done - Most in Game',\n",
       "         'value': 2614},\n",
       "        {'key': 'eliminations_most_in_game',\n",
       "         'label': 'Eliminations - Most in Game',\n",
       "         'value': 10},\n",
       "        {'key': 'final_blows_most_in_game',\n",
       "         'label': 'Final Blows - Most in Game',\n",
       "         'value': 5},\n",
       "        {'key': 'objective_kills_most_in_game',\n",
       "         'label': 'Objective Kills - Most in Game',\n",
       "         'value': 3},\n",
       "        {'key': 'objective_time_most_in_game',\n",
       "         'label': 'Objective Time - Most in Game',\n",
       "         'value': 4},\n",
       "        {'key': 'hero_damage_done_most_in_game',\n",
       "         'label': 'Hero Damage Done - Most in Game',\n",
       "         'value': 2614},\n",
       "        {'key': 'hero_damage_done_most_in_life',\n",
       "         'label': 'Hero Damage Done - Most in Life',\n",
       "         'value': 2602},\n",
       "        {'key': 'assists_most_in_game',\n",
       "         'label': 'Assists - Most in Game',\n",
       "         'value': 2},\n",
       "        {'key': 'obj_contest_time_most_in_game',\n",
       "         'label': 'Obj Contest Time - Most in Game',\n",
       "         'value': 4}]},\n",
       "      {'category': 'average',\n",
       "       'label': 'Average',\n",
       "       'stats': [{'key': 'objective_time_avg_per_10_min',\n",
       "         'label': 'Objective Time - Avg per 10 Min',\n",
       "         'value': 18},\n",
       "        {'key': 'all_damage_done_avg_per_10_min',\n",
       "         'label': 'All Damage Done - Avg per 10 Min',\n",
       "         'value': 12058},\n",
       "        {'key': 'eliminations_per_life',\n",
       "         'label': 'Eliminations per Life',\n",
       "         'value': 10.0},\n",
       "        {'key': 'objective_kills_avg_per_10_min',\n",
       "         'label': 'Objective Kills - Avg per 10 Min',\n",
       "         'value': 13.84},\n",
       "        {'key': 'obj_contest_time_avg_per_10_min',\n",
       "         'label': 'Obj Contest Time - Avg per 10 Min',\n",
       "         'value': 18},\n",
       "        {'key': 'final_blows_avg_per_10_min',\n",
       "         'label': 'Final Blows - Avg per 10 Min',\n",
       "         'value': 23.06},\n",
       "        {'key': 'healing_done_avg_per_10_min',\n",
       "         'label': 'Healing Done - Avg per 10 Min',\n",
       "         'value': 1540},\n",
       "        {'key': 'deaths_avg_per_10_min',\n",
       "         'label': 'Deaths - Avg per 10 Min',\n",
       "         'value': 4.61},\n",
       "        {'key': 'hero_damage_done_avg_per_10_min',\n",
       "         'label': 'Hero Damage Done - Avg per 10 Min',\n",
       "         'value': 12058},\n",
       "        {'key': 'eliminations_avg_per_10_min',\n",
       "         'label': 'Eliminations - Avg per 10 Min',\n",
       "         'value': 46.13},\n",
       "        {'key': 'assists_avg_per_10_min',\n",
       "         'label': 'Assists - Avg per 10 min',\n",
       "         'value': 9.23}]},\n",
       "      {'category': 'game',\n",
       "       'label': 'Game',\n",
       "       'stats': [{'key': 'time_played', 'label': 'Time Played', 'value': 130},\n",
       "        {'key': 'games_played', 'label': 'Games Played', 'value': 0},\n",
       "        {'key': 'games_won', 'label': 'Games Won', 'value': 0},\n",
       "        {'key': 'games_won', 'label': 'Games Won', 'value': 0},\n",
       "        {'key': 'games_won', 'label': 'Games Won', 'value': 0},\n",
       "        {'key': 'hero_wins', 'label': 'Hero Wins', 'value': 0},\n",
       "        {'key': 'win_percentage', 'label': 'Win Percentage', 'value': 100},\n",
       "        {'key': 'games_lost', 'label': 'Games Lost', 'value': 0}]},\n",
       "      {'category': 'combat',\n",
       "       'label': 'Combat',\n",
       "       'stats': [{'key': 'eliminations', 'label': 'Eliminations', 'value': 10},\n",
       "        {'key': 'death', 'label': 'Death', 'value': 1},\n",
       "        {'key': 'final_blows', 'label': 'Final Blows', 'value': 5},\n",
       "        {'key': 'all_damage_done', 'label': 'All Damage Done', 'value': 2614},\n",
       "        {'key': 'objective_kills', 'label': 'Objective Kills', 'value': 3},\n",
       "        {'key': 'objective_time', 'label': 'Objective Time', 'value': 4},\n",
       "        {'key': 'hero_damage_done',\n",
       "         'label': 'Hero Damage Done',\n",
       "         'value': 2614},\n",
       "        {'key': 'obj_contest_time', 'label': 'Obj Contest Time', 'value': 4},\n",
       "        {'key': 'weapon_accuracy', 'label': 'Weapon Accuracy', 'value': 34}]},\n",
       "      {'category': 'assists',\n",
       "       'label': 'Assists',\n",
       "       'stats': [{'key': 'assists', 'label': 'Assists', 'value': 2}]}],\n",
       "     'junkrat': None,\n",
       "     'kiriko': None,\n",
       "     'lifeweaver': None,\n",
       "     'lucio': None,\n",
       "     'mei': None,\n",
       "     'mercy': None,\n",
       "     'moira': None,\n",
       "     'orisa': [{'category': 'hero_specific',\n",
       "       'label': 'Hero Specific',\n",
       "       'stats': [{'key': 'terra_surge_kills',\n",
       "         'label': 'Terra Surge Kills',\n",
       "         'value': 15},\n",
       "        {'key': 'terra_surge_kills_most_in_game',\n",
       "         'label': 'Terra Surge Kills - Most in Game',\n",
       "         'value': 8},\n",
       "        {'key': 'energy_javelin_kills',\n",
       "         'label': 'Energy Javelin Kills',\n",
       "         'value': 21},\n",
       "        {'key': 'javelin_spin_kills',\n",
       "         'label': 'Javelin Spin Kills',\n",
       "         'value': 30},\n",
       "        {'key': 'energy_javelin_kills_nyi',\n",
       "         'label': 'Energy Javelin Kills NYI',\n",
       "         'value': 11},\n",
       "        {'key': 'javelin_spin_kills_nyi',\n",
       "         'label': 'Javelin Spin Kills NYI',\n",
       "         'value': 12},\n",
       "        {'key': 'terra_surge_kills_avg_per_10_min',\n",
       "         'label': 'Terra Surge Kills - Avg per 10 Min',\n",
       "         'value': 5.08},\n",
       "        {'key': 'javelin_spin_kills_avg_per_10_min',\n",
       "         'label': 'Javelin Spin Kills - Avg per 10 Min',\n",
       "         'value': 0},\n",
       "        {'key': 'energy_javelin_kills_avg_per_10_min',\n",
       "         'label': 'Energy Javelin Kills - Avg per 10 Min',\n",
       "         'value': 7.11}]},\n",
       "      {'category': 'best',\n",
       "       'label': 'Best',\n",
       "       'stats': [{'key': 'eliminations_most_in_life',\n",
       "         'label': 'Eliminations - Most in Life',\n",
       "         'value': 21},\n",
       "        {'key': 'all_damage_done_most_in_life',\n",
       "         'label': 'All Damage Done - Most in Life',\n",
       "         'value': 8143},\n",
       "        {'key': 'weapon_accuracy_best_in_game',\n",
       "         'label': 'Weapon Accuracy - Best in Game',\n",
       "         'value': 35},\n",
       "        {'key': 'kill_streak_best',\n",
       "         'label': 'Kill Streak - Best',\n",
       "         'value': 21},\n",
       "        {'key': 'all_damage_done_most_in_game',\n",
       "         'label': 'All Damage Done - Most in Game',\n",
       "         'value': 15891},\n",
       "        {'key': 'eliminations_most_in_game',\n",
       "         'label': 'Eliminations - Most in Game',\n",
       "         'value': 45},\n",
       "        {'key': 'final_blows_most_in_game',\n",
       "         'label': 'Final Blows - Most in Game',\n",
       "         'value': 19},\n",
       "        {'key': 'objective_kills_most_in_game',\n",
       "         'label': 'Objective Kills - Most in Game',\n",
       "         'value': 15},\n",
       "        {'key': 'objective_time_most_in_game',\n",
       "         'label': 'Objective Time - Most in Game',\n",
       "         'value': 196},\n",
       "        {'key': 'multikill_best', 'label': 'Multikill - Best', 'value': 3},\n",
       "        {'key': 'solo_kill_most_in_game',\n",
       "         'label': 'Solo Kill - Most in Game',\n",
       "         'value': 1},\n",
       "        {'key': 'hero_damage_done_most_in_game',\n",
       "         'label': 'Hero Damage Done - Most in Game',\n",
       "         'value': 15650},\n",
       "        {'key': 'hero_damage_done_most_in_life',\n",
       "         'label': 'Hero Damage Done - Most in Life',\n",
       "         'value': 7671},\n",
       "        {'key': 'assists_most_in_game',\n",
       "         'label': 'Assists - Most in Game',\n",
       "         'value': 7},\n",
       "        {'key': 'environmental_kill_most_in_game',\n",
       "         'label': 'Environmental Kill - Most in Game',\n",
       "         'value': 1},\n",
       "        {'key': 'obj_contest_time_most_in_game',\n",
       "         'label': 'Obj Contest Time - Most in Game',\n",
       "         'value': 196}]},\n",
       "      {'category': 'average',\n",
       "       'label': 'Average',\n",
       "       'stats': [{'key': 'objective_time_avg_per_10_min',\n",
       "         'label': 'Objective Time - Avg per 10 Min',\n",
       "         'value': 136},\n",
       "        {'key': 'all_damage_done_avg_per_10_min',\n",
       "         'label': 'All Damage Done - Avg per 10 Min',\n",
       "         'value': 15518},\n",
       "        {'key': 'eliminations_per_life',\n",
       "         'label': 'Eliminations per Life',\n",
       "         'value': 6.14},\n",
       "        {'key': 'objective_kills_avg_per_10_min',\n",
       "         'label': 'Objective Kills - Avg per 10 Min',\n",
       "         'value': 12.53},\n",
       "        {'key': 'obj_contest_time_avg_per_10_min',\n",
       "         'label': 'Obj Contest Time - Avg per 10 Min',\n",
       "         'value': 102},\n",
       "        {'key': 'solo_kills_avg_per_10_min',\n",
       "         'label': 'Solo Kills - Avg per 10 Min',\n",
       "         'value': 0.68},\n",
       "        {'key': 'final_blows_avg_per_10_min',\n",
       "         'label': 'Final Blows - Avg per 10 Min',\n",
       "         'value': 12.87},\n",
       "        {'key': 'deaths_avg_per_10_min',\n",
       "         'label': 'Deaths - Avg per 10 Min',\n",
       "         'value': 4.74},\n",
       "        {'key': 'hero_damage_done_avg_per_10_min',\n",
       "         'label': 'Hero Damage Done - Avg per 10 Min',\n",
       "         'value': 14270},\n",
       "        {'key': 'eliminations_avg_per_10_min',\n",
       "         'label': 'Eliminations - Avg per 10 Min',\n",
       "         'value': 29.13},\n",
       "        {'key': 'assists_avg_per_10_min',\n",
       "         'label': 'Assists - Avg per 10 min',\n",
       "         'value': 4.4}]},\n",
       "      {'category': 'game',\n",
       "       'label': 'Game',\n",
       "       'stats': [{'key': 'time_played', 'label': 'Time Played', 'value': 1771},\n",
       "        {'key': 'games_played', 'label': 'Games Played', 'value': 3},\n",
       "        {'key': 'games_won', 'label': 'Games Won', 'value': 2},\n",
       "        {'key': 'games_won', 'label': 'Games Won', 'value': 2},\n",
       "        {'key': 'games_won', 'label': 'Games Won', 'value': 2},\n",
       "        {'key': 'hero_wins', 'label': 'Hero Wins', 'value': 2},\n",
       "        {'key': 'win_percentage', 'label': 'Win Percentage', 'value': 61},\n",
       "        {'key': 'game_lost', 'label': 'Game Lost', 'value': 1}]},\n",
       "      {'category': 'combat',\n",
       "       'label': 'Combat',\n",
       "       'stats': [{'key': 'eliminations', 'label': 'Eliminations', 'value': 86},\n",
       "        {'key': 'deaths', 'label': 'Deaths', 'value': 14},\n",
       "        {'key': 'final_blows', 'label': 'Final Blows', 'value': 38},\n",
       "        {'key': 'solo_kills', 'label': 'Solo Kills', 'value': 2},\n",
       "        {'key': 'all_damage_done', 'label': 'All Damage Done', 'value': 45810},\n",
       "        {'key': 'objective_kills', 'label': 'Objective Kills', 'value': 37},\n",
       "        {'key': 'objective_time', 'label': 'Objective Time', 'value': 400},\n",
       "        {'key': 'multikills', 'label': 'Multikills', 'value': 2},\n",
       "        {'key': 'environmental_kill',\n",
       "         'label': 'Environmental Kill',\n",
       "         'value': 1},\n",
       "        {'key': 'hero_damage_done',\n",
       "         'label': 'Hero Damage Done',\n",
       "         'value': 42128},\n",
       "        {'key': 'obj_contest_time', 'label': 'Obj Contest Time', 'value': 302},\n",
       "        {'key': 'environmental_kills_avg_per_10_min',\n",
       "         'label': 'Environmental Kills - Avg per 10 Min',\n",
       "         'value': 0.34},\n",
       "        {'key': 'weapon_accuracy', 'label': 'Weapon Accuracy', 'value': 32}]},\n",
       "      {'category': 'assists',\n",
       "       'label': 'Assists',\n",
       "       'stats': [{'key': 'offensive_assists',\n",
       "         'label': 'Offensive Assists',\n",
       "         'value': 13},\n",
       "        {'key': 'offensive_assists_most_in_game',\n",
       "         'label': 'Offensive Assists - Most in Game',\n",
       "         'value': 7},\n",
       "        {'key': 'assists', 'label': 'Assists', 'value': 13},\n",
       "        {'key': 'offensive_assists_avg_per_10_min',\n",
       "         'label': 'Offensive Assists - Avg per 10 Min',\n",
       "         'value': 4.4}]}],\n",
       "     'pharah': [{'category': 'hero_specific',\n",
       "       'label': 'Hero Specific',\n",
       "       'stats': [{'key': 'rocket_direct_hits',\n",
       "         'label': 'Rocket Direct Hits',\n",
       "         'value': 2},\n",
       "        {'key': 'rocket_direct_hits_most_in_game',\n",
       "         'label': 'Rocket Direct Hits - Most in Game',\n",
       "         'value': 2},\n",
       "        {'key': 'rocket_direct_hits_avg_per_10_min',\n",
       "         'label': 'Rocket Direct Hits - Avg per 10 Min',\n",
       "         'value': 15.15},\n",
       "        {'key': 'airtime_percentage',\n",
       "         'label': 'Airtime Percentage',\n",
       "         'value': 52},\n",
       "        {'key': 'direct_hit_accuracy',\n",
       "         'label': 'Direct Hit Accuracy',\n",
       "         'value': 6}]},\n",
       "      {'category': 'best',\n",
       "       'label': 'Best',\n",
       "       'stats': [{'key': 'elimination_most_in_life',\n",
       "         'label': 'Elimination - Most in Life',\n",
       "         'value': 1},\n",
       "        {'key': 'all_damage_done_most_in_life',\n",
       "         'label': 'All Damage Done - Most in Life',\n",
       "         'value': 1135},\n",
       "        {'key': 'weapon_accuracy_best_in_game',\n",
       "         'label': 'Weapon Accuracy - Best in Game',\n",
       "         'value': 50},\n",
       "        {'key': 'kill_streak_best', 'label': 'Kill Streak - Best', 'value': 1},\n",
       "        {'key': 'all_damage_done_most_in_game',\n",
       "         'label': 'All Damage Done - Most in Game',\n",
       "         'value': 1252},\n",
       "        {'key': 'elimination_most_in_game',\n",
       "         'label': 'Elimination - Most in Game',\n",
       "         'value': 1},\n",
       "        {'key': 'objective_kill_most_in_game',\n",
       "         'label': 'Objective Kill - Most in Game',\n",
       "         'value': 1},\n",
       "        {'key': 'objective_time_most_in_game',\n",
       "         'label': 'Objective Time - Most in Game',\n",
       "         'value': 0},\n",
       "        {'key': 'hero_damage_done_most_in_game',\n",
       "         'label': 'Hero Damage Done - Most in Game',\n",
       "         'value': 1015},\n",
       "        {'key': 'hero_damage_done_most_in_life',\n",
       "         'label': 'Hero Damage Done - Most in Life',\n",
       "         'value': 897},\n",
       "        {'key': 'assist_most_in_game',\n",
       "         'label': 'Assist - Most in Game',\n",
       "         'value': 1},\n",
       "        {'key': 'obj_contest_time_most_in_game',\n",
       "         'label': 'Obj Contest Time - Most in Game',\n",
       "         'value': 0}]},\n",
       "      {'category': 'average',\n",
       "       'label': 'Average',\n",
       "       'stats': [{'key': 'objective_time_avg_per_10_min',\n",
       "         'label': 'Objective Time - Avg per 10 Min',\n",
       "         'value': 3},\n",
       "        {'key': 'all_damage_done_avg_per_10_min',\n",
       "         'label': 'All Damage Done - Avg per 10 Min',\n",
       "         'value': 9487},\n",
       "        {'key': 'eliminations_per_life',\n",
       "         'label': 'Eliminations per Life',\n",
       "         'value': 0.5},\n",
       "        {'key': 'objective_kills_avg_per_10_min',\n",
       "         'label': 'Objective Kills - Avg per 10 Min',\n",
       "         'value': 7.58},\n",
       "        {'key': 'obj_contest_time_avg_per_10_min',\n",
       "         'label': 'Obj Contest Time - Avg per 10 Min',\n",
       "         'value': 3},\n",
       "        {'key': 'deaths_avg_per_10_min',\n",
       "         'label': 'Deaths - Avg per 10 Min',\n",
       "         'value': 15.15},\n",
       "        {'key': 'hero_damage_done_avg_per_10_min',\n",
       "         'label': 'Hero Damage Done - Avg per 10 Min',\n",
       "         'value': 7687},\n",
       "        {'key': 'eliminations_avg_per_10_min',\n",
       "         'label': 'Eliminations - Avg per 10 Min',\n",
       "         'value': 7.58},\n",
       "        {'key': 'assists_avg_per_10_min',\n",
       "         'label': 'Assists - Avg per 10 min',\n",
       "         'value': 7.58}]},\n",
       "      {'category': 'game',\n",
       "       'label': 'Game',\n",
       "       'stats': [{'key': 'time_played', 'label': 'Time Played', 'value': 79},\n",
       "        {'key': 'games_played', 'label': 'Games Played', 'value': 0},\n",
       "        {'key': 'games_lost', 'label': 'Games Lost', 'value': 0}]},\n",
       "      {'category': 'combat',\n",
       "       'label': 'Combat',\n",
       "       'stats': [{'key': 'elimination', 'label': 'Elimination', 'value': 1},\n",
       "        {'key': 'deaths', 'label': 'Deaths', 'value': 2},\n",
       "        {'key': 'all_damage_done', 'label': 'All Damage Done', 'value': 1252},\n",
       "        {'key': 'objective_kill', 'label': 'Objective Kill', 'value': 1},\n",
       "        {'key': 'objective_time', 'label': 'Objective Time', 'value': 0},\n",
       "        {'key': 'hero_damage_done',\n",
       "         'label': 'Hero Damage Done',\n",
       "         'value': 1015},\n",
       "        {'key': 'obj_contest_time', 'label': 'Obj Contest Time', 'value': 0},\n",
       "        {'key': 'weapon_accuracy', 'label': 'Weapon Accuracy', 'value': 50}]},\n",
       "      {'category': 'assists',\n",
       "       'label': 'Assists',\n",
       "       'stats': [{'key': 'assist', 'label': 'Assist', 'value': 1}]}],\n",
       "     'ramattra': None,\n",
       "     'reaper': [{'category': 'hero_specific',\n",
       "       'label': 'Hero Specific',\n",
       "       'stats': [{'key': 'death_blossom_kill',\n",
       "         'label': 'Death Blossom Kill',\n",
       "         'value': 1},\n",
       "        {'key': 'death_blossom_kill_most_in_game',\n",
       "         'label': 'Death Blossom Kill - Most in Game',\n",
       "         'value': 1},\n",
       "        {'key': 'self_healing', 'label': 'Self Healing', 'value': 1035},\n",
       "        {'key': 'self_healing_most_in_game',\n",
       "         'label': 'Self Healing - Most in Game',\n",
       "         'value': 202},\n",
       "        {'key': 'self_healing_avg_per_10_min',\n",
       "         'label': 'Self Healing - Avg per 10 Min',\n",
       "         'value': 657},\n",
       "        {'key': 'death_blossom_kills_avg_per_10_min',\n",
       "         'label': 'Death Blossom Kills - Avg per 10 Min',\n",
       "         'value': 0.63}]},\n",
       "      {'category': 'best',\n",
       "       'label': 'Best',\n",
       "       'stats': [{'key': 'eliminations_most_in_life',\n",
       "         'label': 'Eliminations - Most in Life',\n",
       "         'value': 8},\n",
       "        {'key': 'all_damage_done_most_in_life',\n",
       "         'label': 'All Damage Done - Most in Life',\n",
       "         'value': 2551},\n",
       "        {'key': 'weapon_accuracy_best_in_game',\n",
       "         'label': 'Weapon Accuracy - Best in Game',\n",
       "         'value': 25},\n",
       "        {'key': 'kill_streak_best', 'label': 'Kill Streak - Best', 'value': 8},\n",
       "        {'key': 'all_damage_done_most_in_game',\n",
       "         'label': 'All Damage Done - Most in Game',\n",
       "         'value': 2930},\n",
       "        {'key': 'eliminations_most_in_game',\n",
       "         'label': 'Eliminations - Most in Game',\n",
       "         'value': 9},\n",
       "        {'key': 'final_blows_most_in_game',\n",
       "         'label': 'Final Blows - Most in Game',\n",
       "         'value': 3},\n",
       "        {'key': 'objective_kills_most_in_game',\n",
       "         'label': 'Objective Kills - Most in Game',\n",
       "         'value': 6},\n",
       "        {'key': 'objective_time_most_in_game',\n",
       "         'label': 'Objective Time - Most in Game',\n",
       "         'value': 23},\n",
       "        {'key': 'solo_kill_most_in_game',\n",
       "         'label': 'Solo Kill - Most in Game',\n",
       "         'value': 1},\n",
       "        {'key': 'critical_hits_most_in_game',\n",
       "         'label': 'Critical Hits - Most in Game',\n",
       "         'value': 41},\n",
       "        {'key': 'critical_hits_most_in_life',\n",
       "         'label': 'Critical Hits - Most in Life',\n",
       "         'value': 33},\n",
       "        {'key': 'hero_damage_done_most_in_game',\n",
       "         'label': 'Hero Damage Done - Most in Game',\n",
       "         'value': 1982},\n",
       "        {'key': 'hero_damage_done_most_in_life',\n",
       "         'label': 'Hero Damage Done - Most in Life',\n",
       "         'value': 1607},\n",
       "        {'key': 'critical_hit_kill_most_in_game',\n",
       "         'label': 'Critical Hit Kill - Most in Game',\n",
       "         'value': 1},\n",
       "        {'key': 'obj_contest_time_most_in_game',\n",
       "         'label': 'Obj Contest Time - Most in Game',\n",
       "         'value': 20}]},\n",
       "      {'category': 'average',\n",
       "       'label': 'Average',\n",
       "       'stats': [{'key': 'objective_time_avg_per_10_min',\n",
       "         'label': 'Objective Time - Avg per 10 Min',\n",
       "         'value': 59},\n",
       "        {'key': 'all_damage_done_avg_per_10_min',\n",
       "         'label': 'All Damage Done - Avg per 10 Min',\n",
       "         'value': 6440},\n",
       "        {'key': 'critical_hits_avg_per_10_min',\n",
       "         'label': 'Critical Hits - Avg per 10 Min',\n",
       "         'value': 115},\n",
       "        {'key': 'eliminations_per_life',\n",
       "         'label': 'Eliminations per Life',\n",
       "         'value': 2.07},\n",
       "        {'key': 'objective_kills_avg_per_10_min',\n",
       "         'label': 'Objective Kills - Avg per 10 Min',\n",
       "         'value': 10.79},\n",
       "        {'key': 'obj_contest_time_avg_per_10_min',\n",
       "         'label': 'Obj Contest Time - Avg per 10 Min',\n",
       "         'value': 51},\n",
       "        {'key': 'solo_kills_avg_per_10_min',\n",
       "         'label': 'Solo Kills - Avg per 10 Min',\n",
       "         'value': 0.63},\n",
       "        {'key': 'final_blows_avg_per_10_min',\n",
       "         'label': 'Final Blows - Avg per 10 Min',\n",
       "         'value': 5.71},\n",
       "        {'key': 'healing_done_avg_per_10_min',\n",
       "         'label': 'Healing Done - Avg per 10 Min',\n",
       "         'value': 657},\n",
       "        {'key': 'deaths_avg_per_10_min',\n",
       "         'label': 'Deaths - Avg per 10 Min',\n",
       "         'value': 8.88},\n",
       "        {'key': 'hero_damage_done_avg_per_10_min',\n",
       "         'label': 'Hero Damage Done - Avg per 10 Min',\n",
       "         'value': 5417},\n",
       "        {'key': 'eliminations_avg_per_10_min',\n",
       "         'label': 'Eliminations - Avg per 10 Min',\n",
       "         'value': 18.4},\n",
       "        {'key': 'critical_hit_kills_avg_per_10_min',\n",
       "         'label': 'Critical Hit Kills - Avg per 10 Min',\n",
       "         'value': 0.63}]},\n",
       "      {'category': 'game',\n",
       "       'label': 'Game',\n",
       "       'stats': [{'key': 'time_played', 'label': 'Time Played', 'value': 946},\n",
       "        {'key': 'games_played', 'label': 'Games Played', 'value': 1},\n",
       "        {'key': 'games_won', 'label': 'Games Won', 'value': 0},\n",
       "        {'key': 'games_won', 'label': 'Games Won', 'value': 0},\n",
       "        {'key': 'games_won', 'label': 'Games Won', 'value': 0},\n",
       "        {'key': 'hero_wins', 'label': 'Hero Wins', 'value': 0},\n",
       "        {'key': 'win_percentage', 'label': 'Win Percentage', 'value': 4},\n",
       "        {'key': 'games_lost', 'label': 'Games Lost', 'value': 1}]},\n",
       "      {'category': 'combat',\n",
       "       'label': 'Combat',\n",
       "       'stats': [{'key': 'eliminations', 'label': 'Eliminations', 'value': 29},\n",
       "        {'key': 'deaths', 'label': 'Deaths', 'value': 14},\n",
       "        {'key': 'final_blows', 'label': 'Final Blows', 'value': 9},\n",
       "        {'key': 'solo_kill', 'label': 'Solo Kill', 'value': 1},\n",
       "        {'key': 'all_damage_done', 'label': 'All Damage Done', 'value': 10151},\n",
       "        {'key': 'objective_kills', 'label': 'Objective Kills', 'value': 17},\n",
       "        {'key': 'objective_time', 'label': 'Objective Time', 'value': 92},\n",
       "        {'key': 'critical_hits', 'label': 'Critical Hits', 'value': 181},\n",
       "        {'key': 'hero_damage_done',\n",
       "         'label': 'Hero Damage Done',\n",
       "         'value': 8539},\n",
       "        {'key': 'critical_hit_kill', 'label': 'Critical Hit Kill', 'value': 1},\n",
       "        {'key': 'obj_contest_time', 'label': 'Obj Contest Time', 'value': 81},\n",
       "        {'key': 'critical_hit_accuracy',\n",
       "         'label': 'Critical Hit Accuracy',\n",
       "         'value': 10},\n",
       "        {'key': 'weapon_accuracy', 'label': 'Weapon Accuracy', 'value': 17}]}],\n",
       "     'reinhardt': [{'category': 'best',\n",
       "       'label': 'Best',\n",
       "       'stats': [{'key': 'elimination_most_in_life',\n",
       "         'label': 'Elimination - Most in Life',\n",
       "         'value': 1},\n",
       "        {'key': 'all_damage_done_most_in_life',\n",
       "         'label': 'All Damage Done - Most in Life',\n",
       "         'value': 1015},\n",
       "        {'key': 'kill_streak_best', 'label': 'Kill Streak - Best', 'value': 1},\n",
       "        {'key': 'all_damage_done_most_in_game',\n",
       "         'label': 'All Damage Done - Most in Game',\n",
       "         'value': 2293},\n",
       "        {'key': 'eliminations_most_in_game',\n",
       "         'label': 'Eliminations - Most in Game',\n",
       "         'value': 2},\n",
       "        {'key': 'final_blow_most_in_game',\n",
       "         'label': 'Final Blow - Most in Game',\n",
       "         'value': 1},\n",
       "        {'key': 'objective_time_most_in_game',\n",
       "         'label': 'Objective Time - Most in Game',\n",
       "         'value': 12},\n",
       "        {'key': 'hero_damage_done_most_in_game',\n",
       "         'label': 'Hero Damage Done - Most in Game',\n",
       "         'value': 2208},\n",
       "        {'key': 'hero_damage_done_most_in_life',\n",
       "         'label': 'Hero Damage Done - Most in Life',\n",
       "         'value': 930},\n",
       "        {'key': 'obj_contest_time_most_in_game',\n",
       "         'label': 'Obj Contest Time - Most in Game',\n",
       "         'value': 9}]},\n",
       "      {'category': 'average',\n",
       "       'label': 'Average',\n",
       "       'stats': [{'key': 'objective_time_avg_per_10_min',\n",
       "         'label': 'Objective Time - Avg per 10 Min',\n",
       "         'value': 47},\n",
       "        {'key': 'all_damage_done_avg_per_10_min',\n",
       "         'label': 'All Damage Done - Avg per 10 Min',\n",
       "         'value': 8610},\n",
       "        {'key': 'eliminations_per_life',\n",
       "         'label': 'Eliminations per Life',\n",
       "         'value': 0.67},\n",
       "        {'key': 'obj_contest_time_avg_per_10_min',\n",
       "         'label': 'Obj Contest Time - Avg per 10 Min',\n",
       "         'value': 34},\n",
       "        {'key': 'final_blows_avg_per_10_min',\n",
       "         'label': 'Final Blows - Avg per 10 Min',\n",
       "         'value': 3.76},\n",
       "        {'key': 'deaths_avg_per_10_min',\n",
       "         'label': 'Deaths - Avg per 10 Min',\n",
       "         'value': 11.27},\n",
       "        {'key': 'hero_damage_done_avg_per_10_min',\n",
       "         'label': 'Hero Damage Done - Avg per 10 Min',\n",
       "         'value': 8291},\n",
       "        {'key': 'eliminations_avg_per_10_min',\n",
       "         'label': 'Eliminations - Avg per 10 Min',\n",
       "         'value': 7.51}]},\n",
       "      {'category': 'game',\n",
       "       'label': 'Game',\n",
       "       'stats': [{'key': 'time_played', 'label': 'Time Played', 'value': 160},\n",
       "        {'key': 'games_played', 'label': 'Games Played', 'value': 0},\n",
       "        {'key': 'games_won', 'label': 'Games Won', 'value': 0},\n",
       "        {'key': 'games_won', 'label': 'Games Won', 'value': 0},\n",
       "        {'key': 'games_won', 'label': 'Games Won', 'value': 0},\n",
       "        {'key': 'hero_wins', 'label': 'Hero Wins', 'value': 0},\n",
       "        {'key': 'win_percentage', 'label': 'Win Percentage', 'value': 100},\n",
       "        {'key': 'games_lost', 'label': 'Games Lost', 'value': 0}]},\n",
       "      {'category': 'combat',\n",
       "       'label': 'Combat',\n",
       "       'stats': [{'key': 'eliminations', 'label': 'Eliminations', 'value': 2},\n",
       "        {'key': 'deaths', 'label': 'Deaths', 'value': 3},\n",
       "        {'key': 'final_blow', 'label': 'Final Blow', 'value': 1},\n",
       "        {'key': 'all_damage_done', 'label': 'All Damage Done', 'value': 2293},\n",
       "        {'key': 'objective_time', 'label': 'Objective Time', 'value': 12},\n",
       "        {'key': 'hero_damage_done',\n",
       "         'label': 'Hero Damage Done',\n",
       "         'value': 2208},\n",
       "        {'key': 'obj_contest_time',\n",
       "         'label': 'Obj Contest Time',\n",
       "         'value': 9}]}],\n",
       "     'roadhog': None,\n",
       "     'sigma': [{'category': 'hero_specific',\n",
       "       'label': 'Hero Specific',\n",
       "       'stats': [{'key': 'accretion_kills_most_in_game',\n",
       "         'label': 'Accretion Kills - Most in Game',\n",
       "         'value': 8},\n",
       "        {'key': 'accretion_kills', 'label': 'Accretion Kills', 'value': 21},\n",
       "        {'key': 'gravitic_flux_kills',\n",
       "         'label': 'Gravitic Flux Kills',\n",
       "         'value': 11},\n",
       "        {'key': 'gravitic_flux_kills_most_in_game',\n",
       "         'label': 'Gravitic Flux Kills - Most in Game',\n",
       "         'value': 5},\n",
       "        {'key': 'overhealth_created',\n",
       "         'label': 'Overhealth Created',\n",
       "         'value': 5205},\n",
       "        {'key': 'overhealth_created_most_in_game',\n",
       "         'label': 'Overhealth Created - Most in Game',\n",
       "         'value': 2854},\n",
       "        {'key': 'accretion_kills_avg_per_10_min',\n",
       "         'label': 'Accretion Kills - Avg per 10 Min',\n",
       "         'value': 6.5},\n",
       "        {'key': 'overhealth_created_avg_per_10_min',\n",
       "         'label': 'Overhealth Created - Avg per 10 Min',\n",
       "         'value': 1612},\n",
       "        {'key': 'gravitic_flux_kills_avg_per_10_min',\n",
       "         'label': 'Gravitic Flux Kills - Avg per 10 Min',\n",
       "         'value': 3.41}]},\n",
       "      {'category': 'best',\n",
       "       'label': 'Best',\n",
       "       'stats': [{'key': 'eliminations_most_in_life',\n",
       "         'label': 'Eliminations - Most in Life',\n",
       "         'value': 14},\n",
       "        {'key': 'all_damage_done_most_in_life',\n",
       "         'label': 'All Damage Done - Most in Life',\n",
       "         'value': 7582},\n",
       "        {'key': 'weapon_accuracy_best_in_game',\n",
       "         'label': 'Weapon Accuracy - Best in Game',\n",
       "         'value': 50},\n",
       "        {'key': 'kill_streak_best',\n",
       "         'label': 'Kill Streak - Best',\n",
       "         'value': 14},\n",
       "        {'key': 'all_damage_done_most_in_game',\n",
       "         'label': 'All Damage Done - Most in Game',\n",
       "         'value': 19461},\n",
       "        {'key': 'eliminations_most_in_game',\n",
       "         'label': 'Eliminations - Most in Game',\n",
       "         'value': 37},\n",
       "        {'key': 'final_blows_most_in_game',\n",
       "         'label': 'Final Blows - Most in Game',\n",
       "         'value': 18},\n",
       "        {'key': 'objective_kills_most_in_game',\n",
       "         'label': 'Objective Kills - Most in Game',\n",
       "         'value': 18},\n",
       "        {'key': 'objective_time_most_in_game',\n",
       "         'label': 'Objective Time - Most in Game',\n",
       "         'value': 99},\n",
       "        {'key': 'multikill_best', 'label': 'Multikill - Best', 'value': 3},\n",
       "        {'key': 'solo_kill_most_in_game',\n",
       "         'label': 'Solo Kill - Most in Game',\n",
       "         'value': 1},\n",
       "        {'key': 'hero_damage_done_most_in_game',\n",
       "         'label': 'Hero Damage Done - Most in Game',\n",
       "         'value': 12905},\n",
       "        {'key': 'hero_damage_done_most_in_life',\n",
       "         'label': 'Hero Damage Done - Most in Life',\n",
       "         'value': 6284},\n",
       "        {'key': 'assists_most_in_game',\n",
       "         'label': 'Assists - Most in Game',\n",
       "         'value': 5},\n",
       "        {'key': 'obj_contest_time_most_in_game',\n",
       "         'label': 'Obj Contest Time - Most in Game',\n",
       "         'value': 99}]},\n",
       "      {'category': 'average',\n",
       "       'label': 'Average',\n",
       "       'stats': [{'key': 'objective_time_avg_per_10_min',\n",
       "         'label': 'Objective Time - Avg per 10 Min',\n",
       "         'value': 58},\n",
       "        {'key': 'all_damage_done_avg_per_10_min',\n",
       "         'label': 'All Damage Done - Avg per 10 Min',\n",
       "         'value': 16091},\n",
       "        {'key': 'eliminations_per_life',\n",
       "         'label': 'Eliminations per Life',\n",
       "         'value': 9.78},\n",
       "        {'key': 'objective_kills_avg_per_10_min',\n",
       "         'label': 'Objective Kills - Avg per 10 Min',\n",
       "         'value': 12.08},\n",
       "        {'key': 'obj_contest_time_avg_per_10_min',\n",
       "         'label': 'Obj Contest Time - Avg per 10 Min',\n",
       "         'value': 55},\n",
       "        {'key': 'solo_kills_avg_per_10_min',\n",
       "         'label': 'Solo Kills - Avg per 10 Min',\n",
       "         'value': 0.31},\n",
       "        {'key': 'final_blows_avg_per_10_min',\n",
       "         'label': 'Final Blows - Avg per 10 Min',\n",
       "         'value': 11.46},\n",
       "        {'key': 'deaths_avg_per_10_min',\n",
       "         'label': 'Deaths - Avg per 10 Min',\n",
       "         'value': 2.79},\n",
       "        {'key': 'hero_damage_done_avg_per_10_min',\n",
       "         'label': 'Hero Damage Done - Avg per 10 Min',\n",
       "         'value': 11385},\n",
       "        {'key': 'eliminations_avg_per_10_min',\n",
       "         'label': 'Eliminations - Avg per 10 Min',\n",
       "         'value': 27.25},\n",
       "        {'key': 'assists_avg_per_10_min',\n",
       "         'label': 'Assists - Avg per 10 min',\n",
       "         'value': 4.33}]},\n",
       "      {'category': 'game',\n",
       "       'label': 'Game',\n",
       "       'stats': [{'key': 'time_played', 'label': 'Time Played', 'value': 1938},\n",
       "        {'key': 'games_played', 'label': 'Games Played', 'value': 3},\n",
       "        {'key': 'games_won', 'label': 'Games Won', 'value': 2},\n",
       "        {'key': 'games_won', 'label': 'Games Won', 'value': 2},\n",
       "        {'key': 'games_won', 'label': 'Games Won', 'value': 2},\n",
       "        {'key': 'hero_wins', 'label': 'Hero Wins', 'value': 2},\n",
       "        {'key': 'win_percentage', 'label': 'Win Percentage', 'value': 67},\n",
       "        {'key': 'game_lost', 'label': 'Game Lost', 'value': 1}]},\n",
       "      {'category': 'combat',\n",
       "       'label': 'Combat',\n",
       "       'stats': [{'key': 'eliminations', 'label': 'Eliminations', 'value': 88},\n",
       "        {'key': 'deaths', 'label': 'Deaths', 'value': 9},\n",
       "        {'key': 'final_blows', 'label': 'Final Blows', 'value': 37},\n",
       "        {'key': 'solo_kill', 'label': 'Solo Kill', 'value': 1},\n",
       "        {'key': 'all_damage_done', 'label': 'All Damage Done', 'value': 51968},\n",
       "        {'key': 'objective_kills', 'label': 'Objective Kills', 'value': 39},\n",
       "        {'key': 'objective_time', 'label': 'Objective Time', 'value': 189},\n",
       "        {'key': 'multikill', 'label': 'Multikill', 'value': 1},\n",
       "        {'key': 'hero_damage_done',\n",
       "         'label': 'Hero Damage Done',\n",
       "         'value': 36768},\n",
       "        {'key': 'obj_contest_time', 'label': 'Obj Contest Time', 'value': 177},\n",
       "        {'key': 'weapon_accuracy', 'label': 'Weapon Accuracy', 'value': 48}]},\n",
       "      {'category': 'assists',\n",
       "       'label': 'Assists',\n",
       "       'stats': [{'key': 'offensive_assists',\n",
       "         'label': 'Offensive Assists',\n",
       "         'value': 14},\n",
       "        {'key': 'assists', 'label': 'Assists', 'value': 14},\n",
       "        {'key': 'offensive_assists_avg_per_10_min',\n",
       "         'label': 'Offensive Assists - Avg per 10 Min',\n",
       "         'value': 4.33}]}],\n",
       "     'sojourn': [{'category': 'hero_specific',\n",
       "       'label': 'Hero Specific',\n",
       "       'stats': [{'key': 'charged_shot_kills_most_in_game',\n",
       "         'label': 'Charged Shot Kills - Most in Game',\n",
       "         'value': 33},\n",
       "        {'key': 'charged_shot_kills',\n",
       "         'label': 'Charged Shot Kills',\n",
       "         'value': 1354},\n",
       "        {'key': 'charged_shot_accuracy_best_in_game',\n",
       "         'label': 'Charged Shot Accuracy - Best in Game',\n",
       "         'value': 100},\n",
       "        {'key': 'overclock_kills_most_in_game',\n",
       "         'label': 'Overclock Kills - Most in Game',\n",
       "         'value': 9},\n",
       "        {'key': 'overclock_kills', 'label': 'Overclock Kills', 'value': 326},\n",
       "        {'key': 'disruptor_shot_kills',\n",
       "         'label': 'Disruptor Shot Kills',\n",
       "         'value': 579},\n",
       "        {'key': 'disruptor_shot_kills_most_in_game',\n",
       "         'label': 'Disruptor Shot Kills - Most in Game',\n",
       "         'value': 17},\n",
       "        {'key': 'long_range_final_blows',\n",
       "         'label': 'Long Range Final Blows',\n",
       "         'value': 226},\n",
       "        {'key': 'long_range_final_blows_most_in_game',\n",
       "         'label': 'Long Range Final Blows - Most in Game',\n",
       "         'value': 9},\n",
       "        {'key': 'long_range_final_blows_avg_per_10_min',\n",
       "         'label': 'Long Range Final Blows - Avg per 10 Min',\n",
       "         'value': 2.2},\n",
       "        {'key': 'charged_shot_accuracy',\n",
       "         'label': 'Charged Shot Accuracy',\n",
       "         'value': 63},\n",
       "        {'key': 'overclock_kills_avg_per_10_min',\n",
       "         'label': 'Overclock Kills - Avg per 10 Min',\n",
       "         'value': 3.17},\n",
       "        {'key': 'charged_shot_critical_accuracy',\n",
       "         'label': 'Charged Shot Critical Accuracy',\n",
       "         'value': 13},\n",
       "        {'key': 'disruptor_shot_kills_avg_per_10_min',\n",
       "         'label': 'Disruptor Shot Kills - Avg per 10 Min',\n",
       "         'value': 5.63},\n",
       "        {'key': 'charged_shot_kills_avg_per_10_min',\n",
       "         'label': 'Charged Shot Kills - Avg per 10 Min',\n",
       "         'value': 13.16}]},\n",
       "      {'category': 'best',\n",
       "       'label': 'Best',\n",
       "       'stats': [{'key': 'eliminations_most_in_life',\n",
       "         'label': 'Eliminations - Most in Life',\n",
       "         'value': 20},\n",
       "        {'key': 'all_damage_done_most_in_life',\n",
       "         'label': 'All Damage Done - Most in Life',\n",
       "         'value': 10131},\n",
       "        {'key': 'weapon_accuracy_best_in_game',\n",
       "         'label': 'Weapon Accuracy - Best in Game',\n",
       "         'value': 100},\n",
       "        {'key': 'kill_streak_best',\n",
       "         'label': 'Kill Streak - Best',\n",
       "         'value': 20},\n",
       "        {'key': 'all_damage_done_most_in_game',\n",
       "         'label': 'All Damage Done - Most in Game',\n",
       "         'value': 31252},\n",
       "        {'key': 'eliminations_most_in_game',\n",
       "         'label': 'Eliminations - Most in Game',\n",
       "         'value': 60},\n",
       "        {'key': 'final_blows_most_in_game',\n",
       "         'label': 'Final Blows - Most in Game',\n",
       "         'value': 40},\n",
       "        {'key': 'objective_kills_most_in_game',\n",
       "         'label': 'Objective Kills - Most in Game',\n",
       "         'value': 28},\n",
       "        {'key': 'objective_time_most_in_game',\n",
       "         'label': 'Objective Time - Most in Game',\n",
       "         'value': 184},\n",
       "        {'key': 'multikill_best', 'label': 'Multikill - Best', 'value': 4},\n",
       "        {'key': 'solo_kills_most_in_game',\n",
       "         'label': 'Solo Kills - Most in Game',\n",
       "         'value': 10},\n",
       "        {'key': 'melee_final_blow_most_in_game',\n",
       "         'label': 'Melee Final Blow - Most in Game',\n",
       "         'value': 1},\n",
       "        {'key': 'hero_damage_done_most_in_game',\n",
       "         'label': 'Hero Damage Done - Most in Game',\n",
       "         'value': 23863},\n",
       "        {'key': 'hero_damage_done_most_in_life',\n",
       "         'label': 'Hero Damage Done - Most in Life',\n",
       "         'value': 9338},\n",
       "        {'key': 'assists_most_in_game',\n",
       "         'label': 'Assists - Most in Game',\n",
       "         'value': 9},\n",
       "        {'key': 'obj_contest_time_most_in_game',\n",
       "         'label': 'Obj Contest Time - Most in Game',\n",
       "         'value': 124}]},\n",
       "      {'category': 'average',\n",
       "       'label': 'Average',\n",
       "       'stats': [{'key': 'melee_final_blows_avg_per_10_min',\n",
       "         'label': 'Melee Final Blows - Avg per 10 Min',\n",
       "         'value': 0.01},\n",
       "        {'key': 'objective_time_avg_per_10_min',\n",
       "         'label': 'Objective Time - Avg per 10 Min',\n",
       "         'value': 37},\n",
       "        {'key': 'all_damage_done_avg_per_10_min',\n",
       "         'label': 'All Damage Done - Avg per 10 Min',\n",
       "         'value': 12497},\n",
       "        {'key': 'eliminations_per_life',\n",
       "         'label': 'Eliminations per Life',\n",
       "         'value': 3.54},\n",
       "        {'key': 'objective_kills_avg_per_10_min',\n",
       "         'label': 'Objective Kills - Avg per 10 Min',\n",
       "         'value': 8.09},\n",
       "        {'key': 'obj_contest_time_avg_per_10_min',\n",
       "         'label': 'Obj Contest Time - Avg per 10 Min',\n",
       "         'value': 18},\n",
       "        {'key': 'solo_kills_avg_per_10_min',\n",
       "         'label': 'Solo Kills - Avg per 10 Min',\n",
       "         'value': 2.35},\n",
       "        {'key': 'final_blows_avg_per_10_min',\n",
       "         'label': 'Final Blows - Avg per 10 Min',\n",
       "         'value': 13.57},\n",
       "        {'key': 'deaths_avg_per_10_min',\n",
       "         'label': 'Deaths - Avg per 10 Min',\n",
       "         'value': 6.82},\n",
       "        {'key': 'hero_damage_done_avg_per_10_min',\n",
       "         'label': 'Hero Damage Done - Avg per 10 Min',\n",
       "         'value': 10598},\n",
       "        {'key': 'eliminations_avg_per_10_min',\n",
       "         'label': 'Eliminations - Avg per 10 Min',\n",
       "         'value': 24.18},\n",
       "        {'key': 'assists_avg_per_10_min',\n",
       "         'label': 'Assists - Avg per 10 min',\n",
       "         'value': 2.5}]},\n",
       "      {'category': 'game',\n",
       "       'label': 'Game',\n",
       "       'stats': [{'key': 'time_played',\n",
       "         'label': 'Time Played',\n",
       "         'value': 61736},\n",
       "        {'key': 'games_played', 'label': 'Games Played', 'value': 92},\n",
       "        {'key': 'games_won', 'label': 'Games Won', 'value': 50},\n",
       "        {'key': 'game_tied', 'label': 'Game Tied', 'value': 1},\n",
       "        {'key': 'games_won', 'label': 'Games Won', 'value': 50},\n",
       "        {'key': 'games_won', 'label': 'Games Won', 'value': 50},\n",
       "        {'key': 'hero_wins', 'label': 'Hero Wins', 'value': 50},\n",
       "        {'key': 'win_percentage', 'label': 'Win Percentage', 'value': 55},\n",
       "        {'key': 'games_lost', 'label': 'Games Lost', 'value': 41}]},\n",
       "      {'category': 'combat',\n",
       "       'label': 'Combat',\n",
       "       'stats': [{'key': 'eliminations',\n",
       "         'label': 'Eliminations',\n",
       "         'value': 2488},\n",
       "        {'key': 'deaths', 'label': 'Deaths', 'value': 702},\n",
       "        {'key': 'final_blows', 'label': 'Final Blows', 'value': 1396},\n",
       "        {'key': 'solo_kills', 'label': 'Solo Kills', 'value': 242},\n",
       "        {'key': 'all_damage_done',\n",
       "         'label': 'All Damage Done',\n",
       "         'value': 1285887},\n",
       "        {'key': 'objective_kills', 'label': 'Objective Kills', 'value': 832},\n",
       "        {'key': 'objective_time', 'label': 'Objective Time', 'value': 3758},\n",
       "        {'key': 'multikills', 'label': 'Multikills', 'value': 10},\n",
       "        {'key': 'melee_final_blow', 'label': 'Melee Final Blow', 'value': 1},\n",
       "        {'key': 'hero_damage_done',\n",
       "         'label': 'Hero Damage Done',\n",
       "         'value': 1090513},\n",
       "        {'key': 'obj_contest_time',\n",
       "         'label': 'Obj Contest Time',\n",
       "         'value': 1809},\n",
       "        {'key': 'weapon_accuracy', 'label': 'Weapon Accuracy', 'value': 24}]},\n",
       "      {'category': 'assists',\n",
       "       'label': 'Assists',\n",
       "       'stats': [{'key': 'assists', 'label': 'Assists', 'value': 257}]}],\n",
       "     'soldier-76': [{'category': 'hero_specific',\n",
       "       'label': 'Hero Specific',\n",
       "       'stats': [{'key': 'helix_rocket_kills_most_in_game',\n",
       "         'label': 'Helix Rocket Kills - Most in Game',\n",
       "         'value': 15},\n",
       "        {'key': 'helix_rocket_kills',\n",
       "         'label': 'Helix Rocket Kills',\n",
       "         'value': 121},\n",
       "        {'key': 'tactical_visor_kills',\n",
       "         'label': 'Tactical Visor Kills',\n",
       "         'value': 56},\n",
       "        {'key': 'tactical_visor_kills_most_in_game',\n",
       "         'label': 'Tactical Visor Kills - Most in Game',\n",
       "         'value': 8},\n",
       "        {'key': 'self_healing', 'label': 'Self Healing', 'value': 17722},\n",
       "        {'key': 'self_healing_most_in_game',\n",
       "         'label': 'Self Healing - Most in Game',\n",
       "         'value': 2050},\n",
       "        {'key': 'long_range_final_blows',\n",
       "         'label': 'Long Range Final Blows',\n",
       "         'value': 77},\n",
       "        {'key': 'long_range_final_blows_most_in_game',\n",
       "         'label': 'Long Range Final Blows - Most in Game',\n",
       "         'value': 13},\n",
       "        {'key': 'self_healing_avg_per_10_min',\n",
       "         'label': 'Self Healing - Avg per 10 Min',\n",
       "         'value': 891},\n",
       "        {'key': 'long_range_final_blows_avg_per_10_min',\n",
       "         'label': 'Long Range Final Blows - Avg per 10 Min',\n",
       "         'value': 3.87},\n",
       "        {'key': 'tactical_visor_kills_avg_per_10_min',\n",
       "         'label': 'Tactical Visor Kills - Avg per 10 Min',\n",
       "         'value': 2.82},\n",
       "        {'key': 'helix_rocket_accuracy',\n",
       "         'label': 'Helix Rocket Accuracy',\n",
       "         'value': 54},\n",
       "        {'key': 'helix_rocket_kills_avg_per_10_min',\n",
       "         'label': 'Helix Rocket Kills - Avg per 10 Min',\n",
       "         'value': 6.08}]},\n",
       "      {'category': 'best',\n",
       "       'label': 'Best',\n",
       "       'stats': [{'key': 'eliminations_most_in_life',\n",
       "         'label': 'Eliminations - Most in Life',\n",
       "         'value': 23},\n",
       "        {'key': 'all_damage_done_most_in_life',\n",
       "         'label': 'All Damage Done - Most in Life',\n",
       "         'value': 6961},\n",
       "        {'key': 'weapon_accuracy_best_in_game',\n",
       "         'label': 'Weapon Accuracy - Best in Game',\n",
       "         'value': 42},\n",
       "        {'key': 'kill_streak_best',\n",
       "         'label': 'Kill Streak - Best',\n",
       "         'value': 23},\n",
       "        {'key': 'all_damage_done_most_in_game',\n",
       "         'label': 'All Damage Done - Most in Game',\n",
       "         'value': 21422},\n",
       "        {'key': 'eliminations_most_in_game',\n",
       "         'label': 'Eliminations - Most in Game',\n",
       "         'value': 40},\n",
       "        {'key': 'final_blows_most_in_game',\n",
       "         'label': 'Final Blows - Most in Game',\n",
       "         'value': 28},\n",
       "        {'key': 'objective_kills_most_in_game',\n",
       "         'label': 'Objective Kills - Most in Game',\n",
       "         'value': 16},\n",
       "        {'key': 'objective_time_most_in_game',\n",
       "         'label': 'Objective Time - Most in Game',\n",
       "         'value': 94},\n",
       "        {'key': 'multikill_best', 'label': 'Multikill - Best', 'value': 3},\n",
       "        {'key': 'solo_kills_most_in_game',\n",
       "         'label': 'Solo Kills - Most in Game',\n",
       "         'value': 7},\n",
       "        {'key': 'critical_hits_most_in_game',\n",
       "         'label': 'Critical Hits - Most in Game',\n",
       "         'value': 112},\n",
       "        {'key': 'critical_hits_most_in_life',\n",
       "         'label': 'Critical Hits - Most in Life',\n",
       "         'value': 41},\n",
       "        {'key': 'hero_damage_done_most_in_game',\n",
       "         'label': 'Hero Damage Done - Most in Game',\n",
       "         'value': 20126},\n",
       "        {'key': 'hero_damage_done_most_in_life',\n",
       "         'label': 'Hero Damage Done - Most in Life',\n",
       "         'value': 6537},\n",
       "        {'key': 'assists_most_in_game',\n",
       "         'label': 'Assists - Most in Game',\n",
       "         'value': 5},\n",
       "        {'key': 'critical_hit_kills_most_in_game',\n",
       "         'label': 'Critical Hit Kills - Most in Game',\n",
       "         'value': 7},\n",
       "        {'key': 'obj_contest_time_most_in_game',\n",
       "         'label': 'Obj Contest Time - Most in Game',\n",
       "         'value': 32}]},\n",
       "      {'category': 'average',\n",
       "       'label': 'Average',\n",
       "       'stats': [{'key': 'objective_time_avg_per_10_min',\n",
       "         'label': 'Objective Time - Avg per 10 Min',\n",
       "         'value': 35},\n",
       "        {'key': 'all_damage_done_avg_per_10_min',\n",
       "         'label': 'All Damage Done - Avg per 10 Min',\n",
       "         'value': 12373},\n",
       "        {'key': 'critical_hits_avg_per_10_min',\n",
       "         'label': 'Critical Hits - Avg per 10 Min',\n",
       "         'value': 51.44},\n",
       "        {'key': 'eliminations_per_life',\n",
       "         'label': 'Eliminations per Life',\n",
       "         'value': 3.44},\n",
       "        {'key': 'objective_kills_avg_per_10_min',\n",
       "         'label': 'Objective Kills - Avg per 10 Min',\n",
       "         'value': 7.29},\n",
       "        {'key': 'obj_contest_time_avg_per_10_min',\n",
       "         'label': 'Obj Contest Time - Avg per 10 Min',\n",
       "         'value': 11},\n",
       "        {'key': 'solo_kills_avg_per_10_min',\n",
       "         'label': 'Solo Kills - Avg per 10 Min',\n",
       "         'value': 2.21},\n",
       "        {'key': 'final_blows_avg_per_10_min',\n",
       "         'label': 'Final Blows - Avg per 10 Min',\n",
       "         'value': 12.87},\n",
       "        {'key': 'healing_done_avg_per_10_min',\n",
       "         'label': 'Healing Done - Avg per 10 Min',\n",
       "         'value': 1358},\n",
       "        {'key': 'deaths_avg_per_10_min',\n",
       "         'label': 'Deaths - Avg per 10 Min',\n",
       "         'value': 6.59},\n",
       "        {'key': 'hero_damage_done_avg_per_10_min',\n",
       "         'label': 'Hero Damage Done - Avg per 10 Min',\n",
       "         'value': 11005},\n",
       "        {'key': 'eliminations_avg_per_10_min',\n",
       "         'label': 'Eliminations - Avg per 10 Min',\n",
       "         'value': 22.68},\n",
       "        {'key': 'assists_avg_per_10_min',\n",
       "         'label': 'Assists - Avg per 10 min',\n",
       "         'value': 1.46},\n",
       "        {'key': 'critical_hit_kills_avg_per_10_min',\n",
       "         'label': 'Critical Hit Kills - Avg per 10 Min',\n",
       "         'value': 1.61}]},\n",
       "      {'category': 'game',\n",
       "       'label': 'Game',\n",
       "       'stats': [{'key': 'time_played',\n",
       "         'label': 'Time Played',\n",
       "         'value': 11932},\n",
       "        {'key': 'games_played', 'label': 'Games Played', 'value': 17},\n",
       "        {'key': 'games_won', 'label': 'Games Won', 'value': 7},\n",
       "        {'key': 'games_won', 'label': 'Games Won', 'value': 7},\n",
       "        {'key': 'games_won', 'label': 'Games Won', 'value': 7},\n",
       "        {'key': 'hero_wins', 'label': 'Hero Wins', 'value': 7},\n",
       "        {'key': 'win_percentage', 'label': 'Win Percentage', 'value': 39},\n",
       "        {'key': 'games_lost', 'label': 'Games Lost', 'value': 10}]},\n",
       "      {'category': 'combat',\n",
       "       'label': 'Combat',\n",
       "       'stats': [{'key': 'eliminations',\n",
       "         'label': 'Eliminations',\n",
       "         'value': 451},\n",
       "        {'key': 'deaths', 'label': 'Deaths', 'value': 131},\n",
       "        {'key': 'final_blows', 'label': 'Final Blows', 'value': 256},\n",
       "        {'key': 'solo_kills', 'label': 'Solo Kills', 'value': 44},\n",
       "        {'key': 'all_damage_done',\n",
       "         'label': 'All Damage Done',\n",
       "         'value': 246060},\n",
       "        {'key': 'objective_kills', 'label': 'Objective Kills', 'value': 145},\n",
       "        {'key': 'objective_time', 'label': 'Objective Time', 'value': 688},\n",
       "        {'key': 'multikills', 'label': 'Multikills', 'value': 3},\n",
       "        {'key': 'critical_hits', 'label': 'Critical Hits', 'value': 1023},\n",
       "        {'key': 'hero_damage_done',\n",
       "         'label': 'Hero Damage Done',\n",
       "         'value': 218855},\n",
       "        {'key': 'critical_hit_kills',\n",
       "         'label': 'Critical Hit Kills',\n",
       "         'value': 32},\n",
       "        {'key': 'obj_contest_time', 'label': 'Obj Contest Time', 'value': 227},\n",
       "        {'key': 'critical_hit_accuracy',\n",
       "         'label': 'Critical Hit Accuracy',\n",
       "         'value': 9},\n",
       "        {'key': 'weapon_accuracy', 'label': 'Weapon Accuracy', 'value': 32}]},\n",
       "      {'category': 'assists',\n",
       "       'label': 'Assists',\n",
       "       'stats': [{'key': 'defensive_assists',\n",
       "         'label': 'Defensive Assists',\n",
       "         'value': 43},\n",
       "        {'key': 'defensive_assists_most_in_game',\n",
       "         'label': 'Defensive Assists - Most in Game',\n",
       "         'value': 6},\n",
       "        {'key': 'healing_done', 'label': 'Healing Done', 'value': 27005},\n",
       "        {'key': 'healing_done_most_in_game',\n",
       "         'label': 'Healing Done - Most in Game',\n",
       "         'value': 2835},\n",
       "        {'key': 'assists', 'label': 'Assists', 'value': 29},\n",
       "        {'key': 'defensive_assists_avg_per_10_min',\n",
       "         'label': 'Defensive Assists - Avg per 10 Min',\n",
       "         'value': 2.16}]}],\n",
       "     'sombra': None,\n",
       "     'symmetra': None,\n",
       "     'torbjorn': None,\n",
       "     'tracer': None,\n",
       "     'widowmaker': [{'category': 'hero_specific',\n",
       "       'label': 'Hero Specific',\n",
       "       'stats': [{'key': 'scoped_critical_hits',\n",
       "         'label': 'Scoped Critical Hits',\n",
       "         'value': 3},\n",
       "        {'key': 'scoped_critical_hits_most_in_game',\n",
       "         'label': 'Scoped Critical Hits - Most in Game',\n",
       "         'value': 2},\n",
       "        {'key': 'scoped_accuracy_best_in_game',\n",
       "         'label': 'Scoped Accuracy - Best in Game',\n",
       "         'value': 80},\n",
       "        {'key': 'scoped_critical_hit_kill',\n",
       "         'label': 'Scoped Critical Hit Kill',\n",
       "         'value': 1},\n",
       "        {'key': 'scoped_critical_hit_most_in_game',\n",
       "         'label': 'Scoped Critical Hit - Most in Game',\n",
       "         'value': 1},\n",
       "        {'key': 'long_range_final_blows',\n",
       "         'label': 'Long Range Final Blows',\n",
       "         'value': 2},\n",
       "        {'key': 'scoped_critical_hits_avg_per_10_min',\n",
       "         'label': 'Scoped Critical Hits - Avg per 10 Min',\n",
       "         'value': 9.95},\n",
       "        {'key': 'scoped_accuracy', 'label': 'Scoped Accuracy', 'value': 58},\n",
       "        {'key': 'scoped_critical_hit_kills_avg_per_10_min',\n",
       "         'label': 'Scoped Critical Hit Kills - Avg per 10 Min',\n",
       "         'value': 3.32},\n",
       "        {'key': 'long_range_final_blows_avg_per_10_min',\n",
       "         'label': 'Long Range Final Blows - Avg per 10 Min',\n",
       "         'value': 6.63},\n",
       "        {'key': 'scoped_critical_hit_accuracy',\n",
       "         'label': 'Scoped Critical Hit Accuracy',\n",
       "         'value': 12}]},\n",
       "      {'category': 'best',\n",
       "       'label': 'Best',\n",
       "       'stats': [{'key': 'eliminations_most_in_life',\n",
       "         'label': 'Eliminations - Most in Life',\n",
       "         'value': 3},\n",
       "        {'key': 'all_damage_done_most_in_life',\n",
       "         'label': 'All Damage Done - Most in Life',\n",
       "         'value': 1741},\n",
       "        {'key': 'weapon_accuracy_best_in_game',\n",
       "         'label': 'Weapon Accuracy - Best in Game',\n",
       "         'value': 80},\n",
       "        {'key': 'kill_streak_best', 'label': 'Kill Streak - Best', 'value': 3},\n",
       "        {'key': 'all_damage_done_most_in_game',\n",
       "         'label': 'All Damage Done - Most in Game',\n",
       "         'value': 1741},\n",
       "        {'key': 'eliminations_most_in_game',\n",
       "         'label': 'Eliminations - Most in Game',\n",
       "         'value': 4},\n",
       "        {'key': 'final_blows_most_in_game',\n",
       "         'label': 'Final Blows - Most in Game',\n",
       "         'value': 2},\n",
       "        {'key': 'objective_kill_most_in_game',\n",
       "         'label': 'Objective Kill - Most in Game',\n",
       "         'value': 1},\n",
       "        {'key': 'solo_kill_most_in_game',\n",
       "         'label': 'Solo Kill - Most in Game',\n",
       "         'value': 1},\n",
       "        {'key': 'critical_hits_most_in_game',\n",
       "         'label': 'Critical Hits - Most in Game',\n",
       "         'value': 2},\n",
       "        {'key': 'critical_hits_most_in_life',\n",
       "         'label': 'Critical Hits - Most in Life',\n",
       "         'value': 2},\n",
       "        {'key': 'hero_damage_done_most_in_game',\n",
       "         'label': 'Hero Damage Done - Most in Game',\n",
       "         'value': 1630},\n",
       "        {'key': 'hero_damage_done_most_in_life',\n",
       "         'label': 'Hero Damage Done - Most in Life',\n",
       "         'value': 1630},\n",
       "        {'key': 'assists_most_in_game',\n",
       "         'label': 'Assists - Most in Game',\n",
       "         'value': 2},\n",
       "        {'key': 'critical_hit_kill_most_in_game',\n",
       "         'label': 'Critical Hit Kill - Most in Game',\n",
       "         'value': 1}]},\n",
       "      {'category': 'average',\n",
       "       'label': 'Average',\n",
       "       'stats': [{'key': 'all_damage_done_avg_per_10_min',\n",
       "         'label': 'All Damage Done - Avg per 10 Min',\n",
       "         'value': 9741},\n",
       "        {'key': 'critical_hits_avg_per_10_min',\n",
       "         'label': 'Critical Hits - Avg per 10 Min',\n",
       "         'value': 9.95},\n",
       "        {'key': 'eliminations_per_life',\n",
       "         'label': 'Eliminations per Life',\n",
       "         'value': 3.0},\n",
       "        {'key': 'objective_kills_avg_per_10_min',\n",
       "         'label': 'Objective Kills - Avg per 10 Min',\n",
       "         'value': 3.32},\n",
       "        {'key': 'solo_kills_avg_per_10_min',\n",
       "         'label': 'Solo Kills - Avg per 10 Min',\n",
       "         'value': 6.63},\n",
       "        {'key': 'final_blows_avg_per_10_min',\n",
       "         'label': 'Final Blows - Avg per 10 Min',\n",
       "         'value': 9.95},\n",
       "        {'key': 'deaths_avg_per_10_min',\n",
       "         'label': 'Deaths - Avg per 10 Min',\n",
       "         'value': 6.63},\n",
       "        {'key': 'hero_damage_done_avg_per_10_min',\n",
       "         'label': 'Hero Damage Done - Avg per 10 Min',\n",
       "         'value': 9371},\n",
       "        {'key': 'eliminations_avg_per_10_min',\n",
       "         'label': 'Eliminations - Avg per 10 Min',\n",
       "         'value': 19.89},\n",
       "        {'key': 'assists_avg_per_10_min',\n",
       "         'label': 'Assists - Avg per 10 min',\n",
       "         'value': 6.63},\n",
       "        {'key': 'critical_hit_kills_avg_per_10_min',\n",
       "         'label': 'Critical Hit Kills - Avg per 10 Min',\n",
       "         'value': 3.32}]},\n",
       "      {'category': 'game',\n",
       "       'label': 'Game',\n",
       "       'stats': [{'key': 'time_played', 'label': 'Time Played', 'value': 181},\n",
       "        {'key': 'games_played', 'label': 'Games Played', 'value': 0},\n",
       "        {'key': 'games_won', 'label': 'Games Won', 'value': 0},\n",
       "        {'key': 'games_won', 'label': 'Games Won', 'value': 0},\n",
       "        {'key': 'games_won', 'label': 'Games Won', 'value': 0},\n",
       "        {'key': 'hero_wins', 'label': 'Hero Wins', 'value': 0},\n",
       "        {'key': 'win_percentage', 'label': 'Win Percentage', 'value': 83},\n",
       "        {'key': 'games_lost', 'label': 'Games Lost', 'value': 0}]},\n",
       "      {'category': 'combat',\n",
       "       'label': 'Combat',\n",
       "       'stats': [{'key': 'eliminations', 'label': 'Eliminations', 'value': 6},\n",
       "        {'key': 'deaths', 'label': 'Deaths', 'value': 2},\n",
       "        {'key': 'final_blows', 'label': 'Final Blows', 'value': 3},\n",
       "        {'key': 'solo_kills', 'label': 'Solo Kills', 'value': 2},\n",
       "        {'key': 'all_damage_done', 'label': 'All Damage Done', 'value': 2938},\n",
       "        {'key': 'objective_kill', 'label': 'Objective Kill', 'value': 1},\n",
       "        {'key': 'critical_hits', 'label': 'Critical Hits', 'value': 3},\n",
       "        {'key': 'hero_damage_done',\n",
       "         'label': 'Hero Damage Done',\n",
       "         'value': 2826},\n",
       "        {'key': 'critical_hit_kill', 'label': 'Critical Hit Kill', 'value': 1},\n",
       "        {'key': 'critical_hit_accuracy',\n",
       "         'label': 'Critical Hit Accuracy',\n",
       "         'value': 12},\n",
       "        {'key': 'weapon_accuracy', 'label': 'Weapon Accuracy', 'value': 58}]},\n",
       "      {'category': 'assists',\n",
       "       'label': 'Assists',\n",
       "       'stats': [{'key': 'recon_assist', 'label': 'Recon Assist', 'value': 1},\n",
       "        {'key': 'recon_assist_most_in_game',\n",
       "         'label': 'Recon Assist - Most in Game',\n",
       "         'value': 1},\n",
       "        {'key': 'assists', 'label': 'Assists', 'value': 2},\n",
       "        {'key': 'recon_assists_avg_per_10_min',\n",
       "         'label': 'Recon Assists - Avg per 10 Min',\n",
       "         'value': 3.32}]}],\n",
       "     'winston': None,\n",
       "     'wrecking-ball': None,\n",
       "     'zarya': None,\n",
       "     'zenyatta': None}}}}}"
      ]
     },
     "execution_count": 1326,
     "metadata": {},
     "output_type": "execute_result"
    }
   ],
   "source": [
    "t = requests.get(f\"https://overfast-api.tekrop.fr/players/{player_id}\").json()\n",
    "\n",
    "t"
   ]
  },
  {
   "cell_type": "code",
   "execution_count": 1340,
   "metadata": {},
   "outputs": [
    {
     "data": {
      "text/html": [
       "<div>\n",
       "<style scoped>\n",
       "    .dataframe tbody tr th:only-of-type {\n",
       "        vertical-align: middle;\n",
       "    }\n",
       "\n",
       "    .dataframe tbody tr th {\n",
       "        vertical-align: top;\n",
       "    }\n",
       "\n",
       "    .dataframe thead th {\n",
       "        text-align: right;\n",
       "    }\n",
       "</style>\n",
       "<table border=\"1\" class=\"dataframe\">\n",
       "  <thead>\n",
       "    <tr style=\"text-align: right;\">\n",
       "      <th></th>\n",
       "      <th>hero</th>\n",
       "      <th>value</th>\n",
       "    </tr>\n",
       "  </thead>\n",
       "  <tbody>\n",
       "    <tr>\n",
       "      <th>0</th>\n",
       "      <td>echo</td>\n",
       "      <td>1244</td>\n",
       "    </tr>\n",
       "    <tr>\n",
       "      <th>1</th>\n",
       "      <td>soldier-76</td>\n",
       "      <td>1237</td>\n",
       "    </tr>\n",
       "    <tr>\n",
       "      <th>2</th>\n",
       "      <td>reaper</td>\n",
       "      <td>789</td>\n",
       "    </tr>\n",
       "    <tr>\n",
       "      <th>3</th>\n",
       "      <td>ashe</td>\n",
       "      <td>471</td>\n",
       "    </tr>\n",
       "    <tr>\n",
       "      <th>4</th>\n",
       "      <td>lucio</td>\n",
       "      <td>458</td>\n",
       "    </tr>\n",
       "    <tr>\n",
       "      <th>5</th>\n",
       "      <td>mercy</td>\n",
       "      <td>28</td>\n",
       "    </tr>\n",
       "    <tr>\n",
       "      <th>6</th>\n",
       "      <td>junkrat</td>\n",
       "      <td>19</td>\n",
       "    </tr>\n",
       "  </tbody>\n",
       "</table>\n",
       "</div>"
      ],
      "text/plain": [
       "         hero  value\n",
       "0        echo   1244\n",
       "1  soldier-76   1237\n",
       "2      reaper    789\n",
       "3        ashe    471\n",
       "4       lucio    458\n",
       "5       mercy     28\n",
       "6     junkrat     19"
      ]
     },
     "execution_count": 1340,
     "metadata": {},
     "output_type": "execute_result"
    }
   ],
   "source": [
    "overwatch_df = pd.DataFrame(t['stats']['console']['quickplay']['heroes_comparisons']['time_played']['values'])\n",
    "\n",
    "overwatch_df"
   ]
  },
  {
   "cell_type": "code",
   "execution_count": null,
   "metadata": {},
   "outputs": [],
   "source": []
  }
 ],
 "metadata": {
  "kernelspec": {
   "display_name": "Python 3",
   "language": "python",
   "name": "python3"
  },
  "language_info": {
   "codemirror_mode": {
    "name": "ipython",
    "version": 3
   },
   "file_extension": ".py",
   "mimetype": "text/x-python",
   "name": "python",
   "nbconvert_exporter": "python",
   "pygments_lexer": "ipython3",
   "version": "3.7.5 (default, Oct 25 2019, 10:52:18) \n[Clang 4.0.1 (tags/RELEASE_401/final)]"
  },
  "orig_nbformat": 4,
  "vscode": {
   "interpreter": {
    "hash": "ef7e7fa94a4a3226d7473b17dbade2a6eab7d27c332e7bd221490c5552ef5ad0"
   }
  }
 },
 "nbformat": 4,
 "nbformat_minor": 2
}
